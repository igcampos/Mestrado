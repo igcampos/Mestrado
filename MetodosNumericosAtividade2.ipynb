{
  "nbformat": 4,
  "nbformat_minor": 0,
  "metadata": {
    "colab": {
      "name": "MetodosNumericosAtividade2.ipynb",
      "provenance": [],
      "collapsed_sections": [],
      "include_colab_link": true
    },
    "kernelspec": {
      "name": "python3",
      "display_name": "Python 3"
    },
    "language_info": {
      "name": "python"
    }
  },
  "cells": [
    {
      "cell_type": "markdown",
      "metadata": {
        "id": "view-in-github",
        "colab_type": "text"
      },
      "source": [
        "<a href=\"https://colab.research.google.com/github/igcampos/Mestrado/blob/main/MetodosNumericosAtividade2.ipynb\" target=\"_parent\"><img src=\"https://colab.research.google.com/assets/colab-badge.svg\" alt=\"Open In Colab\"/></a>"
      ]
    },
    {
      "cell_type": "markdown",
      "metadata": {
        "id": "9NvMhVVm8Hfc"
      },
      "source": [
        "#Mestrado MCTI\n",
        "##Métodos Numéricos I\n",
        "###Atividade 2\n",
        "#### - Igor Oliveira de Freitas Campos\n",
        "#### - Raphael Souza de Oliveira"
      ]
    },
    {
      "cell_type": "code",
      "metadata": {
        "id": "6ujfl9mSxHvd"
      },
      "source": [
        "import matplotlib.pyplot as plt\n",
        "import numpy as np\n",
        "import pandas as pd"
      ],
      "execution_count": null,
      "outputs": []
    },
    {
      "cell_type": "markdown",
      "metadata": {
        "id": "WyfuJJ-z0k-h"
      },
      "source": [
        "###**Método Gauss Seidel**\n"
      ]
    },
    {
      "cell_type": "code",
      "metadata": {
        "id": "DMae8dl100SJ"
      },
      "source": [
        "def funcX(y, z, a, b):    \n",
        "  return (b[0] - (a[0][1]*y) - (a[0][2]*z))/a[0][0]\n",
        "\n",
        "def funcY(x, z, a, b):    \n",
        "  return (b[1] - (a[1][0]*x) - (a[1][2]*z))/a[1][1]\n",
        "\n",
        "def funcZ(x, y, a, b):    \n",
        "  return (b[2] - (a[2][0]*x) - (a[2][1]*y))/a[2][2]\n"
      ],
      "execution_count": null,
      "outputs": []
    },
    {
      "cell_type": "code",
      "metadata": {
        "id": "GMxLcF5i0kjZ"
      },
      "source": [
        "def gauss_seidel(x_k, y_k, z_k, a, b):\n",
        "  x = [x_k]\n",
        "  y = [y_k]\n",
        "  z = [z_k]\n",
        "  err = [0]\n",
        "  for i in range(1, 100):\n",
        "    x_k_mais_1 = funcX(y_k, z_k, a, b)\n",
        "    y_k_mais_1 = funcY(x_k_mais_1, z_k, a, b)\n",
        "    z_k_mais_1 = funcZ(x_k_mais_1, y_k_mais_1, a, b)\n",
        "\n",
        "    x.append(x_k_mais_1)\n",
        "    y.append(y_k_mais_1)\n",
        "    z.append(z_k_mais_1)\n",
        "\n",
        "    erro = max(abs(x_k_mais_1 - x_k), abs(y_k_mais_1 - y_k), abs(z_k_mais_1 - z_k)) \n",
        "    err.append(erro)\n",
        "    if(erro < precisao):\n",
        "      break\n",
        "\n",
        "    x_k = x_k_mais_1\n",
        "    y_k = y_k_mais_1\n",
        "    z_k = z_k_mais_1\n",
        "    \n",
        "\n",
        "  df = pd.DataFrame()\n",
        "\n",
        "  df['x'] = x\n",
        "  df['y'] = y\n",
        "  df['z'] = z\n",
        "  df['erro'] = err\n",
        "  print(df)\n",
        "\n",
        "  plt.subplot(1, 2, 1)\n",
        "  plt.title('Iterações')\n",
        "  plt.plot(x)  \n",
        "  plt.plot(y)  \n",
        "  plt.plot(z)\n",
        "  plt.legend(['x', 'y', 'z'])\n",
        "\n",
        "  plt.subplot(1, 2, 2)\n",
        "  plt.title('Erro')\n",
        "  plt.plot(err)"
      ],
      "execution_count": null,
      "outputs": []
    },
    {
      "cell_type": "markdown",
      "metadata": {
        "id": "dFLj9j5xwqW9"
      },
      "source": [
        "###Função:\n",
        "#### 10x + 2y + z = 7\n",
        "#### x + 5y + z = -8\n",
        "#### 2x + 3y + 10z = 6"
      ]
    },
    {
      "cell_type": "code",
      "metadata": {
        "id": "I1tS4LOAwuhO",
        "colab": {
          "base_uri": "https://localhost:8080/",
          "height": 400
        },
        "outputId": "ddf609c0-b772-438f-b9e3-47884606e496"
      },
      "source": [
        "precisao=10**-3 \n",
        "x_k = 0.5\n",
        "y_k = 0.5\n",
        "z_k = 0.5\n",
        "\n",
        "a = [[10, 2, 1],\n",
        "     [1, 5, 1],\n",
        "     [2, 3, 10]]\n",
        "b = [7, -8, 6]\n",
        "\n",
        "gauss_seidel(x_k, y_k, z_k, a, b)"
      ],
      "execution_count": null,
      "outputs": [
        {
          "output_type": "stream",
          "text": [
            "          x         y         z      erro\n",
            "0  0.500000  0.500000  0.500000  0.000000\n",
            "1  0.550000 -1.810000  1.033000  2.310000\n",
            "2  0.958700 -1.998340  1.007762  0.408700\n",
            "3  0.998892 -2.001331  1.000621  0.040192\n",
            "4  1.000204 -2.000165  1.000009  0.001312\n",
            "5  1.000032 -2.000008  0.999996  0.000172\n"
          ],
          "name": "stdout"
        },
        {
          "output_type": "display_data",
          "data": {
            "image/png": "[encoded data removed]",
            "text/plain": [
              "<Figure size 432x288 with 2 Axes>"
            ]
          },
          "metadata": {
            "tags": [],
            "needs_background": "light"
          }
        }
      ]
    },
    {
      "cell_type": "markdown",
      "metadata": {
        "id": "m1Qe4Z1qzq5t"
      },
      "source": [
        "###Função:\n",
        "#### 5x + y + z = 5\n",
        "#### 3x + 4y + z = 6\n",
        "#### 3x + 3y + 6z = 0\n"
      ]
    },
    {
      "cell_type": "code",
      "metadata": {
        "colab": {
          "base_uri": "https://localhost:8080/",
          "height": 417
        },
        "id": "NkSF9R8W0j4z",
        "outputId": "a0fb065a-2293-4c65-9f4b-194c8b782c62"
      },
      "source": [
        "precisao=10**-3 \n",
        "x_k = 0.5\n",
        "y_k = 0.5\n",
        "z_k = 0.5\n",
        "\n",
        "a = [[5, 1, 1],\n",
        "     [3, 4, 1],\n",
        "     [3, 3, 6]]\n",
        "b = [5, 6, 0]\n",
        "\n",
        "gauss_seidel(x_k, y_k, z_k, a, b)"
      ],
      "execution_count": null,
      "outputs": [
        {
          "output_type": "stream",
          "text": [
            "          x         y         z      erro\n",
            "0  0.500000  0.500000  0.500000  0.000000\n",
            "1  0.800000  0.775000 -0.787500  1.287500\n",
            "2  1.002500  0.945000 -0.973750  0.202500\n",
            "3  1.005750  0.989125 -0.997437  0.044125\n",
            "4  1.001663  0.998112 -0.999887  0.008987\n",
            "5  1.000355  0.999706 -1.000030  0.001593\n",
            "6  1.000065  0.999959 -1.000012  0.000290\n"
          ],
          "name": "stdout"
        },
        {
          "output_type": "display_data",
          "data": {
            "image/png": "[encoded data removed]",
            "text/plain": [
              "<Figure size 432x288 with 2 Axes>"
            ]
          },
          "metadata": {
            "tags": [],
            "needs_background": "light"
          }
        }
      ]
    }
  ]
}