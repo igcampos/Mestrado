{
  "nbformat": 4,
  "nbformat_minor": 0,
  "metadata": {
    "colab": {
      "name": "MetodosNumericosAtividade1.ipynb",
      "provenance": [],
      "collapsed_sections": [],
      "include_colab_link": true
    },
    "kernelspec": {
      "name": "python3",
      "display_name": "Python 3"
    },
    "language_info": {
      "name": "python"
    }
  },
  "cells": [
    {
      "cell_type": "markdown",
      "metadata": {
        "id": "view-in-github",
        "colab_type": "text"
      },
      "source": [
        "<a href=\"https://colab.research.google.com/github/igcampos/Mestrado/blob/main/MetodosNumericosAtividade1.ipynb\" target=\"_parent\"><img src=\"https://colab.research.google.com/assets/colab-badge.svg\" alt=\"Open In Colab\"/></a>"
      ]
    },
    {
      "cell_type": "markdown",
      "metadata": {
        "id": "9NvMhVVm8Hfc"
      },
      "source": [
        "#Mestrado MCTI\n",
        "##Métodos Numéricos I\n",
        "###Atividade 1\n",
        "#### - Igor Oliveira de Freitas Campos\n",
        "#### - Raphael Souza de Oliveira"
      ]
    },
    {
      "cell_type": "code",
      "metadata": {
        "id": "6ujfl9mSxHvd"
      },
      "source": [
        "import matplotlib.pyplot as plt\n",
        "import numpy as np\n",
        "import pandas as pd"
      ],
      "execution_count": null,
      "outputs": []
    },
    {
      "cell_type": "markdown",
      "metadata": {
        "id": "o4NilFASwiIm"
      },
      "source": [
        "##Definição da função e da derivada"
      ]
    },
    {
      "cell_type": "code",
      "metadata": {
        "id": "_bP5x4vbo6kx"
      },
      "source": [
        "def func(x):    \n",
        "  return 3*x**2 + 0.4*x - 6\n",
        " \n",
        "def dfunc(x):   \n",
        "  return 6*x + 0.4"
      ],
      "execution_count": null,
      "outputs": []
    },
    {
      "cell_type": "markdown",
      "metadata": {
        "id": "dFLj9j5xwqW9"
      },
      "source": [
        "###Parâmetros"
      ]
    },
    {
      "cell_type": "code",
      "metadata": {
        "id": "I1tS4LOAwuhO"
      },
      "source": [
        "chute=0.8\n",
        "precisao=10**-4 "
      ],
      "execution_count": null,
      "outputs": []
    },
    {
      "cell_type": "markdown",
      "metadata": {
        "id": "8E0Ao0_Ew4Ls"
      },
      "source": [
        "### Definição pontos da função"
      ]
    },
    {
      "cell_type": "code",
      "metadata": {
        "colab": {
          "base_uri": "https://localhost:8080/",
          "height": 419
        },
        "id": "GOVLHfhewuUl",
        "outputId": "7451ae27-cd26-48ed-b388-7eb56ec19577"
      },
      "source": [
        "fx = []\n",
        "x = []\n",
        "for k in range(-80, 80):  \n",
        "  xis = k  \n",
        "  fx.append(func(xis))\n",
        "  x.append(xis)  \n",
        "\n",
        "df = pd.DataFrame()\n",
        "\n",
        "df['x'] = x\n",
        "df['f(x)'] = fx\n",
        "df"
      ],
      "execution_count": null,
      "outputs": [
        {
          "output_type": "execute_result",
          "data": {
            "text/html": [
              "<div>\n",
              "<style scoped>\n",
              "    .dataframe tbody tr th:only-of-type {\n",
              "        vertical-align: middle;\n",
              "    }\n",
              "\n",
              "    .dataframe tbody tr th {\n",
              "        vertical-align: top;\n",
              "    }\n",
              "\n",
              "    .dataframe thead th {\n",
              "        text-align: right;\n",
              "    }\n",
              "</style>\n",
              "<table border=\"1\" class=\"dataframe\">\n",
              "  <thead>\n",
              "    <tr style=\"text-align: right;\">\n",
              "      <th></th>\n",
              "      <th>x</th>\n",
              "      <th>f(x)</th>\n",
              "    </tr>\n",
              "  </thead>\n",
              "  <tbody>\n",
              "    <tr>\n",
              "      <th>0</th>\n",
              "      <td>-80</td>\n",
              "      <td>19162.0</td>\n",
              "    </tr>\n",
              "    <tr>\n",
              "      <th>1</th>\n",
              "      <td>-79</td>\n",
              "      <td>18685.4</td>\n",
              "    </tr>\n",
              "    <tr>\n",
              "      <th>2</th>\n",
              "      <td>-78</td>\n",
              "      <td>18214.8</td>\n",
              "    </tr>\n",
              "    <tr>\n",
              "      <th>3</th>\n",
              "      <td>-77</td>\n",
              "      <td>17750.2</td>\n",
              "    </tr>\n",
              "    <tr>\n",
              "      <th>4</th>\n",
              "      <td>-76</td>\n",
              "      <td>17291.6</td>\n",
              "    </tr>\n",
              "    <tr>\n",
              "      <th>...</th>\n",
              "      <td>...</td>\n",
              "      <td>...</td>\n",
              "    </tr>\n",
              "    <tr>\n",
              "      <th>155</th>\n",
              "      <td>75</td>\n",
              "      <td>16899.0</td>\n",
              "    </tr>\n",
              "    <tr>\n",
              "      <th>156</th>\n",
              "      <td>76</td>\n",
              "      <td>17352.4</td>\n",
              "    </tr>\n",
              "    <tr>\n",
              "      <th>157</th>\n",
              "      <td>77</td>\n",
              "      <td>17811.8</td>\n",
              "    </tr>\n",
              "    <tr>\n",
              "      <th>158</th>\n",
              "      <td>78</td>\n",
              "      <td>18277.2</td>\n",
              "    </tr>\n",
              "    <tr>\n",
              "      <th>159</th>\n",
              "      <td>79</td>\n",
              "      <td>18748.6</td>\n",
              "    </tr>\n",
              "  </tbody>\n",
              "</table>\n",
              "<p>160 rows × 2 columns</p>\n",
              "</div>"
            ],
            "text/plain": [
              "      x     f(x)\n",
              "0   -80  19162.0\n",
              "1   -79  18685.4\n",
              "2   -78  18214.8\n",
              "3   -77  17750.2\n",
              "4   -76  17291.6\n",
              "..   ..      ...\n",
              "155  75  16899.0\n",
              "156  76  17352.4\n",
              "157  77  17811.8\n",
              "158  78  18277.2\n",
              "159  79  18748.6\n",
              "\n",
              "[160 rows x 2 columns]"
            ]
          },
          "metadata": {
            "tags": []
          },
          "execution_count": 4
        }
      ]
    },
    {
      "cell_type": "code",
      "metadata": {
        "colab": {
          "base_uri": "https://localhost:8080/",
          "height": 285
        },
        "id": "IZRXRcRqxDaF",
        "outputId": "5379d62d-3483-4c0e-ad7e-8342f47d7440"
      },
      "source": [
        "plt.plot(x, fx)"
      ],
      "execution_count": null,
      "outputs": [
        {
          "output_type": "execute_result",
          "data": {
            "text/plain": [
              "[<matplotlib.lines.Line2D at 0x7f6b488fa950>]"
            ]
          },
          "metadata": {
            "tags": []
          },
          "execution_count": 5
        },
        {
          "output_type": "display_data",
          "data": {
            "image/png": "[encoded data removed]",
            "text/plain": [
              "<Figure size 432x288 with 1 Axes>"
            ]
          },
          "metadata": {
            "tags": [],
            "needs_background": "light"
          }
        }
      ]
    },
    {
      "cell_type": "markdown",
      "metadata": {
        "id": "WyfuJJ-z0k-h"
      },
      "source": [
        "###**Método do Ponto Fixo**\n",
        "####*Função de Iteração:* (6-3x^2)/0,4\n",
        "##### - Não Convergiu\n",
        "\n",
        "####*Função de Iteração:* raiz((6-0,4x)/3)\n",
        "#####  - Convergiu"
      ]
    },
    {
      "cell_type": "code",
      "metadata": {
        "id": "DMae8dl100SJ"
      },
      "source": [
        "def funcIteracao_0(x):    \n",
        "  return (6-3*x**2)/0.4\n",
        "\n",
        "def funcIteracao_1(x):  \n",
        "  return np.sqrt((6-0.4*x)/3)"
      ],
      "execution_count": null,
      "outputs": []
    },
    {
      "cell_type": "code",
      "metadata": {
        "colab": {
          "base_uri": "https://localhost:8080/",
          "height": 221
        },
        "id": "GMxLcF5i0kjZ",
        "outputId": "2cce422c-b0f4-4986-e0ef-d4a0d5a70b62"
      },
      "source": [
        "xmenos=chute\n",
        "fx = [xmenos]\n",
        "x = [0]\n",
        "for i in range(1, 100):    \n",
        "  xmais = funcIteracao_1(xmenos)\n",
        "  fx.append(xmais)\n",
        "  x.append(i)\n",
        "  erro = abs(xmais - xmenos) \n",
        "  if(erro < precisao):\n",
        "    break \n",
        "  xmenos=xmais \n",
        "\n",
        "print('Raiz da função:', fx[-1]) \n",
        "\n",
        "df = pd.DataFrame()\n",
        "\n",
        "df['f(x)'] = fx\n",
        "df"
      ],
      "execution_count": null,
      "outputs": [
        {
          "output_type": "stream",
          "text": [
            "Raiz da função: 1.3491141286952169\n"
          ],
          "name": "stdout"
        },
        {
          "output_type": "execute_result",
          "data": {
            "text/html": [
              "<div>\n",
              "<style scoped>\n",
              "    .dataframe tbody tr th:only-of-type {\n",
              "        vertical-align: middle;\n",
              "    }\n",
              "\n",
              "    .dataframe tbody tr th {\n",
              "        vertical-align: top;\n",
              "    }\n",
              "\n",
              "    .dataframe thead th {\n",
              "        text-align: right;\n",
              "    }\n",
              "</style>\n",
              "<table border=\"1\" class=\"dataframe\">\n",
              "  <thead>\n",
              "    <tr style=\"text-align: right;\">\n",
              "      <th></th>\n",
              "      <th>f(x)</th>\n",
              "    </tr>\n",
              "  </thead>\n",
              "  <tbody>\n",
              "    <tr>\n",
              "      <th>0</th>\n",
              "      <td>0.800000</td>\n",
              "    </tr>\n",
              "    <tr>\n",
              "      <th>1</th>\n",
              "      <td>1.375984</td>\n",
              "    </tr>\n",
              "    <tr>\n",
              "      <th>2</th>\n",
              "      <td>1.347789</td>\n",
              "    </tr>\n",
              "    <tr>\n",
              "      <th>3</th>\n",
              "      <td>1.349183</td>\n",
              "    </tr>\n",
              "    <tr>\n",
              "      <th>4</th>\n",
              "      <td>1.349114</td>\n",
              "    </tr>\n",
              "  </tbody>\n",
              "</table>\n",
              "</div>"
            ],
            "text/plain": [
              "       f(x)\n",
              "0  0.800000\n",
              "1  1.375984\n",
              "2  1.347789\n",
              "3  1.349183\n",
              "4  1.349114"
            ]
          },
          "metadata": {
            "tags": []
          },
          "execution_count": 7
        }
      ]
    },
    {
      "cell_type": "code",
      "metadata": {
        "colab": {
          "base_uri": "https://localhost:8080/",
          "height": 285
        },
        "id": "NkSF9R8W0j4z",
        "outputId": "7c4a5deb-d02d-4f3e-a787-0f7acf9dbf7d"
      },
      "source": [
        "plt.plot(x, fx)"
      ],
      "execution_count": null,
      "outputs": [
        {
          "output_type": "execute_result",
          "data": {
            "text/plain": [
              "[<matplotlib.lines.Line2D at 0x7f6b4201d350>]"
            ]
          },
          "metadata": {
            "tags": []
          },
          "execution_count": 8
        },
        {
          "output_type": "display_data",
          "data": {
            "image/png": "[encoded data removed]",
            "text/plain": [
              "<Figure size 432x288 with 1 Axes>"
            ]
          },
          "metadata": {
            "tags": [],
            "needs_background": "light"
          }
        }
      ]
    },
    {
      "cell_type": "markdown",
      "metadata": {
        "id": "_TAzcfQWxON8"
      },
      "source": [
        "###**Método de Newton-Raphson**"
      ]
    },
    {
      "cell_type": "code",
      "metadata": {
        "colab": {
          "base_uri": "https://localhost:8080/",
          "height": 221
        },
        "id": "bYvnJsuLxYXU",
        "outputId": "813ae4d5-f6ad-45e5-9d92-a738283b3bb2"
      },
      "source": [
        "xmenos=chute\n",
        "fx = [xmenos]\n",
        "x = [0]\n",
        "for i in range(1, 100):  \n",
        "  xmais = xmenos - (func(xmenos)/dfunc(xmenos))   \n",
        "  fx.append(xmais)\n",
        "  x.append(i)\n",
        "  erro = abs(xmais - xmenos) \n",
        "  if(erro < precisao):\n",
        "    break \n",
        "  xmenos=xmais \n",
        "\n",
        "print('Raiz da função:', fx[-1]) \n",
        "\n",
        "df = pd.DataFrame()\n",
        "\n",
        "df['f(x)'] = fx\n",
        "df"
      ],
      "execution_count": null,
      "outputs": [
        {
          "output_type": "stream",
          "text": [
            "Raiz da função: 1.3491173724630077\n"
          ],
          "name": "stdout"
        },
        {
          "output_type": "execute_result",
          "data": {
            "text/html": [
              "<div>\n",
              "<style scoped>\n",
              "    .dataframe tbody tr th:only-of-type {\n",
              "        vertical-align: middle;\n",
              "    }\n",
              "\n",
              "    .dataframe tbody tr th {\n",
              "        vertical-align: top;\n",
              "    }\n",
              "\n",
              "    .dataframe thead th {\n",
              "        text-align: right;\n",
              "    }\n",
              "</style>\n",
              "<table border=\"1\" class=\"dataframe\">\n",
              "  <thead>\n",
              "    <tr style=\"text-align: right;\">\n",
              "      <th></th>\n",
              "      <th>f(x)</th>\n",
              "    </tr>\n",
              "  </thead>\n",
              "  <tbody>\n",
              "    <tr>\n",
              "      <th>0</th>\n",
              "      <td>0.800000</td>\n",
              "    </tr>\n",
              "    <tr>\n",
              "      <th>1</th>\n",
              "      <td>1.523077</td>\n",
              "    </tr>\n",
              "    <tr>\n",
              "      <th>2</th>\n",
              "      <td>1.358635</td>\n",
              "    </tr>\n",
              "    <tr>\n",
              "      <th>3</th>\n",
              "      <td>1.349149</td>\n",
              "    </tr>\n",
              "    <tr>\n",
              "      <th>4</th>\n",
              "      <td>1.349117</td>\n",
              "    </tr>\n",
              "  </tbody>\n",
              "</table>\n",
              "</div>"
            ],
            "text/plain": [
              "       f(x)\n",
              "0  0.800000\n",
              "1  1.523077\n",
              "2  1.358635\n",
              "3  1.349149\n",
              "4  1.349117"
            ]
          },
          "metadata": {
            "tags": []
          },
          "execution_count": 9
        }
      ]
    },
    {
      "cell_type": "code",
      "metadata": {
        "colab": {
          "base_uri": "https://localhost:8080/",
          "height": 282
        },
        "id": "Tv-A3pzbxbg3",
        "outputId": "4d4d136c-bb96-42c9-d4b8-f07f244ef3ed"
      },
      "source": [
        "plt.plot(x, fx)"
      ],
      "execution_count": null,
      "outputs": [
        {
          "output_type": "execute_result",
          "data": {
            "text/plain": [
              "[<matplotlib.lines.Line2D at 0x7f6b41f9a250>]"
            ]
          },
          "metadata": {
            "tags": []
          },
          "execution_count": 10
        },
        {
          "output_type": "display_data",
          "data": {
            "image/png": "[encoded data removed]",
            "text/plain": [
              "<Figure size 432x288 with 1 Axes>"
            ]
          },
          "metadata": {
            "tags": [],
            "needs_background": "light"
          }
        }
      ]
    },
    {
      "cell_type": "markdown",
      "metadata": {
        "id": "8Wx8U1744AT7"
      },
      "source": [
        "###**Método Secante**"
      ]
    },
    {
      "cell_type": "code",
      "metadata": {
        "colab": {
          "base_uri": "https://localhost:8080/",
          "height": 283
        },
        "id": "UMugVX5M4FlX",
        "outputId": "5cd37c92-da10-4f4b-fa18-339a321d1893"
      },
      "source": [
        "xmenos_menos=chute + 0.1\n",
        "xmenos=chute\n",
        "\n",
        "fx = [xmenos_menos, xmenos]\n",
        "x = [-1,0]\n",
        "for i in range(1, 100):  \n",
        "  xmais = xmenos - (func(xmenos)/ ((func(xmenos) - func(xmenos_menos)) / (xmenos - xmenos_menos)))   \n",
        "  fx.append(xmais)\n",
        "  x.append(i)\n",
        "  erro = abs(xmais - xmenos) \n",
        "  if(erro < precisao):\n",
        "    break \n",
        "  xmenos_menos=xmenos \n",
        "  xmenos=xmais\n",
        "\n",
        "print('Raiz da função:', fx[-1]) \n",
        "\n",
        "df = pd.DataFrame()\n",
        "\n",
        "df['f(x)'] = fx\n",
        "df"
      ],
      "execution_count": null,
      "outputs": [
        {
          "output_type": "stream",
          "text": [
            "Raiz da função: 1.3491173645412151\n"
          ],
          "name": "stdout"
        },
        {
          "output_type": "execute_result",
          "data": {
            "text/html": [
              "<div>\n",
              "<style scoped>\n",
              "    .dataframe tbody tr th:only-of-type {\n",
              "        vertical-align: middle;\n",
              "    }\n",
              "\n",
              "    .dataframe tbody tr th {\n",
              "        vertical-align: top;\n",
              "    }\n",
              "\n",
              "    .dataframe thead th {\n",
              "        text-align: right;\n",
              "    }\n",
              "</style>\n",
              "<table border=\"1\" class=\"dataframe\">\n",
              "  <thead>\n",
              "    <tr style=\"text-align: right;\">\n",
              "      <th></th>\n",
              "      <th>f(x)</th>\n",
              "    </tr>\n",
              "  </thead>\n",
              "  <tbody>\n",
              "    <tr>\n",
              "      <th>0</th>\n",
              "      <td>0.900000</td>\n",
              "    </tr>\n",
              "    <tr>\n",
              "      <th>1</th>\n",
              "      <td>0.800000</td>\n",
              "    </tr>\n",
              "    <tr>\n",
              "      <th>2</th>\n",
              "      <td>1.483636</td>\n",
              "    </tr>\n",
              "    <tr>\n",
              "      <th>3</th>\n",
              "      <td>1.318556</td>\n",
              "    </tr>\n",
              "    <tr>\n",
              "      <th>4</th>\n",
              "      <td>1.347717</td>\n",
              "    </tr>\n",
              "    <tr>\n",
              "      <th>5</th>\n",
              "      <td>1.349133</td>\n",
              "    </tr>\n",
              "    <tr>\n",
              "      <th>6</th>\n",
              "      <td>1.349117</td>\n",
              "    </tr>\n",
              "  </tbody>\n",
              "</table>\n",
              "</div>"
            ],
            "text/plain": [
              "       f(x)\n",
              "0  0.900000\n",
              "1  0.800000\n",
              "2  1.483636\n",
              "3  1.318556\n",
              "4  1.347717\n",
              "5  1.349133\n",
              "6  1.349117"
            ]
          },
          "metadata": {
            "tags": []
          },
          "execution_count": 11
        }
      ]
    },
    {
      "cell_type": "code",
      "metadata": {
        "colab": {
          "base_uri": "https://localhost:8080/",
          "height": 282
        },
        "id": "TPT3jQhO5CF_",
        "outputId": "f4ef4a1c-aa18-4338-b044-e94f4e900914"
      },
      "source": [
        "plt.plot(x, fx)"
      ],
      "execution_count": null,
      "outputs": [
        {
          "output_type": "execute_result",
          "data": {
            "text/plain": [
              "[<matplotlib.lines.Line2D at 0x7f6b41f184d0>]"
            ]
          },
          "metadata": {
            "tags": []
          },
          "execution_count": 12
        },
        {
          "output_type": "display_data",
          "data": {
            "image/png": "[encoded data removed]",
            "text/plain": [
              "<Figure size 432x288 with 1 Axes>"
            ]
          },
          "metadata": {
            "tags": [],
            "needs_background": "light"
          }
        }
      ]
    }
  ]
}