{
  "nbformat": 4,
  "nbformat_minor": 0,
  "metadata": {
    "colab": {
      "name": "saturacao_explicit.ipynb",
      "provenance": [],
      "authorship_tag": "ABX9TyPpEEaOHHZJtFFrFL9F2ZyD",
      "include_colab_link": true
    },
    "kernelspec": {
      "name": "python3",
      "display_name": "Python 3"
    },
    "language_info": {
      "name": "python"
    }
  },
  "cells": [
    {
      "cell_type": "markdown",
      "metadata": {
        "id": "view-in-github",
        "colab_type": "text"
      },
      "source": [
        "<a href=\"https://colab.research.google.com/github/igcampos/Mestrado/blob/main/saturacao_explicit.ipynb\" target=\"_parent\"><img src=\"https://colab.research.google.com/assets/colab-badge.svg\" alt=\"Open In Colab\"/></a>"
      ]
    },
    {
      "cell_type": "markdown",
      "metadata": {
        "id": "nW5_zf2VIEP9"
      },
      "source": [
        "# Programas para soluções explicitas BL"
      ]
    },
    {
      "cell_type": "markdown",
      "metadata": {
        "id": "lUBY-EwvIZzA"
      },
      "source": [
        "Importação das bibliotecas"
      ]
    },
    {
      "cell_type": "code",
      "metadata": {
        "id": "KoDo60BFfZ5C"
      },
      "source": [
        "import numpy as np\n",
        "import matplotlib.pyplot as plt\n",
        "import time\n",
        "import sys\n",
        "from collections.abc import Iterable\n",
        "import timeit"
      ],
      "execution_count": null,
      "outputs": []
    },
    {
      "cell_type": "markdown",
      "metadata": {
        "id": "1J3_Raf3Ywcd"
      },
      "source": [
        "Definindo os parâmetros de simulação"
      ]
    },
    {
      "cell_type": "code",
      "metadata": {
        "colab": {
          "base_uri": "https://localhost:8080/"
        },
        "id": "OFfsPmJvgGhW",
        "outputId": "84376936-0305-4af4-8562-a24c6d10ed9b"
      },
      "source": [
        "#Discretização do domínio \n",
        "nx = 100                                                               #Número de pontos do grid\n",
        "dominio = np.arange(nx)                                                #vetor domínio\n",
        "print(\"Número de dimensões: {}\".format(dominio.ndim))                  #número de dimensões\n",
        "print(dominio)"
      ],
      "execution_count": null,
      "outputs": [
        {
          "output_type": "stream",
          "text": [
            "Número de dimensões: 1\n",
            "[ 0  1  2  3  4  5  6  7  8  9 10 11 12 13 14 15 16 17 18 19 20 21 22 23\n",
            " 24 25 26 27 28 29 30 31 32 33 34 35 36 37 38 39 40 41 42 43 44 45 46 47\n",
            " 48 49 50 51 52 53 54 55 56 57 58 59 60 61 62 63 64 65 66 67 68 69 70 71\n",
            " 72 73 74 75 76 77 78 79 80 81 82 83 84 85 86 87 88 89 90 91 92 93 94 95\n",
            " 96 97 98 99]\n"
          ],
          "name": "stdout"
        }
      ]
    },
    {
      "cell_type": "code",
      "metadata": {
        "colab": {
          "base_uri": "https://localhost:8080/"
        },
        "id": "4p3R2PwYgLbz",
        "outputId": "37397e92-8c25-4c6c-b024-3c7617e041aa"
      },
      "source": [
        "#Calculo de Delta X\n",
        "#tamanho do meio poroso\n",
        "tam_meio_poroso = 5000 #ft\n",
        "#tamanho do elemento do grid\n",
        "tam_grid = tam_meio_poroso/nx\n",
        "#Delta X - normalizado\n",
        "dx = tam_grid/tam_meio_poroso\n",
        "print(\"O tamanho dos elementos do grid em uma malha estruturada é {}, e o delta X é {} \".format(tam_grid, dx))"
      ],
      "execution_count": null,
      "outputs": [
        {
          "output_type": "stream",
          "text": [
            "O tamanho dos elementos do grid em uma malha estruturada é 50.0, e o delta X é 0.01 \n"
          ],
          "name": "stdout"
        }
      ]
    },
    {
      "cell_type": "code",
      "metadata": {
        "colab": {
          "base_uri": "https://localhost:8080/"
        },
        "id": "ocjJGJQ6gPKD",
        "outputId": "7a22a70d-58c5-4f61-e243-08826366fcf7"
      },
      "source": [
        "#Calculo de Delta T\n",
        "#viscosidade da água \n",
        "visc_agua = 0.5 #cp\n",
        "#viscosidade do óleo\n",
        "visc_oleo = 1 #cp\n",
        "#velocidade total na injeção \n",
        "ut = 0.1 #ft³/d \n",
        "#porosidade\n",
        "porosidade_meio = 0.2\n",
        "#tempo de simulação \n",
        "nt = 4000 #dias\n",
        "#passo de tempo\n",
        "passo_tempo = 10 #dias\n",
        "#Delta T - normalizado\n",
        "dt =  ut*passo_tempo/(tam_meio_poroso*porosidade_meio) \n",
        "print(\"O delta T normalizado é {}\".format(dt))"
      ],
      "execution_count": null,
      "outputs": [
        {
          "output_type": "stream",
          "text": [
            "O delta T normalizado é 0.001\n"
          ],
          "name": "stdout"
        }
      ]
    },
    {
      "cell_type": "code",
      "metadata": {
        "colab": {
          "base_uri": "https://localhost:8080/"
        },
        "id": "Ij9DLiz8gesk",
        "outputId": "da480548-5b47-451d-99a4-e65fa27c46d8"
      },
      "source": [
        "#Número de Courant\n",
        "num_Courant = dt/dx \n",
        "print(f\"O número de courant é {num_Courant}\")"
      ],
      "execution_count": null,
      "outputs": [
        {
          "output_type": "stream",
          "text": [
            "O número de courant é 0.1\n"
          ],
          "name": "stdout"
        }
      ]
    },
    {
      "cell_type": "code",
      "metadata": {
        "colab": {
          "base_uri": "https://localhost:8080/"
        },
        "id": "ovw4df2wgg9E",
        "outputId": "64074fff-c77a-4551-9811-843935f27676"
      },
      "source": [
        "#condição de contorno e inicial\n",
        "#Condição Inicial Sw(X,0)\n",
        "sw_CI = 0.2 #swi\n",
        "#Condição de Contorno Sw(0,T)\n",
        "sw_CC = 0.8 #1-sor\n",
        "#Matriz de saturação para alocação dos resultados\n",
        "tempos_de_injecao = int(nt/passo_tempo)   #quantidade representando os tempos de injeção que serão calculados\n",
        "matriz_resultado_saturacao = np.zeros((tempos_de_injecao,nx)) \n",
        "matriz_resultado_saturacao.shape "
      ],
      "execution_count": null,
      "outputs": [
        {
          "output_type": "execute_result",
          "data": {
            "text/plain": [
              "(400, 100)"
            ]
          },
          "metadata": {
            "tags": []
          },
          "execution_count": 97
        }
      ]
    },
    {
      "cell_type": "code",
      "metadata": {
        "id": "Opo27tjigppU"
      },
      "source": [
        "#modificando a primeira linha da matriz para alocar os valores das condições iniciais\n",
        "matriz_resultado_saturacao[0,:] = sw_CI "
      ],
      "execution_count": null,
      "outputs": []
    },
    {
      "cell_type": "code",
      "metadata": {
        "colab": {
          "base_uri": "https://localhost:8080/"
        },
        "id": "H1lk-c7Uh1fh",
        "outputId": "abb1421c-52e9-424c-ea95-c89ded910eff"
      },
      "source": [
        "matriz_resultado_saturacao[0,:] "
      ],
      "execution_count": null,
      "outputs": [
        {
          "output_type": "execute_result",
          "data": {
            "text/plain": [
              "array([0.2, 0.2, 0.2, 0.2, 0.2, 0.2, 0.2, 0.2, 0.2, 0.2, 0.2, 0.2, 0.2,\n",
              "       0.2, 0.2, 0.2, 0.2, 0.2, 0.2, 0.2, 0.2, 0.2, 0.2, 0.2, 0.2, 0.2,\n",
              "       0.2, 0.2, 0.2, 0.2, 0.2, 0.2, 0.2, 0.2, 0.2, 0.2, 0.2, 0.2, 0.2,\n",
              "       0.2, 0.2, 0.2, 0.2, 0.2, 0.2, 0.2, 0.2, 0.2, 0.2, 0.2, 0.2, 0.2,\n",
              "       0.2, 0.2, 0.2, 0.2, 0.2, 0.2, 0.2, 0.2, 0.2, 0.2, 0.2, 0.2, 0.2,\n",
              "       0.2, 0.2, 0.2, 0.2, 0.2, 0.2, 0.2, 0.2, 0.2, 0.2, 0.2, 0.2, 0.2,\n",
              "       0.2, 0.2, 0.2, 0.2, 0.2, 0.2, 0.2, 0.2, 0.2, 0.2, 0.2, 0.2, 0.2,\n",
              "       0.2, 0.2, 0.2, 0.2, 0.2, 0.2, 0.2, 0.2, 0.2])"
            ]
          },
          "metadata": {
            "tags": []
          },
          "execution_count": 99
        }
      ]
    },
    {
      "cell_type": "code",
      "metadata": {
        "id": "Rb01BJpXh5NG"
      },
      "source": [
        "#Características do sistema molhável a água\n",
        "#saturação inicial\n",
        "swi = 0.2\n",
        "#saturação de óleo residual\n",
        "sor = 0.2\n",
        "#permeabilidade relativa da água na saturação residual\n",
        "krw_sor = 0.3 \n",
        "#permeabilidade relativa do óleo na saturação residual\n",
        "kro_swi = 0.85 \n",
        "#porosidade\n",
        "porosidade = porosidade_meio\n",
        "#parâmetros de Corey\n",
        "no = 1.3\n",
        "nw = 2"
      ],
      "execution_count": null,
      "outputs": []
    },
    {
      "cell_type": "code",
      "metadata": {
        "colab": {
          "base_uri": "https://localhost:8080/"
        },
        "id": "jRjpVG2jiBzW",
        "outputId": "70cc8b79-6f61-479c-fc4f-36ed00816fb8"
      },
      "source": [
        "tempos_de_injecao = np.arange(tempos_de_injecao) #utilizado como vetor de tempo para o calculo de saturação\n",
        "tempos_de_injecao"
      ],
      "execution_count": null,
      "outputs": [
        {
          "output_type": "execute_result",
          "data": {
            "text/plain": [
              "array([  0,   1,   2,   3,   4,   5,   6,   7,   8,   9,  10,  11,  12,\n",
              "        13,  14,  15,  16,  17,  18,  19,  20,  21,  22,  23,  24,  25,\n",
              "        26,  27,  28,  29,  30,  31,  32,  33,  34,  35,  36,  37,  38,\n",
              "        39,  40,  41,  42,  43,  44,  45,  46,  47,  48,  49,  50,  51,\n",
              "        52,  53,  54,  55,  56,  57,  58,  59,  60,  61,  62,  63,  64,\n",
              "        65,  66,  67,  68,  69,  70,  71,  72,  73,  74,  75,  76,  77,\n",
              "        78,  79,  80,  81,  82,  83,  84,  85,  86,  87,  88,  89,  90,\n",
              "        91,  92,  93,  94,  95,  96,  97,  98,  99, 100, 101, 102, 103,\n",
              "       104, 105, 106, 107, 108, 109, 110, 111, 112, 113, 114, 115, 116,\n",
              "       117, 118, 119, 120, 121, 122, 123, 124, 125, 126, 127, 128, 129,\n",
              "       130, 131, 132, 133, 134, 135, 136, 137, 138, 139, 140, 141, 142,\n",
              "       143, 144, 145, 146, 147, 148, 149, 150, 151, 152, 153, 154, 155,\n",
              "       156, 157, 158, 159, 160, 161, 162, 163, 164, 165, 166, 167, 168,\n",
              "       169, 170, 171, 172, 173, 174, 175, 176, 177, 178, 179, 180, 181,\n",
              "       182, 183, 184, 185, 186, 187, 188, 189, 190, 191, 192, 193, 194,\n",
              "       195, 196, 197, 198, 199, 200, 201, 202, 203, 204, 205, 206, 207,\n",
              "       208, 209, 210, 211, 212, 213, 214, 215, 216, 217, 218, 219, 220,\n",
              "       221, 222, 223, 224, 225, 226, 227, 228, 229, 230, 231, 232, 233,\n",
              "       234, 235, 236, 237, 238, 239, 240, 241, 242, 243, 244, 245, 246,\n",
              "       247, 248, 249, 250, 251, 252, 253, 254, 255, 256, 257, 258, 259,\n",
              "       260, 261, 262, 263, 264, 265, 266, 267, 268, 269, 270, 271, 272,\n",
              "       273, 274, 275, 276, 277, 278, 279, 280, 281, 282, 283, 284, 285,\n",
              "       286, 287, 288, 289, 290, 291, 292, 293, 294, 295, 296, 297, 298,\n",
              "       299, 300, 301, 302, 303, 304, 305, 306, 307, 308, 309, 310, 311,\n",
              "       312, 313, 314, 315, 316, 317, 318, 319, 320, 321, 322, 323, 324,\n",
              "       325, 326, 327, 328, 329, 330, 331, 332, 333, 334, 335, 336, 337,\n",
              "       338, 339, 340, 341, 342, 343, 344, 345, 346, 347, 348, 349, 350,\n",
              "       351, 352, 353, 354, 355, 356, 357, 358, 359, 360, 361, 362, 363,\n",
              "       364, 365, 366, 367, 368, 369, 370, 371, 372, 373, 374, 375, 376,\n",
              "       377, 378, 379, 380, 381, 382, 383, 384, 385, 386, 387, 388, 389,\n",
              "       390, 391, 392, 393, 394, 395, 396, 397, 398, 399])"
            ]
          },
          "metadata": {
            "tags": []
          },
          "execution_count": 101
        }
      ]
    },
    {
      "cell_type": "markdown",
      "metadata": {
        "id": "PHs4Y5tZH9mv"
      },
      "source": [
        "## Programa Sugerido"
      ]
    },
    {
      "cell_type": "code",
      "metadata": {
        "id": "Mx7FDqZHfdS1"
      },
      "source": [
        "#função para o cálculo do modelo Corey - AJUSTADO\n",
        "\n",
        "def perm_corey(sw,swi,sor,kro_swi,krw_sor,no,nw):\n",
        "  kro = []\n",
        "  krw = []\n",
        "\n",
        "  if isinstance(sw, Iterable):\n",
        "    #cálculo da permeabilidade relativa do óleo \n",
        "    for i in sw:\n",
        "        kr = kro_swi*((1-sor-i)/(1-swi-sor))**no\n",
        "        kro.append(kr)\n",
        "    kro = np.array([kro_swi if i >= 1 else i for i in kro]) #substituindo o valor 1 por kro_swi\n",
        "    kro[-1] = 0.0 # solução temporária para o erro \n",
        "\n",
        "    #cálculo da permeabilidade relativa da água\n",
        "    for i in sw:\n",
        "        kr = krw_sor*((i-swi)/(1-swi-sor))**nw\n",
        "        if kr > krw_sor:\n",
        "          kr = krw_sor\n",
        "        krw.append(kr)\n",
        "    krw = np.array(krw)\n",
        "\n",
        "\n",
        "  else:\n",
        "    #cálculo da permeabilidade relativa do óleo\n",
        "    kr = kro_swi*((1-sor-sw)/(1-swi-sor))**no\n",
        "    if kr > kro_swi:\n",
        "      kr = kro_swi\n",
        "    kro.append(kr)\n",
        "    kro = np.array(kro) \n",
        "    #cálculo da permeabilidade relativa da água \n",
        "    kr = krw_sor*((sw-swi)/(1-swi-sor))**nw\n",
        "    if kr > krw_sor:\n",
        "      kr = krw_sor\n",
        "    krw.append(kr)\n",
        "    krw = np.array(krw)\n",
        "  \n",
        "  return kro, krw\n",
        "\n",
        "#função que calcula a mobilidade em diferentes pontos de saturação\n",
        "def mobilidade(sw,visc_agua,visc_oleo):\n",
        "\n",
        "  numerador_da_funcao = perm_corey(sw,swi,sor,kro_swi,krw_sor,no,nw)[1]/visc_agua\n",
        "  denominador_da_funcao = (perm_corey(sw,swi,sor,kro_swi,krw_sor,no,nw)[1]/visc_agua) + (perm_corey(sw,swi,sor,kro_swi,krw_sor,no,nw)[0]/visc_oleo)\n",
        "  resultado_mobilidade =  numerador_da_funcao/denominador_da_funcao\n",
        "\n",
        "  return resultado_mobilidade"
      ],
      "execution_count": null,
      "outputs": []
    },
    {
      "cell_type": "code",
      "metadata": {
        "colab": {
          "base_uri": "https://localhost:8080/"
        },
        "id": "6oAKMcjHiTy3",
        "outputId": "3410876a-05f9-4052-863c-3400f9678d0d"
      },
      "source": [
        "#Calculo da saturação e preenchimento da matriz de resultado\n",
        "#calulo do tempo de execução:\n",
        "start = timeit.default_timer()\n",
        "for n in tempos_de_injecao:\n",
        "  #calculo da primeira linha\n",
        "  if n == 0:\n",
        "    for i in dominio:\n",
        "      if i == 0: \n",
        "        #primeiro ponto\n",
        "        mobilidade_i_menos_meio = mobilidade(sw_CC,visc_agua,visc_oleo)\n",
        "        mobilidade_i = mobilidade(sw_CI,visc_agua,visc_oleo)\n",
        "        sw_n_mais_1 = dt/dx*(mobilidade_i_menos_meio - mobilidade_i) + sw_CI\n",
        "        matriz_resultado_saturacao[n,i] =  sw_n_mais_1\n",
        "      else:\n",
        "        #outros pontos\n",
        "        sw_ajustado =  (matriz_resultado_saturacao[n,i-1] + matriz_resultado_saturacao[n,i])/2\n",
        "        mobilidade_i_menos_meio = mobilidade(sw_ajustado,visc_agua,visc_oleo)\n",
        "        mobilidade_i = mobilidade(sw_CI,visc_agua,visc_oleo)\n",
        "        sw_n_mais_1 = dt/dx * (mobilidade_i_menos_meio - mobilidade_i) + sw_CI\n",
        "        matriz_resultado_saturacao[n,i] =  sw_n_mais_1\n",
        "  #Cálculo das demais linhas      \n",
        "  else:\n",
        "      for i in dominio:\n",
        "        if i == 0: \n",
        "          #primeiro ponto\n",
        "          mobilidade_i_menos_meio = mobilidade(sw_CC,visc_agua,visc_oleo)\n",
        "          mobilidade_i = mobilidade(matriz_resultado_saturacao[n-1,i],visc_agua,visc_oleo)\n",
        "          sw_n_mais_1 = dt/dx*(mobilidade_i_menos_meio - mobilidade_i) + matriz_resultado_saturacao[n-1,i]\n",
        "          matriz_resultado_saturacao[n,i] =  sw_n_mais_1\n",
        "        else:\n",
        "          #outros ponto\n",
        "          sw_ajustado =  (matriz_resultado_saturacao[n-1,i-1] + matriz_resultado_saturacao[n-1,i])/2\n",
        "          mobilidade_i_menos_meio = mobilidade(sw_ajustado,visc_agua,visc_oleo)\n",
        "          mobilidade_i = mobilidade(matriz_resultado_saturacao[n-1,i],visc_agua,visc_oleo)\n",
        "          sw_n_mais_1 = dt/dx * (mobilidade_i_menos_meio - mobilidade_i) + matriz_resultado_saturacao[n-1,i]\n",
        "          matriz_resultado_saturacao[n,i] =  sw_n_mais_1\n",
        "stop = timeit.default_timer()\n",
        "print('Tempo de execução: {} segundos'.format(stop-start))"
      ],
      "execution_count": null,
      "outputs": [
        {
          "output_type": "stream",
          "text": [
            "Tempo de execução: 2.430577520000952 segundos\n"
          ],
          "name": "stdout"
        }
      ]
    },
    {
      "cell_type": "code",
      "metadata": {
        "colab": {
          "base_uri": "https://localhost:8080/",
          "height": 360
        },
        "id": "9lPlwGcrib_W",
        "outputId": "65131df2-c168-42e1-b11b-4f37ac01ff51"
      },
      "source": [
        "#plotar os resultados\n",
        "matriz_resultado_saturacao = np.insert(matriz_resultado_saturacao, 0, values = 0.8, axis=1) #Adicionando o ponto referente a condição de contorno\n",
        "vetor_comprimento = np.linspace(0, 1, nx+1)\n",
        "fig = plt.figure(figsize=(8,5))\n",
        "ax = plt.subplot(1,1,1)\n",
        "#ax.plot(vetor_comprimento, matriz_resultado_saturacao[9], label = \"0.01 PVI\")\n",
        "ax.plot(vetor_comprimento, matriz_resultado_saturacao[9], label = \"t=100 dias-0.06 PVI\")\n",
        "ax.plot(vetor_comprimento, matriz_resultado_saturacao[49], label = \"t=500 dias-0.3 PVI\")\n",
        "ax.plot(vetor_comprimento, matriz_resultado_saturacao[149], label = \"t=1500 dias-0.9 PVI\")\n",
        "ax.plot(vetor_comprimento, matriz_resultado_saturacao[349], label = \"t=3500 dias-2.1 PVI\")\n",
        "\n",
        "ax.set_xlabel(\"x/L\", fontsize=15)\n",
        "ax.set_ylabel(\"Saturação da água\", fontsize=15)\n",
        "plt.title(\"Curva de Saturação - ut = 0.6 ft³/d\", fontsize=20)\n",
        "ax.legend(loc=\"upper right\")\n",
        "plt.show()"
      ],
      "execution_count": null,
      "outputs": [
        {
          "output_type": "display_data",
          "data": {
            "image/png": "[encoded data removed]",
            "text/plain": [
              "<Figure size 576x360 with 1 Axes>"
            ]
          },
          "metadata": {
            "tags": [],
            "needs_background": "light"
          }
        }
      ]
    },
    {
      "cell_type": "code",
      "metadata": {
        "colab": {
          "base_uri": "https://localhost:8080/"
        },
        "id": "69RsZEC3TuBj",
        "outputId": "aa764d3f-159f-4c1b-8381-496477896650"
      },
      "source": [
        "pvi = ut*3500/(porosidade*tam_meio_poroso)\n",
        "pvi"
      ],
      "execution_count": null,
      "outputs": [
        {
          "output_type": "execute_result",
          "data": {
            "text/plain": [
              "2.1"
            ]
          },
          "metadata": {
            "tags": []
          },
          "execution_count": 131
        }
      ]
    },
    {
      "cell_type": "code",
      "metadata": {
        "colab": {
          "base_uri": "https://localhost:8080/"
        },
        "id": "iLyEpp1Ngk2B",
        "outputId": "6eba4b92-b03b-4d66-823b-bb262a30757f"
      },
      "source": [
        "t = (0.05*porosidade*tam_meio_poroso)/ut\n",
        "t"
      ],
      "execution_count": null,
      "outputs": [
        {
          "output_type": "execute_result",
          "data": {
            "text/plain": [
              "83.33333333333334"
            ]
          },
          "metadata": {
            "tags": []
          },
          "execution_count": 132
        }
      ]
    },
    {
      "cell_type": "markdown",
      "metadata": {
        "id": "8D5hDjdqUE9b"
      },
      "source": [
        "### Construção da função visando usuário"
      ]
    },
    {
      "cell_type": "code",
      "metadata": {
        "id": "b-wUV-trYAiz"
      },
      "source": [
        "def explicit_saturation():\n",
        "\n",
        "  #Discretização do domínio \n",
        "  \n",
        "  nx = int(input(\"Digite o número de pontos do grid: \"))                 #Número de pontos do grid\n",
        "  dominio = np.arange(nx)                                                #vetor domínio\n",
        "  print(\"Número de dimensões: {}\".format(dominio.ndim))                  #número de dimensões\n",
        "  print(dominio)\n",
        "\n",
        "  #Calculo de Delta X\n",
        "\n",
        "  #tamanho do meio poroso\n",
        "  tam_meio_poroso = int(input(\"Digite o tamanho do reservatório em ft:\"))\n",
        "  #tamanho do elemento do grid\n",
        "  tam_grid = tam_meio_poroso/nx\n",
        "  #Delta X - normalizado\n",
        "  dx = tam_grid/tam_meio_poroso\n",
        "  print(\"\") \n",
        "  print(\"O tamanho dos elementos do grid em uma malha estruturada é {}, e o delta X é {} \".format(tam_grid, dx))\n",
        "  print(\"\") \n",
        "\n",
        "  #Calculo de Delta T\n",
        "\n",
        "  #viscosidade da água \n",
        "  visc_agua = float(input(\"Digite o valor da viscosidade da água em cp:\"))\n",
        "  #viscosidade do óleo\n",
        "  visc_oleo = float(input(\"Digite o valor da viscosidade do óleo em cp:\"))\n",
        "  #velocidade total na injeção \n",
        "  ut = float(input(\"Digite o valor da velocidade total de injeção em ft³/d:\"))\n",
        "  #porosidade\n",
        "  porosidade_meio = float(input(\"Entre com a porosidade do meio:\"))\n",
        "  #tempo de simulação \n",
        "  nt = int(input(\"Entre com os dias de injeção que será simulado:\"))\n",
        "  #passo de tempo\n",
        "  passo_tempo = 10 #dias\n",
        "  #Delta T - normalizado\n",
        "  dt =  ut*passo_tempo/(tam_meio_poroso*porosidade_meio) #DÚVIDA: seria o passo de tempo ou o tempo total\n",
        "  print(\"\") \n",
        "  print(\"O delta T normalizado é {}\".format(dt))\n",
        "\n",
        "  #Número de Courant\n",
        "\n",
        "  num_Courant = dt/dx\n",
        "  print(\"\") \n",
        "  print(f\"O número de courant é {num_Courant}\")\n",
        "\n",
        "  #condição de contorno e inicial\n",
        "\n",
        "  #Condição Inicial Sw(X,0)\n",
        "  sw_CI = float(input(\"Entre com a condição de inicial (Sw):\"))\n",
        "  #Condição de Contorno Sw(0,T)\n",
        "  sw_CC = float(input(\"Entre com a condição de contorno (Sw):\"))\n",
        "  #Matriz de saturação para alocação dos resultados\n",
        "  tempos_de_injecao = int(nt/passo_tempo)   #quantidade representando os tempos de injeção que serão calculados\n",
        "  matriz_resultado_saturacao = np.zeros((tempos_de_injecao,nx)) \n",
        "  print(f'A matriz saturação tem a seguinte forma {matriz_resultado_saturacao.shape}')\n",
        "\n",
        "  #modificando a primeira linha da matriz para alocar os valores das condições iniciais\n",
        "  matriz_resultado_saturacao[0,:] = sw_CI \n",
        "\n",
        "  #Características do sistema \n",
        "\n",
        "  #saturação inicial\n",
        "  swi = float(input(\"Entre com a saturação de água inicial (Swi):\"))\n",
        "  #saturação de óleo residual\n",
        "  sor = float(input(\"Entre com a saturação de óleo residual (Sor):\"))\n",
        "  #permeabilidade relativa da água na saturação residual\n",
        "  krw_sor = float(input(\"Entre com a permeabilidade relativa da água no ponto terminal krw(Sor):\"))\n",
        "  #permeabilidade relativa do óleo na saturação residual\n",
        "  kro_swi = float(input(\"Entre com a permeabilidade relativa do óleo no ponto terminal kro(Swi):\"))\n",
        "  #porosidade\n",
        "  porosidade = porosidade_meio\n",
        "  #parâmetros de Corey\n",
        "  no = float(input(\"Insira o parâmetro de Corey (no):\"))\n",
        "  nw = float(input(\"Insira o parâmetro de Corey (nw):\"))\n",
        "\n",
        "  tempos_de_injecao = np.arange(tempos_de_injecao) #utilizado como vetor de tempo para o calculo de saturação\n",
        "  print(f'Vetor com as iterações temporais: {tempos_de_injecao}')\n",
        "\n",
        "  #Calculo da saturação e preenchimento da matriz de resultado\n",
        "\n",
        "  #calulo do tempo de execução:\n",
        "  start = timeit.default_timer()\n",
        "\n",
        "  for n in tempos_de_injecao:\n",
        "    #calculo da primeira linha\n",
        "    if n == 0:\n",
        "      for i in dominio:\n",
        "        if i == 0: \n",
        "          #primeiro ponto\n",
        "          mobilidade_i_menos_meio = mobilidade(sw_CC,visc_agua,visc_oleo)\n",
        "          mobilidade_i = mobilidade(sw_CI,visc_agua,visc_oleo)\n",
        "          sw_n_mais_1 = dt/dx*(mobilidade_i_menos_meio - mobilidade_i) + sw_CI\n",
        "          matriz_resultado_saturacao[n,i] =  sw_n_mais_1\n",
        "        else:\n",
        "          #outros ponto\n",
        "          sw_ajustado =  (matriz_resultado_saturacao[n,i-1] + matriz_resultado_saturacao[n,i])/2\n",
        "          mobilidade_i_menos_meio = mobilidade(sw_ajustado,visc_agua,visc_oleo)\n",
        "          mobilidade_i = mobilidade(sw_CI,visc_agua,visc_oleo)\n",
        "          sw_n_mais_1 = dt/dx * (mobilidade_i_menos_meio - mobilidade_i) + sw_CI\n",
        "          matriz_resultado_saturacao[n,i] =  sw_n_mais_1\n",
        "    #Cálculo das demais linhas      \n",
        "    else:\n",
        "        for i in dominio:\n",
        "          if i == 0: \n",
        "            #primeiro ponto\n",
        "            mobilidade_i_menos_meio = mobilidade(sw_CC,visc_agua,visc_oleo)\n",
        "            mobilidade_i = mobilidade(matriz_resultado_saturacao[n-1,i],visc_agua,visc_oleo)\n",
        "            sw_n_mais_1 = dt/dx*(mobilidade_i_menos_meio - mobilidade_i) + matriz_resultado_saturacao[n-1,i]\n",
        "            matriz_resultado_saturacao[n,i] =  sw_n_mais_1\n",
        "          else:\n",
        "            #outros ponto\n",
        "            sw_ajustado =  (matriz_resultado_saturacao[n-1,i-1] + matriz_resultado_saturacao[n-1,i])/2\n",
        "            mobilidade_i_menos_meio = mobilidade(sw_ajustado,visc_agua,visc_oleo)\n",
        "            mobilidade_i = mobilidade(matriz_resultado_saturacao[n-1,i],visc_agua,visc_oleo)\n",
        "            sw_n_mais_1 = dt/dx * (mobilidade_i_menos_meio - mobilidade_i) + matriz_resultado_saturacao[n-1,i]\n",
        "            matriz_resultado_saturacao[n,i] =  sw_n_mais_1\n",
        "  \n",
        "  stop = timeit.default_timer()\n",
        "  print('Tempo de execução: {} segundos'.format(stop-start))\n",
        "\n",
        "  #plotar os resultados\n",
        "  matriz_resultado_saturacao = np.insert(matriz_resultado_saturacao, 0, values = 0.8, axis=1) #Adicionando o ponto referente a condição de contorno\n",
        "  vetor_comprimento = np.linspace(0, 1, nx+1)\n",
        "  fig = plt.figure(figsize=(8,5))\n",
        "  ax = plt.subplot(1,1,1)\n",
        "  ax.plot(vetor_comprimento, matriz_resultado_saturacao[0], label = \"0.006 PVI \")\n",
        "  ax.plot(vetor_comprimento, matriz_resultado_saturacao[6], label = \"0.042 PVI\")\n",
        "  ax.plot(vetor_comprimento, matriz_resultado_saturacao[20], label = \"0.126 PVI\")\n",
        "  ax.plot(vetor_comprimento, matriz_resultado_saturacao[35], label = \"0.216 PVI\")\n",
        "  ax.plot(vetor_comprimento, matriz_resultado_saturacao[71], label = \"0.432 PVI\")\n",
        "\n",
        "  ax.set_xlabel(\"x/L\", fontsize=15)\n",
        "  ax.set_ylabel(\"Saturação da água\", fontsize=15)\n",
        "  plt.title(\"Curva de Saturação\", fontsize=20)\n",
        "  ax.legend()\n",
        "  plt.show()\n",
        "\n",
        "  return"
      ],
      "execution_count": null,
      "outputs": []
    },
    {
      "cell_type": "code",
      "metadata": {
        "id": "2hJtBE79Y523"
      },
      "source": [
        "#explicit_saturation()"
      ],
      "execution_count": null,
      "outputs": []
    },
    {
      "cell_type": "markdown",
      "metadata": {
        "id": "sjxOFhSBe4lQ"
      },
      "source": [
        "## Comparação com o Excel"
      ]
    },
    {
      "cell_type": "code",
      "metadata": {
        "colab": {
          "base_uri": "https://localhost:8080/"
        },
        "id": "fY8gbFvQisqX",
        "outputId": "95e90990-ebcc-4bde-b28c-a82027833336"
      },
      "source": [
        "#Discretização do domínio \n",
        "nx = 15                                                               #Número de pontos do grid\n",
        "dominio = np.arange(nx)                                                #vetor domínio\n",
        "print(\"Número de dimensões: {}\".format(dominio.ndim))                  #número de dimensões\n",
        "print(dominio)"
      ],
      "execution_count": null,
      "outputs": [
        {
          "output_type": "stream",
          "text": [
            "Número de dimensões: 1\n",
            "[ 0  1  2  3  4  5  6  7  8  9 10 11 12 13 14]\n"
          ],
          "name": "stdout"
        }
      ]
    },
    {
      "cell_type": "code",
      "metadata": {
        "colab": {
          "base_uri": "https://localhost:8080/"
        },
        "id": "GUq4fqo8i161",
        "outputId": "fa469bf7-62da-4452-a043-a33a1e38d29e"
      },
      "source": [
        "#Calculo de Delta X\n",
        "#tamanho do meio poroso\n",
        "tam_meio_poroso = 5000 #ft\n",
        "#tamanho do elemento do grid\n",
        "tam_grid = tam_meio_poroso/nx\n",
        "#Delta X - normalizado\n",
        "dx = tam_grid/tam_meio_poroso\n",
        "print(\"O tamanho dos elementos do grid em uma malha estruturada é {}, e o delta X é {} \".format(tam_grid, dx))"
      ],
      "execution_count": null,
      "outputs": [
        {
          "output_type": "stream",
          "text": [
            "O tamanho dos elementos do grid em uma malha estruturada é 333.3333333333333, e o delta X é 0.06666666666666667 \n"
          ],
          "name": "stdout"
        }
      ]
    },
    {
      "cell_type": "code",
      "metadata": {
        "colab": {
          "base_uri": "https://localhost:8080/"
        },
        "id": "y38RWinsjKo1",
        "outputId": "f7291969-8b04-494f-9669-df483d1380d2"
      },
      "source": [
        "#Calculo de Delta T\n",
        "#viscosidade da água \n",
        "visc_agua = 0.5963 #cp\n",
        "#viscosidade do óleo\n",
        "visc_oleo = 2 #cp\n",
        "#velocidade total na injeção \n",
        "ut = 1 #ft³/d - AVALIAR DEPOIS\n",
        "#porosidade\n",
        "porosidade_meio = 0.2\n",
        "#tempo de simulação \n",
        "nt = 365 #dias\n",
        "#passo de tempo\n",
        "passo_tempo = 10 #dias\n",
        "#Delta T - normalizado\n",
        "dt =  ut*passo_tempo/(tam_meio_poroso*porosidade_meio) #DÚVIDA: seria o passo de tempo ou o tempo total\n",
        "print(\"O delta T normalizado é {}\".format(dt))"
      ],
      "execution_count": null,
      "outputs": [
        {
          "output_type": "stream",
          "text": [
            "O delta T normalizado é 0.01\n"
          ],
          "name": "stdout"
        }
      ]
    },
    {
      "cell_type": "code",
      "metadata": {
        "colab": {
          "base_uri": "https://localhost:8080/"
        },
        "id": "We3N6fW6jbv3",
        "outputId": "8e118363-2390-4f85-d5c5-2e6c3b7381e8"
      },
      "source": [
        "#Número de Courant\n",
        "num_Courant = dt/dx # ANALISE DE SENSIBILIDADE DEPOIS\n",
        "print(f\"O número de courant é {num_Courant}\")"
      ],
      "execution_count": null,
      "outputs": [
        {
          "output_type": "stream",
          "text": [
            "O número de courant é 0.15\n"
          ],
          "name": "stdout"
        }
      ]
    },
    {
      "cell_type": "code",
      "metadata": {
        "colab": {
          "base_uri": "https://localhost:8080/"
        },
        "id": "cx1_fLqsjiDm",
        "outputId": "82fee70d-acfa-4682-fcf0-783b65e59086"
      },
      "source": [
        "#condição de contorno e inicial\n",
        "#Condição Inicial Sw(X,0)\n",
        "sw_CI = 0.2\n",
        "#Condição de Contorno Sw(0,T)\n",
        "sw_CC = 0.8\n",
        "#Matriz de saturação para alocação dos resultados\n",
        "tempos_de_injecao = int(nt/passo_tempo)   #quantidade representando os tempos de injeção que serão calculados\n",
        "matriz_resultado_saturacao = np.zeros((tempos_de_injecao,nx)) \n",
        "matriz_resultado_saturacao.shape"
      ],
      "execution_count": null,
      "outputs": [
        {
          "output_type": "execute_result",
          "data": {
            "text/plain": [
              "(36, 15)"
            ]
          },
          "metadata": {
            "tags": []
          },
          "execution_count": 139
        }
      ]
    },
    {
      "cell_type": "code",
      "metadata": {
        "id": "--SBr81xjqcV"
      },
      "source": [
        "#modificando a primeira linha da matriz para alocar os valores das condições iniciais\n",
        "matriz_resultado_saturacao[0,:] = sw_CI "
      ],
      "execution_count": null,
      "outputs": []
    },
    {
      "cell_type": "code",
      "metadata": {
        "colab": {
          "base_uri": "https://localhost:8080/"
        },
        "id": "_MrJTIzMjr6Y",
        "outputId": "0d1c9161-6a9a-4c93-9212-6f5e625f8fab"
      },
      "source": [
        "matriz_resultado_saturacao[0]"
      ],
      "execution_count": null,
      "outputs": [
        {
          "output_type": "execute_result",
          "data": {
            "text/plain": [
              "array([0.2, 0.2, 0.2, 0.2, 0.2, 0.2, 0.2, 0.2, 0.2, 0.2, 0.2, 0.2, 0.2,\n",
              "       0.2, 0.2])"
            ]
          },
          "metadata": {
            "tags": []
          },
          "execution_count": 141
        }
      ]
    },
    {
      "cell_type": "code",
      "metadata": {
        "id": "sXJY14Hnju57"
      },
      "source": [
        "#Características do sistema molhável a água\n",
        "#saturação inicial\n",
        "swi = 0.2\n",
        "#saturação de óleo residual\n",
        "sor = 0.2\n",
        "#permeabilidade relativa da água na saturação residual\n",
        "krw_sor = 0.3 \n",
        "#permeabilidade relativa do óleo na saturação residual\n",
        "kro_swi = 0.99 \n",
        "#porosidade\n",
        "porosidade = porosidade_meio\n",
        "#parâmetros de Corey\n",
        "no = 1.0\n",
        "nw = 2"
      ],
      "execution_count": null,
      "outputs": []
    },
    {
      "cell_type": "code",
      "metadata": {
        "colab": {
          "base_uri": "https://localhost:8080/"
        },
        "id": "Np_hOYP5kVpf",
        "outputId": "8df09520-5bb8-4ea3-9b1a-a50e7d29fb8f"
      },
      "source": [
        "tempos_de_injecao = np.arange(tempos_de_injecao) #utilizado como vetor de tempo para o calculo de saturação\n",
        "tempos_de_injecao"
      ],
      "execution_count": null,
      "outputs": [
        {
          "output_type": "execute_result",
          "data": {
            "text/plain": [
              "array([ 0,  1,  2,  3,  4,  5,  6,  7,  8,  9, 10, 11, 12, 13, 14, 15, 16,\n",
              "       17, 18, 19, 20, 21, 22, 23, 24, 25, 26, 27, 28, 29, 30, 31, 32, 33,\n",
              "       34, 35])"
            ]
          },
          "metadata": {
            "tags": []
          },
          "execution_count": 143
        }
      ]
    },
    {
      "cell_type": "code",
      "metadata": {
        "colab": {
          "base_uri": "https://localhost:8080/"
        },
        "id": "akwldP6xfNwc",
        "outputId": "70080f4e-c466-4b9b-9de4-1488de5d2a4a"
      },
      "source": [
        "#Calculo da saturação e preenchimento da matriz de resultado\n",
        "#calulo do tempo de execução:\n",
        "start = timeit.default_timer()\n",
        "for n in tempos_de_injecao:\n",
        "  #calculo da primeira linha\n",
        "  if n == 0:\n",
        "    for i in dominio:\n",
        "      if i == 0: \n",
        "        #primeiro ponto\n",
        "        mobilidade_i_menos_meio = mobilidade(sw_CC,visc_agua,visc_oleo)\n",
        "        mobilidade_i = mobilidade(sw_CC,visc_agua,visc_oleo)\n",
        "        sw_n_mais_1 = dt/dx*(mobilidade_i_menos_meio - mobilidade_i) + sw_CC\n",
        "        matriz_resultado_saturacao[n,i] =  sw_n_mais_1\n",
        "      else:\n",
        "        #outros ponto\n",
        "        sw_ajustado =  matriz_resultado_saturacao[n,i-1] \n",
        "        mobilidade_i_menos_meio = mobilidade(sw_ajustado,visc_agua,visc_oleo)\n",
        "        mobilidade_i = mobilidade(sw_CI,visc_agua,visc_oleo)\n",
        "        sw_n_mais_1 = dt/dx * (mobilidade_i_menos_meio - mobilidade_i) + sw_CI\n",
        "        matriz_resultado_saturacao[n,i] =  sw_n_mais_1\n",
        "  #Cálculo das demais linhas      \n",
        "  else:\n",
        "      for i in dominio:\n",
        "        if i == 0: \n",
        "          #primeiro ponto\n",
        "          mobilidade_i_menos_meio = mobilidade(sw_CC,visc_agua,visc_oleo)\n",
        "          mobilidade_i = mobilidade(sw_CC,visc_agua,visc_oleo)\n",
        "          sw_n_mais_1 = dt/dx*(mobilidade_i_menos_meio - mobilidade_i) + matriz_resultado_saturacao[n-1,i]\n",
        "          matriz_resultado_saturacao[n,i] =  sw_n_mais_1\n",
        "        else:\n",
        "          #outros ponto\n",
        "          sw_ajustado =  matriz_resultado_saturacao[n-1,i-1] \n",
        "          mobilidade_i_menos_meio = mobilidade(sw_ajustado,visc_agua,visc_oleo)\n",
        "          mobilidade_i = mobilidade(matriz_resultado_saturacao[n-1,i],visc_agua,visc_oleo)\n",
        "          sw_n_mais_1 = dt/dx * (mobilidade_i_menos_meio - mobilidade_i) + matriz_resultado_saturacao[n-1,i]\n",
        "          matriz_resultado_saturacao[n,i] =  sw_n_mais_1\n",
        "stop = timeit.default_timer()\n",
        "print('Tempo de execução: {} segundos'.format(stop-start))"
      ],
      "execution_count": null,
      "outputs": [
        {
          "output_type": "stream",
          "text": [
            "Tempo de execução: 0.046726996999495896 segundos\n"
          ],
          "name": "stdout"
        }
      ]
    },
    {
      "cell_type": "code",
      "metadata": {
        "colab": {
          "base_uri": "https://localhost:8080/",
          "height": 360
        },
        "id": "LKDGQziQhXcT",
        "outputId": "3183128d-1dc5-482a-f612-a3239b8352f1"
      },
      "source": [
        "#plotar os resultados\n",
        "matriz_resultado_saturacao = np.insert(matriz_resultado_saturacao, 0, values = 0.8, axis=1) #Adicionando o ponto referente a condição de contorno\n",
        "vetor_comprimento = np.linspace(0, 1, nx+1)\n",
        "fig = plt.figure(figsize=(8,5))\n",
        "ax = plt.subplot(1,1,1)\n",
        "ax.plot(vetor_comprimento, matriz_resultado_saturacao[0], label = \"0.006 PVI \")\n",
        "ax.plot(vetor_comprimento, matriz_resultado_saturacao[5], label = \"0.042 PVI\")\n",
        "ax.plot(vetor_comprimento, matriz_resultado_saturacao[20], label = \"0.126 PVI\")\n",
        "ax.plot(vetor_comprimento, matriz_resultado_saturacao[29], label = \"0.216 PVI\")\n",
        "#ax.plot(vetor_comprimento, matriz_resultado_saturacao[71], label = \"0.432 PVI\")\n",
        "\n",
        "ax.set_xlabel(\"x/L\", fontsize=15)\n",
        "ax.set_ylabel(\"Saturação da água\", fontsize=15)\n",
        "plt.title(\"Curva de Saturação\", fontsize=20)\n",
        "ax.legend()\n",
        "plt.show()"
      ],
      "execution_count": null,
      "outputs": [
        {
          "output_type": "display_data",
          "data": {
            "image/png": "[encoded data removed]",
            "text/plain": [
              "<Figure size 576x360 with 1 Axes>"
            ]
          },
          "metadata": {
            "tags": [],
            "needs_background": "light"
          }
        }
      ]
    },
    {
      "cell_type": "code",
      "metadata": {
        "colab": {
          "base_uri": "https://localhost:8080/"
        },
        "id": "XdiUHUKqhZn0",
        "outputId": "b5f6be75-eecf-49c7-ba30-2c8e96ec8062"
      },
      "source": [
        "matriz_resultado_saturacao[1]"
      ],
      "execution_count": null,
      "outputs": [
        {
          "output_type": "execute_result",
          "data": {
            "text/plain": [
              "array([0.8       , 0.8       , 0.48828742, 0.22336594, 0.20011846,\n",
              "       0.2       , 0.2       , 0.2       , 0.2       , 0.2       ,\n",
              "       0.2       , 0.2       , 0.2       , 0.2       , 0.2       ,\n",
              "       0.2       ])"
            ]
          },
          "metadata": {
            "tags": []
          },
          "execution_count": 146
        }
      ]
    },
    {
      "cell_type": "code",
      "metadata": {
        "id": "0ZQvYWXyhjiD"
      },
      "source": [
        "def explicit_saturation_excel():\n",
        "\n",
        "  #Discretização do domínio \n",
        "  \n",
        "  nx = int(input(\"Digite o número de pontos do grid: \"))                 #Número de pontos do grid\n",
        "  dominio = np.arange(nx)                                                #vetor domínio\n",
        "  print(\"Número de dimensões: {}\".format(dominio.ndim))                  #número de dimensões\n",
        "  print(dominio)\n",
        "\n",
        "  #Calculo de Delta X\n",
        "\n",
        "  #tamanho do meio poroso\n",
        "  tam_meio_poroso = int(input(\"Digite o tamanho do reservatório em ft:\"))\n",
        "  #tamanho do elemento do grid\n",
        "  tam_grid = tam_meio_poroso/nx\n",
        "  #Delta X - normalizado\n",
        "  dx = tam_grid/tam_meio_poroso\n",
        "  print(\"\") \n",
        "  print(\"O tamanho dos elementos do grid em uma malha estruturada é {}, e o delta X é {} \".format(tam_grid, dx))\n",
        "  print(\"\") \n",
        "\n",
        "  #Calculo de Delta T\n",
        "\n",
        "  #viscosidade da água \n",
        "  visc_agua = float(input(\"Digite o valor da viscosidade da água em cp:\"))\n",
        "  #viscosidade do óleo\n",
        "  visc_oleo = float(input(\"Digite o valor da viscosidade do óleo em cp:\"))\n",
        "  #velocidade total na injeção \n",
        "  ut = float(input(\"Digite o valor da velocidade total de injeção em ft³/d:\"))\n",
        "  #porosidade\n",
        "  porosidade_meio = float(input(\"Entre com a porosidade do meio:\"))\n",
        "  #tempo de simulação \n",
        "  nt = int(input(\"Entre com os dias de injeção que será simulado:\"))\n",
        "  #passo de tempo\n",
        "  passo_tempo = 10 #dias\n",
        "  #Delta T - normalizado\n",
        "  dt =  ut*passo_tempo/(tam_meio_poroso*porosidade_meio) #DÚVIDA: seria o passo de tempo ou o tempo total\n",
        "  print(\"\") \n",
        "  print(\"O delta T normalizado é {}\".format(dt))\n",
        "\n",
        "  #Número de Courant\n",
        "\n",
        "  num_Courant = dt/dx\n",
        "  print(\"\") \n",
        "  print(f\"O número de courant é {num_Courant}\")\n",
        "  print(\"\")\n",
        "\n",
        "  #condição de contorno e inicial\n",
        "\n",
        "  #Condição Inicial Sw(X,0)\n",
        "  sw_CI = float(input(\"Entre com a condição de inicial (Sw):\"))\n",
        "  #Condição de Contorno Sw(0,T)\n",
        "  sw_CC = float(input(\"Entre com a condição de contorno (Sw):\"))\n",
        "  #Matriz de saturação para alocação dos resultados\n",
        "  tempos_de_injecao = int(nt/passo_tempo)   #quantidade representando os tempos de injeção que serão calculados\n",
        "  matriz_resultado_saturacao = np.zeros((tempos_de_injecao,nx)) \n",
        "  print(\"\")\n",
        "  print(f'A matriz saturação tem a seguinte forma {matriz_resultado_saturacao.shape}')\n",
        "  print(\"\")\n",
        "\n",
        "  #modificando a primeira linha da matriz para alocar os valores das condições iniciais\n",
        "  matriz_resultado_saturacao[0,:] = sw_CI \n",
        "\n",
        "  #Características do sistema \n",
        "\n",
        "  #saturação inicial\n",
        "  swi = float(input(\"Entre com a saturação de água inicial (Swi):\"))\n",
        "  #saturação de óleo residual\n",
        "  sor = float(input(\"Entre com a saturação de óleo residual (Sor):\"))\n",
        "  #permeabilidade relativa da água na saturação residual\n",
        "  krw_sor = float(input(\"Entre com a permeabilidade relativa da água no ponto terminal krw(Sor):\"))\n",
        "  #permeabilidade relativa do óleo na saturação residual\n",
        "  kro_swi = float(input(\"Entre com a permeabilidade relativa do óleo no ponto terminal kro(Swi):\"))\n",
        "  #porosidade\n",
        "  porosidade = porosidade_meio\n",
        "  #parâmetros de Corey\n",
        "  no = float(input(\"Insira o parâmetro de Corey (no):\"))\n",
        "  nw = float(input(\"Insira o parâmetro de Corey (nw):\"))\n",
        "\n",
        "  tempos_de_injecao = np.arange(tempos_de_injecao) #utilizado como vetor de tempo para o calculo de saturação\n",
        "  print(\"\")\n",
        "  print(f'Vetor com as iterações temporais: {tempos_de_injecao}')\n",
        "  print(\"\")\n",
        "\n",
        "  #Calculo da saturação e preenchimento da matriz de resultado\n",
        "\n",
        "  #calulo do tempo de execução:\n",
        "  start = timeit.default_timer()\n",
        "\n",
        "  for n in tempos_de_injecao:\n",
        "    #calculo da primeira linha\n",
        "    if n == 0:\n",
        "      for i in dominio:\n",
        "        if i == 0: \n",
        "          #primeiro ponto\n",
        "          mobilidade_i_menos_meio = mobilidade(sw_CC,visc_agua,visc_oleo)\n",
        "          mobilidade_i = mobilidade(sw_CC,visc_agua,visc_oleo)\n",
        "          sw_n_mais_1 = dt/dx*(mobilidade_i_menos_meio - mobilidade_i) + sw_CC\n",
        "          matriz_resultado_saturacao[n,i] =  sw_n_mais_1\n",
        "        else:\n",
        "          #outros ponto\n",
        "          sw_ajustado =  matriz_resultado_saturacao[n,i-1] \n",
        "          mobilidade_i_menos_meio = mobilidade(sw_ajustado,visc_agua,visc_oleo)\n",
        "          mobilidade_i = mobilidade(sw_CI,visc_agua,visc_oleo)\n",
        "          sw_n_mais_1 = dt/dx * (mobilidade_i_menos_meio - mobilidade_i) + sw_CI\n",
        "          matriz_resultado_saturacao[n,i] =  sw_n_mais_1\n",
        "    #Cálculo das demais linhas      \n",
        "    else:\n",
        "        for i in dominio:\n",
        "          if i == 0: \n",
        "            #primeiro ponto\n",
        "            mobilidade_i_menos_meio = mobilidade(sw_CC,visc_agua,visc_oleo)\n",
        "            mobilidade_i = mobilidade(sw_CC,visc_agua,visc_oleo)\n",
        "            sw_n_mais_1 = dt/dx*(mobilidade_i_menos_meio - mobilidade_i) + matriz_resultado_saturacao[n-1,i]\n",
        "            matriz_resultado_saturacao[n,i] =  sw_n_mais_1\n",
        "          else:\n",
        "            #outros ponto\n",
        "            sw_ajustado =  matriz_resultado_saturacao[n-1,i-1] \n",
        "            mobilidade_i_menos_meio = mobilidade(sw_ajustado,visc_agua,visc_oleo)\n",
        "            mobilidade_i = mobilidade(matriz_resultado_saturacao[n-1,i],visc_agua,visc_oleo)\n",
        "            sw_n_mais_1 = dt/dx * (mobilidade_i_menos_meio - mobilidade_i) + matriz_resultado_saturacao[n-1,i]\n",
        "            matriz_resultado_saturacao[n,i] =  sw_n_mais_1\n",
        "  \n",
        "  stop = timeit.default_timer()\n",
        "  print(\"\")\n",
        "  print('Tempo de execução: {} segundos'.format(stop-start))\n",
        "  print(\"\")\n",
        "\n",
        "  #plotar os resultados\n",
        "  vetor_comprimento = np.linspace(0, 1, nx)\n",
        "  fig = plt.figure(figsize=(8,5))\n",
        "  ax = plt.subplot(1,1,1)\n",
        "  ax.plot(vetor_comprimento, matriz_resultado_saturacao[0], label = \"0.006 PVI \")\n",
        "  ax.plot(vetor_comprimento, matriz_resultado_saturacao[5], label = \"0.042 PVI\")\n",
        "  ax.plot(vetor_comprimento, matriz_resultado_saturacao[20], label = \"0.126 PVI\")\n",
        "  ax.plot(vetor_comprimento, matriz_resultado_saturacao[29], label = \"0.216 PVI\")\n",
        "  #ax.plot(vetor_comprimento, matriz_resultado_saturacao[71], label = \"0.432 PVI\")\n",
        "\n",
        "  ax.set_xlabel(\"x/L\", fontsize=15)\n",
        "  ax.set_ylabel(\"Saturação da água\", fontsize=15)\n",
        "  plt.title(\"Curva de Saturação\", fontsize=20)\n",
        "  ax.legend()\n",
        "  plt.show()\n",
        "\n",
        "  return"
      ],
      "execution_count": null,
      "outputs": []
    },
    {
      "cell_type": "markdown",
      "metadata": {
        "id": "JaDSPoN7AMyK"
      },
      "source": [
        "## Programa Corrigido - single point upstream"
      ]
    },
    {
      "cell_type": "code",
      "metadata": {
        "colab": {
          "base_uri": "https://localhost:8080/"
        },
        "id": "FivIV-iTBCmN",
        "outputId": "177195e7-c6a8-487e-dade-c8b6482cfb9c"
      },
      "source": [
        "#Calculo da saturação explicitamente utilizando o método single point upstream (ϕ=0)\n",
        "#calulo do tempo de execução:\n",
        "start = timeit.default_timer()\n",
        "for n in tempos_de_injecao:\n",
        "  #calculo da primeira linha\n",
        "  if n == 0:\n",
        "    for i in dominio:\n",
        "      if i == 0: \n",
        "        #primeiro ponto\n",
        "        mobilidade_i_menos_meio = mobilidade(sw_CC,visc_agua,visc_oleo)\n",
        "        mobilidade_i = mobilidade(sw_CI,visc_agua,visc_oleo)\n",
        "        sw_n_mais_1 = dt/dx*(mobilidade_i_menos_meio - mobilidade_i) + sw_CI\n",
        "        matriz_resultado_saturacao[n,i] =  sw_n_mais_1\n",
        "      else:\n",
        "        #outros ponto\n",
        "        sw_ajustado =  sw_CI\n",
        "        mobilidade_i_menos_meio = mobilidade(sw_ajustado,visc_agua,visc_oleo)\n",
        "        mobilidade_i = mobilidade(sw_CI,visc_agua,visc_oleo)\n",
        "        sw_n_mais_1 = dt/dx * (mobilidade_i_menos_meio - mobilidade_i) + sw_CI\n",
        "        matriz_resultado_saturacao[n,i] =  sw_n_mais_1\n",
        "  #Cálculo das demais linhas      \n",
        "  else:\n",
        "      for i in dominio:\n",
        "        if i == 0: \n",
        "          #primeiro ponto\n",
        "          mobilidade_i_menos_meio = mobilidade(sw_CC,visc_agua,visc_oleo)\n",
        "          mobilidade_i = mobilidade(matriz_resultado_saturacao[n-1,i],visc_agua,visc_oleo)\n",
        "          sw_n_mais_1 = dt/dx*(mobilidade_i_menos_meio - mobilidade_i) + matriz_resultado_saturacao[n-1,i]\n",
        "          matriz_resultado_saturacao[n,i] =  sw_n_mais_1\n",
        "        else:\n",
        "          #outros ponto\n",
        "          sw_ajustado =  matriz_resultado_saturacao[n-1,i-1] \n",
        "          mobilidade_i_menos_meio = mobilidade(sw_ajustado,visc_agua,visc_oleo)\n",
        "          mobilidade_i = mobilidade(matriz_resultado_saturacao[n-1,i],visc_agua,visc_oleo)\n",
        "          sw_n_mais_1 = dt/dx * (mobilidade_i_menos_meio - mobilidade_i) + matriz_resultado_saturacao[n-1,i]\n",
        "          matriz_resultado_saturacao[n,i] =  sw_n_mais_1\n",
        "matriz_resultado_saturacao_single_point = matriz_resultado_saturacao\n",
        "stop = timeit.default_timer()\n",
        "print('Tempo de execução: {} segundos'.format(stop-start))"
      ],
      "execution_count": null,
      "outputs": [
        {
          "output_type": "stream",
          "text": [
            "/usr/local/lib/python3.7/dist-packages/ipykernel_launcher.py:26: RuntimeWarning: invalid value encountered in double_scalars\n"
          ],
          "name": "stderr"
        },
        {
          "output_type": "stream",
          "text": [
            "Tempo de execução: 2.2489273969999886 segundos\n"
          ],
          "name": "stdout"
        }
      ]
    },
    {
      "cell_type": "code",
      "metadata": {
        "colab": {
          "base_uri": "https://localhost:8080/",
          "height": 360
        },
        "id": "622kZOIPBNeV",
        "outputId": "f9f75c3f-039e-4a71-d530-4d04a9022ef5"
      },
      "source": [
        "#plotar os resultados\n",
        "matriz_resultado_saturacao_single_point = np.insert(matriz_resultado_saturacao_single_point, 0, values = 0.8, axis=1) #Adicionando o ponto referente a condição de contorno\n",
        "vetor_comprimento = np.linspace(0, 1, nx+1)\n",
        "fig = plt.figure(figsize=(8,5))\n",
        "ax = plt.subplot(1,1,1)\n",
        "\n",
        "#PVI utilizados nos labels\n",
        "td_label_1= ut*360/(tam_meio_poroso*porosidade_meio)\n",
        "td_label_2= ut*730/(tam_meio_poroso*porosidade_meio)\n",
        "td_label_3= ut*1090/(tam_meio_poroso*porosidade_meio)\n",
        "td_label_4= ut*1820/(tam_meio_poroso*porosidade_meio)\n",
        "\n",
        "ax.plot(vetor_comprimento, matriz_resultado_saturacao_single_point[35], label = \"t=360 dias-{} PVI\".format(td_label_1))\n",
        "ax.plot(vetor_comprimento, matriz_resultado_saturacao_single_point[72], label = \"t=730 dias-{} PVI\".format(td_label_2))\n",
        "ax.plot(vetor_comprimento, matriz_resultado_saturacao_single_point[108], label = \"t=1090 dias-{} PVI\".format(td_label_3))\n",
        "#ax.plot(vetor_comprimento, matriz_resultado_saturacao_single_point[181], label = \"t=1820 dias-{} PVI\".format(td_label_4))\n",
        "\n",
        "\n",
        "ax.set_xlabel(\"x/L\", fontsize=15)\n",
        "ax.set_ylabel(\"Saturação da água\", fontsize=15)\n",
        "plt.title(\"Curva de Saturação - ut = {} ft³/d\".format(ut), fontsize=20)\n",
        "ax.legend(loc=\"upper right\")\n",
        "plt.show()"
      ],
      "execution_count": null,
      "outputs": [
        {
          "output_type": "display_data",
          "data": {
            "image/png": "[encoded data removed]",
            "text/plain": [
              "<Figure size 576x360 with 1 Axes>"
            ]
          },
          "metadata": {
            "tags": [],
            "needs_background": "light"
          }
        }
      ]
    },
    {
      "cell_type": "markdown",
      "metadata": {
        "id": "iuoyP_8zsrmY"
      },
      "source": [
        "## Programa Corrigido - two point upstream"
      ]
    },
    {
      "cell_type": "code",
      "metadata": {
        "id": "rfK_Sxhvy9fA"
      },
      "source": [
        "#função para o cálculo de ajuste de fluxo\n",
        "\n",
        "def funcao_limitador(sw_i,sw_i_mais_um,sw_i_menos_um):\n",
        "  numerador = mobilidade(sw_i,visc_agua,visc_oleo) - mobilidade(sw_i_menos_um,visc_agua,visc_oleo)\n",
        "  denominador = mobilidade(sw_i_mais_um,visc_agua,visc_oleo)-mobilidade(sw_i,visc_agua,visc_oleo)\n",
        "  if denominador == 0:\n",
        "    r = 0\n",
        "  else:\n",
        "    r = numerador/denominador\n",
        "  return r\n",
        "\n",
        "def ajuste_fluxo(limitador_van_leer, sw_um, sw_dois):\n",
        "  func_ajuste_fluxo = limitador_van_leer/2*(mobilidade(sw_um,visc_agua,visc_oleo) - mobilidade(sw_dois,visc_agua,visc_oleo))*(1-num_Courant)\n",
        "\n",
        "  return func_ajuste_fluxo"
      ],
      "execution_count": null,
      "outputs": []
    },
    {
      "cell_type": "code",
      "metadata": {
        "colab": {
          "base_uri": "https://localhost:8080/"
        },
        "id": "Hrtux9Nkytha",
        "outputId": "12f69e2b-dbf2-4106-c7d4-58cb61409086"
      },
      "source": [
        "#Cálculo da saturação explicitamente utilizando o método two point upstream (ϕ=r)\n",
        "\n",
        "#calulo do tempo de execução:\n",
        "start = timeit.default_timer()\n",
        "\n",
        "for n in tempos_de_injecao:\n",
        "\n",
        "  #cálculo da primeira linha\n",
        "  \n",
        "  if n == 0:\n",
        "\n",
        "    for i in dominio:\n",
        "      if i == 0: \n",
        "\n",
        "        #primeiro ponto\n",
        "        mobilidade_i_menos_meio = mobilidade(sw_CC,visc_agua,visc_oleo)\n",
        "\n",
        "        #cálculo do limitador de Van Leer para o primeiro ponto\n",
        "        limitador_van_leer = funcao_limitador(sw_CI,sw_CI,sw_CC)\n",
        "        \n",
        "        #cálculo do fluxo ajustado \n",
        "        mobilidade_i_mais_meio = mobilidade(sw_CI,visc_agua,visc_oleo) + ajuste_fluxo(limitador_van_leer,sw_CI,sw_CI) \n",
        "\n",
        "        #auxiliar que grava o valor do fluxo de i+1/2\n",
        "        #que para próximo ponto, o fluxo i-1/2 terá o mesmo valor do auxiliar\n",
        "        aux = mobilidade_i_mais_meio \n",
        "        \n",
        "        #cálculo da saturação no novo passo de tempo (n+1)\n",
        "        sw_n_mais_1 = dt/dx*(mobilidade_i_menos_meio - mobilidade_i_mais_meio) + sw_CI\n",
        "        \n",
        "        #salvando os valores na matriz resultado\n",
        "        matriz_resultado_saturacao[n,i] =  sw_n_mais_1\n",
        "\n",
        "      else:\n",
        "        #outros pontos\n",
        "\n",
        "        sw_ajustado =  sw_CI\n",
        "\n",
        "        #cálculo do limitador de Van Leer para os demais pontos\n",
        "        limitador_van_leer = funcao_limitador(sw_CI,sw_CI,sw_CI) \n",
        "        \n",
        "        #Fi-1/2 = Fi-1 + limitador/2*(Fi-Fi-1)\n",
        "        #mobilidade_i_menos_meio = mobilidade(sw_ajustado,visc_agua,visc_oleo) + ajuste_fluxo(limitador_van_leer,sw_CI,sw_CI) \n",
        "        mobilidade_i_menos_meio = aux\n",
        "\n",
        "        #Fi+1/2 = Fi + limitador/2*(Fi+1-Fi)\n",
        "        mobilidade_i_mais_meio = mobilidade(sw_CI,visc_agua,visc_oleo) + ajuste_fluxo(limitador_van_leer,sw_CI,sw_CI)\n",
        "        \n",
        "        #cálculo da saturação no novo passo de tempo (n+1)\n",
        "        sw_n_mais_1 = dt/dx * (mobilidade_i_menos_meio - mobilidade_i_mais_meio) + sw_CI\n",
        "        \n",
        "        #salvando os valores na matriz resultado\n",
        "        matriz_resultado_saturacao[n,i] =  sw_n_mais_1\n",
        "\n",
        "        #auxiliar para guardar o valor do fluxo na face do volume de controle\n",
        "        aux = mobilidade_i_mais_meio\n",
        "\n",
        "  #Cálculo das demais linhas      \n",
        "  else:\n",
        "\n",
        "      for i in dominio:\n",
        "        \n",
        "        if i == 0: \n",
        "          \n",
        "          #primeiro ponto\n",
        "          mobilidade_i_menos_meio = mobilidade(sw_CC,visc_agua,visc_oleo)\n",
        "\n",
        "          #cálculo do limitador\n",
        "          limitador_van_leer = funcao_limitador(matriz_resultado_saturacao[n-1,i],matriz_resultado_saturacao[n-1,i+1],matriz_resultado_saturacao[n-1,i-1])\n",
        "          \n",
        "          #Fi+1/2 = Fi + limitador/2*(Fi+1-Fi)\n",
        "          mobilidade_i_mais_meio = mobilidade(matriz_resultado_saturacao[n-1,i],visc_agua,visc_oleo) + ajuste_fluxo(limitador_van_leer,matriz_resultado_saturacao[n-1,i+1],matriz_resultado_saturacao[n-1,i])\n",
        "          \n",
        "          #cálculo da saturação no novo passo de tempo (n+1)\n",
        "          sw_n_mais_1 = dt/dx*(mobilidade_i_menos_meio - mobilidade_i_mais_meio) + matriz_resultado_saturacao[n-1,i]\n",
        "\n",
        "          #configurando a saturação para atingir valores entre 1-sor e swi\n",
        "\n",
        "          #sw_n_mais_1 = np.array([1-sor if sw_n_mais_1 >= (1-sor) else sw_n_mais_1])\n",
        "          \n",
        "          #sw_n_mais_1 = np.array([swi if sw_n_mais_1 <= swi else sw_n_mais_1])\n",
        "          \n",
        "          #salvando os valores na matriz resultado\n",
        "          matriz_resultado_saturacao[n,i] =  sw_n_mais_1\n",
        "\n",
        "          #auxiliar para guardar o valor do fluxo na face do volume de controle\n",
        "          aux = mobilidade_i_mais_meio\n",
        "        \n",
        "        else:\n",
        "          \n",
        "          #outros pontos\n",
        "\n",
        "          #sw_ajustado =  matriz_resultado_saturacao[n-1,i-1]\n",
        "          \n",
        "          #cálculo do limitador\n",
        "          if i == nx-1:\n",
        "            limitador_van_leer = funcao_limitador(matriz_resultado_saturacao[n-1,i],sw_CI,matriz_resultado_saturacao[n-1,i-1])\n",
        "          else:\n",
        "            limitador_van_leer = funcao_limitador(matriz_resultado_saturacao[n-1,i],matriz_resultado_saturacao[n-1,i+1],matriz_resultado_saturacao[n-1,i-1]) \n",
        "          \n",
        "          #Fi-1/2 = Fi-1 + limitador/2*(Fi-Fi-1)\n",
        "          #mobilidade_i_menos_meio = mobilidade(sw_ajustado,visc_agua,visc_oleo) + ajuste_fluxo(limitador_van_leer,matriz_resultado_saturacao[n-1,i],matriz_resultado_saturacao[n-1,i-1])\n",
        "          mobilidade_i_menos_meio = aux\n",
        "\n",
        "          #Fi+1/2 = Fi + limitador/2*(Fi+1-Fi)\n",
        "          #mobilidade_i_mais_meio = mobilidade(matriz_resultado_saturacao[n-1,i],visc_agua,visc_oleo) + ajuste_fluxo(limitador_van_leer,matriz_resultado_saturacao[n-1,i+1],matriz_resultado_saturacao[n-1,i])\n",
        "          #condição para quando chegar na fronteira de saída do domínio\n",
        "          if i == nx-1:\n",
        "            mobilidade_i_mais_meio = mobilidade(matriz_resultado_saturacao[n-1,i],visc_agua,visc_oleo) + ajuste_fluxo(limitador_van_leer,sw_CI,matriz_resultado_saturacao[n-1,i])\n",
        "          else:\n",
        "            mobilidade_i_mais_meio = mobilidade(matriz_resultado_saturacao[n-1,i],visc_agua,visc_oleo) + ajuste_fluxo(limitador_van_leer,matriz_resultado_saturacao[n-1,i+1],matriz_resultado_saturacao[n-1,i])\n",
        "          \n",
        "          #cálculo da saturação no novo passo de tempo (n+1)\n",
        "          sw_n_mais_1 = dt/dx * (mobilidade_i_menos_meio - mobilidade_i_mais_meio) + matriz_resultado_saturacao[n-1,i]\n",
        "\n",
        "          #configurando a saturação para atingir valores entre 1-sor e swi\n",
        "\n",
        "          #sw_n_mais_1 = np.array([1-sor if sw_n_mais_1 >= (1-sor) else sw_n_mais_1])\n",
        "          \n",
        "          #sw_n_mais_1 = np.array([swi if sw_n_mais_1 <= swi else sw_n_mais_1])\n",
        "\n",
        "          #salvando os valores na matriz resultado\n",
        "          matriz_resultado_saturacao[n,i] =  sw_n_mais_1\n",
        "\n",
        "          #auxiliar para guardar o valor do fluxo na face do volume de controle\n",
        "          aux = mobilidade_i_mais_meio\n",
        "\n",
        "#salvando a matriz com nome específico para poder realizar análises comparativas\n",
        "matriz_resultado_saturacao_two_point = matriz_resultado_saturacao\n",
        "\n",
        "#tempo de execução finalizado\n",
        "stop = timeit.default_timer()\n",
        "\n",
        "print('Tempo de execução: {} segundos'.format(stop-start))"
      ],
      "execution_count": null,
      "outputs": [
        {
          "output_type": "stream",
          "text": [
            "Tempo de execução: 7.286044177000804 segundos\n"
          ],
          "name": "stdout"
        }
      ]
    },
    {
      "cell_type": "code",
      "metadata": {
        "colab": {
          "base_uri": "https://localhost:8080/",
          "height": 360
        },
        "id": "b8zf2bjfUv-s",
        "outputId": "9551d885-ae22-4139-b655-a4849eeae70b"
      },
      "source": [
        "#plotar os resultados \n",
        "matriz_resultado_saturacao_two_point = np.insert(matriz_resultado_saturacao_two_point, 0, values = sw_CC, axis=1) #Adicionando o ponto referente a condição de contorno\n",
        "vetor_comprimento = np.linspace(0, 1, nx+1)\n",
        "fig = plt.figure(figsize=(8,5))\n",
        "ax = plt.subplot(1,1,1)\n",
        "ax.plot(vetor_comprimento, matriz_resultado_saturacao_two_point[49], label = \"0.05 PVI \") \n",
        "ax.plot(vetor_comprimento, matriz_resultado_saturacao_two_point[99], label = \"0.1 PVI\")\n",
        "ax.plot(vetor_comprimento, matriz_resultado_saturacao_two_point[299], label = \"0.3 PVI\")\n",
        "ax.plot(vetor_comprimento, matriz_resultado_saturacao_two_point[399], label = \"0.4 PVI\")\n",
        "\n",
        "\n",
        "ax.set_xlabel(\"x/L\", fontsize=15)\n",
        "ax.set_ylabel(\"Saturação da água\", fontsize=15)\n",
        "plt.title(\"Curva de Saturação\", fontsize=20)\n",
        "ax.legend()\n",
        "plt.show()"
      ],
      "execution_count": null,
      "outputs": [
        {
          "output_type": "display_data",
          "data": {
            "image/png": "[encoded data removed]",
            "text/plain": [
              "<Figure size 576x360 with 1 Axes>"
            ]
          },
          "metadata": {
            "tags": [],
            "needs_background": "light"
          }
        }
      ]
    },
    {
      "cell_type": "code",
      "metadata": {
        "colab": {
          "base_uri": "https://localhost:8080/"
        },
        "id": "fysd_fNk6TSJ",
        "outputId": "d65ab7d8-111d-4f40-cc2d-dc0a7b1abed3"
      },
      "source": [
        "matriz_resultado_saturacao_two_point[49]\n"
      ],
      "execution_count": null,
      "outputs": [
        {
          "output_type": "execute_result",
          "data": {
            "text/plain": [
              "array([0.8       , 0.64383083, 0.73187304, 0.77073238, 0.7867837 ,\n",
              "       0.78887415, 0.78181459, 0.76899614, 0.74857255, 0.7015937 ,\n",
              "       0.39646483, 0.0839467 , 0.19734258, 0.19918186, 0.19999295,\n",
              "       0.19999999, 0.2       , 0.2       , 0.2       , 0.2       ,\n",
              "       0.2       , 0.2       , 0.2       , 0.2       , 0.2       ,\n",
              "       0.2       , 0.2       , 0.2       , 0.2       , 0.2       ,\n",
              "       0.2       , 0.2       , 0.2       , 0.2       , 0.2       ,\n",
              "       0.2       , 0.2       , 0.2       , 0.2       , 0.2       ,\n",
              "       0.2       , 0.2       , 0.2       , 0.2       , 0.2       ,\n",
              "       0.2       , 0.2       , 0.2       , 0.2       , 0.2       ,\n",
              "       0.2       , 0.2       , 0.2       , 0.2       , 0.2       ,\n",
              "       0.2       , 0.2       , 0.2       , 0.2       , 0.2       ,\n",
              "       0.2       , 0.2       , 0.2       , 0.2       , 0.2       ,\n",
              "       0.2       , 0.2       , 0.2       , 0.2       , 0.2       ,\n",
              "       0.2       , 0.2       , 0.2       , 0.2       , 0.2       ,\n",
              "       0.2       , 0.2       , 0.2       , 0.2       , 0.2       ,\n",
              "       0.2       , 0.2       , 0.2       , 0.2       , 0.2       ,\n",
              "       0.2       , 0.2       , 0.2       , 0.2       , 0.2       ,\n",
              "       0.2       , 0.2       , 0.2       , 0.2       , 0.2       ,\n",
              "       0.2       , 0.2       , 0.2       , 0.2       , 0.2       ,\n",
              "       0.2       ])"
            ]
          },
          "metadata": {
            "tags": []
          },
          "execution_count": 16
        }
      ]
    },
    {
      "cell_type": "markdown",
      "metadata": {
        "id": "hdZO7IgsxsAP"
      },
      "source": [
        "## Programa Corrigido - midpoint e downstream"
      ]
    },
    {
      "cell_type": "code",
      "metadata": {
        "id": "KQl7oXWbXtY5"
      },
      "source": [
        "#função para o cálculo de ajuste de fluxo\n",
        "\n",
        "def ajuste_fluxo(limitador_van_leer, sw_um, sw_dois):\n",
        "  func_ajuste_fluxo = limitador_van_leer/2*(mobilidade(sw_um,visc_agua,visc_oleo) - mobilidade(sw_dois,visc_agua,visc_oleo))*(1-num_Courant)\n",
        "\n",
        "  return func_ajuste_fluxo"
      ],
      "execution_count": null,
      "outputs": []
    },
    {
      "cell_type": "code",
      "metadata": {
        "colab": {
          "base_uri": "https://localhost:8080/"
        },
        "id": "6pxEl6njyuDJ",
        "outputId": "3b12f10b-e93f-4ac1-d3c3-ba45eaf439eb"
      },
      "source": [
        "#Cálculo da saturação explicitamente utilizando o método midpoint (ϕ=1) e downstream (ϕ=2)\n",
        "\n",
        "#calulo do tempo de execução:\n",
        "start = timeit.default_timer()\n",
        "\n",
        "#limitador de Van Leer \n",
        "limitador_van_leer = 1\n",
        "\n",
        "for n in tempos_de_injecao:\n",
        "\n",
        "  #calculo da primeira linha\n",
        "  \n",
        "  if n == 0:\n",
        "\n",
        "    for i in dominio:\n",
        "      if i == 0: \n",
        "\n",
        "        #primeiro ponto\n",
        "        \n",
        "        mobilidade_i_menos_meio = mobilidade(sw_CC,visc_agua,visc_oleo)\n",
        "        \n",
        "        #cálculo do fluxo ajustado \n",
        "        mobilidade_i_mais_meio = mobilidade(sw_CI,visc_agua,visc_oleo) + ajuste_fluxo(limitador_van_leer,sw_CI,sw_CI) \n",
        "        \n",
        "        #auxiliar que grava o valor do fluxo de i+1/2\n",
        "        #que para próximo ponto, o fluxo i-1/2 terá o mesmo valor do auxiliar\n",
        "        aux = mobilidade_i_mais_meio \n",
        "        \n",
        "        #cálculo da saturação no novo passo de tempo (n+1)\n",
        "        sw_n_mais_1 = dt/dx*(mobilidade_i_menos_meio - mobilidade_i_mais_meio) + sw_CI\n",
        "\n",
        "        #salvando os valores na matriz resultado\n",
        "        matriz_resultado_saturacao[n,i] =  sw_n_mais_1\n",
        "\n",
        "      else:\n",
        "        \n",
        "        #outros ponto\n",
        "        \n",
        "        sw_ajustado =  sw_CI\n",
        "        \n",
        "        #Fi-1/2 = Fi-1 + limitador/2*(Fi-Fi-1)\n",
        "        \n",
        "        mobilidade_i_menos_meio = aux\n",
        "        \n",
        "        #Fi+1/2 = Fi + limitador/2*(Fi+1-Fi)\n",
        "        mobilidade_i_mais_meio = mobilidade(sw_CI,visc_agua,visc_oleo) + ajuste_fluxo(limitador_van_leer,sw_CI,sw_CI)\n",
        "\n",
        "        #cálculo da saturação no novo passo de tempo (n+1)\n",
        "        sw_n_mais_1 = dt/dx * (mobilidade_i_menos_meio - mobilidade_i_mais_meio) + sw_CI\n",
        "\n",
        "        #salvando os valores na matriz resultado\n",
        "        matriz_resultado_saturacao[n,i] =  sw_n_mais_1\n",
        "\n",
        "        #auxiliar para guardar o valor do fluxo na face do volume de controle\n",
        "        aux = mobilidade_i_mais_meio\n",
        "\n",
        "  #Cálculo das demais linhas      \n",
        "  else:\n",
        "\n",
        "      for i in dominio:\n",
        "        \n",
        "        if i == 0: \n",
        "          \n",
        "          #primeiro ponto\n",
        "          \n",
        "          mobilidade_i_menos_meio = mobilidade(sw_CC,visc_agua,visc_oleo)\n",
        "          \n",
        "          #Fi+1/2 = Fi + limitador/2*(Fi+1-Fi)\n",
        "          mobilidade_i_mais_meio = mobilidade(matriz_resultado_saturacao[n-1,i],visc_agua,visc_oleo) + ajuste_fluxo(limitador_van_leer,matriz_resultado_saturacao[n-1,i+1],matriz_resultado_saturacao[n-1,i])\n",
        "          \n",
        "          #cálculo da saturação no novo passo de tempo (n+1)\n",
        "          sw_n_mais_1 = dt/dx*(mobilidade_i_menos_meio - mobilidade_i_mais_meio) + matriz_resultado_saturacao[n-1,i]\n",
        "          \n",
        "          #configurando a saturação para atingir valores até 1-sor\n",
        "          sw_n_mais_1 = np.array([1-sor if sw_n_mais_1 >= (1-sor) else sw_n_mais_1])\n",
        "\n",
        "          #salvando os valores na matriz resultado\n",
        "          matriz_resultado_saturacao[n,i] =  sw_n_mais_1\n",
        "          \n",
        "          #auxiliar para guardar o valor do fluxo na face do volume de controle\n",
        "          aux = mobilidade_i_mais_meio\n",
        "\n",
        "        else:\n",
        "\n",
        "          #outros ponto\n",
        "          \n",
        "          #sw_ajustado =  matriz_resultado_saturacao[n-1,i-1]\n",
        "          \n",
        "          #Fi-1/2 = Fi-1 + limitador/2*(Fi-Fi-1)\n",
        "          mobilidade_i_menos_meio = aux\n",
        "\n",
        "          #Fi+1/2 = Fi + limitador/2*(Fi+1-Fi)\n",
        "          #condição para quando chegar na fronteira de saída do domínio\n",
        "          if i == nx-1:\n",
        "            mobilidade_i_mais_meio = mobilidade(matriz_resultado_saturacao[n-1,i],visc_agua,visc_oleo) + ajuste_fluxo(limitador_van_leer,matriz_resultado_saturacao[n-1,i],matriz_resultado_saturacao[n-1,i])\n",
        "          else:\n",
        "            mobilidade_i_mais_meio = mobilidade(matriz_resultado_saturacao[n-1,i],visc_agua,visc_oleo) + ajuste_fluxo(limitador_van_leer,matriz_resultado_saturacao[n-1,i+1],matriz_resultado_saturacao[n-1,i])\n",
        "          \n",
        "          #cálculo da saturação\n",
        "          sw_n_mais_1 = dt/dx * (mobilidade_i_menos_meio - mobilidade_i_mais_meio) + matriz_resultado_saturacao[n-1,i]\n",
        "          \n",
        "          #configurando a saturação para atingir valores até 1-sor\n",
        "          sw_n_mais_1 = np.array([1-sor if sw_n_mais_1 >= (1-sor) else sw_n_mais_1])\n",
        "\n",
        "          #salvando os valores na matriz resultado\n",
        "          matriz_resultado_saturacao[n,i] =  sw_n_mais_1\n",
        "\n",
        "          #auxiliar para guardar o valor do fluxo na face do volume de controle\n",
        "          aux = mobilidade_i_mais_meio\n",
        "\n",
        "#salvando a matriz com nome específico para poder realizar análises comparativas\n",
        "matriz_resultado_saturacao_mid_down = matriz_resultado_saturacao\n",
        "\n",
        "#tempo de execução finalizado\n",
        "stop = timeit.default_timer()\n",
        "\n",
        "print('Tempo de execução: {} segundos'.format(stop-start))"
      ],
      "execution_count": null,
      "outputs": [
        {
          "output_type": "stream",
          "text": [
            "/usr/local/lib/python3.7/dist-packages/ipykernel_launcher.py:26: RuntimeWarning: invalid value encountered in double_scalars\n"
          ],
          "name": "stderr"
        },
        {
          "output_type": "stream",
          "text": [
            "Tempo de execução: 3.3607929769987095 segundos\n"
          ],
          "name": "stdout"
        }
      ]
    },
    {
      "cell_type": "code",
      "metadata": {
        "id": "JfIh7q7EaqwX",
        "colab": {
          "base_uri": "https://localhost:8080/",
          "height": 360
        },
        "outputId": "3a976963-583e-4227-e023-e65cfedae7d7"
      },
      "source": [
        "#plotar os resultados \n",
        "matriz_resultado_saturacao_mid_down = np.insert(matriz_resultado_saturacao_mid_down, 0, values = sw_CC, axis=1) #Adicionando o ponto referente a condição de contorno\n",
        "vetor_comprimento = np.linspace(0, 1, nx+1)\n",
        "fig = plt.figure(figsize=(8,5))\n",
        "ax = plt.subplot(1,1,1)\n",
        "ax.plot(vetor_comprimento, matriz_resultado_saturacao_mid_down[49], label = \"0.05 PVI \") \n",
        "ax.plot(vetor_comprimento, matriz_resultado_saturacao_mid_down[99], label = \"0.1 PVI\")\n",
        "ax.plot(vetor_comprimento, matriz_resultado_saturacao_mid_down[299], label = \"0.3 PVI\")\n",
        "ax.plot(vetor_comprimento, matriz_resultado_saturacao_mid_down[399], label = \"0.4 PVI\")\n",
        "\n",
        "\n",
        "ax.set_xlabel(\"x/L\", fontsize=15)\n",
        "ax.set_ylabel(\"Saturação da água\", fontsize=15)\n",
        "plt.title(\"Curva de Saturação\", fontsize=20)\n",
        "ax.legend()\n",
        "plt.show()"
      ],
      "execution_count": null,
      "outputs": [
        {
          "output_type": "display_data",
          "data": {
            "image/png": "[encoded data removed]",
            "text/plain": [
              "<Figure size 576x360 with 1 Axes>"
            ]
          },
          "metadata": {
            "tags": [],
            "needs_background": "light"
          }
        }
      ]
    },
    {
      "cell_type": "code",
      "metadata": {
        "colab": {
          "base_uri": "https://localhost:8080/"
        },
        "id": "Ag8rWAAIjC2l",
        "outputId": "d22c8657-8ca4-4e92-8f5a-0d7bedf7c797"
      },
      "source": [
        "matriz_resultado_saturacao_mid_down[399]"
      ],
      "execution_count": null,
      "outputs": [
        {
          "output_type": "execute_result",
          "data": {
            "text/plain": [
              "array([0.8       , 0.8       , 0.8       , 0.8       , 0.8       ,\n",
              "       0.8       , 0.8       , 0.8       , 0.8       , 0.8       ,\n",
              "       0.8       , 0.8       , 0.8       , 0.8       , 0.8       ,\n",
              "       0.8       , 0.8       , 0.8       , 0.8       , 0.8       ,\n",
              "       0.8       , 0.8       , 0.8       , 0.8       , 0.8       ,\n",
              "       0.8       , 0.8       , 0.8       , 0.8       , 0.8       ,\n",
              "       0.8       , 0.8       , 0.8       , 0.8       , 0.8       ,\n",
              "       0.8       , 0.8       , 0.8       , 0.8       , 0.8       ,\n",
              "       0.8       , 0.8       , 0.8       , 0.8       , 0.8       ,\n",
              "       0.8       , 0.8       , 0.8       , 0.8       , 0.8       ,\n",
              "       0.8       , 0.8       , 0.8       , 0.8       , 0.8       ,\n",
              "       0.50306858, 0.22339234, 0.20002241, 0.2       , 0.2       ,\n",
              "       0.2       , 0.2       , 0.2       , 0.2       , 0.2       ,\n",
              "       0.2       , 0.2       , 0.2       , 0.2       , 0.2       ,\n",
              "       0.2       , 0.2       , 0.2       , 0.2       , 0.2       ,\n",
              "       0.2       , 0.2       , 0.2       , 0.2       , 0.2       ,\n",
              "       0.2       , 0.2       , 0.2       , 0.2       , 0.2       ,\n",
              "       0.2       , 0.2       , 0.2       , 0.2       , 0.2       ,\n",
              "       0.2       , 0.2       , 0.2       , 0.2       , 0.2       ,\n",
              "       0.2       , 0.2       , 0.2       , 0.2       , 0.2       ,\n",
              "       0.2       ])"
            ]
          },
          "metadata": {
            "tags": []
          },
          "execution_count": 51
        }
      ]
    },
    {
      "cell_type": "code",
      "metadata": {
        "colab": {
          "base_uri": "https://localhost:8080/"
        },
        "id": "XOrwqAsFjrQ5",
        "outputId": "790f84a9-e5de-41b1-80bb-44db95b641ca"
      },
      "source": [
        "matriz_resultado_saturacao_single_point[399]"
      ],
      "execution_count": null,
      "outputs": [
        {
          "output_type": "execute_result",
          "data": {
            "text/plain": [
              "array([0.8       , 0.79999293, 0.79998036, 0.79996056, 0.79993217,\n",
              "       0.79989383, 0.79984416, 0.7997818 , 0.79970541, 0.79961363,\n",
              "       0.79950517, 0.79937872, 0.79923302, 0.79906684, 0.79887901,\n",
              "       0.79866838, 0.79843385, 0.7981744 , 0.79788905, 0.79757686,\n",
              "       0.79723697, 0.79686859, 0.79647099, 0.79604347, 0.79558544,\n",
              "       0.79509634, 0.79457568, 0.79402302, 0.79343797, 0.79282021,\n",
              "       0.79216943, 0.79148539, 0.79076786, 0.79001665, 0.78923158,\n",
              "       0.78841249, 0.78755921, 0.78667155, 0.78574933, 0.78479231,\n",
              "       0.78380021, 0.78277268, 0.78170927, 0.78060943, 0.77947247,\n",
              "       0.7782975 , 0.77708343, 0.77582886, 0.77453205, 0.77319082,\n",
              "       0.7718024 , 0.77036331, 0.7688691 , 0.76731409, 0.76569093,\n",
              "       0.76399002, 0.76219864, 0.7602997 , 0.75826978, 0.75607603,\n",
              "       0.75367119, 0.75098497, 0.74790862, 0.74426549, 0.73975022,\n",
              "       0.73379042, 0.72518908, 0.71102096, 0.68224051, 0.59950581,\n",
              "       0.35084762, 0.20412932, 0.20000044, 0.2       , 0.2       ,\n",
              "       0.2       , 0.2       , 0.2       , 0.2       , 0.2       ,\n",
              "       0.2       , 0.2       , 0.2       , 0.2       , 0.2       ,\n",
              "       0.2       , 0.2       , 0.2       , 0.2       , 0.2       ,\n",
              "       0.2       , 0.2       , 0.2       , 0.2       , 0.2       ,\n",
              "       0.2       , 0.2       , 0.2       , 0.2       , 0.2       ,\n",
              "       0.2       ])"
            ]
          },
          "metadata": {
            "tags": []
          },
          "execution_count": 52
        }
      ]
    },
    {
      "cell_type": "markdown",
      "metadata": {
        "id": "GPNldi5m1AsA"
      },
      "source": [
        "## Validação"
      ]
    },
    {
      "cell_type": "markdown",
      "metadata": {
        "id": "-JYGYHNRD1S8"
      },
      "source": [
        "### Artigo I - Mathematical modeling of oil recovery"
      ]
    },
    {
      "cell_type": "code",
      "metadata": {
        "id": "oG_SMX0kEa-X"
      },
      "source": [
        "#dados do artigo\n",
        "#ut = 1\n",
        "#porosidade = 1\n",
        "sw_CI = 0.2\n",
        "sw_CC = 0.85\n",
        "#L=10000 m\n",
        "#t=2000 dias\n"
      ],
      "execution_count": null,
      "outputs": []
    },
    {
      "cell_type": "code",
      "metadata": {
        "id": "UmrCtNQfQiIZ",
        "colab": {
          "base_uri": "https://localhost:8080/"
        },
        "outputId": "43d44458-34ec-4427-8bd7-3c1c69dc479b"
      },
      "source": [
        "sor = 1-sw_CC\n",
        "swi = sw_CI\n",
        "krw_sor = ((1-sor-0.2)/0.8)**3.5\n",
        "kro_swi = ((0.85-swi)/0.85)**2.8*(1+2.4*swi)\n",
        "print(krw_sor, kro_swi)"
      ],
      "execution_count": null,
      "outputs": [
        {
          "output_type": "stream",
          "text": [
            "0.48348365186733283 0.6983065601690129\n"
          ],
          "name": "stdout"
        }
      ]
    },
    {
      "cell_type": "code",
      "metadata": {
        "id": "6uZvmHKf0uL7"
      },
      "source": [
        "#função para o cálculo do modelo utilizado no artigo\n",
        "\n",
        "def perm_validacao(sw,swi,sor,kro_swi,krw_sor):\n",
        "  kro = []\n",
        "  krw = []\n",
        "\n",
        "  if isinstance(sw, Iterable):\n",
        "    #cálculo da permeabilidade relativa do óleo \n",
        "    for i in sw:\n",
        "        kr = ((0.85-i)/0.85)**2.8*(1+2.4*i)\n",
        "        kro.append(kr)\n",
        "    kro = np.array([kro_swi if i >= 1 else i for i in kro]) #substituindo o valor 1 por kro_swi\n",
        "    kro[-1] = 0.0 # solução temporária para o erro \n",
        "\n",
        "    #cálculo da permeabilidade relativa da água\n",
        "    for i in sw:\n",
        "        kr = ((i-0.2)/0.8)**3.5\n",
        "        if kr > krw_sor:\n",
        "          kr = krw_sor\n",
        "        krw.append(kr)\n",
        "    krw = np.array(krw)\n",
        "\n",
        "\n",
        "  else:\n",
        "    #cálculo da permeabilidade relativa do óleo\n",
        "    if (0.85 <= sw <= 1):\n",
        "      kr = 0\n",
        "    else: \n",
        "      kr = ((0.85-sw)/0.85)**2.8*(1+2.4*sw)\n",
        "    kro.append(kr)\n",
        "    kro = np.array(kro) \n",
        "    #cálculo da permeabilidade relativa da água \n",
        "    if (0 <= sw <= 0.2):\n",
        "      kr = 0\n",
        "    else:\n",
        "      kr = ((sw-0.2)/0.8)**3.5\n",
        "    krw.append(kr)\n",
        "    krw = np.array(krw)\n",
        "  \n",
        "  return kro, krw\n",
        "\n",
        "#função que calcula a mobilidade em diferentes pontos de saturação\n",
        "def mobilidade(sw,visc_agua,visc_oleo):\n",
        "\n",
        "  numerador_da_funcao = perm_validacao(sw,swi,sor,kro_swi,krw_sor)[1]/visc_agua\n",
        "  denominador_da_funcao = (perm_validacao(sw,swi,sor,kro_swi,krw_sor)[1]/visc_agua) + (perm_validacao(sw,swi,sor,kro_swi,krw_sor)[0]/visc_oleo)\n",
        "  resultado_mobilidade =  numerador_da_funcao/denominador_da_funcao\n",
        "\n",
        "  return resultado_mobilidade"
      ],
      "execution_count": null,
      "outputs": []
    },
    {
      "cell_type": "code",
      "metadata": {
        "colab": {
          "base_uri": "https://localhost:8080/"
        },
        "id": "86E4qPK5CLaM",
        "outputId": "aac8e547-9918-4555-e735-266ad6710400"
      },
      "source": [
        "#Discretização do domínio \n",
        "nx = 100                                                              #Número de pontos do grid\n",
        "dominio = np.arange(nx)                                                #vetor domínio\n",
        "print(\"Número de dimensões: {}\".format(dominio.ndim))                  #número de dimensões\n",
        "print(dominio)"
      ],
      "execution_count": null,
      "outputs": [
        {
          "output_type": "stream",
          "text": [
            "Número de dimensões: 1\n",
            "[ 0  1  2  3  4  5  6  7  8  9 10 11 12 13 14 15 16 17 18 19 20 21 22 23\n",
            " 24 25 26 27 28 29 30 31 32 33 34 35 36 37 38 39 40 41 42 43 44 45 46 47\n",
            " 48 49 50 51 52 53 54 55 56 57 58 59 60 61 62 63 64 65 66 67 68 69 70 71\n",
            " 72 73 74 75 76 77 78 79 80 81 82 83 84 85 86 87 88 89 90 91 92 93 94 95\n",
            " 96 97 98 99]\n"
          ],
          "name": "stdout"
        }
      ]
    },
    {
      "cell_type": "code",
      "metadata": {
        "colab": {
          "base_uri": "https://localhost:8080/"
        },
        "id": "Nyf1RkonC_O0",
        "outputId": "98a6f6b5-1656-4626-f942-6c829bd5a233"
      },
      "source": [
        "#Calculo de Delta X\n",
        "#tamanho do meio poroso\n",
        "tam_meio_poroso = 10000 #m\n",
        "#tamanho do elemento do grid\n",
        "tam_grid = tam_meio_poroso/nx\n",
        "#Delta X - normalizado\n",
        "dx = tam_grid/tam_meio_poroso\n",
        "print(\"O tamanho dos elementos do grid em uma malha estruturada é {}, e o delta X é {} \".format(tam_grid, dx))"
      ],
      "execution_count": null,
      "outputs": [
        {
          "output_type": "stream",
          "text": [
            "O tamanho dos elementos do grid em uma malha estruturada é 100.0, e o delta X é 0.01 \n"
          ],
          "name": "stdout"
        }
      ]
    },
    {
      "cell_type": "code",
      "metadata": {
        "colab": {
          "base_uri": "https://localhost:8080/"
        },
        "id": "Jl4KhH5iDCxz",
        "outputId": "2b70e801-b422-49be-9546-66fceaaef041"
      },
      "source": [
        "#Calculo de Delta T\n",
        "#viscosidade da água \n",
        "visc_agua = 0.5 #cp\n",
        "#viscosidade do óleo\n",
        "visc_oleo = 1 #cp\n",
        "#muo = visc_oleo/visc_agua = 2\n",
        "#velocidade total na injeção \n",
        "ut = 1 #m³/d \n",
        "#porosidade\n",
        "porosidade_meio = 1\n",
        "#tempo de simulação \n",
        "nt = 4000 #dias\n",
        "#passo de tempo\n",
        "passo_tempo = 10 #dias\n",
        "#Delta T - normalizado\n",
        "dt =  ut*passo_tempo/(tam_meio_poroso*porosidade_meio) \n",
        "print(\"O delta T normalizado é {}\".format(dt))"
      ],
      "execution_count": null,
      "outputs": [
        {
          "output_type": "stream",
          "text": [
            "O delta T normalizado é 0.001\n"
          ],
          "name": "stdout"
        }
      ]
    },
    {
      "cell_type": "code",
      "metadata": {
        "colab": {
          "base_uri": "https://localhost:8080/"
        },
        "id": "kyMGCvVWE8Nd",
        "outputId": "54f7208c-b036-42e1-9b48-ba6497566add"
      },
      "source": [
        "#Número de Courant\n",
        "num_Courant = dt/dx \n",
        "print(f\"O número de courant é {num_Courant}\")"
      ],
      "execution_count": null,
      "outputs": [
        {
          "output_type": "stream",
          "text": [
            "O número de courant é 0.1\n"
          ],
          "name": "stdout"
        }
      ]
    },
    {
      "cell_type": "code",
      "metadata": {
        "colab": {
          "base_uri": "https://localhost:8080/"
        },
        "id": "yGFTQHaFHRiD",
        "outputId": "a5da2c9e-c735-4b66-97fd-b8deb7a5ce14"
      },
      "source": [
        "#Matriz de saturação para alocação dos resultados\n",
        "tempos_de_injecao = int(nt/passo_tempo)   #quantidade representando os tempos de injeção que serão calculados\n",
        "matriz_resultado_saturacao = np.zeros((tempos_de_injecao,nx)) \n",
        "matriz_resultado_saturacao.shape"
      ],
      "execution_count": null,
      "outputs": [
        {
          "output_type": "execute_result",
          "data": {
            "text/plain": [
              "(400, 100)"
            ]
          },
          "metadata": {
            "tags": []
          },
          "execution_count": 161
        }
      ]
    },
    {
      "cell_type": "code",
      "metadata": {
        "id": "dXZlDjT7JcO5"
      },
      "source": [
        "#modificando a primeira linha da matriz para alocar os valores das condições iniciais\n",
        "matriz_resultado_saturacao[0,:] = sw_CI "
      ],
      "execution_count": null,
      "outputs": []
    },
    {
      "cell_type": "code",
      "metadata": {
        "colab": {
          "base_uri": "https://localhost:8080/"
        },
        "id": "P0NAvMp8JRWj",
        "outputId": "e20136b4-80ad-40bd-b1ca-915b3d544330"
      },
      "source": [
        "matriz_resultado_saturacao[0]"
      ],
      "execution_count": null,
      "outputs": [
        {
          "output_type": "execute_result",
          "data": {
            "text/plain": [
              "array([0.2, 0.2, 0.2, 0.2, 0.2, 0.2, 0.2, 0.2, 0.2, 0.2, 0.2, 0.2, 0.2,\n",
              "       0.2, 0.2, 0.2, 0.2, 0.2, 0.2, 0.2, 0.2, 0.2, 0.2, 0.2, 0.2, 0.2,\n",
              "       0.2, 0.2, 0.2, 0.2, 0.2, 0.2, 0.2, 0.2, 0.2, 0.2, 0.2, 0.2, 0.2,\n",
              "       0.2, 0.2, 0.2, 0.2, 0.2, 0.2, 0.2, 0.2, 0.2, 0.2, 0.2, 0.2, 0.2,\n",
              "       0.2, 0.2, 0.2, 0.2, 0.2, 0.2, 0.2, 0.2, 0.2, 0.2, 0.2, 0.2, 0.2,\n",
              "       0.2, 0.2, 0.2, 0.2, 0.2, 0.2, 0.2, 0.2, 0.2, 0.2, 0.2, 0.2, 0.2,\n",
              "       0.2, 0.2, 0.2, 0.2, 0.2, 0.2, 0.2, 0.2, 0.2, 0.2, 0.2, 0.2, 0.2,\n",
              "       0.2, 0.2, 0.2, 0.2, 0.2, 0.2, 0.2, 0.2, 0.2])"
            ]
          },
          "metadata": {
            "tags": []
          },
          "execution_count": 163
        }
      ]
    },
    {
      "cell_type": "code",
      "metadata": {
        "colab": {
          "base_uri": "https://localhost:8080/"
        },
        "id": "Y0oqwX7yJX86",
        "outputId": "44c1d189-f4a6-4fa5-ec90-80f730b69a11"
      },
      "source": [
        "tempos_de_injecao = np.arange(tempos_de_injecao) #utilizado como vetor de tempo para o calculo de saturação\n",
        "tempos_de_injecao"
      ],
      "execution_count": null,
      "outputs": [
        {
          "output_type": "execute_result",
          "data": {
            "text/plain": [
              "array([  0,   1,   2,   3,   4,   5,   6,   7,   8,   9,  10,  11,  12,\n",
              "        13,  14,  15,  16,  17,  18,  19,  20,  21,  22,  23,  24,  25,\n",
              "        26,  27,  28,  29,  30,  31,  32,  33,  34,  35,  36,  37,  38,\n",
              "        39,  40,  41,  42,  43,  44,  45,  46,  47,  48,  49,  50,  51,\n",
              "        52,  53,  54,  55,  56,  57,  58,  59,  60,  61,  62,  63,  64,\n",
              "        65,  66,  67,  68,  69,  70,  71,  72,  73,  74,  75,  76,  77,\n",
              "        78,  79,  80,  81,  82,  83,  84,  85,  86,  87,  88,  89,  90,\n",
              "        91,  92,  93,  94,  95,  96,  97,  98,  99, 100, 101, 102, 103,\n",
              "       104, 105, 106, 107, 108, 109, 110, 111, 112, 113, 114, 115, 116,\n",
              "       117, 118, 119, 120, 121, 122, 123, 124, 125, 126, 127, 128, 129,\n",
              "       130, 131, 132, 133, 134, 135, 136, 137, 138, 139, 140, 141, 142,\n",
              "       143, 144, 145, 146, 147, 148, 149, 150, 151, 152, 153, 154, 155,\n",
              "       156, 157, 158, 159, 160, 161, 162, 163, 164, 165, 166, 167, 168,\n",
              "       169, 170, 171, 172, 173, 174, 175, 176, 177, 178, 179, 180, 181,\n",
              "       182, 183, 184, 185, 186, 187, 188, 189, 190, 191, 192, 193, 194,\n",
              "       195, 196, 197, 198, 199, 200, 201, 202, 203, 204, 205, 206, 207,\n",
              "       208, 209, 210, 211, 212, 213, 214, 215, 216, 217, 218, 219, 220,\n",
              "       221, 222, 223, 224, 225, 226, 227, 228, 229, 230, 231, 232, 233,\n",
              "       234, 235, 236, 237, 238, 239, 240, 241, 242, 243, 244, 245, 246,\n",
              "       247, 248, 249, 250, 251, 252, 253, 254, 255, 256, 257, 258, 259,\n",
              "       260, 261, 262, 263, 264, 265, 266, 267, 268, 269, 270, 271, 272,\n",
              "       273, 274, 275, 276, 277, 278, 279, 280, 281, 282, 283, 284, 285,\n",
              "       286, 287, 288, 289, 290, 291, 292, 293, 294, 295, 296, 297, 298,\n",
              "       299, 300, 301, 302, 303, 304, 305, 306, 307, 308, 309, 310, 311,\n",
              "       312, 313, 314, 315, 316, 317, 318, 319, 320, 321, 322, 323, 324,\n",
              "       325, 326, 327, 328, 329, 330, 331, 332, 333, 334, 335, 336, 337,\n",
              "       338, 339, 340, 341, 342, 343, 344, 345, 346, 347, 348, 349, 350,\n",
              "       351, 352, 353, 354, 355, 356, 357, 358, 359, 360, 361, 362, 363,\n",
              "       364, 365, 366, 367, 368, 369, 370, 371, 372, 373, 374, 375, 376,\n",
              "       377, 378, 379, 380, 381, 382, 383, 384, 385, 386, 387, 388, 389,\n",
              "       390, 391, 392, 393, 394, 395, 396, 397, 398, 399])"
            ]
          },
          "metadata": {
            "tags": []
          },
          "execution_count": 164
        }
      ]
    },
    {
      "cell_type": "code",
      "metadata": {
        "colab": {
          "base_uri": "https://localhost:8080/"
        },
        "id": "PfY_0NOgJhnS",
        "outputId": "cc89612f-2518-4b91-8b4c-658cf23013a8"
      },
      "source": [
        "#Calculo da saturação explicitamente utilizando o método single point upstream (ϕ=0)\n",
        "#calulo do tempo de execução:\n",
        "start = timeit.default_timer()\n",
        "for n in tempos_de_injecao:\n",
        "  #calculo da primeira linha\n",
        "  if n == 0:\n",
        "    for i in dominio:\n",
        "      if i == 0: \n",
        "        #primeiro ponto\n",
        "        mobilidade_i_menos_meio = mobilidade(sw_CC,visc_agua,visc_oleo)\n",
        "        mobilidade_i = mobilidade(sw_CI,visc_agua,visc_oleo)\n",
        "        sw_n_mais_1 = dt/dx*(mobilidade_i_menos_meio - mobilidade_i) + sw_CI\n",
        "        matriz_resultado_saturacao[n,i] =  sw_n_mais_1\n",
        "      else:\n",
        "        #outros ponto\n",
        "        sw_ajustado =  sw_CI\n",
        "        mobilidade_i_menos_meio = mobilidade(sw_ajustado,visc_agua,visc_oleo)\n",
        "        mobilidade_i = mobilidade(sw_CI,visc_agua,visc_oleo)\n",
        "        sw_n_mais_1 = dt/dx * (mobilidade_i_menos_meio - mobilidade_i) + sw_CI\n",
        "        matriz_resultado_saturacao[n,i] =  sw_n_mais_1\n",
        "  #Cálculo das demais linhas      \n",
        "  else:\n",
        "      for i in dominio:\n",
        "        if i == 0: \n",
        "          #primeiro ponto\n",
        "          mobilidade_i_menos_meio = mobilidade(sw_CC,visc_agua,visc_oleo)\n",
        "          mobilidade_i = mobilidade(matriz_resultado_saturacao[n-1,i],visc_agua,visc_oleo)\n",
        "          sw_n_mais_1 = dt/dx*(mobilidade_i_menos_meio - mobilidade_i) + matriz_resultado_saturacao[n-1,i]\n",
        "          matriz_resultado_saturacao[n,i] =  sw_n_mais_1\n",
        "        else:\n",
        "          #outros ponto\n",
        "          sw_ajustado =  matriz_resultado_saturacao[n-1,i-1] \n",
        "          mobilidade_i_menos_meio = mobilidade(sw_ajustado,visc_agua,visc_oleo)\n",
        "          mobilidade_i = mobilidade(matriz_resultado_saturacao[n-1,i],visc_agua,visc_oleo)\n",
        "          sw_n_mais_1 = dt/dx * (mobilidade_i_menos_meio - mobilidade_i) + matriz_resultado_saturacao[n-1,i]\n",
        "          matriz_resultado_saturacao[n,i] =  sw_n_mais_1\n",
        "matriz_resultado_saturacao_validacao_I = matriz_resultado_saturacao \n",
        "stop = timeit.default_timer()\n",
        "print('Tempo de execução: {} segundos'.format(stop-start))"
      ],
      "execution_count": null,
      "outputs": [
        {
          "output_type": "stream",
          "text": [
            "Tempo de execução: 2.388499705999493 segundos\n"
          ],
          "name": "stdout"
        }
      ]
    },
    {
      "cell_type": "code",
      "metadata": {
        "colab": {
          "base_uri": "https://localhost:8080/",
          "height": 360
        },
        "id": "1j03sJ_eJorJ",
        "outputId": "60abda1d-d6e6-4d84-9b3e-34df891f1d45"
      },
      "source": [
        "#plotar os resultados algoritmo I\n",
        "matriz_resultado_saturacao_validacao_I = np.insert(matriz_resultado_saturacao_validacao_I, 0, values = sw_CC, axis=1) #Adicionando o ponto referente a condição de contorno\n",
        "vetor_comprimento = np.linspace(0, 1, nx+1)\n",
        "fig = plt.figure(figsize=(8,5))\n",
        "ax = plt.subplot(1,1,1)\n",
        "ax.plot(vetor_comprimento, matriz_resultado_saturacao_validacao_I[49], label = \"0.05 PVI \") \n",
        "ax.plot(vetor_comprimento, matriz_resultado_saturacao_validacao_I[99], label = \"0.1 PVI\")\n",
        "ax.plot(vetor_comprimento, matriz_resultado_saturacao_validacao_I[299], label = \"0.3 PVI\")\n",
        "ax.plot(vetor_comprimento, matriz_resultado_saturacao_validacao_I[399], label = \"0.4 PVI\")\n",
        "#ax.plot(vetor_comprimento, matriz_resultado_saturacao[71], label = \"0.432 PVI\")\n",
        "\n",
        "ax.set_xlabel(\"x/L\", fontsize=15)\n",
        "ax.set_ylabel(\"Saturação da água\", fontsize=15)\n",
        "plt.title(\"Curva de Saturação\", fontsize=20)\n",
        "ax.legend()\n",
        "plt.show()"
      ],
      "execution_count": null,
      "outputs": [
        {
          "output_type": "display_data",
          "data": {
            "image/png": "[encoded data removed]",
            "text/plain": [
              "<Figure size 576x360 with 1 Axes>"
            ]
          },
          "metadata": {
            "tags": [],
            "needs_background": "light"
          }
        }
      ]
    },
    {
      "cell_type": "code",
      "metadata": {
        "colab": {
          "base_uri": "https://localhost:8080/"
        },
        "id": "XxNcyXa2KG6b",
        "outputId": "5ad6d7e9-f938-45d1-c324-b57e8ea32baa"
      },
      "source": [
        "pvi = ut*3000/(porosidade_meio*tam_meio_poroso)\n",
        "pvi"
      ],
      "execution_count": null,
      "outputs": [
        {
          "output_type": "execute_result",
          "data": {
            "text/plain": [
              "0.3"
            ]
          },
          "metadata": {
            "tags": []
          },
          "execution_count": 86
        }
      ]
    },
    {
      "cell_type": "code",
      "metadata": {
        "colab": {
          "base_uri": "https://localhost:8080/"
        },
        "id": "UW2jDb1nLaXG",
        "outputId": "888c156a-7c27-4503-de8a-567279cb005e"
      },
      "source": [
        "t = (0.4*porosidade_meio*tam_meio_poroso)/ut\n",
        "t"
      ],
      "execution_count": null,
      "outputs": [
        {
          "output_type": "execute_result",
          "data": {
            "text/plain": [
              "4000.0"
            ]
          },
          "metadata": {
            "tags": []
          },
          "execution_count": 160
        }
      ]
    },
    {
      "cell_type": "code",
      "metadata": {
        "colab": {
          "base_uri": "https://localhost:8080/"
        },
        "id": "-AL4Fj3TMJbP",
        "outputId": "c0034cbc-cb36-42cf-a165-05f40340af6b"
      },
      "source": [
        "#Calculo da saturação e preenchimento da matriz de resultado\n",
        "#calulo do tempo de execução:\n",
        "start = timeit.default_timer()\n",
        "for n in tempos_de_injecao:\n",
        "  #calculo da primeira linha\n",
        "  if n == 0:\n",
        "    for i in dominio:\n",
        "      if i == 0: \n",
        "        #primeiro ponto\n",
        "        mobilidade_i_menos_meio = mobilidade(sw_CC,visc_agua,visc_oleo)\n",
        "        mobilidade_i = mobilidade(sw_CI,visc_agua,visc_oleo)\n",
        "        sw_n_mais_1 = dt/dx*(mobilidade_i_menos_meio - mobilidade_i) + sw_CI\n",
        "        matriz_resultado_saturacao[n,i] =  sw_n_mais_1\n",
        "      else:\n",
        "        #outros pontos\n",
        "        sw_ajustado =  (matriz_resultado_saturacao[n,i-1] + matriz_resultado_saturacao[n,i])/2\n",
        "        mobilidade_i_menos_meio = mobilidade(sw_ajustado,visc_agua,visc_oleo)\n",
        "        mobilidade_i = mobilidade(sw_CI,visc_agua,visc_oleo)\n",
        "        sw_n_mais_1 = dt/dx * (mobilidade_i_menos_meio - mobilidade_i) + sw_CI\n",
        "        matriz_resultado_saturacao[n,i] =  sw_n_mais_1\n",
        "  #Cálculo das demais linhas      \n",
        "  else:\n",
        "      for i in dominio:\n",
        "        if i == 0: \n",
        "          #primeiro ponto\n",
        "          mobilidade_i_menos_meio = mobilidade(sw_CC,visc_agua,visc_oleo)\n",
        "          mobilidade_i = mobilidade(matriz_resultado_saturacao[n-1,i],visc_agua,visc_oleo)\n",
        "          sw_n_mais_1 = dt/dx*(mobilidade_i_menos_meio - mobilidade_i) + matriz_resultado_saturacao[n-1,i]\n",
        "          matriz_resultado_saturacao[n,i] =  sw_n_mais_1\n",
        "        else:\n",
        "          #outros ponto\n",
        "          sw_ajustado =  (matriz_resultado_saturacao[n-1,i-1] + matriz_resultado_saturacao[n-1,i])/2\n",
        "          mobilidade_i_menos_meio = mobilidade(sw_ajustado,visc_agua,visc_oleo)\n",
        "          mobilidade_i = mobilidade(matriz_resultado_saturacao[n-1,i],visc_agua,visc_oleo)\n",
        "          sw_n_mais_1 = dt/dx * (mobilidade_i_menos_meio - mobilidade_i) + matriz_resultado_saturacao[n-1,i]\n",
        "          matriz_resultado_saturacao[n,i] =  sw_n_mais_1\n",
        "matriz_resultado_saturacao_validacao_II = matriz_resultado_saturacao \n",
        "stop = timeit.default_timer()\n",
        "print('Tempo de execução: {} segundos'.format(stop-start))"
      ],
      "execution_count": null,
      "outputs": [
        {
          "output_type": "stream",
          "text": [
            "Tempo de execução: 2.416279430999566 segundos\n"
          ],
          "name": "stdout"
        }
      ]
    },
    {
      "cell_type": "code",
      "metadata": {
        "colab": {
          "base_uri": "https://localhost:8080/",
          "height": 360
        },
        "id": "1uCMlgyNXyLz",
        "outputId": "8554d629-707a-4ed9-ad92-e27499836943"
      },
      "source": [
        "#plotar os resultados algoritmo II\n",
        "matriz_resultado_saturacao_validacao_II = np.insert(matriz_resultado_saturacao_validacao_II, 0, values = sw_CC, axis=1) #Adicionando o ponto referente a condição de contorno\n",
        "vetor_comprimento = np.linspace(0, 1, nx+1)\n",
        "fig = plt.figure(figsize=(8,5))\n",
        "ax = plt.subplot(1,1,1)\n",
        "ax.plot(vetor_comprimento, matriz_resultado_saturacao_validacao_II[49], label = \"0.05 PVI \") \n",
        "ax.plot(vetor_comprimento, matriz_resultado_saturacao_validacao_II[99], label = \"0.1 PVI\")\n",
        "ax.plot(vetor_comprimento, matriz_resultado_saturacao_validacao_II[299], label = \"0.3 PVI\")\n",
        "ax.plot(vetor_comprimento, matriz_resultado_saturacao_validacao_II[399], label = \"0.4 PVI\")\n",
        "#ax.plot(vetor_comprimento, matriz_resultado_saturacao[71], label = \"0.432 PVI\")\n",
        "\n",
        "ax.set_xlabel(\"x/L\", fontsize=15)\n",
        "ax.set_ylabel(\"Saturação da água\", fontsize=15)\n",
        "plt.title(\"Curva de Saturação\", fontsize=20)\n",
        "ax.legend()\n",
        "plt.show()"
      ],
      "execution_count": null,
      "outputs": [
        {
          "output_type": "display_data",
          "data": {
            "image/png": "[encoded data removed]",
            "text/plain": [
              "<Figure size 576x360 with 1 Axes>"
            ]
          },
          "metadata": {
            "tags": [],
            "needs_background": "light"
          }
        }
      ]
    },
    {
      "cell_type": "markdown",
      "metadata": {
        "id": "HNfJBPcYbARh"
      },
      "source": [
        "Comparação entre os algoritmos"
      ]
    },
    {
      "cell_type": "code",
      "metadata": {
        "colab": {
          "base_uri": "https://localhost:8080/",
          "height": 360
        },
        "id": "q5H42q3iYJpN",
        "outputId": "ccbdcfd1-8111-4fc3-bde1-1a7f311e3e30"
      },
      "source": [
        "#plotar os resultados dos dois algoritmos \n",
        "vetor_comprimento = np.linspace(0, 1, nx+1)\n",
        "fig = plt.figure(figsize=(15,5))\n",
        "ax1 = plt.subplot(1,2,1)\n",
        "ax2 = plt.subplot(1,2,2)\n",
        "\n",
        "ax1.plot(vetor_comprimento, matriz_resultado_saturacao_validacao_I[49], label = \"0.05 PVI \") \n",
        "ax1.plot(vetor_comprimento, matriz_resultado_saturacao_validacao_I[99], label = \"0.1 PVI\")\n",
        "ax1.plot(vetor_comprimento, matriz_resultado_saturacao_validacao_I[299], label = \"0.3 PVI\")\n",
        "ax1.plot(vetor_comprimento, matriz_resultado_saturacao_validacao_I[399], label = \"0.4 PVI\")\n",
        "\n",
        "ax2.plot(vetor_comprimento, matriz_resultado_saturacao_validacao_II[49], label = \"0.05 PVI \") \n",
        "ax2.plot(vetor_comprimento, matriz_resultado_saturacao_validacao_II[99], label = \"0.1 PVI\")\n",
        "ax2.plot(vetor_comprimento, matriz_resultado_saturacao_validacao_II[299], label = \"0.3 PVI\")\n",
        "ax2.plot(vetor_comprimento, matriz_resultado_saturacao_validacao_II[399], label = \"0.4 PVI\")\n",
        "\n",
        "#configurações dos gráficos\n",
        "ax1.set_xlabel(\"x/L\", fontsize=15)\n",
        "ax1.set_ylabel(\"Saturação da água\", fontsize=15)\n",
        "ax1.set_title(\"Algoritmo I\", fontsize=20)\n",
        "ax1.legend()\n",
        "\n",
        "ax2.set_xlabel(\"x/L\", fontsize=15)\n",
        "ax2.set_ylabel(\"Saturação da água\", fontsize=15)\n",
        "ax2.set_title(\"Algoritmo II\", fontsize=20)\n",
        "ax2.legend()\n",
        "\n",
        "plt.show()"
      ],
      "execution_count": null,
      "outputs": [
        {
          "output_type": "display_data",
          "data": {
            "image/png": "[encoded data removed]",
            "text/plain": [
              "<Figure size 1080x360 with 2 Axes>"
            ]
          },
          "metadata": {
            "tags": [],
            "needs_background": "light"
          }
        }
      ]
    },
    {
      "cell_type": "code",
      "metadata": {
        "id": "798IYGRgID3V"
      },
      "source": [
        "matriz_resultado_saturacao_mid = matriz_resultado_saturacao_mid_down"
      ],
      "execution_count": null,
      "outputs": []
    },
    {
      "cell_type": "code",
      "metadata": {
        "id": "rcUtt-1IIr5k"
      },
      "source": [
        "matriz_resultado_saturacao_down = matriz_resultado_saturacao_mid_down"
      ],
      "execution_count": null,
      "outputs": []
    },
    {
      "cell_type": "code",
      "metadata": {
        "id": "iB9t5L4Hb7Vy",
        "colab": {
          "base_uri": "https://localhost:8080/",
          "height": 1000
        },
        "outputId": "7cec8986-c6f3-4ee1-c9ff-9ad0c523735b"
      },
      "source": [
        "#plotar os resultados dos dois algoritmos \n",
        "vetor_comprimento = np.linspace(0, 1, nx+1)\n",
        "fig = plt.figure(figsize=(15,20))\n",
        "ax1 = plt.subplot(3,2,1)\n",
        "ax2 = plt.subplot(3,2,2)\n",
        "ax3 = plt.subplot(3,2,3)\n",
        "ax4 = plt.subplot(3,2,4)\n",
        "ax5 = plt.subplot(3,2,5)\n",
        "\n",
        "ax1.plot(vetor_comprimento, matriz_resultado_saturacao_validacao_I[49], label = \"0.05 PVI \") \n",
        "ax1.plot(vetor_comprimento, matriz_resultado_saturacao_validacao_I[99], label = \"0.1 PVI\")\n",
        "ax1.plot(vetor_comprimento, matriz_resultado_saturacao_validacao_I[299], label = \"0.3 PVI\")\n",
        "ax1.plot(vetor_comprimento, matriz_resultado_saturacao_validacao_I[399], label = \"0.4 PVI\")\n",
        "\n",
        "ax2.plot(vetor_comprimento, matriz_resultado_saturacao_validacao_II[49], label = \"0.05 PVI \") \n",
        "ax2.plot(vetor_comprimento, matriz_resultado_saturacao_validacao_II[99], label = \"0.1 PVI\")\n",
        "ax2.plot(vetor_comprimento, matriz_resultado_saturacao_validacao_II[299], label = \"0.3 PVI\")\n",
        "ax2.plot(vetor_comprimento, matriz_resultado_saturacao_validacao_II[399], label = \"0.4 PVI\")\n",
        "\n",
        "ax3.plot(vetor_comprimento, matriz_resultado_saturacao_two_point[49], label = \"0.05 PVI \") \n",
        "ax3.plot(vetor_comprimento, matriz_resultado_saturacao_two_point[99], label = \"0.1 PVI\")\n",
        "ax3.plot(vetor_comprimento, matriz_resultado_saturacao_two_point[299], label = \"0.3 PVI\")\n",
        "ax3.plot(vetor_comprimento, matriz_resultado_saturacao_two_point[399], label = \"0.4 PVI\")\n",
        "\n",
        "ax4.plot(vetor_comprimento, matriz_resultado_saturacao_mid[49], label = \"0.05 PVI \") \n",
        "ax4.plot(vetor_comprimento, matriz_resultado_saturacao_mid[99], label = \"0.1 PVI\")\n",
        "ax4.plot(vetor_comprimento, matriz_resultado_saturacao_mid[299], label = \"0.3 PVI\")\n",
        "ax4.plot(vetor_comprimento, matriz_resultado_saturacao_mid[399], label = \"0.4 PVI\")\n",
        "\n",
        "ax5.plot(vetor_comprimento, matriz_resultado_saturacao_down[49], label = \"0.05 PVI \") \n",
        "ax5.plot(vetor_comprimento, matriz_resultado_saturacao_down[99], label = \"0.1 PVI\")\n",
        "ax5.plot(vetor_comprimento, matriz_resultado_saturacao_down[299], label = \"0.3 PVI\")\n",
        "ax5.plot(vetor_comprimento, matriz_resultado_saturacao_down[399], label = \"0.4 PVI\")\n",
        "\n",
        "#configurações dos gráficos\n",
        "ax1.set_xlabel(\"x/L\", fontsize=15)\n",
        "ax1.set_ylabel(\"Saturação da água\", fontsize=15)\n",
        "ax1.set_title(\"Single point\", fontsize=20)\n",
        "ax1.legend()\n",
        "\n",
        "ax2.set_xlabel(\"x/L\", fontsize=15)\n",
        "ax2.set_ylabel(\"Saturação da água\", fontsize=15)\n",
        "ax2.set_title(\"Algoritmo Igor\", fontsize=20)\n",
        "ax2.legend()\n",
        "\n",
        "ax3.set_xlabel(\"x/L\", fontsize=15)\n",
        "ax3.set_ylabel(\"Saturação da água\", fontsize=15)\n",
        "ax3.set_title(\"Two point\", fontsize=20)\n",
        "ax3.legend()\n",
        "\n",
        "ax4.set_xlabel(\"x/L\", fontsize=15)\n",
        "ax4.set_ylabel(\"Saturação da água\", fontsize=15)\n",
        "ax4.set_title(\"Midpoint\", fontsize=20)\n",
        "ax4.legend()\n",
        "\n",
        "ax5.set_xlabel(\"x/L\", fontsize=15)\n",
        "ax5.set_ylabel(\"Saturação da água\", fontsize=15)\n",
        "ax5.set_title(\"Downstream\", fontsize=20)\n",
        "ax5.legend()\n",
        "\n",
        "plt.show()\n"
      ],
      "execution_count": null,
      "outputs": [
        {
          "output_type": "display_data",
          "data": {
            "image/png": "[encoded data removed]",
            "text/plain": [
              "<Figure size 1080x1440 with 5 Axes>"
            ]
          },
          "metadata": {
            "tags": [],
            "needs_background": "light"
          }
        }
      ]
    },
    {
      "cell_type": "markdown",
      "metadata": {
        "id": "T-8Cp1ueFrra"
      },
      "source": [
        "### Solução analítica"
      ]
    },
    {
      "cell_type": "code",
      "metadata": {
        "colab": {
          "base_uri": "https://localhost:8080/"
        },
        "id": "mBzVw8UrG4w2",
        "outputId": "7b571c46-f6a3-4395-9b41-fbeeebfc7b80"
      },
      "source": [
        "vetor_saturacao = np.arange(swi,1-sor,0.05)\n",
        "vetor_saturacao"
      ],
      "execution_count": null,
      "outputs": [
        {
          "output_type": "execute_result",
          "data": {
            "text/plain": [
              "array([0.2 , 0.25, 0.3 , 0.35, 0.4 , 0.45, 0.5 , 0.55, 0.6 , 0.65, 0.7 ,\n",
              "       0.75, 0.8 ])"
            ]
          },
          "metadata": {
            "tags": []
          },
          "execution_count": 32
        }
      ]
    },
    {
      "cell_type": "code",
      "metadata": {
        "id": "46Ty2RJWRmLM"
      },
      "source": [
        "kro, krw = perm_corey(vetor_saturacao,swi,sor,kro_swi,krw_sor,no,nw)"
      ],
      "execution_count": null,
      "outputs": []
    },
    {
      "cell_type": "code",
      "metadata": {
        "colab": {
          "base_uri": "https://localhost:8080/"
        },
        "id": "jidzlLKjmDwm",
        "outputId": "e9d03bb3-da77-465f-902f-25a79e1f66eb"
      },
      "source": [
        "kro"
      ],
      "execution_count": null,
      "outputs": [
        {
          "output_type": "execute_result",
          "data": {
            "text/plain": [
              "array([0.85      , 0.75909092, 0.67063051, 0.58478816, 0.50176491,\n",
              "       0.42180406, 0.34520727, 0.27236062, 0.20377988, 0.14019772,\n",
              "       0.08276035, 0.03361114, 0.        ])"
            ]
          },
          "metadata": {
            "tags": []
          },
          "execution_count": 96
        }
      ]
    },
    {
      "cell_type": "code",
      "metadata": {
        "colab": {
          "base_uri": "https://localhost:8080/"
        },
        "id": "L2ptcPimmKbQ",
        "outputId": "beb4d6b0-dbd8-4cab-dd16-a109d0afd030"
      },
      "source": [
        "krw"
      ],
      "execution_count": null,
      "outputs": [
        {
          "output_type": "execute_result",
          "data": {
            "text/plain": [
              "array([0.        , 0.00208333, 0.00833333, 0.01875   , 0.03333333,\n",
              "       0.05208333, 0.075     , 0.10208333, 0.13333333, 0.16875   ,\n",
              "       0.20833333, 0.25208333, 0.3       ])"
            ]
          },
          "metadata": {
            "tags": []
          },
          "execution_count": 97
        }
      ]
    },
    {
      "cell_type": "code",
      "metadata": {
        "id": "OWLkiwTJSERJ"
      },
      "source": [
        "fw = []\n",
        "vetor = np.arange(13)\n",
        "for i in vetor:\n",
        "  fw.append(mobilidade(vetor_saturacao[i],visc_agua, visc_oleo))\n",
        "  "
      ],
      "execution_count": null,
      "outputs": []
    },
    {
      "cell_type": "code",
      "metadata": {
        "colab": {
          "base_uri": "https://localhost:8080/"
        },
        "id": "3NHJynsbSg_W",
        "outputId": "730ffaf7-a24e-4ae7-f62c-2540109fa102"
      },
      "source": [
        "#fw = mobilidade(vetor_saturacao[1],visc_agua, visc_oleo)\n",
        "fw"
      ],
      "execution_count": null,
      "outputs": [
        {
          "output_type": "execute_result",
          "data": {
            "text/plain": [
              "[array([0.]),\n",
              " array([0.00545906]),\n",
              " array([0.02424958]),\n",
              " array([0.06026147]),\n",
              " array([0.11728178]),\n",
              " array([0.19804651]),\n",
              " array([0.30290347]),\n",
              " array([0.42844696]),\n",
              " array([0.56683734]),\n",
              " array([0.70651374]),\n",
              " array([0.83428941]),\n",
              " array([0.93749994]),\n",
              " array([1.])]"
            ]
          },
          "metadata": {
            "tags": []
          },
          "execution_count": 81
        }
      ]
    },
    {
      "cell_type": "code",
      "metadata": {
        "colab": {
          "base_uri": "https://localhost:8080/",
          "height": 282
        },
        "id": "mgOaULM8ShYB",
        "outputId": "e8b422a6-d2e1-4d85-c92c-48240ad14abc"
      },
      "source": [
        "plt.plot(vetor_saturacao, fw)"
      ],
      "execution_count": null,
      "outputs": [
        {
          "output_type": "execute_result",
          "data": {
            "text/plain": [
              "[<matplotlib.lines.Line2D at 0x7fecfa2373d0>]"
            ]
          },
          "metadata": {
            "tags": []
          },
          "execution_count": 74
        },
        {
          "output_type": "display_data",
          "data": {
            "image/png": "[encoded data removed]",
            "text/plain": [
              "<Figure size 432x288 with 1 Axes>"
            ]
          },
          "metadata": {
            "tags": [],
            "needs_background": "light"
          }
        }
      ]
    },
    {
      "cell_type": "code",
      "metadata": {
        "id": "_LDRPdWJS5cD"
      },
      "source": [
        "dfw = [np.array(0)]\n",
        "for i in range(len(fw)-1):\n",
        "  dfw.append((fw[i+1]-fw[i])/dx)\n",
        "\n"
      ],
      "execution_count": null,
      "outputs": []
    },
    {
      "cell_type": "code",
      "metadata": {
        "colab": {
          "base_uri": "https://localhost:8080/"
        },
        "id": "7b4gLlyLfdke",
        "outputId": "0bb57092-2458-4848-9cfa-b802a60b9d48"
      },
      "source": [
        "dfw"
      ],
      "execution_count": null,
      "outputs": [
        {
          "output_type": "execute_result",
          "data": {
            "text/plain": [
              "[array(0),\n",
              " array([0.5459057]),\n",
              " array([1.87905213]),\n",
              " array([3.60118932]),\n",
              " array([5.70203071]),\n",
              " array([8.07647304]),\n",
              " array([10.48569611]),\n",
              " array([12.55434901]),\n",
              " array([13.8390379]),\n",
              " array([13.96764018]),\n",
              " array([12.77756662]),\n",
              " array([10.32105341]),\n",
              " array([6.25000589])]"
            ]
          },
          "metadata": {
            "tags": []
          },
          "execution_count": 92
        }
      ]
    },
    {
      "cell_type": "code",
      "metadata": {
        "id": "u2axgFDkffKO"
      },
      "source": [
        "td = ut*3000/(porosidade_meio*tam_meio_poroso)\n",
        "xd = []\n",
        "for i in range(len(dfw)):\n",
        "  xd.append(td*dfw[i])  "
      ],
      "execution_count": null,
      "outputs": []
    },
    {
      "cell_type": "code",
      "metadata": {
        "colab": {
          "base_uri": "https://localhost:8080/",
          "height": 336
        },
        "id": "QPmfIONog-hQ",
        "outputId": "d4dab41f-2a86-442e-aae7-232218bd0a26"
      },
      "source": [
        "plt.plot(xd,vetor_saturacao)"
      ],
      "execution_count": null,
      "outputs": [
        {
          "output_type": "stream",
          "text": [
            "/usr/local/lib/python3.7/dist-packages/numpy/core/_asarray.py:136: VisibleDeprecationWarning: Creating an ndarray from ragged nested sequences (which is a list-or-tuple of lists-or-tuples-or ndarrays with different lengths or shapes) is deprecated. If you meant to do this, you must specify 'dtype=object' when creating the ndarray\n",
            "  return array(a, dtype, copy=False, order=order, subok=True)\n"
          ],
          "name": "stderr"
        },
        {
          "output_type": "execute_result",
          "data": {
            "text/plain": [
              "[<matplotlib.lines.Line2D at 0x7fecfa062a50>]"
            ]
          },
          "metadata": {
            "tags": []
          },
          "execution_count": 99
        },
        {
          "output_type": "display_data",
          "data": {
            "image/png": "[encoded data removed]",
            "text/plain": [
              "<Figure size 432x288 with 1 Axes>"
            ]
          },
          "metadata": {
            "tags": [],
            "needs_background": "light"
          }
        }
      ]
    },
    {
      "cell_type": "code",
      "metadata": {
        "colab": {
          "base_uri": "https://localhost:8080/"
        },
        "id": "lEzpMHBPhD1b",
        "outputId": "7792714d-b7aa-44c7-f3d9-c1c86d5448e3"
      },
      "source": [
        "xd[0] = np.array(0.0)\n",
        "xd"
      ],
      "execution_count": null,
      "outputs": [
        {
          "output_type": "execute_result",
          "data": {
            "text/plain": [
              "[array(0.),\n",
              " array([0.16377171]),\n",
              " array([0.56371564]),\n",
              " array([1.0803568]),\n",
              " array([1.71060921]),\n",
              " array([2.42294191]),\n",
              " array([3.14570883]),\n",
              " array([3.7663047]),\n",
              " array([4.15171137]),\n",
              " array([4.19029205]),\n",
              " array([3.83326999]),\n",
              " array([3.09631602]),\n",
              " array([1.87500177])]"
            ]
          },
          "metadata": {
            "tags": []
          },
          "execution_count": 98
        }
      ]
    },
    {
      "cell_type": "code",
      "metadata": {
        "id": "OnZGHnTMkxOg"
      },
      "source": [
        ""
      ],
      "execution_count": null,
      "outputs": []
    }
  ]
}