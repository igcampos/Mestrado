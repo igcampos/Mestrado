{
  "nbformat": 4,
  "nbformat_minor": 0,
  "metadata": {
    "colab": {
      "name": "saturacao_explicit.ipynb",
      "provenance": [],
      "authorship_tag": "ABX9TyMGGSh/kIjGYFFlVAhoftra",
      "include_colab_link": true
    },
    "kernelspec": {
      "name": "python3",
      "display_name": "Python 3"
    },
    "language_info": {
      "name": "python"
    }
  },
  "cells": [
    {
      "cell_type": "markdown",
      "metadata": {
        "id": "view-in-github",
        "colab_type": "text"
      },
      "source": [
        "<a href=\"https://colab.research.google.com/github/igcampos/Mestrado/blob/main/saturacao_explicit.ipynb\" target=\"_parent\"><img src=\"https://colab.research.google.com/assets/colab-badge.svg\" alt=\"Open In Colab\"/></a>"
      ]
    },
    {
      "cell_type": "code",
      "metadata": {
        "id": "KoDo60BFfZ5C"
      },
      "source": [
        "import numpy as np\n",
        "import matplotlib.pyplot as plt\n",
        "import time\n",
        "import sys\n",
        "from collections.abc import Iterable\n",
        "import timeit"
      ],
      "execution_count": 1,
      "outputs": []
    },
    {
      "cell_type": "code",
      "metadata": {
        "id": "Mx7FDqZHfdS1"
      },
      "source": [
        "#função para o cálculo do modelo Corey - AJUSTADO\n",
        "\n",
        "def perm_corey(sw,swi,sor,kro_swi,krw_sor,no,nw):\n",
        "  kro = []\n",
        "  krw = []\n",
        "\n",
        "  if isinstance(sw, Iterable):\n",
        "    #cálculo da permeabilidade relativa do óleo \n",
        "    for i in sw:\n",
        "        kr = kro_swi*((1-sor-i)/(1-swi-sor))**no\n",
        "        kro.append(kr)\n",
        "    kro = np.array([kro_swi if i >= 1 else i for i in kro]) #substituindo o valor 1 por kro_swi\n",
        "    kro[-1] = 0.0 # solução temporária para o erro \n",
        "\n",
        "    #cálculo da permeabilidade relativa da água\n",
        "    for i in sw:\n",
        "        kr = krw_sor*((i-swi)/(1-swi-sor))**nw\n",
        "        if kr > krw_sor:\n",
        "          kr = krw_sor\n",
        "        krw.append(kr)\n",
        "    krw = np.array(krw)\n",
        "\n",
        "\n",
        "  else:\n",
        "    #cálculo da permeabilidade relativa do óleo\n",
        "    kr = kro_swi*((1-sor-sw)/(1-swi-sor))**no\n",
        "    if kr > kro_swi:\n",
        "      kr = kro_swi\n",
        "    kro.append(kr)\n",
        "    kro = np.array(kro) \n",
        "    #cálculo da permeabilidade relativa da água \n",
        "    kr = krw_sor*((sw-swi)/(1-swi-sor))**nw\n",
        "    if kr > krw_sor:\n",
        "      kr = krw_sor\n",
        "    krw.append(kr)\n",
        "    krw = np.array(krw)\n",
        "  \n",
        "  return kro, krw\n",
        "\n",
        "#função que calcula a mobilidade em diferentes pontos de saturação\n",
        "def mobilidade(sw,visc_agua,visc_oleo):\n",
        "\n",
        "  numerador_da_funcao = perm_corey(sw,swi,sor,kro_swi,krw_sor,no,nw)[1]/visc_agua\n",
        "  denominador_da_funcao = (perm_corey(sw,swi,sor,kro_swi,krw_sor,no,nw)[1]/visc_agua) + (perm_corey(sw,swi,sor,kro_swi,krw_sor,no,nw)[0]/visc_oleo)\n",
        "  resultado_mobilidade =  numerador_da_funcao/denominador_da_funcao\n",
        "\n",
        "  return resultado_mobilidade"
      ],
      "execution_count": 24,
      "outputs": []
    },
    {
      "cell_type": "code",
      "metadata": {
        "colab": {
          "base_uri": "https://localhost:8080/"
        },
        "id": "OFfsPmJvgGhW",
        "outputId": "83b4b725-7bd3-4a3c-9963-98b923c8536b"
      },
      "source": [
        "#Discretização do domínio \n",
        "nx = 100                                                               #Número de pontos do grid\n",
        "dominio = np.arange(nx)                                                #vetor domínio\n",
        "print(\"Número de dimensões: {}\".format(dominio.ndim))                  #número de dimensões\n",
        "print(dominio)"
      ],
      "execution_count": 3,
      "outputs": [
        {
          "output_type": "stream",
          "text": [
            "Número de dimensões: 1\n",
            "[ 0  1  2  3  4  5  6  7  8  9 10 11 12 13 14 15 16 17 18 19 20 21 22 23\n",
            " 24 25 26 27 28 29 30 31 32 33 34 35 36 37 38 39 40 41 42 43 44 45 46 47\n",
            " 48 49 50 51 52 53 54 55 56 57 58 59 60 61 62 63 64 65 66 67 68 69 70 71\n",
            " 72 73 74 75 76 77 78 79 80 81 82 83 84 85 86 87 88 89 90 91 92 93 94 95\n",
            " 96 97 98 99]\n"
          ],
          "name": "stdout"
        }
      ]
    },
    {
      "cell_type": "code",
      "metadata": {
        "colab": {
          "base_uri": "https://localhost:8080/"
        },
        "id": "4p3R2PwYgLbz",
        "outputId": "8e5ba2a5-d003-4534-8ce7-cc9eac4aee64"
      },
      "source": [
        "#Calculo de Delta X\n",
        "#tamanho do meio poroso\n",
        "tam_meio_poroso = 5000 #ft\n",
        "#tamanho do elemento do grid\n",
        "tam_grid = tam_meio_poroso/nx\n",
        "#Delta X - normalizado\n",
        "dx = tam_grid/tam_meio_poroso\n",
        "print(\"O tamanho dos elementos do grid em uma malha estruturada é {}, e o delta X é {} \".format(tam_grid, dx))"
      ],
      "execution_count": 4,
      "outputs": [
        {
          "output_type": "stream",
          "text": [
            "O tamanho dos elementos do grid em uma malha estruturada é 50.0, e o delta X é 0.01 \n"
          ],
          "name": "stdout"
        }
      ]
    },
    {
      "cell_type": "code",
      "metadata": {
        "colab": {
          "base_uri": "https://localhost:8080/"
        },
        "id": "ocjJGJQ6gPKD",
        "outputId": "546efd67-8a43-4c05-9ed9-758d50d302bf"
      },
      "source": [
        "#Calculo de Delta T\n",
        "#viscosidade da água \n",
        "visc_agua = 0.5963 #cp\n",
        "#viscosidade do óleo\n",
        "visc_oleo = 2 #cp\n",
        "#velocidade total na injeção \n",
        "ut = 0.6 #ft³/d - AVALIAR DEPOIS\n",
        "#porosidade\n",
        "porosidade_meio = 0.2\n",
        "#tempo de simulação \n",
        "nt = 720 #dias\n",
        "#passo de tempo\n",
        "passo_tempo = 10 #dias\n",
        "#Delta T - normalizado\n",
        "dt =  ut*passo_tempo/(tam_meio_poroso*porosidade_meio)\n",
        "print(\"O delta T normalizado é {}\".format(dt))"
      ],
      "execution_count": 5,
      "outputs": [
        {
          "output_type": "stream",
          "text": [
            "O delta T normalizado é 0.006\n"
          ],
          "name": "stdout"
        }
      ]
    },
    {
      "cell_type": "code",
      "metadata": {
        "colab": {
          "base_uri": "https://localhost:8080/"
        },
        "id": "Ij9DLiz8gesk",
        "outputId": "2074c634-d710-49f1-dfa8-e20f7e090a90"
      },
      "source": [
        "#Número de Courant\n",
        "num_Courant = dt/dx # ANALISE DE SENSIBILIDADE DEPOIS\n",
        "print(f\"O número de courant é {num_Courant}\")"
      ],
      "execution_count": 6,
      "outputs": [
        {
          "output_type": "stream",
          "text": [
            "O número de courant é 0.6\n"
          ],
          "name": "stdout"
        }
      ]
    },
    {
      "cell_type": "code",
      "metadata": {
        "colab": {
          "base_uri": "https://localhost:8080/"
        },
        "id": "ovw4df2wgg9E",
        "outputId": "6d6df4fc-84dc-4209-f398-30ddfe2dda8d"
      },
      "source": [
        "#condição de contorno e inicial\n",
        "#Condição Inicial Sw(X,0)\n",
        "sw_CI = 0.2\n",
        "#Condição de Contorno Sw(0,T)\n",
        "sw_CC = 0.8\n",
        "#Matriz de saturação para alocação dos resultados\n",
        "tempos_de_injecao = int(nt/passo_tempo)   #quantidade representando os tempos de injeção que serão calculados\n",
        "matriz_resultado_saturacao = np.zeros((tempos_de_injecao,nx)) \n",
        "matriz_resultado_saturacao.shape"
      ],
      "execution_count": 7,
      "outputs": [
        {
          "output_type": "execute_result",
          "data": {
            "text/plain": [
              "(72, 100)"
            ]
          },
          "metadata": {
            "tags": []
          },
          "execution_count": 7
        }
      ]
    },
    {
      "cell_type": "code",
      "metadata": {
        "id": "Opo27tjigppU"
      },
      "source": [
        "#modificando a primeira linha da matriz para alocar os valores das condições iniciais\n",
        "matriz_resultado_saturacao[0,:] = sw_CI "
      ],
      "execution_count": 8,
      "outputs": []
    },
    {
      "cell_type": "code",
      "metadata": {
        "colab": {
          "base_uri": "https://localhost:8080/"
        },
        "id": "H1lk-c7Uh1fh",
        "outputId": "e1b81ed2-9434-41fd-b7fb-7966045686f9"
      },
      "source": [
        "matriz_resultado_saturacao[0,:] "
      ],
      "execution_count": 9,
      "outputs": [
        {
          "output_type": "execute_result",
          "data": {
            "text/plain": [
              "array([0.2, 0.2, 0.2, 0.2, 0.2, 0.2, 0.2, 0.2, 0.2, 0.2, 0.2, 0.2, 0.2,\n",
              "       0.2, 0.2, 0.2, 0.2, 0.2, 0.2, 0.2, 0.2, 0.2, 0.2, 0.2, 0.2, 0.2,\n",
              "       0.2, 0.2, 0.2, 0.2, 0.2, 0.2, 0.2, 0.2, 0.2, 0.2, 0.2, 0.2, 0.2,\n",
              "       0.2, 0.2, 0.2, 0.2, 0.2, 0.2, 0.2, 0.2, 0.2, 0.2, 0.2, 0.2, 0.2,\n",
              "       0.2, 0.2, 0.2, 0.2, 0.2, 0.2, 0.2, 0.2, 0.2, 0.2, 0.2, 0.2, 0.2,\n",
              "       0.2, 0.2, 0.2, 0.2, 0.2, 0.2, 0.2, 0.2, 0.2, 0.2, 0.2, 0.2, 0.2,\n",
              "       0.2, 0.2, 0.2, 0.2, 0.2, 0.2, 0.2, 0.2, 0.2, 0.2, 0.2, 0.2, 0.2,\n",
              "       0.2, 0.2, 0.2, 0.2, 0.2, 0.2, 0.2, 0.2, 0.2])"
            ]
          },
          "metadata": {
            "tags": []
          },
          "execution_count": 9
        }
      ]
    },
    {
      "cell_type": "code",
      "metadata": {
        "id": "Rb01BJpXh5NG"
      },
      "source": [
        "#Características do sistema molhável a água\n",
        "#saturação inicial\n",
        "swi = 0.2\n",
        "#saturação de óleo residual\n",
        "sor = 0.2\n",
        "#permeabilidade relativa da água na saturação residual\n",
        "krw_sor = 0.3 \n",
        "#permeabilidade relativa do óleo na saturação residual\n",
        "kro_swi = 0.85 \n",
        "#porosidade\n",
        "porosidade = porosidade_meio\n",
        "#parâmetros de Corey\n",
        "no = 1.5\n",
        "nw = 2"
      ],
      "execution_count": 21,
      "outputs": []
    },
    {
      "cell_type": "code",
      "metadata": {
        "colab": {
          "base_uri": "https://localhost:8080/"
        },
        "id": "jRjpVG2jiBzW",
        "outputId": "11da3f8a-fdf0-47eb-a163-23f3960937b6"
      },
      "source": [
        "tempos_de_injecao = np.arange(tempos_de_injecao) #utilizado como vetor de tempo para o calculo de saturação\n",
        "tempos_de_injecao"
      ],
      "execution_count": 11,
      "outputs": [
        {
          "output_type": "execute_result",
          "data": {
            "text/plain": [
              "array([ 0,  1,  2,  3,  4,  5,  6,  7,  8,  9, 10, 11, 12, 13, 14, 15, 16,\n",
              "       17, 18, 19, 20, 21, 22, 23, 24, 25, 26, 27, 28, 29, 30, 31, 32, 33,\n",
              "       34, 35, 36, 37, 38, 39, 40, 41, 42, 43, 44, 45, 46, 47, 48, 49, 50,\n",
              "       51, 52, 53, 54, 55, 56, 57, 58, 59, 60, 61, 62, 63, 64, 65, 66, 67,\n",
              "       68, 69, 70, 71])"
            ]
          },
          "metadata": {
            "tags": []
          },
          "execution_count": 11
        }
      ]
    },
    {
      "cell_type": "code",
      "metadata": {
        "colab": {
          "base_uri": "https://localhost:8080/"
        },
        "id": "6oAKMcjHiTy3",
        "outputId": "fcf33391-b6cd-4189-e53b-b5700c37d991"
      },
      "source": [
        "#Calculo da saturação e preenchimento da matriz de resultado\n",
        "#calulo do tempo de execução:\n",
        "start = timeit.default_timer()\n",
        "for n in tempos_de_injecao:\n",
        "  #calculo da primeira linha\n",
        "  if n == 0:\n",
        "    for i in dominio:\n",
        "      if i == 0: \n",
        "        #primeiro ponto\n",
        "        mobilidade_i_menos_meio = mobilidade(sw_CC,visc_agua,visc_oleo)\n",
        "        mobilidade_i = mobilidade(sw_CI,visc_agua,visc_oleo)\n",
        "        sw_n_mais_1 = dt/dx*(mobilidade_i_menos_meio - mobilidade_i) + sw_CI\n",
        "        matriz_resultado_saturacao[n,i] =  sw_n_mais_1\n",
        "      else:\n",
        "        #outros ponto\n",
        "        sw_ajustado =  (matriz_resultado_saturacao[n,i-1] + matriz_resultado_saturacao[n,i])/2\n",
        "        mobilidade_i_menos_meio = mobilidade(sw_ajustado,visc_agua,visc_oleo)\n",
        "        mobilidade_i = mobilidade(sw_CI,visc_agua,visc_oleo)\n",
        "        sw_n_mais_1 = dt/dx * (mobilidade_i_menos_meio - mobilidade_i) + sw_CI\n",
        "        matriz_resultado_saturacao[n,i] =  sw_n_mais_1\n",
        "  #Cálculo das demais linhas      \n",
        "  else:\n",
        "      for i in dominio:\n",
        "        if i == 0: \n",
        "          #primeiro ponto\n",
        "          mobilidade_i_menos_meio = mobilidade(sw_CC,visc_agua,visc_oleo)\n",
        "          mobilidade_i = mobilidade(matriz_resultado_saturacao[n-1,i],visc_agua,visc_oleo)\n",
        "          sw_n_mais_1 = dt/dx*(mobilidade_i_menos_meio - mobilidade_i) + matriz_resultado_saturacao[n-1,i]\n",
        "          matriz_resultado_saturacao[n,i] =  sw_n_mais_1\n",
        "        else:\n",
        "          #outros ponto\n",
        "          sw_ajustado =  (matriz_resultado_saturacao[n-1,i-1] + matriz_resultado_saturacao[n-1,i])/2\n",
        "          mobilidade_i_menos_meio = mobilidade(sw_ajustado,visc_agua,visc_oleo)\n",
        "          mobilidade_i = mobilidade(matriz_resultado_saturacao[n-1,i],visc_agua,visc_oleo)\n",
        "          sw_n_mais_1 = dt/dx * (mobilidade_i_menos_meio - mobilidade_i) + matriz_resultado_saturacao[n-1,i]\n",
        "          matriz_resultado_saturacao[n,i] =  sw_n_mais_1\n",
        "stop = timeit.default_timer()\n",
        "print('Tempo de execução: {} segundos'.format(stop-start))"
      ],
      "execution_count": 22,
      "outputs": [
        {
          "output_type": "stream",
          "text": [
            "Tempo de execução: 0.3990954050000255 segundos\n"
          ],
          "name": "stdout"
        }
      ]
    },
    {
      "cell_type": "code",
      "metadata": {
        "colab": {
          "base_uri": "https://localhost:8080/",
          "height": 360
        },
        "id": "9lPlwGcrib_W",
        "outputId": "e86432d3-a6be-47ed-d0cb-074808df93de"
      },
      "source": [
        "#plotar os resultados\n",
        "vetor_comprimento = np.linspace(0, 1, nx)\n",
        "fig = plt.figure(figsize=(8,5))\n",
        "ax = plt.subplot(1,1,1)\n",
        "ax.plot(vetor_comprimento, matriz_resultado_saturacao[0], label = \"t = 10 dias\")\n",
        "ax.plot(vetor_comprimento, matriz_resultado_saturacao[6], label = \"t = 70 dias\")\n",
        "ax.plot(vetor_comprimento, matriz_resultado_saturacao[20], label = \"t = 210 dias\")\n",
        "ax.plot(vetor_comprimento, matriz_resultado_saturacao[35], label = \"t = 360 dias\")\n",
        "ax.plot(vetor_comprimento, matriz_resultado_saturacao[71], label = \"t = 720 dias\")\n",
        "\n",
        "ax.set_xlabel(\"x/L\", fontsize=15)\n",
        "ax.set_ylabel(\"Saturação da água\", fontsize=15)\n",
        "plt.title(\"Curva de Saturação\", fontsize=20)\n",
        "ax.legend()\n",
        "plt.show()"
      ],
      "execution_count": 23,
      "outputs": [
        {
          "output_type": "display_data",
          "data": {
            "image/png": "[encoded data removed]",
            "text/plain": [
              "<Figure size 576x360 with 1 Axes>"
            ]
          },
          "metadata": {
            "tags": [],
            "needs_background": "light"
          }
        }
      ]
    },
    {
      "cell_type": "code",
      "metadata": {
        "id": "69RsZEC3TuBj"
      },
      "source": [
        ""
      ],
      "execution_count": null,
      "outputs": []
    }
  ]
}