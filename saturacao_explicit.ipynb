{
  "nbformat": 4,
  "nbformat_minor": 0,
  "metadata": {
    "colab": {
      "name": "saturacao_explicit.ipynb",
      "provenance": [],
      "authorship_tag": "ABX9TyNn+yHE/+LyhuFQpoJBS+OB",
      "include_colab_link": true
    },
    "kernelspec": {
      "name": "python3",
      "display_name": "Python 3"
    },
    "language_info": {
      "name": "python"
    }
  },
  "cells": [
    {
      "cell_type": "markdown",
      "metadata": {
        "id": "view-in-github",
        "colab_type": "text"
      },
      "source": [
        "<a href=\"https://colab.research.google.com/github/igcampos/Mestrado/blob/main/saturacao_explicit.ipynb\" target=\"_parent\"><img src=\"https://colab.research.google.com/assets/colab-badge.svg\" alt=\"Open In Colab\"/></a>"
      ]
    },
    {
      "cell_type": "code",
      "metadata": {
        "id": "KoDo60BFfZ5C"
      },
      "source": [
        "import numpy as np\n",
        "import matplotlib.pyplot as plt\n",
        "import time\n",
        "import sys\n",
        "from collections.abc import Iterable\n",
        "import timeit"
      ],
      "execution_count": 1,
      "outputs": []
    },
    {
      "cell_type": "code",
      "metadata": {
        "id": "Mx7FDqZHfdS1"
      },
      "source": [
        "#função para o cálculo do modelo Corey - AJUSTADO\n",
        "\n",
        "def perm_corey(sw,swi,sor,kro_swi,krw_sor,no,nw):\n",
        "  kro = []\n",
        "  krw = []\n",
        "\n",
        "  if isinstance(sw, Iterable):\n",
        "    #cálculo da permeabilidade relativa do óleo \n",
        "    for i in sw:\n",
        "        kr = kro_swi*((1-sor-i)/(1-swi-sor))**no\n",
        "        kro.append(kr)\n",
        "    kro = np.array([kro_swi if i >= 1 else i for i in kro]) #substituindo o valor 1 por kro_swi\n",
        "    kro[-1] = 0.0 # solução temporária para o erro \n",
        "\n",
        "    #cálculo da permeabilidade relativa da água\n",
        "    for i in sw:\n",
        "        kr = krw_sor*((i-swi)/(1-swi-sor))**nw\n",
        "        if kr > krw_sor:\n",
        "          kr = krw_sor\n",
        "        krw.append(kr)\n",
        "    krw = np.array(krw)\n",
        "\n",
        "\n",
        "  else:\n",
        "    #cálculo da permeabilidade relativa do óleo\n",
        "    kr = kro_swi*((1-sor-sw)/(1-swi-sor))**no\n",
        "    if kr > kro_swi:\n",
        "      kr = kro_swi\n",
        "    kro.append(kr)\n",
        "    kro = np.array(kro) \n",
        "    #cálculo da permeabilidade relativa da água \n",
        "    kr = krw_sor*((sw-swi)/(1-swi-sor))**nw\n",
        "    if kr > krw_sor:\n",
        "      kr = krw_sor\n",
        "    krw.append(kr)\n",
        "    krw = np.array(krw)\n",
        "  \n",
        "  return kro, krw\n",
        "\n",
        "#função que calcula a mobilidade em diferentes pontos de saturação\n",
        "def mobilidade(sw,visc_agua,visc_oleo):\n",
        "\n",
        "  numerador_da_funcao = perm_corey(sw,swi,sor,kro_swi,krw_sor,no,nw)[1]/visc_agua\n",
        "  denominador_da_funcao = (perm_corey(sw,swi,sor,kro_swi,krw_sor,no,nw)[1]/visc_agua) + (perm_corey(sw,swi,sor,kro_swi,krw_sor,no,nw)[0]/visc_oleo)\n",
        "  resultado_mobilidade =  numerador_da_funcao/denominador_da_funcao\n",
        "\n",
        "  return resultado_mobilidade"
      ],
      "execution_count": 2,
      "outputs": []
    },
    {
      "cell_type": "code",
      "metadata": {
        "colab": {
          "base_uri": "https://localhost:8080/"
        },
        "id": "OFfsPmJvgGhW",
        "outputId": "99eacd3e-c397-49a9-a38a-1451a2c623fb"
      },
      "source": [
        "#Discretização do domínio \n",
        "nx = 100                                                               #Número de pontos do grid\n",
        "dominio = np.arange(nx)                                                #vetor domínio\n",
        "print(\"Número de dimensões: {}\".format(dominio.ndim))                  #número de dimensões\n",
        "print(dominio)"
      ],
      "execution_count": 3,
      "outputs": [
        {
          "output_type": "stream",
          "text": [
            "Número de dimensões: 1\n",
            "[ 0  1  2  3  4  5  6  7  8  9 10 11 12 13 14 15 16 17 18 19 20 21 22 23\n",
            " 24 25 26 27 28 29 30 31 32 33 34 35 36 37 38 39 40 41 42 43 44 45 46 47\n",
            " 48 49 50 51 52 53 54 55 56 57 58 59 60 61 62 63 64 65 66 67 68 69 70 71\n",
            " 72 73 74 75 76 77 78 79 80 81 82 83 84 85 86 87 88 89 90 91 92 93 94 95\n",
            " 96 97 98 99]\n"
          ],
          "name": "stdout"
        }
      ]
    },
    {
      "cell_type": "code",
      "metadata": {
        "colab": {
          "base_uri": "https://localhost:8080/"
        },
        "id": "4p3R2PwYgLbz",
        "outputId": "1bb313b7-42fd-417a-dc57-85d44f5fa730"
      },
      "source": [
        "#Calculo de Delta X\n",
        "#tamanho do meio poroso\n",
        "tam_meio_poroso = 5000 #ft\n",
        "#tamanho do elemento do grid\n",
        "tam_grid = tam_meio_poroso/nx\n",
        "#Delta X - normalizado\n",
        "dx = tam_grid/tam_meio_poroso\n",
        "print(\"O tamanho dos elementos do grid em uma malha estruturada é {}, e o delta X é {} \".format(tam_grid, dx))"
      ],
      "execution_count": 4,
      "outputs": [
        {
          "output_type": "stream",
          "text": [
            "O tamanho dos elementos do grid em uma malha estruturada é 50.0, e o delta X é 0.01 \n"
          ],
          "name": "stdout"
        }
      ]
    },
    {
      "cell_type": "code",
      "metadata": {
        "colab": {
          "base_uri": "https://localhost:8080/"
        },
        "id": "ocjJGJQ6gPKD",
        "outputId": "d61dac2f-8cbf-44e4-f610-179231e2e132"
      },
      "source": [
        "#Calculo de Delta T\n",
        "#viscosidade da água \n",
        "visc_agua = 0.5963 #cp\n",
        "#viscosidade do óleo\n",
        "visc_oleo = 2 #cp\n",
        "#velocidade total na injeção \n",
        "ut = 0.6 #ft³/d - AVALIAR DEPOIS\n",
        "#porosidade\n",
        "porosidade_meio = 0.2\n",
        "#tempo de simulação \n",
        "nt = 720 #dias\n",
        "#passo de tempo\n",
        "passo_tempo = 10 #dias\n",
        "#Delta T - normalizado\n",
        "dt =  ut*passo_tempo/(tam_meio_poroso*porosidade_meio) #DÚVIDA: seria o passo de tempo ou o tempo total\n",
        "print(\"O delta T normalizado é {}\".format(dt))"
      ],
      "execution_count": 5,
      "outputs": [
        {
          "output_type": "stream",
          "text": [
            "O delta T normalizado é 0.006\n"
          ],
          "name": "stdout"
        }
      ]
    },
    {
      "cell_type": "code",
      "metadata": {
        "colab": {
          "base_uri": "https://localhost:8080/"
        },
        "id": "Ij9DLiz8gesk",
        "outputId": "1e903868-b98f-4d7a-c491-4e3baa7d2ed0"
      },
      "source": [
        "#Número de Courant\n",
        "num_Courant = dt/dx # ANALISE DE SENSIBILIDADE DEPOIS\n",
        "print(f\"O número de courant é {num_Courant}\")"
      ],
      "execution_count": 6,
      "outputs": [
        {
          "output_type": "stream",
          "text": [
            "O número de courant é 0.6\n"
          ],
          "name": "stdout"
        }
      ]
    },
    {
      "cell_type": "code",
      "metadata": {
        "colab": {
          "base_uri": "https://localhost:8080/"
        },
        "id": "ovw4df2wgg9E",
        "outputId": "3406fbdb-8baa-4951-e0fe-c10f8ba1244c"
      },
      "source": [
        "#condição de contorno e inicial\n",
        "#Condição Inicial Sw(X,0)\n",
        "sw_CI = 0.2\n",
        "#Condição de Contorno Sw(0,T)\n",
        "sw_CC = 0.8\n",
        "#Matriz de saturação para alocação dos resultados\n",
        "tempos_de_injecao = int(nt/passo_tempo)   #quantidade representando os tempos de injeção que serão calculados\n",
        "matriz_resultado_saturacao = np.zeros((tempos_de_injecao,nx)) \n",
        "matriz_resultado_saturacao.shape"
      ],
      "execution_count": 7,
      "outputs": [
        {
          "output_type": "execute_result",
          "data": {
            "text/plain": [
              "(72, 100)"
            ]
          },
          "metadata": {
            "tags": []
          },
          "execution_count": 7
        }
      ]
    },
    {
      "cell_type": "code",
      "metadata": {
        "id": "Opo27tjigppU"
      },
      "source": [
        "#modificando a primeira linha da matriz para alocar os valores das condições iniciais\n",
        "matriz_resultado_saturacao[0,:] = sw_CI "
      ],
      "execution_count": 8,
      "outputs": []
    },
    {
      "cell_type": "code",
      "metadata": {
        "colab": {
          "base_uri": "https://localhost:8080/"
        },
        "id": "H1lk-c7Uh1fh",
        "outputId": "0ccbff95-ab85-4ac9-87d4-1a6a6d1bb404"
      },
      "source": [
        "matriz_resultado_saturacao[0,:] "
      ],
      "execution_count": 9,
      "outputs": [
        {
          "output_type": "execute_result",
          "data": {
            "text/plain": [
              "array([0.2, 0.2, 0.2, 0.2, 0.2, 0.2, 0.2, 0.2, 0.2, 0.2, 0.2, 0.2, 0.2,\n",
              "       0.2, 0.2, 0.2, 0.2, 0.2, 0.2, 0.2, 0.2, 0.2, 0.2, 0.2, 0.2, 0.2,\n",
              "       0.2, 0.2, 0.2, 0.2, 0.2, 0.2, 0.2, 0.2, 0.2, 0.2, 0.2, 0.2, 0.2,\n",
              "       0.2, 0.2, 0.2, 0.2, 0.2, 0.2, 0.2, 0.2, 0.2, 0.2, 0.2, 0.2, 0.2,\n",
              "       0.2, 0.2, 0.2, 0.2, 0.2, 0.2, 0.2, 0.2, 0.2, 0.2, 0.2, 0.2, 0.2,\n",
              "       0.2, 0.2, 0.2, 0.2, 0.2, 0.2, 0.2, 0.2, 0.2, 0.2, 0.2, 0.2, 0.2,\n",
              "       0.2, 0.2, 0.2, 0.2, 0.2, 0.2, 0.2, 0.2, 0.2, 0.2, 0.2, 0.2, 0.2,\n",
              "       0.2, 0.2, 0.2, 0.2, 0.2, 0.2, 0.2, 0.2, 0.2])"
            ]
          },
          "metadata": {
            "tags": []
          },
          "execution_count": 9
        }
      ]
    },
    {
      "cell_type": "code",
      "metadata": {
        "id": "Rb01BJpXh5NG"
      },
      "source": [
        "#Características do sistema molhável a água\n",
        "#saturação inicial\n",
        "swi = 0.2\n",
        "#saturação de óleo residual\n",
        "sor = 0.2\n",
        "#permeabilidade relativa da água na saturação residual\n",
        "krw_sor = 0.3 \n",
        "#permeabilidade relativa do óleo na saturação residual\n",
        "kro_swi = 0.85 \n",
        "#porosidade\n",
        "porosidade = porosidade_meio\n",
        "#parâmetros de Corey\n",
        "no = 1.3\n",
        "nw = 2"
      ],
      "execution_count": 10,
      "outputs": []
    },
    {
      "cell_type": "code",
      "metadata": {
        "colab": {
          "base_uri": "https://localhost:8080/"
        },
        "id": "jRjpVG2jiBzW",
        "outputId": "df3d14fa-f678-4d99-eda2-fb3365830232"
      },
      "source": [
        "tempos_de_injecao = np.arange(tempos_de_injecao) #utilizado como vetor de tempo para o calculo de saturação\n",
        "tempos_de_injecao"
      ],
      "execution_count": 11,
      "outputs": [
        {
          "output_type": "execute_result",
          "data": {
            "text/plain": [
              "array([ 0,  1,  2,  3,  4,  5,  6,  7,  8,  9, 10, 11, 12, 13, 14, 15, 16,\n",
              "       17, 18, 19, 20, 21, 22, 23, 24, 25, 26, 27, 28, 29, 30, 31, 32, 33,\n",
              "       34, 35, 36, 37, 38, 39, 40, 41, 42, 43, 44, 45, 46, 47, 48, 49, 50,\n",
              "       51, 52, 53, 54, 55, 56, 57, 58, 59, 60, 61, 62, 63, 64, 65, 66, 67,\n",
              "       68, 69, 70, 71])"
            ]
          },
          "metadata": {
            "tags": []
          },
          "execution_count": 11
        }
      ]
    },
    {
      "cell_type": "code",
      "metadata": {
        "colab": {
          "base_uri": "https://localhost:8080/"
        },
        "id": "6oAKMcjHiTy3",
        "outputId": "d0ab3759-7ba2-4be6-c019-d302e518d122"
      },
      "source": [
        "#Calculo da saturação e preenchimento da matriz de resultado\n",
        "#calulo do tempo de execução:\n",
        "start = timeit.default_timer()\n",
        "for n in tempos_de_injecao:\n",
        "  #calculo da primeira linha\n",
        "  if n == 0:\n",
        "    for i in dominio:\n",
        "      if i == 0: \n",
        "        #primeiro ponto\n",
        "        mobilidade_i_menos_meio = mobilidade(sw_CC,visc_agua,visc_oleo)\n",
        "        mobilidade_i = mobilidade(sw_CI,visc_agua,visc_oleo)\n",
        "        sw_n_mais_1 = dt/dx*(mobilidade_i_menos_meio - mobilidade_i) + sw_CI\n",
        "        matriz_resultado_saturacao[n,i] =  sw_n_mais_1\n",
        "      else:\n",
        "        #outros ponto\n",
        "        sw_ajustado =  (matriz_resultado_saturacao[n,i-1] + matriz_resultado_saturacao[n,i])/2\n",
        "        mobilidade_i_menos_meio = mobilidade(sw_ajustado,visc_agua,visc_oleo)\n",
        "        mobilidade_i = mobilidade(sw_CI,visc_agua,visc_oleo)\n",
        "        sw_n_mais_1 = dt/dx * (mobilidade_i_menos_meio - mobilidade_i) + sw_CI\n",
        "        matriz_resultado_saturacao[n,i] =  sw_n_mais_1\n",
        "  #Cálculo das demais linhas      \n",
        "  else:\n",
        "      for i in dominio:\n",
        "        if i == 0: \n",
        "          #primeiro ponto\n",
        "          mobilidade_i_menos_meio = mobilidade(sw_CC,visc_agua,visc_oleo)\n",
        "          mobilidade_i = mobilidade(matriz_resultado_saturacao[n-1,i],visc_agua,visc_oleo)\n",
        "          sw_n_mais_1 = dt/dx*(mobilidade_i_menos_meio - mobilidade_i) + matriz_resultado_saturacao[n-1,i]\n",
        "          matriz_resultado_saturacao[n,i] =  sw_n_mais_1\n",
        "        else:\n",
        "          #outros ponto\n",
        "          sw_ajustado =  (matriz_resultado_saturacao[n-1,i-1] + matriz_resultado_saturacao[n-1,i])/2\n",
        "          mobilidade_i_menos_meio = mobilidade(sw_ajustado,visc_agua,visc_oleo)\n",
        "          mobilidade_i = mobilidade(matriz_resultado_saturacao[n-1,i],visc_agua,visc_oleo)\n",
        "          sw_n_mais_1 = dt/dx * (mobilidade_i_menos_meio - mobilidade_i) + matriz_resultado_saturacao[n-1,i]\n",
        "          matriz_resultado_saturacao[n,i] =  sw_n_mais_1\n",
        "stop = timeit.default_timer()\n",
        "print('Tempo de execução: {} segundos'.format(stop-start))"
      ],
      "execution_count": 12,
      "outputs": [
        {
          "output_type": "stream",
          "text": [
            "Tempo de execução: 0.48171366300000074 segundos\n"
          ],
          "name": "stdout"
        }
      ]
    },
    {
      "cell_type": "code",
      "metadata": {
        "colab": {
          "base_uri": "https://localhost:8080/",
          "height": 360
        },
        "id": "9lPlwGcrib_W",
        "outputId": "b38ac9ac-333d-4a17-8c42-a6fda691ee25"
      },
      "source": [
        "#plotar os resultados\n",
        "vetor_comprimento = np.linspace(0, 1, nx)\n",
        "fig = plt.figure(figsize=(8,5))\n",
        "ax = plt.subplot(1,1,1)\n",
        "ax.plot(vetor_comprimento, matriz_resultado_saturacao[0], label = \"0.006 PVI \")\n",
        "ax.plot(vetor_comprimento, matriz_resultado_saturacao[6], label = \"0.042 PVI\")\n",
        "ax.plot(vetor_comprimento, matriz_resultado_saturacao[20], label = \"0.126 PVI\")\n",
        "ax.plot(vetor_comprimento, matriz_resultado_saturacao[35], label = \"0.216 PVI\")\n",
        "ax.plot(vetor_comprimento, matriz_resultado_saturacao[71], label = \"0.432 PVI\")\n",
        "\n",
        "ax.set_xlabel(\"x/L\", fontsize=15)\n",
        "ax.set_ylabel(\"Saturação da água\", fontsize=15)\n",
        "plt.title(\"Curva de Saturação\", fontsize=20)\n",
        "ax.legend()\n",
        "plt.show()"
      ],
      "execution_count": 13,
      "outputs": [
        {
          "output_type": "display_data",
          "data": {
            "image/png": "[encoded data removed]",
            "text/plain": [
              "<Figure size 576x360 with 1 Axes>"
            ]
          },
          "metadata": {
            "tags": [],
            "needs_background": "light"
          }
        }
      ]
    },
    {
      "cell_type": "code",
      "metadata": {
        "colab": {
          "base_uri": "https://localhost:8080/"
        },
        "id": "69RsZEC3TuBj",
        "outputId": "4f4028d7-5677-419f-de04-887c3ac0ba9f"
      },
      "source": [
        "pvi = ut*360/(porosidade*tam_meio_poroso)\n",
        "pvi"
      ],
      "execution_count": 14,
      "outputs": [
        {
          "output_type": "execute_result",
          "data": {
            "text/plain": [
              "0.216"
            ]
          },
          "metadata": {
            "tags": []
          },
          "execution_count": 14
        }
      ]
    },
    {
      "cell_type": "markdown",
      "metadata": {
        "id": "8D5hDjdqUE9b"
      },
      "source": [
        "Construção da função"
      ]
    },
    {
      "cell_type": "code",
      "metadata": {
        "id": "-7gvFsxAwVDF"
      },
      "source": [
        "def test_function():\n",
        "  xn = input(\"Adicione a variável xn:\")\n",
        "\n",
        "  return "
      ],
      "execution_count": 25,
      "outputs": []
    },
    {
      "cell_type": "code",
      "metadata": {
        "colab": {
          "base_uri": "https://localhost:8080/"
        },
        "id": "hszWdZUXX-bt",
        "outputId": "c1f384ab-9389-48b3-9c7c-bca89e2158cc"
      },
      "source": [
        "test_function()"
      ],
      "execution_count": 26,
      "outputs": [
        {
          "output_type": "stream",
          "text": [
            "Adicione a variável xn:45\n"
          ],
          "name": "stdout"
        }
      ]
    },
    {
      "cell_type": "code",
      "metadata": {
        "id": "b-wUV-trYAiz"
      },
      "source": [
        "def explicit_saturation():\n",
        "\n",
        "  #Discretização do domínio \n",
        "  \n",
        "  nx = int(input(\"Digite o número de pontos do grid: \"))                 #Número de pontos do grid\n",
        "  dominio = np.arange(nx)                                                #vetor domínio\n",
        "  print(\"Número de dimensões: {}\".format(dominio.ndim))                  #número de dimensões\n",
        "  print(dominio)\n",
        "\n",
        "  #Calculo de Delta X\n",
        "\n",
        "  #tamanho do meio poroso\n",
        "  tam_meio_poroso = int(input(\"Digite o tamanho do reservatório em ft:\"))\n",
        "  #tamanho do elemento do grid\n",
        "  tam_grid = tam_meio_poroso/nx\n",
        "  #Delta X - normalizado\n",
        "  dx = tam_grid/tam_meio_poroso\n",
        "  print(\"\") \n",
        "  print(\"O tamanho dos elementos do grid em uma malha estruturada é {}, e o delta X é {} \".format(tam_grid, dx))\n",
        "  print(\"\") \n",
        "\n",
        "  #Calculo de Delta T\n",
        "\n",
        "  #viscosidade da água \n",
        "  visc_agua = float(input(\"Digite o valor da viscosidade da água em cp:\"))\n",
        "  #viscosidade do óleo\n",
        "  visc_oleo = float(input(\"Digite o valor da viscosidade do óleo em cp:\"))\n",
        "  #velocidade total na injeção \n",
        "  ut = float(input(\"Digite o valor da velocidade total de injeção em ft³/d:\"))\n",
        "  #porosidade\n",
        "  porosidade_meio = float(input(\"Entre com a porosidade do meio:\"))\n",
        "  #tempo de simulação \n",
        "  nt = int(input(\"Entre com os dias de injeção que será simulado:\"))\n",
        "  #passo de tempo\n",
        "  passo_tempo = 10 #dias\n",
        "  #Delta T - normalizado\n",
        "  dt =  ut*passo_tempo/(tam_meio_poroso*porosidade_meio) #DÚVIDA: seria o passo de tempo ou o tempo total\n",
        "  print(\"\") \n",
        "  print(\"O delta T normalizado é {}\".format(dt))\n",
        "\n",
        "  #Número de Courant\n",
        "\n",
        "  num_Courant = dt/dx\n",
        "  print(\"\") \n",
        "  print(f\"O número de courant é {num_Courant}\")\n",
        "\n",
        "  #condição de contorno e inicial\n",
        "\n",
        "  #Condição Inicial Sw(X,0)\n",
        "  sw_CI = float(input(\"Entre com a condição de inicial (Sw):\"))\n",
        "  #Condição de Contorno Sw(0,T)\n",
        "  sw_CC = float(input(\"Entre com a condição de contorno (Sw):\"))\n",
        "  #Matriz de saturação para alocação dos resultados\n",
        "  tempos_de_injecao = int(nt/passo_tempo)   #quantidade representando os tempos de injeção que serão calculados\n",
        "  matriz_resultado_saturacao = np.zeros((tempos_de_injecao,nx)) \n",
        "  print(f'A matriz saturação tem a seguinte forma {matriz_resultado_saturacao.shape}')\n",
        "\n",
        "  #modificando a primeira linha da matriz para alocar os valores das condições iniciais\n",
        "  matriz_resultado_saturacao[0,:] = sw_CI \n",
        "\n",
        "  #Características do sistema \n",
        "\n",
        "  #saturação inicial\n",
        "  swi = float(input(\"Entre com a saturação de água inicial (Swi):\"))\n",
        "  #saturação de óleo residual\n",
        "  sor = float(input(\"Entre com a saturação de óleo residual (Sor):\"))\n",
        "  #permeabilidade relativa da água na saturação residual\n",
        "  krw_sor = float(input(\"Entre com a permeabilidade relativa da água no ponto terminal krw(Sor):\"))\n",
        "  #permeabilidade relativa do óleo na saturação residual\n",
        "  kro_swi = float(input(\"Entre com a permeabilidade relativa do óleo no ponto terminal kro(Swi):\"))\n",
        "  #porosidade\n",
        "  porosidade = porosidade_meio\n",
        "  #parâmetros de Corey\n",
        "  no = float(input(\"Insira o parâmetro de Corey (no):\"))\n",
        "  nw = float(input(\"Insira o parâmetro de Corey (nw):\"))\n",
        "\n",
        "  tempos_de_injecao = np.arange(tempos_de_injecao) #utilizado como vetor de tempo para o calculo de saturação\n",
        "  print(f'Vetor com as iterações temporais: {tempos_de_injecao}')\n",
        "\n",
        "  #Calculo da saturação e preenchimento da matriz de resultado\n",
        "\n",
        "  #calulo do tempo de execução:\n",
        "  start = timeit.default_timer()\n",
        "\n",
        "  for n in tempos_de_injecao:\n",
        "    #calculo da primeira linha\n",
        "    if n == 0:\n",
        "      for i in dominio:\n",
        "        if i == 0: \n",
        "          #primeiro ponto\n",
        "          mobilidade_i_menos_meio = mobilidade(sw_CC,visc_agua,visc_oleo)\n",
        "          mobilidade_i = mobilidade(sw_CI,visc_agua,visc_oleo)\n",
        "          sw_n_mais_1 = dt/dx*(mobilidade_i_menos_meio - mobilidade_i) + sw_CI\n",
        "          matriz_resultado_saturacao[n,i] =  sw_n_mais_1\n",
        "        else:\n",
        "          #outros ponto\n",
        "          sw_ajustado =  (matriz_resultado_saturacao[n,i-1] + matriz_resultado_saturacao[n,i])/2\n",
        "          mobilidade_i_menos_meio = mobilidade(sw_ajustado,visc_agua,visc_oleo)\n",
        "          mobilidade_i = mobilidade(sw_CI,visc_agua,visc_oleo)\n",
        "          sw_n_mais_1 = dt/dx * (mobilidade_i_menos_meio - mobilidade_i) + sw_CI\n",
        "          matriz_resultado_saturacao[n,i] =  sw_n_mais_1\n",
        "    #Cálculo das demais linhas      \n",
        "    else:\n",
        "        for i in dominio:\n",
        "          if i == 0: \n",
        "            #primeiro ponto\n",
        "            mobilidade_i_menos_meio = mobilidade(sw_CC,visc_agua,visc_oleo)\n",
        "            mobilidade_i = mobilidade(matriz_resultado_saturacao[n-1,i],visc_agua,visc_oleo)\n",
        "            sw_n_mais_1 = dt/dx*(mobilidade_i_menos_meio - mobilidade_i) + matriz_resultado_saturacao[n-1,i]\n",
        "            matriz_resultado_saturacao[n,i] =  sw_n_mais_1\n",
        "          else:\n",
        "            #outros ponto\n",
        "            sw_ajustado =  (matriz_resultado_saturacao[n-1,i-1] + matriz_resultado_saturacao[n-1,i])/2\n",
        "            mobilidade_i_menos_meio = mobilidade(sw_ajustado,visc_agua,visc_oleo)\n",
        "            mobilidade_i = mobilidade(matriz_resultado_saturacao[n-1,i],visc_agua,visc_oleo)\n",
        "            sw_n_mais_1 = dt/dx * (mobilidade_i_menos_meio - mobilidade_i) + matriz_resultado_saturacao[n-1,i]\n",
        "            matriz_resultado_saturacao[n,i] =  sw_n_mais_1\n",
        "  \n",
        "  stop = timeit.default_timer()\n",
        "  print('Tempo de execução: {} segundos'.format(stop-start))\n",
        "\n",
        "  #plotar os resultados\n",
        "  vetor_comprimento = np.linspace(0, 1, nx)\n",
        "  fig = plt.figure(figsize=(8,5))\n",
        "  ax = plt.subplot(1,1,1)\n",
        "  ax.plot(vetor_comprimento, matriz_resultado_saturacao[0], label = \"0.006 PVI \")\n",
        "  ax.plot(vetor_comprimento, matriz_resultado_saturacao[6], label = \"0.042 PVI\")\n",
        "  ax.plot(vetor_comprimento, matriz_resultado_saturacao[20], label = \"0.126 PVI\")\n",
        "  ax.plot(vetor_comprimento, matriz_resultado_saturacao[35], label = \"0.216 PVI\")\n",
        "  ax.plot(vetor_comprimento, matriz_resultado_saturacao[71], label = \"0.432 PVI\")\n",
        "\n",
        "  ax.set_xlabel(\"x/L\", fontsize=15)\n",
        "  ax.set_ylabel(\"Saturação da água\", fontsize=15)\n",
        "  plt.title(\"Curva de Saturação\", fontsize=20)\n",
        "  ax.legend()\n",
        "  plt.show()\n",
        "\n",
        "  return"
      ],
      "execution_count": 41,
      "outputs": []
    },
    {
      "cell_type": "code",
      "metadata": {
        "colab": {
          "base_uri": "https://localhost:8080/",
          "height": 921
        },
        "id": "2hJtBE79Y523",
        "outputId": "5b2722b8-ead6-4646-975d-e1f5462e9feb"
      },
      "source": [
        "explicit_saturation()"
      ],
      "execution_count": 42,
      "outputs": [
        {
          "output_type": "stream",
          "text": [
            "Digite o número de pontos do grid: 100\n",
            "Número de dimensões: 1\n",
            "[ 0  1  2  3  4  5  6  7  8  9 10 11 12 13 14 15 16 17 18 19 20 21 22 23\n",
            " 24 25 26 27 28 29 30 31 32 33 34 35 36 37 38 39 40 41 42 43 44 45 46 47\n",
            " 48 49 50 51 52 53 54 55 56 57 58 59 60 61 62 63 64 65 66 67 68 69 70 71\n",
            " 72 73 74 75 76 77 78 79 80 81 82 83 84 85 86 87 88 89 90 91 92 93 94 95\n",
            " 96 97 98 99]\n",
            "Digite o tamanho do reservatório em ft:5000\n",
            "\n",
            "O tamanho dos elementos do grid em uma malha estruturada é 50.0, e o delta X é 0.01 \n",
            "\n",
            "Digite o valor da viscosidade da água em cp:0.5963\n",
            "Digite o valor da viscosidade do óleo em cp:2.0\n",
            "Digite o valor da velocidade total de injeção em ft³/d:0.6\n",
            "Entre com a porosidade do meio:0.2\n",
            "Entre com os dias de injeção que será simulado:720\n",
            "\n",
            "O delta T normalizado é 0.006\n",
            "\n",
            "O número de courant é 0.6\n",
            "Entre com a condição de inicial (Sw):0.2\n",
            "Entre com a condição de contorno (Sw):0.8\n",
            "A matriz saturação tem a seguinte forma (72, 100)\n",
            "Entre com a saturação de água inicial (Swi):0.2\n",
            "Entre com a saturação de óleo residual (Sor):0.2\n",
            "Entre com a permeabilidade relativa da água no ponto terminal krw(Sor):0.3\n",
            "Entre com a permeabilidade relativa do óleo no ponto terminal kro(Swi):0.9\n",
            "Insira o parâmetro de Corey (no):1.2\n",
            "Insira o parâmetro de Corey (nw):2.0\n",
            "Vetor com as iterações temporais: [ 0  1  2  3  4  5  6  7  8  9 10 11 12 13 14 15 16 17 18 19 20 21 22 23\n",
            " 24 25 26 27 28 29 30 31 32 33 34 35 36 37 38 39 40 41 42 43 44 45 46 47\n",
            " 48 49 50 51 52 53 54 55 56 57 58 59 60 61 62 63 64 65 66 67 68 69 70 71]\n",
            "Tempo de execução: 0.43720173299971066 segundos\n"
          ],
          "name": "stdout"
        },
        {
          "output_type": "display_data",
          "data": {
            "image/png": "[encoded data removed]",
            "text/plain": [
              "<Figure size 576x360 with 1 Axes>"
            ]
          },
          "metadata": {
            "tags": [],
            "needs_background": "light"
          }
        }
      ]
    },
    {
      "cell_type": "markdown",
      "metadata": {
        "id": "sjxOFhSBe4lQ"
      },
      "source": [
        "## Comparação com o Excel"
      ]
    },
    {
      "cell_type": "code",
      "metadata": {
        "colab": {
          "base_uri": "https://localhost:8080/"
        },
        "id": "fY8gbFvQisqX",
        "outputId": "07c50059-5cee-477a-907e-0574002dc5ee"
      },
      "source": [
        "#Discretização do domínio \n",
        "nx = 15                                                               #Número de pontos do grid\n",
        "dominio = np.arange(nx)                                                #vetor domínio\n",
        "print(\"Número de dimensões: {}\".format(dominio.ndim))                  #número de dimensões\n",
        "print(dominio)"
      ],
      "execution_count": 14,
      "outputs": [
        {
          "output_type": "stream",
          "text": [
            "Número de dimensões: 1\n",
            "[ 0  1  2  3  4  5  6  7  8  9 10 11 12 13 14]\n"
          ],
          "name": "stdout"
        }
      ]
    },
    {
      "cell_type": "code",
      "metadata": {
        "colab": {
          "base_uri": "https://localhost:8080/"
        },
        "id": "GUq4fqo8i161",
        "outputId": "e6e8cc64-2640-40c1-fe07-0f2a79a99f83"
      },
      "source": [
        "#Calculo de Delta X\n",
        "#tamanho do meio poroso\n",
        "tam_meio_poroso = 5000 #ft\n",
        "#tamanho do elemento do grid\n",
        "tam_grid = tam_meio_poroso/nx\n",
        "#Delta X - normalizado\n",
        "dx = tam_grid/tam_meio_poroso\n",
        "print(\"O tamanho dos elementos do grid em uma malha estruturada é {}, e o delta X é {} \".format(tam_grid, dx))"
      ],
      "execution_count": 15,
      "outputs": [
        {
          "output_type": "stream",
          "text": [
            "O tamanho dos elementos do grid em uma malha estruturada é 333.3333333333333, e o delta X é 0.06666666666666667 \n"
          ],
          "name": "stdout"
        }
      ]
    },
    {
      "cell_type": "code",
      "metadata": {
        "colab": {
          "base_uri": "https://localhost:8080/"
        },
        "id": "y38RWinsjKo1",
        "outputId": "b3b7d66d-0183-4600-b84a-fa8ea5a5a0d6"
      },
      "source": [
        "#Calculo de Delta T\n",
        "#viscosidade da água \n",
        "visc_agua = 0.5963 #cp\n",
        "#viscosidade do óleo\n",
        "visc_oleo = 2 #cp\n",
        "#velocidade total na injeção \n",
        "ut = 1 #ft³/d - AVALIAR DEPOIS\n",
        "#porosidade\n",
        "porosidade_meio = 0.2\n",
        "#tempo de simulação \n",
        "nt = 365 #dias\n",
        "#passo de tempo\n",
        "passo_tempo = 10 #dias\n",
        "#Delta T - normalizado\n",
        "dt =  ut*passo_tempo/(tam_meio_poroso*porosidade_meio) #DÚVIDA: seria o passo de tempo ou o tempo total\n",
        "print(\"O delta T normalizado é {}\".format(dt))"
      ],
      "execution_count": 16,
      "outputs": [
        {
          "output_type": "stream",
          "text": [
            "O delta T normalizado é 0.01\n"
          ],
          "name": "stdout"
        }
      ]
    },
    {
      "cell_type": "code",
      "metadata": {
        "colab": {
          "base_uri": "https://localhost:8080/"
        },
        "id": "We3N6fW6jbv3",
        "outputId": "728dd171-fa79-49e3-8bbf-6e6745490552"
      },
      "source": [
        "#Número de Courant\n",
        "num_Courant = dt/dx # ANALISE DE SENSIBILIDADE DEPOIS\n",
        "print(f\"O número de courant é {num_Courant}\")"
      ],
      "execution_count": 17,
      "outputs": [
        {
          "output_type": "stream",
          "text": [
            "O número de courant é 0.15\n"
          ],
          "name": "stdout"
        }
      ]
    },
    {
      "cell_type": "code",
      "metadata": {
        "colab": {
          "base_uri": "https://localhost:8080/"
        },
        "id": "cx1_fLqsjiDm",
        "outputId": "4185e4c5-e0e1-4fec-85e3-9d50d392d13b"
      },
      "source": [
        "#condição de contorno e inicial\n",
        "#Condição Inicial Sw(X,0)\n",
        "sw_CI = 0.2\n",
        "#Condição de Contorno Sw(0,T)\n",
        "sw_CC = 0.8\n",
        "#Matriz de saturação para alocação dos resultados\n",
        "tempos_de_injecao = int(nt/passo_tempo)   #quantidade representando os tempos de injeção que serão calculados\n",
        "matriz_resultado_saturacao = np.zeros((tempos_de_injecao,nx)) \n",
        "matriz_resultado_saturacao.shape"
      ],
      "execution_count": 18,
      "outputs": [
        {
          "output_type": "execute_result",
          "data": {
            "text/plain": [
              "(36, 15)"
            ]
          },
          "metadata": {
            "tags": []
          },
          "execution_count": 18
        }
      ]
    },
    {
      "cell_type": "code",
      "metadata": {
        "id": "--SBr81xjqcV"
      },
      "source": [
        "#modificando a primeira linha da matriz para alocar os valores das condições iniciais\n",
        "matriz_resultado_saturacao[0,:] = sw_CI "
      ],
      "execution_count": 19,
      "outputs": []
    },
    {
      "cell_type": "code",
      "metadata": {
        "colab": {
          "base_uri": "https://localhost:8080/"
        },
        "id": "_MrJTIzMjr6Y",
        "outputId": "3cf1248b-5ee8-424f-9ede-d5815d2b125c"
      },
      "source": [
        "matriz_resultado_saturacao[0]"
      ],
      "execution_count": 20,
      "outputs": [
        {
          "output_type": "execute_result",
          "data": {
            "text/plain": [
              "array([0.2, 0.2, 0.2, 0.2, 0.2, 0.2, 0.2, 0.2, 0.2, 0.2, 0.2, 0.2, 0.2,\n",
              "       0.2, 0.2])"
            ]
          },
          "metadata": {
            "tags": []
          },
          "execution_count": 20
        }
      ]
    },
    {
      "cell_type": "code",
      "metadata": {
        "id": "sXJY14Hnju57"
      },
      "source": [
        "#Características do sistema molhável a água\n",
        "#saturação inicial\n",
        "swi = 0.2\n",
        "#saturação de óleo residual\n",
        "sor = 0.2\n",
        "#permeabilidade relativa da água na saturação residual\n",
        "krw_sor = 0.3 \n",
        "#permeabilidade relativa do óleo na saturação residual\n",
        "kro_swi = 0.99 \n",
        "#porosidade\n",
        "porosidade = porosidade_meio\n",
        "#parâmetros de Corey\n",
        "no = 1.0\n",
        "nw = 2"
      ],
      "execution_count": 23,
      "outputs": []
    },
    {
      "cell_type": "code",
      "metadata": {
        "colab": {
          "base_uri": "https://localhost:8080/"
        },
        "id": "Np_hOYP5kVpf",
        "outputId": "f8fc819a-3f7a-41da-adb8-6a3c8a6269b4"
      },
      "source": [
        "tempos_de_injecao = np.arange(tempos_de_injecao) #utilizado como vetor de tempo para o calculo de saturação\n",
        "tempos_de_injecao"
      ],
      "execution_count": 22,
      "outputs": [
        {
          "output_type": "execute_result",
          "data": {
            "text/plain": [
              "array([ 0,  1,  2,  3,  4,  5,  6,  7,  8,  9, 10, 11, 12, 13, 14, 15, 16,\n",
              "       17, 18, 19, 20, 21, 22, 23, 24, 25, 26, 27, 28, 29, 30, 31, 32, 33,\n",
              "       34, 35])"
            ]
          },
          "metadata": {
            "tags": []
          },
          "execution_count": 22
        }
      ]
    },
    {
      "cell_type": "code",
      "metadata": {
        "colab": {
          "base_uri": "https://localhost:8080/"
        },
        "id": "akwldP6xfNwc",
        "outputId": "55f111cf-b3bd-469c-bf7e-fc18218dd741"
      },
      "source": [
        "#Calculo da saturação e preenchimento da matriz de resultado\n",
        "#calulo do tempo de execução:\n",
        "start = timeit.default_timer()\n",
        "for n in tempos_de_injecao:\n",
        "  #calculo da primeira linha\n",
        "  if n == 0:\n",
        "    for i in dominio:\n",
        "      if i == 0: \n",
        "        #primeiro ponto\n",
        "        mobilidade_i_menos_meio = mobilidade(sw_CC,visc_agua,visc_oleo)\n",
        "        mobilidade_i = mobilidade(sw_CC,visc_agua,visc_oleo)\n",
        "        sw_n_mais_1 = dt/dx*(mobilidade_i_menos_meio - mobilidade_i) + sw_CC\n",
        "        matriz_resultado_saturacao[n,i] =  sw_n_mais_1\n",
        "      else:\n",
        "        #outros ponto\n",
        "        sw_ajustado =  matriz_resultado_saturacao[n,i-1] \n",
        "        mobilidade_i_menos_meio = mobilidade(sw_ajustado,visc_agua,visc_oleo)\n",
        "        mobilidade_i = mobilidade(sw_CI,visc_agua,visc_oleo)\n",
        "        sw_n_mais_1 = dt/dx * (mobilidade_i_menos_meio - mobilidade_i) + sw_CI\n",
        "        matriz_resultado_saturacao[n,i] =  sw_n_mais_1\n",
        "  #Cálculo das demais linhas      \n",
        "  else:\n",
        "      for i in dominio:\n",
        "        if i == 0: \n",
        "          #primeiro ponto\n",
        "          mobilidade_i_menos_meio = mobilidade(sw_CC,visc_agua,visc_oleo)\n",
        "          mobilidade_i = mobilidade(sw_CC,visc_agua,visc_oleo)\n",
        "          sw_n_mais_1 = dt/dx*(mobilidade_i_menos_meio - mobilidade_i) + matriz_resultado_saturacao[n-1,i]\n",
        "          matriz_resultado_saturacao[n,i] =  sw_n_mais_1\n",
        "        else:\n",
        "          #outros ponto\n",
        "          sw_ajustado =  matriz_resultado_saturacao[n-1,i-1] \n",
        "          mobilidade_i_menos_meio = mobilidade(sw_ajustado,visc_agua,visc_oleo)\n",
        "          mobilidade_i = mobilidade(matriz_resultado_saturacao[n-1,i],visc_agua,visc_oleo)\n",
        "          sw_n_mais_1 = dt/dx * (mobilidade_i_menos_meio - mobilidade_i) + matriz_resultado_saturacao[n-1,i]\n",
        "          matriz_resultado_saturacao[n,i] =  sw_n_mais_1\n",
        "stop = timeit.default_timer()\n",
        "print('Tempo de execução: {} segundos'.format(stop-start))"
      ],
      "execution_count": 24,
      "outputs": [
        {
          "output_type": "stream",
          "text": [
            "Tempo de execução: 0.03720923900073103 segundos\n"
          ],
          "name": "stdout"
        }
      ]
    },
    {
      "cell_type": "code",
      "metadata": {
        "colab": {
          "base_uri": "https://localhost:8080/",
          "height": 360
        },
        "id": "LKDGQziQhXcT",
        "outputId": "916a7a23-7238-4d81-89b8-e988cc6c67a1"
      },
      "source": [
        "#plotar os resultados\n",
        "vetor_comprimento = np.linspace(0, 1, nx)\n",
        "fig = plt.figure(figsize=(8,5))\n",
        "ax = plt.subplot(1,1,1)\n",
        "ax.plot(vetor_comprimento, matriz_resultado_saturacao[0], label = \"0.006 PVI \")\n",
        "ax.plot(vetor_comprimento, matriz_resultado_saturacao[5], label = \"0.042 PVI\")\n",
        "ax.plot(vetor_comprimento, matriz_resultado_saturacao[20], label = \"0.126 PVI\")\n",
        "ax.plot(vetor_comprimento, matriz_resultado_saturacao[29], label = \"0.216 PVI\")\n",
        "#ax.plot(vetor_comprimento, matriz_resultado_saturacao[71], label = \"0.432 PVI\")\n",
        "\n",
        "ax.set_xlabel(\"x/L\", fontsize=15)\n",
        "ax.set_ylabel(\"Saturação da água\", fontsize=15)\n",
        "plt.title(\"Curva de Saturação\", fontsize=20)\n",
        "ax.legend()\n",
        "plt.show()"
      ],
      "execution_count": 27,
      "outputs": [
        {
          "output_type": "display_data",
          "data": {
            "image/png": "[encoded data removed]",
            "text/plain": [
              "<Figure size 576x360 with 1 Axes>"
            ]
          },
          "metadata": {
            "tags": [],
            "needs_background": "light"
          }
        }
      ]
    },
    {
      "cell_type": "code",
      "metadata": {
        "colab": {
          "base_uri": "https://localhost:8080/"
        },
        "id": "XdiUHUKqhZn0",
        "outputId": "c361e2e4-9ff9-4266-de23-c66d85a4c40b"
      },
      "source": [
        "matriz_resultado_saturacao[1]"
      ],
      "execution_count": 29,
      "outputs": [
        {
          "output_type": "execute_result",
          "data": {
            "text/plain": [
              "array([0.8       , 0.48828742, 0.22336594, 0.20011846, 0.2       ,\n",
              "       0.2       , 0.2       , 0.2       , 0.2       , 0.2       ,\n",
              "       0.2       , 0.2       , 0.2       , 0.2       , 0.2       ])"
            ]
          },
          "metadata": {
            "tags": []
          },
          "execution_count": 29
        }
      ]
    },
    {
      "cell_type": "code",
      "metadata": {
        "id": "0ZQvYWXyhjiD"
      },
      "source": [
        "def explicit_saturation_excel():\n",
        "\n",
        "  #Discretização do domínio \n",
        "  \n",
        "  nx = int(input(\"Digite o número de pontos do grid: \"))                 #Número de pontos do grid\n",
        "  dominio = np.arange(nx)                                                #vetor domínio\n",
        "  print(\"Número de dimensões: {}\".format(dominio.ndim))                  #número de dimensões\n",
        "  print(dominio)\n",
        "\n",
        "  #Calculo de Delta X\n",
        "\n",
        "  #tamanho do meio poroso\n",
        "  tam_meio_poroso = int(input(\"Digite o tamanho do reservatório em ft:\"))\n",
        "  #tamanho do elemento do grid\n",
        "  tam_grid = tam_meio_poroso/nx\n",
        "  #Delta X - normalizado\n",
        "  dx = tam_grid/tam_meio_poroso\n",
        "  print(\"\") \n",
        "  print(\"O tamanho dos elementos do grid em uma malha estruturada é {}, e o delta X é {} \".format(tam_grid, dx))\n",
        "  print(\"\") \n",
        "\n",
        "  #Calculo de Delta T\n",
        "\n",
        "  #viscosidade da água \n",
        "  visc_agua = float(input(\"Digite o valor da viscosidade da água em cp:\"))\n",
        "  #viscosidade do óleo\n",
        "  visc_oleo = float(input(\"Digite o valor da viscosidade do óleo em cp:\"))\n",
        "  #velocidade total na injeção \n",
        "  ut = float(input(\"Digite o valor da velocidade total de injeção em ft³/d:\"))\n",
        "  #porosidade\n",
        "  porosidade_meio = float(input(\"Entre com a porosidade do meio:\"))\n",
        "  #tempo de simulação \n",
        "  nt = int(input(\"Entre com os dias de injeção que será simulado:\"))\n",
        "  #passo de tempo\n",
        "  passo_tempo = 10 #dias\n",
        "  #Delta T - normalizado\n",
        "  dt =  ut*passo_tempo/(tam_meio_poroso*porosidade_meio) #DÚVIDA: seria o passo de tempo ou o tempo total\n",
        "  print(\"\") \n",
        "  print(\"O delta T normalizado é {}\".format(dt))\n",
        "\n",
        "  #Número de Courant\n",
        "\n",
        "  num_Courant = dt/dx\n",
        "  print(\"\") \n",
        "  print(f\"O número de courant é {num_Courant}\")\n",
        "  print(\"\")\n",
        "\n",
        "  #condição de contorno e inicial\n",
        "\n",
        "  #Condição Inicial Sw(X,0)\n",
        "  sw_CI = float(input(\"Entre com a condição de inicial (Sw):\"))\n",
        "  #Condição de Contorno Sw(0,T)\n",
        "  sw_CC = float(input(\"Entre com a condição de contorno (Sw):\"))\n",
        "  #Matriz de saturação para alocação dos resultados\n",
        "  tempos_de_injecao = int(nt/passo_tempo)   #quantidade representando os tempos de injeção que serão calculados\n",
        "  matriz_resultado_saturacao = np.zeros((tempos_de_injecao,nx)) \n",
        "  print(\"\")\n",
        "  print(f'A matriz saturação tem a seguinte forma {matriz_resultado_saturacao.shape}')\n",
        "  print(\"\")\n",
        "\n",
        "  #modificando a primeira linha da matriz para alocar os valores das condições iniciais\n",
        "  matriz_resultado_saturacao[0,:] = sw_CI \n",
        "\n",
        "  #Características do sistema \n",
        "\n",
        "  #saturação inicial\n",
        "  swi = float(input(\"Entre com a saturação de água inicial (Swi):\"))\n",
        "  #saturação de óleo residual\n",
        "  sor = float(input(\"Entre com a saturação de óleo residual (Sor):\"))\n",
        "  #permeabilidade relativa da água na saturação residual\n",
        "  krw_sor = float(input(\"Entre com a permeabilidade relativa da água no ponto terminal krw(Sor):\"))\n",
        "  #permeabilidade relativa do óleo na saturação residual\n",
        "  kro_swi = float(input(\"Entre com a permeabilidade relativa do óleo no ponto terminal kro(Swi):\"))\n",
        "  #porosidade\n",
        "  porosidade = porosidade_meio\n",
        "  #parâmetros de Corey\n",
        "  no = float(input(\"Insira o parâmetro de Corey (no):\"))\n",
        "  nw = float(input(\"Insira o parâmetro de Corey (nw):\"))\n",
        "\n",
        "  tempos_de_injecao = np.arange(tempos_de_injecao) #utilizado como vetor de tempo para o calculo de saturação\n",
        "  print(\"\")\n",
        "  print(f'Vetor com as iterações temporais: {tempos_de_injecao}')\n",
        "  print(\"\")\n",
        "\n",
        "  #Calculo da saturação e preenchimento da matriz de resultado\n",
        "\n",
        "  #calulo do tempo de execução:\n",
        "  start = timeit.default_timer()\n",
        "\n",
        "  for n in tempos_de_injecao:\n",
        "    #calculo da primeira linha\n",
        "    if n == 0:\n",
        "      for i in dominio:\n",
        "        if i == 0: \n",
        "          #primeiro ponto\n",
        "          mobilidade_i_menos_meio = mobilidade(sw_CC,visc_agua,visc_oleo)\n",
        "          mobilidade_i = mobilidade(sw_CC,visc_agua,visc_oleo)\n",
        "          sw_n_mais_1 = dt/dx*(mobilidade_i_menos_meio - mobilidade_i) + sw_CC\n",
        "          matriz_resultado_saturacao[n,i] =  sw_n_mais_1\n",
        "        else:\n",
        "          #outros ponto\n",
        "          sw_ajustado =  matriz_resultado_saturacao[n,i-1] \n",
        "          mobilidade_i_menos_meio = mobilidade(sw_ajustado,visc_agua,visc_oleo)\n",
        "          mobilidade_i = mobilidade(sw_CI,visc_agua,visc_oleo)\n",
        "          sw_n_mais_1 = dt/dx * (mobilidade_i_menos_meio - mobilidade_i) + sw_CI\n",
        "          matriz_resultado_saturacao[n,i] =  sw_n_mais_1\n",
        "    #Cálculo das demais linhas      \n",
        "    else:\n",
        "        for i in dominio:\n",
        "          if i == 0: \n",
        "            #primeiro ponto\n",
        "            mobilidade_i_menos_meio = mobilidade(sw_CC,visc_agua,visc_oleo)\n",
        "            mobilidade_i = mobilidade(sw_CC,visc_agua,visc_oleo)\n",
        "            sw_n_mais_1 = dt/dx*(mobilidade_i_menos_meio - mobilidade_i) + matriz_resultado_saturacao[n-1,i]\n",
        "            matriz_resultado_saturacao[n,i] =  sw_n_mais_1\n",
        "          else:\n",
        "            #outros ponto\n",
        "            sw_ajustado =  matriz_resultado_saturacao[n-1,i-1] \n",
        "            mobilidade_i_menos_meio = mobilidade(sw_ajustado,visc_agua,visc_oleo)\n",
        "            mobilidade_i = mobilidade(matriz_resultado_saturacao[n-1,i],visc_agua,visc_oleo)\n",
        "            sw_n_mais_1 = dt/dx * (mobilidade_i_menos_meio - mobilidade_i) + matriz_resultado_saturacao[n-1,i]\n",
        "            matriz_resultado_saturacao[n,i] =  sw_n_mais_1\n",
        "  \n",
        "  stop = timeit.default_timer()\n",
        "  print(\"\")\n",
        "  print('Tempo de execução: {} segundos'.format(stop-start))\n",
        "  print(\"\")\n",
        "\n",
        "  #plotar os resultados\n",
        "  vetor_comprimento = np.linspace(0, 1, nx)\n",
        "  fig = plt.figure(figsize=(8,5))\n",
        "  ax = plt.subplot(1,1,1)\n",
        "  ax.plot(vetor_comprimento, matriz_resultado_saturacao[0], label = \"0.006 PVI \")\n",
        "  ax.plot(vetor_comprimento, matriz_resultado_saturacao[5], label = \"0.042 PVI\")\n",
        "  ax.plot(vetor_comprimento, matriz_resultado_saturacao[20], label = \"0.126 PVI\")\n",
        "  ax.plot(vetor_comprimento, matriz_resultado_saturacao[29], label = \"0.216 PVI\")\n",
        "  #ax.plot(vetor_comprimento, matriz_resultado_saturacao[71], label = \"0.432 PVI\")\n",
        "\n",
        "  ax.set_xlabel(\"x/L\", fontsize=15)\n",
        "  ax.set_ylabel(\"Saturação da água\", fontsize=15)\n",
        "  plt.title(\"Curva de Saturação\", fontsize=20)\n",
        "  ax.legend()\n",
        "  plt.show()\n",
        "\n",
        "  return"
      ],
      "execution_count": 32,
      "outputs": []
    },
    {
      "cell_type": "code",
      "metadata": {
        "id": "6lg7RZsUzg7r"
      },
      "source": [
        ""
      ],
      "execution_count": null,
      "outputs": []
    }
  ]
}