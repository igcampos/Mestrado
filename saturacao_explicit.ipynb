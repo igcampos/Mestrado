{
  "nbformat": 4,
  "nbformat_minor": 0,
  "metadata": {
    "colab": {
      "name": "saturacao_explicit.ipynb",
      "provenance": [],
      "authorship_tag": "ABX9TyMWsEhsLfYva0riPOF57yWY",
      "include_colab_link": true
    },
    "kernelspec": {
      "name": "python3",
      "display_name": "Python 3"
    },
    "language_info": {
      "name": "python"
    }
  },
  "cells": [
    {
      "cell_type": "markdown",
      "metadata": {
        "id": "view-in-github",
        "colab_type": "text"
      },
      "source": [
        "<a href=\"https://colab.research.google.com/github/igcampos/Mestrado/blob/main/saturacao_explicit.ipynb\" target=\"_parent\"><img src=\"https://colab.research.google.com/assets/colab-badge.svg\" alt=\"Open In Colab\"/></a>"
      ]
    },
    {
      "cell_type": "markdown",
      "metadata": {
        "id": "nW5_zf2VIEP9"
      },
      "source": [
        "# Programas para soluções explicitas BL"
      ]
    },
    {
      "cell_type": "markdown",
      "metadata": {
        "id": "lUBY-EwvIZzA"
      },
      "source": [
        "Importação das bibliotecas"
      ]
    },
    {
      "cell_type": "code",
      "metadata": {
        "id": "KoDo60BFfZ5C"
      },
      "source": [
        "import numpy as np\n",
        "import matplotlib.pyplot as plt\n",
        "import time\n",
        "import sys\n",
        "from collections.abc import Iterable\n",
        "import timeit"
      ],
      "execution_count": 133,
      "outputs": []
    },
    {
      "cell_type": "markdown",
      "metadata": {
        "id": "1J3_Raf3Ywcd"
      },
      "source": [
        "Definindo os parâmetros de simulação"
      ]
    },
    {
      "cell_type": "code",
      "metadata": {
        "colab": {
          "base_uri": "https://localhost:8080/"
        },
        "id": "OFfsPmJvgGhW",
        "outputId": "f25e201e-2540-4461-df35-581b2467085b"
      },
      "source": [
        "#Discretização do domínio \n",
        "nx = 100                                                               #Número de pontos do grid\n",
        "dominio = np.arange(nx)                                                #vetor domínio\n",
        "print(\"Número de dimensões: {}\".format(dominio.ndim))                  #número de dimensões\n",
        "print(dominio)"
      ],
      "execution_count": 134,
      "outputs": [
        {
          "output_type": "stream",
          "text": [
            "Número de dimensões: 1\n",
            "[ 0  1  2  3  4  5  6  7  8  9 10 11 12 13 14 15 16 17 18 19 20 21 22 23\n",
            " 24 25 26 27 28 29 30 31 32 33 34 35 36 37 38 39 40 41 42 43 44 45 46 47\n",
            " 48 49 50 51 52 53 54 55 56 57 58 59 60 61 62 63 64 65 66 67 68 69 70 71\n",
            " 72 73 74 75 76 77 78 79 80 81 82 83 84 85 86 87 88 89 90 91 92 93 94 95\n",
            " 96 97 98 99]\n"
          ],
          "name": "stdout"
        }
      ]
    },
    {
      "cell_type": "code",
      "metadata": {
        "colab": {
          "base_uri": "https://localhost:8080/"
        },
        "id": "4p3R2PwYgLbz",
        "outputId": "3f97434c-b893-4e3f-eef3-a364a0d1b0b8"
      },
      "source": [
        "#Calculo de Delta X\n",
        "#tamanho do meio poroso\n",
        "tam_meio_poroso = 5000 #ft\n",
        "#tamanho do elemento do grid\n",
        "tam_grid = tam_meio_poroso/nx\n",
        "#Delta X - normalizado\n",
        "dx = tam_grid/tam_meio_poroso\n",
        "print(\"O tamanho dos elementos do grid em uma malha estruturada é {}, e o delta X é {} \".format(tam_grid, dx))"
      ],
      "execution_count": 135,
      "outputs": [
        {
          "output_type": "stream",
          "text": [
            "O tamanho dos elementos do grid em uma malha estruturada é 50.0, e o delta X é 0.01 \n"
          ],
          "name": "stdout"
        }
      ]
    },
    {
      "cell_type": "code",
      "metadata": {
        "colab": {
          "base_uri": "https://localhost:8080/"
        },
        "id": "ocjJGJQ6gPKD",
        "outputId": "4918c183-4770-47b7-e673-6d857711ff52"
      },
      "source": [
        "#Calculo de Delta T\n",
        "#viscosidade da água \n",
        "visc_agua = 0.5 #cp\n",
        "#viscosidade do óleo\n",
        "visc_oleo = 1 #cp\n",
        "#velocidade total na injeção \n",
        "ut = 0.1 #ft³/d \n",
        "#porosidade\n",
        "porosidade_meio = 0.2\n",
        "#tempo de simulação \n",
        "nt = 4000 #dias\n",
        "#passo de tempo\n",
        "passo_tempo = 10 #dias\n",
        "#Delta T - normalizado\n",
        "dt =  ut*passo_tempo/(tam_meio_poroso*porosidade_meio) \n",
        "print(\"O delta T normalizado é {}\".format(dt))"
      ],
      "execution_count": 136,
      "outputs": [
        {
          "output_type": "stream",
          "text": [
            "O delta T normalizado é 0.001\n"
          ],
          "name": "stdout"
        }
      ]
    },
    {
      "cell_type": "code",
      "metadata": {
        "colab": {
          "base_uri": "https://localhost:8080/"
        },
        "id": "Ij9DLiz8gesk",
        "outputId": "23ce77dd-e636-486b-8d07-0a9a14a99aed"
      },
      "source": [
        "#Número de Courant\n",
        "num_Courant = dt/dx \n",
        "print(f\"O número de courant é {num_Courant}\")"
      ],
      "execution_count": 137,
      "outputs": [
        {
          "output_type": "stream",
          "text": [
            "O número de courant é 0.1\n"
          ],
          "name": "stdout"
        }
      ]
    },
    {
      "cell_type": "code",
      "metadata": {
        "id": "Rb01BJpXh5NG"
      },
      "source": [
        "#Características do sistema molhável a água\n",
        "#saturação inicial\n",
        "swi = 0.2\n",
        "#saturação de óleo residual\n",
        "sor = 0.2\n",
        "#permeabilidade relativa da água na saturação residual\n",
        "krw_sor = 0.3 \n",
        "#permeabilidade relativa do óleo na saturação residual\n",
        "kro_swi = 0.85 \n",
        "#porosidade\n",
        "porosidade = porosidade_meio\n",
        "#parâmetros de Corey\n",
        "no = 3\n",
        "nw = 6"
      ],
      "execution_count": 138,
      "outputs": []
    },
    {
      "cell_type": "code",
      "metadata": {
        "colab": {
          "base_uri": "https://localhost:8080/"
        },
        "id": "ovw4df2wgg9E",
        "outputId": "f5d52a39-ece3-4eba-d10c-1f1434f59b75"
      },
      "source": [
        "#condição de contorno e inicial\n",
        "#Condição Inicial Sw(X,0)\n",
        "sw_CI = swi\n",
        "#Condição de Contorno Sw(0,T)\n",
        "sw_CC = 1-sor\n",
        "#Matriz de saturação para alocação dos resultados\n",
        "tempos_de_injecao = int(nt/passo_tempo)   #quantidade representando os tempos de injeção que serão calculados\n",
        "matriz_resultado_saturacao = np.zeros((tempos_de_injecao,nx)) \n",
        "matriz_resultado_saturacao.shape "
      ],
      "execution_count": 139,
      "outputs": [
        {
          "output_type": "execute_result",
          "data": {
            "text/plain": [
              "(400, 100)"
            ]
          },
          "metadata": {
            "tags": []
          },
          "execution_count": 139
        }
      ]
    },
    {
      "cell_type": "code",
      "metadata": {
        "id": "Opo27tjigppU"
      },
      "source": [
        "#modificando a primeira linha da matriz para alocar os valores das condições iniciais\n",
        "matriz_resultado_saturacao[0,:] = sw_CI "
      ],
      "execution_count": 140,
      "outputs": []
    },
    {
      "cell_type": "code",
      "metadata": {
        "colab": {
          "base_uri": "https://localhost:8080/"
        },
        "id": "H1lk-c7Uh1fh",
        "outputId": "967a6d98-2b21-43a0-e782-64b9fe62c23b"
      },
      "source": [
        "matriz_resultado_saturacao[0,:] "
      ],
      "execution_count": 141,
      "outputs": [
        {
          "output_type": "execute_result",
          "data": {
            "text/plain": [
              "array([0.2, 0.2, 0.2, 0.2, 0.2, 0.2, 0.2, 0.2, 0.2, 0.2, 0.2, 0.2, 0.2,\n",
              "       0.2, 0.2, 0.2, 0.2, 0.2, 0.2, 0.2, 0.2, 0.2, 0.2, 0.2, 0.2, 0.2,\n",
              "       0.2, 0.2, 0.2, 0.2, 0.2, 0.2, 0.2, 0.2, 0.2, 0.2, 0.2, 0.2, 0.2,\n",
              "       0.2, 0.2, 0.2, 0.2, 0.2, 0.2, 0.2, 0.2, 0.2, 0.2, 0.2, 0.2, 0.2,\n",
              "       0.2, 0.2, 0.2, 0.2, 0.2, 0.2, 0.2, 0.2, 0.2, 0.2, 0.2, 0.2, 0.2,\n",
              "       0.2, 0.2, 0.2, 0.2, 0.2, 0.2, 0.2, 0.2, 0.2, 0.2, 0.2, 0.2, 0.2,\n",
              "       0.2, 0.2, 0.2, 0.2, 0.2, 0.2, 0.2, 0.2, 0.2, 0.2, 0.2, 0.2, 0.2,\n",
              "       0.2, 0.2, 0.2, 0.2, 0.2, 0.2, 0.2, 0.2, 0.2])"
            ]
          },
          "metadata": {
            "tags": []
          },
          "execution_count": 141
        }
      ]
    },
    {
      "cell_type": "code",
      "metadata": {
        "colab": {
          "base_uri": "https://localhost:8080/"
        },
        "id": "jRjpVG2jiBzW",
        "outputId": "8e3c0f0f-ad73-45ab-e4c5-03673a54fc03"
      },
      "source": [
        "tempos_de_injecao = np.arange(tempos_de_injecao) #utilizado como vetor de tempo para o calculo de saturação\n",
        "tempos_de_injecao"
      ],
      "execution_count": 142,
      "outputs": [
        {
          "output_type": "execute_result",
          "data": {
            "text/plain": [
              "array([  0,   1,   2,   3,   4,   5,   6,   7,   8,   9,  10,  11,  12,\n",
              "        13,  14,  15,  16,  17,  18,  19,  20,  21,  22,  23,  24,  25,\n",
              "        26,  27,  28,  29,  30,  31,  32,  33,  34,  35,  36,  37,  38,\n",
              "        39,  40,  41,  42,  43,  44,  45,  46,  47,  48,  49,  50,  51,\n",
              "        52,  53,  54,  55,  56,  57,  58,  59,  60,  61,  62,  63,  64,\n",
              "        65,  66,  67,  68,  69,  70,  71,  72,  73,  74,  75,  76,  77,\n",
              "        78,  79,  80,  81,  82,  83,  84,  85,  86,  87,  88,  89,  90,\n",
              "        91,  92,  93,  94,  95,  96,  97,  98,  99, 100, 101, 102, 103,\n",
              "       104, 105, 106, 107, 108, 109, 110, 111, 112, 113, 114, 115, 116,\n",
              "       117, 118, 119, 120, 121, 122, 123, 124, 125, 126, 127, 128, 129,\n",
              "       130, 131, 132, 133, 134, 135, 136, 137, 138, 139, 140, 141, 142,\n",
              "       143, 144, 145, 146, 147, 148, 149, 150, 151, 152, 153, 154, 155,\n",
              "       156, 157, 158, 159, 160, 161, 162, 163, 164, 165, 166, 167, 168,\n",
              "       169, 170, 171, 172, 173, 174, 175, 176, 177, 178, 179, 180, 181,\n",
              "       182, 183, 184, 185, 186, 187, 188, 189, 190, 191, 192, 193, 194,\n",
              "       195, 196, 197, 198, 199, 200, 201, 202, 203, 204, 205, 206, 207,\n",
              "       208, 209, 210, 211, 212, 213, 214, 215, 216, 217, 218, 219, 220,\n",
              "       221, 222, 223, 224, 225, 226, 227, 228, 229, 230, 231, 232, 233,\n",
              "       234, 235, 236, 237, 238, 239, 240, 241, 242, 243, 244, 245, 246,\n",
              "       247, 248, 249, 250, 251, 252, 253, 254, 255, 256, 257, 258, 259,\n",
              "       260, 261, 262, 263, 264, 265, 266, 267, 268, 269, 270, 271, 272,\n",
              "       273, 274, 275, 276, 277, 278, 279, 280, 281, 282, 283, 284, 285,\n",
              "       286, 287, 288, 289, 290, 291, 292, 293, 294, 295, 296, 297, 298,\n",
              "       299, 300, 301, 302, 303, 304, 305, 306, 307, 308, 309, 310, 311,\n",
              "       312, 313, 314, 315, 316, 317, 318, 319, 320, 321, 322, 323, 324,\n",
              "       325, 326, 327, 328, 329, 330, 331, 332, 333, 334, 335, 336, 337,\n",
              "       338, 339, 340, 341, 342, 343, 344, 345, 346, 347, 348, 349, 350,\n",
              "       351, 352, 353, 354, 355, 356, 357, 358, 359, 360, 361, 362, 363,\n",
              "       364, 365, 366, 367, 368, 369, 370, 371, 372, 373, 374, 375, 376,\n",
              "       377, 378, 379, 380, 381, 382, 383, 384, 385, 386, 387, 388, 389,\n",
              "       390, 391, 392, 393, 394, 395, 396, 397, 398, 399])"
            ]
          },
          "metadata": {
            "tags": []
          },
          "execution_count": 142
        }
      ]
    },
    {
      "cell_type": "markdown",
      "metadata": {
        "id": "PHs4Y5tZH9mv"
      },
      "source": [
        "## Programa Sugerido"
      ]
    },
    {
      "cell_type": "code",
      "metadata": {
        "id": "Mx7FDqZHfdS1"
      },
      "source": [
        "#função para o cálculo do modelo Corey - AJUSTADO\n",
        "\n",
        "def perm_corey(sw,swi,sor,kro_swi,krw_sor,no,nw):\n",
        "  kro = []\n",
        "  krw = []\n",
        "\n",
        "  if isinstance(sw, Iterable):\n",
        "    #cálculo da permeabilidade relativa do óleo \n",
        "    for i in sw:\n",
        "        kr = kro_swi*((1-sor-i)/(1-swi-sor))**no\n",
        "        kro.append(kr)\n",
        "    kro = np.array([kro_swi if i >= 1 else i for i in kro]) #substituindo o valor 1 por kro_swi\n",
        "    kro[-1] = 0.0 # solução temporária para o erro \n",
        "\n",
        "    #cálculo da permeabilidade relativa da água\n",
        "    for i in sw:\n",
        "        kr = krw_sor*((i-swi)/(1-swi-sor))**nw\n",
        "        if kr > krw_sor:\n",
        "          kr = krw_sor\n",
        "        krw.append(kr)\n",
        "    krw = np.array(krw)\n",
        "\n",
        "\n",
        "  else:\n",
        "    #cálculo da permeabilidade relativa do óleo\n",
        "    kr = kro_swi*((1-sor-sw)/(1-swi-sor))**no\n",
        "    if kr > kro_swi:\n",
        "      kr = kro_swi\n",
        "    kro.append(kr)\n",
        "    kro = np.array(kro) \n",
        "    #cálculo da permeabilidade relativa da água \n",
        "    kr = krw_sor*((sw-swi)/(1-swi-sor))**nw\n",
        "    if kr > krw_sor:\n",
        "      kr = krw_sor\n",
        "    krw.append(kr)\n",
        "    krw = np.array(krw)\n",
        "  \n",
        "  return kro, krw\n",
        "\n",
        "#função que calcula a mobilidade em diferentes pontos de saturação\n",
        "def mobilidade(sw,visc_agua,visc_oleo):\n",
        "\n",
        "  numerador_da_funcao = perm_corey(sw,swi,sor,kro_swi,krw_sor,no,nw)[1]/visc_agua\n",
        "  denominador_da_funcao = (perm_corey(sw,swi,sor,kro_swi,krw_sor,no,nw)[1]/visc_agua) + (perm_corey(sw,swi,sor,kro_swi,krw_sor,no,nw)[0]/visc_oleo)\n",
        "  resultado_mobilidade =  numerador_da_funcao/denominador_da_funcao\n",
        "\n",
        "  return resultado_mobilidade"
      ],
      "execution_count": 11,
      "outputs": []
    },
    {
      "cell_type": "code",
      "metadata": {
        "colab": {
          "base_uri": "https://localhost:8080/"
        },
        "id": "6oAKMcjHiTy3",
        "outputId": "3410876a-05f9-4052-863c-3400f9678d0d"
      },
      "source": [
        "#Calculo da saturação e preenchimento da matriz de resultado\n",
        "#calulo do tempo de execução:\n",
        "start = timeit.default_timer()\n",
        "for n in tempos_de_injecao:\n",
        "  #calculo da primeira linha\n",
        "  if n == 0:\n",
        "    for i in dominio:\n",
        "      if i == 0: \n",
        "        #primeiro ponto\n",
        "        mobilidade_i_menos_meio = mobilidade(sw_CC,visc_agua,visc_oleo)\n",
        "        mobilidade_i = mobilidade(sw_CI,visc_agua,visc_oleo)\n",
        "        sw_n_mais_1 = dt/dx*(mobilidade_i_menos_meio - mobilidade_i) + sw_CI\n",
        "        matriz_resultado_saturacao[n,i] =  sw_n_mais_1\n",
        "      else:\n",
        "        #outros pontos\n",
        "        sw_ajustado =  (matriz_resultado_saturacao[n,i-1] + matriz_resultado_saturacao[n,i])/2\n",
        "        mobilidade_i_menos_meio = mobilidade(sw_ajustado,visc_agua,visc_oleo)\n",
        "        mobilidade_i = mobilidade(sw_CI,visc_agua,visc_oleo)\n",
        "        sw_n_mais_1 = dt/dx * (mobilidade_i_menos_meio - mobilidade_i) + sw_CI\n",
        "        matriz_resultado_saturacao[n,i] =  sw_n_mais_1\n",
        "  #Cálculo das demais linhas      \n",
        "  else:\n",
        "      for i in dominio:\n",
        "        if i == 0: \n",
        "          #primeiro ponto\n",
        "          mobilidade_i_menos_meio = mobilidade(sw_CC,visc_agua,visc_oleo)\n",
        "          mobilidade_i = mobilidade(matriz_resultado_saturacao[n-1,i],visc_agua,visc_oleo)\n",
        "          sw_n_mais_1 = dt/dx*(mobilidade_i_menos_meio - mobilidade_i) + matriz_resultado_saturacao[n-1,i]\n",
        "          matriz_resultado_saturacao[n,i] =  sw_n_mais_1\n",
        "        else:\n",
        "          #outros ponto\n",
        "          sw_ajustado =  (matriz_resultado_saturacao[n-1,i-1] + matriz_resultado_saturacao[n-1,i])/2\n",
        "          mobilidade_i_menos_meio = mobilidade(sw_ajustado,visc_agua,visc_oleo)\n",
        "          mobilidade_i = mobilidade(matriz_resultado_saturacao[n-1,i],visc_agua,visc_oleo)\n",
        "          sw_n_mais_1 = dt/dx * (mobilidade_i_menos_meio - mobilidade_i) + matriz_resultado_saturacao[n-1,i]\n",
        "          matriz_resultado_saturacao[n,i] =  sw_n_mais_1\n",
        "stop = timeit.default_timer()\n",
        "print('Tempo de execução: {} segundos'.format(stop-start))"
      ],
      "execution_count": null,
      "outputs": [
        {
          "output_type": "stream",
          "text": [
            "Tempo de execução: 2.430577520000952 segundos\n"
          ],
          "name": "stdout"
        }
      ]
    },
    {
      "cell_type": "code",
      "metadata": {
        "colab": {
          "base_uri": "https://localhost:8080/",
          "height": 360
        },
        "id": "9lPlwGcrib_W",
        "outputId": "65131df2-c168-42e1-b11b-4f37ac01ff51"
      },
      "source": [
        "#plotar os resultados\n",
        "matriz_resultado_saturacao = np.insert(matriz_resultado_saturacao, 0, values = 0.8, axis=1) #Adicionando o ponto referente a condição de contorno\n",
        "vetor_comprimento = np.linspace(0, 1, nx+1)\n",
        "fig = plt.figure(figsize=(8,5))\n",
        "ax = plt.subplot(1,1,1)\n",
        "#ax.plot(vetor_comprimento, matriz_resultado_saturacao[9], label = \"0.01 PVI\")\n",
        "ax.plot(vetor_comprimento, matriz_resultado_saturacao[9], label = \"t=100 dias-0.06 PVI\")\n",
        "ax.plot(vetor_comprimento, matriz_resultado_saturacao[49], label = \"t=500 dias-0.3 PVI\")\n",
        "ax.plot(vetor_comprimento, matriz_resultado_saturacao[149], label = \"t=1500 dias-0.9 PVI\")\n",
        "ax.plot(vetor_comprimento, matriz_resultado_saturacao[349], label = \"t=3500 dias-2.1 PVI\")\n",
        "\n",
        "ax.set_xlabel(\"x/L\", fontsize=15)\n",
        "ax.set_ylabel(\"Saturação da água\", fontsize=15)\n",
        "plt.title(\"Curva de Saturação - ut = 0.6 ft³/d\", fontsize=20)\n",
        "ax.legend(loc=\"upper right\")\n",
        "plt.show()"
      ],
      "execution_count": null,
      "outputs": [
        {
          "output_type": "display_data",
          "data": {
            "image/png": "[encoded data removed]",
            "text/plain": [
              "<Figure size 576x360 with 1 Axes>"
            ]
          },
          "metadata": {
            "tags": [],
            "needs_background": "light"
          }
        }
      ]
    },
    {
      "cell_type": "code",
      "metadata": {
        "colab": {
          "base_uri": "https://localhost:8080/"
        },
        "id": "69RsZEC3TuBj",
        "outputId": "aa764d3f-159f-4c1b-8381-496477896650"
      },
      "source": [
        "pvi = ut*3500/(porosidade*tam_meio_poroso)\n",
        "pvi"
      ],
      "execution_count": null,
      "outputs": [
        {
          "output_type": "execute_result",
          "data": {
            "text/plain": [
              "2.1"
            ]
          },
          "metadata": {
            "tags": []
          },
          "execution_count": 131
        }
      ]
    },
    {
      "cell_type": "code",
      "metadata": {
        "colab": {
          "base_uri": "https://localhost:8080/"
        },
        "id": "iLyEpp1Ngk2B",
        "outputId": "6eba4b92-b03b-4d66-823b-bb262a30757f"
      },
      "source": [
        "t = (0.05*porosidade*tam_meio_poroso)/ut\n",
        "t"
      ],
      "execution_count": null,
      "outputs": [
        {
          "output_type": "execute_result",
          "data": {
            "text/plain": [
              "83.33333333333334"
            ]
          },
          "metadata": {
            "tags": []
          },
          "execution_count": 132
        }
      ]
    },
    {
      "cell_type": "markdown",
      "metadata": {
        "id": "8D5hDjdqUE9b"
      },
      "source": [
        "### Construção da função visando usuário"
      ]
    },
    {
      "cell_type": "code",
      "metadata": {
        "id": "b-wUV-trYAiz"
      },
      "source": [
        "def explicit_saturation():\n",
        "\n",
        "  #Discretização do domínio \n",
        "  \n",
        "  nx = int(input(\"Digite o número de pontos do grid: \"))                 #Número de pontos do grid\n",
        "  dominio = np.arange(nx)                                                #vetor domínio\n",
        "  print(\"Número de dimensões: {}\".format(dominio.ndim))                  #número de dimensões\n",
        "  print(dominio)\n",
        "\n",
        "  #Calculo de Delta X\n",
        "\n",
        "  #tamanho do meio poroso\n",
        "  tam_meio_poroso = int(input(\"Digite o tamanho do reservatório em ft:\"))\n",
        "  #tamanho do elemento do grid\n",
        "  tam_grid = tam_meio_poroso/nx\n",
        "  #Delta X - normalizado\n",
        "  dx = tam_grid/tam_meio_poroso\n",
        "  print(\"\") \n",
        "  print(\"O tamanho dos elementos do grid em uma malha estruturada é {}, e o delta X é {} \".format(tam_grid, dx))\n",
        "  print(\"\") \n",
        "\n",
        "  #Calculo de Delta T\n",
        "\n",
        "  #viscosidade da água \n",
        "  visc_agua = float(input(\"Digite o valor da viscosidade da água em cp:\"))\n",
        "  #viscosidade do óleo\n",
        "  visc_oleo = float(input(\"Digite o valor da viscosidade do óleo em cp:\"))\n",
        "  #velocidade total na injeção \n",
        "  ut = float(input(\"Digite o valor da velocidade total de injeção em ft³/d:\"))\n",
        "  #porosidade\n",
        "  porosidade_meio = float(input(\"Entre com a porosidade do meio:\"))\n",
        "  #tempo de simulação \n",
        "  nt = int(input(\"Entre com os dias de injeção que será simulado:\"))\n",
        "  #passo de tempo\n",
        "  passo_tempo = 10 #dias\n",
        "  #Delta T - normalizado\n",
        "  dt =  ut*passo_tempo/(tam_meio_poroso*porosidade_meio) #DÚVIDA: seria o passo de tempo ou o tempo total\n",
        "  print(\"\") \n",
        "  print(\"O delta T normalizado é {}\".format(dt))\n",
        "\n",
        "  #Número de Courant\n",
        "\n",
        "  num_Courant = dt/dx\n",
        "  print(\"\") \n",
        "  print(f\"O número de courant é {num_Courant}\")\n",
        "\n",
        "  #condição de contorno e inicial\n",
        "\n",
        "  #Condição Inicial Sw(X,0)\n",
        "  sw_CI = float(input(\"Entre com a condição de inicial (Sw):\"))\n",
        "  #Condição de Contorno Sw(0,T)\n",
        "  sw_CC = float(input(\"Entre com a condição de contorno (Sw):\"))\n",
        "  #Matriz de saturação para alocação dos resultados\n",
        "  tempos_de_injecao = int(nt/passo_tempo)   #quantidade representando os tempos de injeção que serão calculados\n",
        "  matriz_resultado_saturacao = np.zeros((tempos_de_injecao,nx)) \n",
        "  print(f'A matriz saturação tem a seguinte forma {matriz_resultado_saturacao.shape}')\n",
        "\n",
        "  #modificando a primeira linha da matriz para alocar os valores das condições iniciais\n",
        "  matriz_resultado_saturacao[0,:] = sw_CI \n",
        "\n",
        "  #Características do sistema \n",
        "\n",
        "  #saturação inicial\n",
        "  swi = float(input(\"Entre com a saturação de água inicial (Swi):\"))\n",
        "  #saturação de óleo residual\n",
        "  sor = float(input(\"Entre com a saturação de óleo residual (Sor):\"))\n",
        "  #permeabilidade relativa da água na saturação residual\n",
        "  krw_sor = float(input(\"Entre com a permeabilidade relativa da água no ponto terminal krw(Sor):\"))\n",
        "  #permeabilidade relativa do óleo na saturação residual\n",
        "  kro_swi = float(input(\"Entre com a permeabilidade relativa do óleo no ponto terminal kro(Swi):\"))\n",
        "  #porosidade\n",
        "  porosidade = porosidade_meio\n",
        "  #parâmetros de Corey\n",
        "  no = float(input(\"Insira o parâmetro de Corey (no):\"))\n",
        "  nw = float(input(\"Insira o parâmetro de Corey (nw):\"))\n",
        "\n",
        "  tempos_de_injecao = np.arange(tempos_de_injecao) #utilizado como vetor de tempo para o calculo de saturação\n",
        "  print(f'Vetor com as iterações temporais: {tempos_de_injecao}')\n",
        "\n",
        "  #Calculo da saturação e preenchimento da matriz de resultado\n",
        "\n",
        "  #calulo do tempo de execução:\n",
        "  start = timeit.default_timer()\n",
        "\n",
        "  for n in tempos_de_injecao:\n",
        "    #calculo da primeira linha\n",
        "    if n == 0:\n",
        "      for i in dominio:\n",
        "        if i == 0: \n",
        "          #primeiro ponto\n",
        "          mobilidade_i_menos_meio = mobilidade(sw_CC,visc_agua,visc_oleo)\n",
        "          mobilidade_i = mobilidade(sw_CI,visc_agua,visc_oleo)\n",
        "          sw_n_mais_1 = dt/dx*(mobilidade_i_menos_meio - mobilidade_i) + sw_CI\n",
        "          matriz_resultado_saturacao[n,i] =  sw_n_mais_1\n",
        "        else:\n",
        "          #outros ponto\n",
        "          sw_ajustado =  (matriz_resultado_saturacao[n,i-1] + matriz_resultado_saturacao[n,i])/2\n",
        "          mobilidade_i_menos_meio = mobilidade(sw_ajustado,visc_agua,visc_oleo)\n",
        "          mobilidade_i = mobilidade(sw_CI,visc_agua,visc_oleo)\n",
        "          sw_n_mais_1 = dt/dx * (mobilidade_i_menos_meio - mobilidade_i) + sw_CI\n",
        "          matriz_resultado_saturacao[n,i] =  sw_n_mais_1\n",
        "    #Cálculo das demais linhas      \n",
        "    else:\n",
        "        for i in dominio:\n",
        "          if i == 0: \n",
        "            #primeiro ponto\n",
        "            mobilidade_i_menos_meio = mobilidade(sw_CC,visc_agua,visc_oleo)\n",
        "            mobilidade_i = mobilidade(matriz_resultado_saturacao[n-1,i],visc_agua,visc_oleo)\n",
        "            sw_n_mais_1 = dt/dx*(mobilidade_i_menos_meio - mobilidade_i) + matriz_resultado_saturacao[n-1,i]\n",
        "            matriz_resultado_saturacao[n,i] =  sw_n_mais_1\n",
        "          else:\n",
        "            #outros ponto\n",
        "            sw_ajustado =  (matriz_resultado_saturacao[n-1,i-1] + matriz_resultado_saturacao[n-1,i])/2\n",
        "            mobilidade_i_menos_meio = mobilidade(sw_ajustado,visc_agua,visc_oleo)\n",
        "            mobilidade_i = mobilidade(matriz_resultado_saturacao[n-1,i],visc_agua,visc_oleo)\n",
        "            sw_n_mais_1 = dt/dx * (mobilidade_i_menos_meio - mobilidade_i) + matriz_resultado_saturacao[n-1,i]\n",
        "            matriz_resultado_saturacao[n,i] =  sw_n_mais_1\n",
        "  \n",
        "  stop = timeit.default_timer()\n",
        "  print('Tempo de execução: {} segundos'.format(stop-start))\n",
        "\n",
        "  #plotar os resultados\n",
        "  matriz_resultado_saturacao = np.insert(matriz_resultado_saturacao, 0, values = 0.8, axis=1) #Adicionando o ponto referente a condição de contorno\n",
        "  vetor_comprimento = np.linspace(0, 1, nx+1)\n",
        "  fig = plt.figure(figsize=(8,5))\n",
        "  ax = plt.subplot(1,1,1)\n",
        "  ax.plot(vetor_comprimento, matriz_resultado_saturacao[0], label = \"0.006 PVI \")\n",
        "  ax.plot(vetor_comprimento, matriz_resultado_saturacao[6], label = \"0.042 PVI\")\n",
        "  ax.plot(vetor_comprimento, matriz_resultado_saturacao[20], label = \"0.126 PVI\")\n",
        "  ax.plot(vetor_comprimento, matriz_resultado_saturacao[35], label = \"0.216 PVI\")\n",
        "  ax.plot(vetor_comprimento, matriz_resultado_saturacao[71], label = \"0.432 PVI\")\n",
        "\n",
        "  ax.set_xlabel(\"x/L\", fontsize=15)\n",
        "  ax.set_ylabel(\"Saturação da água\", fontsize=15)\n",
        "  plt.title(\"Curva de Saturação\", fontsize=20)\n",
        "  ax.legend()\n",
        "  plt.show()\n",
        "\n",
        "  return"
      ],
      "execution_count": null,
      "outputs": []
    },
    {
      "cell_type": "code",
      "metadata": {
        "id": "2hJtBE79Y523"
      },
      "source": [
        "#explicit_saturation()"
      ],
      "execution_count": null,
      "outputs": []
    },
    {
      "cell_type": "markdown",
      "metadata": {
        "id": "sjxOFhSBe4lQ"
      },
      "source": [
        "## Comparação com o Excel"
      ]
    },
    {
      "cell_type": "code",
      "metadata": {
        "colab": {
          "base_uri": "https://localhost:8080/"
        },
        "id": "fY8gbFvQisqX",
        "outputId": "95e90990-ebcc-4bde-b28c-a82027833336"
      },
      "source": [
        "#Discretização do domínio \n",
        "nx = 15                                                               #Número de pontos do grid\n",
        "dominio = np.arange(nx)                                                #vetor domínio\n",
        "print(\"Número de dimensões: {}\".format(dominio.ndim))                  #número de dimensões\n",
        "print(dominio)"
      ],
      "execution_count": null,
      "outputs": [
        {
          "output_type": "stream",
          "text": [
            "Número de dimensões: 1\n",
            "[ 0  1  2  3  4  5  6  7  8  9 10 11 12 13 14]\n"
          ],
          "name": "stdout"
        }
      ]
    },
    {
      "cell_type": "code",
      "metadata": {
        "colab": {
          "base_uri": "https://localhost:8080/"
        },
        "id": "GUq4fqo8i161",
        "outputId": "fa469bf7-62da-4452-a043-a33a1e38d29e"
      },
      "source": [
        "#Calculo de Delta X\n",
        "#tamanho do meio poroso\n",
        "tam_meio_poroso = 5000 #ft\n",
        "#tamanho do elemento do grid\n",
        "tam_grid = tam_meio_poroso/nx\n",
        "#Delta X - normalizado\n",
        "dx = tam_grid/tam_meio_poroso\n",
        "print(\"O tamanho dos elementos do grid em uma malha estruturada é {}, e o delta X é {} \".format(tam_grid, dx))"
      ],
      "execution_count": null,
      "outputs": [
        {
          "output_type": "stream",
          "text": [
            "O tamanho dos elementos do grid em uma malha estruturada é 333.3333333333333, e o delta X é 0.06666666666666667 \n"
          ],
          "name": "stdout"
        }
      ]
    },
    {
      "cell_type": "code",
      "metadata": {
        "colab": {
          "base_uri": "https://localhost:8080/"
        },
        "id": "y38RWinsjKo1",
        "outputId": "f7291969-8b04-494f-9669-df483d1380d2"
      },
      "source": [
        "#Calculo de Delta T\n",
        "#viscosidade da água \n",
        "visc_agua = 0.5963 #cp\n",
        "#viscosidade do óleo\n",
        "visc_oleo = 2 #cp\n",
        "#velocidade total na injeção \n",
        "ut = 1 #ft³/d - AVALIAR DEPOIS\n",
        "#porosidade\n",
        "porosidade_meio = 0.2\n",
        "#tempo de simulação \n",
        "nt = 365 #dias\n",
        "#passo de tempo\n",
        "passo_tempo = 10 #dias\n",
        "#Delta T - normalizado\n",
        "dt =  ut*passo_tempo/(tam_meio_poroso*porosidade_meio) #DÚVIDA: seria o passo de tempo ou o tempo total\n",
        "print(\"O delta T normalizado é {}\".format(dt))"
      ],
      "execution_count": null,
      "outputs": [
        {
          "output_type": "stream",
          "text": [
            "O delta T normalizado é 0.01\n"
          ],
          "name": "stdout"
        }
      ]
    },
    {
      "cell_type": "code",
      "metadata": {
        "colab": {
          "base_uri": "https://localhost:8080/"
        },
        "id": "We3N6fW6jbv3",
        "outputId": "8e118363-2390-4f85-d5c5-2e6c3b7381e8"
      },
      "source": [
        "#Número de Courant\n",
        "num_Courant = dt/dx # ANALISE DE SENSIBILIDADE DEPOIS\n",
        "print(f\"O número de courant é {num_Courant}\")"
      ],
      "execution_count": null,
      "outputs": [
        {
          "output_type": "stream",
          "text": [
            "O número de courant é 0.15\n"
          ],
          "name": "stdout"
        }
      ]
    },
    {
      "cell_type": "code",
      "metadata": {
        "colab": {
          "base_uri": "https://localhost:8080/"
        },
        "id": "cx1_fLqsjiDm",
        "outputId": "82fee70d-acfa-4682-fcf0-783b65e59086"
      },
      "source": [
        "#condição de contorno e inicial\n",
        "#Condição Inicial Sw(X,0)\n",
        "sw_CI = 0.2\n",
        "#Condição de Contorno Sw(0,T)\n",
        "sw_CC = 0.8\n",
        "#Matriz de saturação para alocação dos resultados\n",
        "tempos_de_injecao = int(nt/passo_tempo)   #quantidade representando os tempos de injeção que serão calculados\n",
        "matriz_resultado_saturacao = np.zeros((tempos_de_injecao,nx)) \n",
        "matriz_resultado_saturacao.shape"
      ],
      "execution_count": null,
      "outputs": [
        {
          "output_type": "execute_result",
          "data": {
            "text/plain": [
              "(36, 15)"
            ]
          },
          "metadata": {
            "tags": []
          },
          "execution_count": 139
        }
      ]
    },
    {
      "cell_type": "code",
      "metadata": {
        "id": "--SBr81xjqcV"
      },
      "source": [
        "#modificando a primeira linha da matriz para alocar os valores das condições iniciais\n",
        "matriz_resultado_saturacao[0,:] = sw_CI "
      ],
      "execution_count": null,
      "outputs": []
    },
    {
      "cell_type": "code",
      "metadata": {
        "colab": {
          "base_uri": "https://localhost:8080/"
        },
        "id": "_MrJTIzMjr6Y",
        "outputId": "0d1c9161-6a9a-4c93-9212-6f5e625f8fab"
      },
      "source": [
        "matriz_resultado_saturacao[0]"
      ],
      "execution_count": null,
      "outputs": [
        {
          "output_type": "execute_result",
          "data": {
            "text/plain": [
              "array([0.2, 0.2, 0.2, 0.2, 0.2, 0.2, 0.2, 0.2, 0.2, 0.2, 0.2, 0.2, 0.2,\n",
              "       0.2, 0.2])"
            ]
          },
          "metadata": {
            "tags": []
          },
          "execution_count": 141
        }
      ]
    },
    {
      "cell_type": "code",
      "metadata": {
        "id": "sXJY14Hnju57"
      },
      "source": [
        "#Características do sistema molhável a água\n",
        "#saturação inicial\n",
        "swi = 0.2\n",
        "#saturação de óleo residual\n",
        "sor = 0.2\n",
        "#permeabilidade relativa da água na saturação residual\n",
        "krw_sor = 0.3 \n",
        "#permeabilidade relativa do óleo na saturação residual\n",
        "kro_swi = 0.99 \n",
        "#porosidade\n",
        "porosidade = porosidade_meio\n",
        "#parâmetros de Corey\n",
        "no = 1.0\n",
        "nw = 2"
      ],
      "execution_count": null,
      "outputs": []
    },
    {
      "cell_type": "code",
      "metadata": {
        "colab": {
          "base_uri": "https://localhost:8080/"
        },
        "id": "Np_hOYP5kVpf",
        "outputId": "8df09520-5bb8-4ea3-9b1a-a50e7d29fb8f"
      },
      "source": [
        "tempos_de_injecao = np.arange(tempos_de_injecao) #utilizado como vetor de tempo para o calculo de saturação\n",
        "tempos_de_injecao"
      ],
      "execution_count": null,
      "outputs": [
        {
          "output_type": "execute_result",
          "data": {
            "text/plain": [
              "array([ 0,  1,  2,  3,  4,  5,  6,  7,  8,  9, 10, 11, 12, 13, 14, 15, 16,\n",
              "       17, 18, 19, 20, 21, 22, 23, 24, 25, 26, 27, 28, 29, 30, 31, 32, 33,\n",
              "       34, 35])"
            ]
          },
          "metadata": {
            "tags": []
          },
          "execution_count": 143
        }
      ]
    },
    {
      "cell_type": "code",
      "metadata": {
        "colab": {
          "base_uri": "https://localhost:8080/"
        },
        "id": "akwldP6xfNwc",
        "outputId": "70080f4e-c466-4b9b-9de4-1488de5d2a4a"
      },
      "source": [
        "#Calculo da saturação e preenchimento da matriz de resultado\n",
        "#calulo do tempo de execução:\n",
        "start = timeit.default_timer()\n",
        "for n in tempos_de_injecao:\n",
        "  #calculo da primeira linha\n",
        "  if n == 0:\n",
        "    for i in dominio:\n",
        "      if i == 0: \n",
        "        #primeiro ponto\n",
        "        mobilidade_i_menos_meio = mobilidade(sw_CC,visc_agua,visc_oleo)\n",
        "        mobilidade_i = mobilidade(sw_CC,visc_agua,visc_oleo)\n",
        "        sw_n_mais_1 = dt/dx*(mobilidade_i_menos_meio - mobilidade_i) + sw_CC\n",
        "        matriz_resultado_saturacao[n,i] =  sw_n_mais_1\n",
        "      else:\n",
        "        #outros ponto\n",
        "        sw_ajustado =  matriz_resultado_saturacao[n,i-1] \n",
        "        mobilidade_i_menos_meio = mobilidade(sw_ajustado,visc_agua,visc_oleo)\n",
        "        mobilidade_i = mobilidade(sw_CI,visc_agua,visc_oleo)\n",
        "        sw_n_mais_1 = dt/dx * (mobilidade_i_menos_meio - mobilidade_i) + sw_CI\n",
        "        matriz_resultado_saturacao[n,i] =  sw_n_mais_1\n",
        "  #Cálculo das demais linhas      \n",
        "  else:\n",
        "      for i in dominio:\n",
        "        if i == 0: \n",
        "          #primeiro ponto\n",
        "          mobilidade_i_menos_meio = mobilidade(sw_CC,visc_agua,visc_oleo)\n",
        "          mobilidade_i = mobilidade(sw_CC,visc_agua,visc_oleo)\n",
        "          sw_n_mais_1 = dt/dx*(mobilidade_i_menos_meio - mobilidade_i) + matriz_resultado_saturacao[n-1,i]\n",
        "          matriz_resultado_saturacao[n,i] =  sw_n_mais_1\n",
        "        else:\n",
        "          #outros ponto\n",
        "          sw_ajustado =  matriz_resultado_saturacao[n-1,i-1] \n",
        "          mobilidade_i_menos_meio = mobilidade(sw_ajustado,visc_agua,visc_oleo)\n",
        "          mobilidade_i = mobilidade(matriz_resultado_saturacao[n-1,i],visc_agua,visc_oleo)\n",
        "          sw_n_mais_1 = dt/dx * (mobilidade_i_menos_meio - mobilidade_i) + matriz_resultado_saturacao[n-1,i]\n",
        "          matriz_resultado_saturacao[n,i] =  sw_n_mais_1\n",
        "stop = timeit.default_timer()\n",
        "print('Tempo de execução: {} segundos'.format(stop-start))"
      ],
      "execution_count": null,
      "outputs": [
        {
          "output_type": "stream",
          "text": [
            "Tempo de execução: 0.046726996999495896 segundos\n"
          ],
          "name": "stdout"
        }
      ]
    },
    {
      "cell_type": "code",
      "metadata": {
        "colab": {
          "base_uri": "https://localhost:8080/",
          "height": 360
        },
        "id": "LKDGQziQhXcT",
        "outputId": "3183128d-1dc5-482a-f612-a3239b8352f1"
      },
      "source": [
        "#plotar os resultados\n",
        "matriz_resultado_saturacao = np.insert(matriz_resultado_saturacao, 0, values = 0.8, axis=1) #Adicionando o ponto referente a condição de contorno\n",
        "vetor_comprimento = np.linspace(0, 1, nx+1)\n",
        "fig = plt.figure(figsize=(8,5))\n",
        "ax = plt.subplot(1,1,1)\n",
        "ax.plot(vetor_comprimento, matriz_resultado_saturacao[0], label = \"0.006 PVI \")\n",
        "ax.plot(vetor_comprimento, matriz_resultado_saturacao[5], label = \"0.042 PVI\")\n",
        "ax.plot(vetor_comprimento, matriz_resultado_saturacao[20], label = \"0.126 PVI\")\n",
        "ax.plot(vetor_comprimento, matriz_resultado_saturacao[29], label = \"0.216 PVI\")\n",
        "#ax.plot(vetor_comprimento, matriz_resultado_saturacao[71], label = \"0.432 PVI\")\n",
        "\n",
        "ax.set_xlabel(\"x/L\", fontsize=15)\n",
        "ax.set_ylabel(\"Saturação da água\", fontsize=15)\n",
        "plt.title(\"Curva de Saturação\", fontsize=20)\n",
        "ax.legend()\n",
        "plt.show()"
      ],
      "execution_count": null,
      "outputs": [
        {
          "output_type": "display_data",
          "data": {
            "image/png": "[encoded data removed]",
            "text/plain": [
              "<Figure size 576x360 with 1 Axes>"
            ]
          },
          "metadata": {
            "tags": [],
            "needs_background": "light"
          }
        }
      ]
    },
    {
      "cell_type": "code",
      "metadata": {
        "colab": {
          "base_uri": "https://localhost:8080/"
        },
        "id": "XdiUHUKqhZn0",
        "outputId": "b5f6be75-eecf-49c7-ba30-2c8e96ec8062"
      },
      "source": [
        "matriz_resultado_saturacao[1]"
      ],
      "execution_count": null,
      "outputs": [
        {
          "output_type": "execute_result",
          "data": {
            "text/plain": [
              "array([0.8       , 0.8       , 0.48828742, 0.22336594, 0.20011846,\n",
              "       0.2       , 0.2       , 0.2       , 0.2       , 0.2       ,\n",
              "       0.2       , 0.2       , 0.2       , 0.2       , 0.2       ,\n",
              "       0.2       ])"
            ]
          },
          "metadata": {
            "tags": []
          },
          "execution_count": 146
        }
      ]
    },
    {
      "cell_type": "code",
      "metadata": {
        "id": "0ZQvYWXyhjiD"
      },
      "source": [
        "def explicit_saturation_excel():\n",
        "\n",
        "  #Discretização do domínio \n",
        "  \n",
        "  nx = int(input(\"Digite o número de pontos do grid: \"))                 #Número de pontos do grid\n",
        "  dominio = np.arange(nx)                                                #vetor domínio\n",
        "  print(\"Número de dimensões: {}\".format(dominio.ndim))                  #número de dimensões\n",
        "  print(dominio)\n",
        "\n",
        "  #Calculo de Delta X\n",
        "\n",
        "  #tamanho do meio poroso\n",
        "  tam_meio_poroso = int(input(\"Digite o tamanho do reservatório em ft:\"))\n",
        "  #tamanho do elemento do grid\n",
        "  tam_grid = tam_meio_poroso/nx\n",
        "  #Delta X - normalizado\n",
        "  dx = tam_grid/tam_meio_poroso\n",
        "  print(\"\") \n",
        "  print(\"O tamanho dos elementos do grid em uma malha estruturada é {}, e o delta X é {} \".format(tam_grid, dx))\n",
        "  print(\"\") \n",
        "\n",
        "  #Calculo de Delta T\n",
        "\n",
        "  #viscosidade da água \n",
        "  visc_agua = float(input(\"Digite o valor da viscosidade da água em cp:\"))\n",
        "  #viscosidade do óleo\n",
        "  visc_oleo = float(input(\"Digite o valor da viscosidade do óleo em cp:\"))\n",
        "  #velocidade total na injeção \n",
        "  ut = float(input(\"Digite o valor da velocidade total de injeção em ft³/d:\"))\n",
        "  #porosidade\n",
        "  porosidade_meio = float(input(\"Entre com a porosidade do meio:\"))\n",
        "  #tempo de simulação \n",
        "  nt = int(input(\"Entre com os dias de injeção que será simulado:\"))\n",
        "  #passo de tempo\n",
        "  passo_tempo = 10 #dias\n",
        "  #Delta T - normalizado\n",
        "  dt =  ut*passo_tempo/(tam_meio_poroso*porosidade_meio) #DÚVIDA: seria o passo de tempo ou o tempo total\n",
        "  print(\"\") \n",
        "  print(\"O delta T normalizado é {}\".format(dt))\n",
        "\n",
        "  #Número de Courant\n",
        "\n",
        "  num_Courant = dt/dx\n",
        "  print(\"\") \n",
        "  print(f\"O número de courant é {num_Courant}\")\n",
        "  print(\"\")\n",
        "\n",
        "  #condição de contorno e inicial\n",
        "\n",
        "  #Condição Inicial Sw(X,0)\n",
        "  sw_CI = float(input(\"Entre com a condição de inicial (Sw):\"))\n",
        "  #Condição de Contorno Sw(0,T)\n",
        "  sw_CC = float(input(\"Entre com a condição de contorno (Sw):\"))\n",
        "  #Matriz de saturação para alocação dos resultados\n",
        "  tempos_de_injecao = int(nt/passo_tempo)   #quantidade representando os tempos de injeção que serão calculados\n",
        "  matriz_resultado_saturacao = np.zeros((tempos_de_injecao,nx)) \n",
        "  print(\"\")\n",
        "  print(f'A matriz saturação tem a seguinte forma {matriz_resultado_saturacao.shape}')\n",
        "  print(\"\")\n",
        "\n",
        "  #modificando a primeira linha da matriz para alocar os valores das condições iniciais\n",
        "  matriz_resultado_saturacao[0,:] = sw_CI \n",
        "\n",
        "  #Características do sistema \n",
        "\n",
        "  #saturação inicial\n",
        "  swi = float(input(\"Entre com a saturação de água inicial (Swi):\"))\n",
        "  #saturação de óleo residual\n",
        "  sor = float(input(\"Entre com a saturação de óleo residual (Sor):\"))\n",
        "  #permeabilidade relativa da água na saturação residual\n",
        "  krw_sor = float(input(\"Entre com a permeabilidade relativa da água no ponto terminal krw(Sor):\"))\n",
        "  #permeabilidade relativa do óleo na saturação residual\n",
        "  kro_swi = float(input(\"Entre com a permeabilidade relativa do óleo no ponto terminal kro(Swi):\"))\n",
        "  #porosidade\n",
        "  porosidade = porosidade_meio\n",
        "  #parâmetros de Corey\n",
        "  no = float(input(\"Insira o parâmetro de Corey (no):\"))\n",
        "  nw = float(input(\"Insira o parâmetro de Corey (nw):\"))\n",
        "\n",
        "  tempos_de_injecao = np.arange(tempos_de_injecao) #utilizado como vetor de tempo para o calculo de saturação\n",
        "  print(\"\")\n",
        "  print(f'Vetor com as iterações temporais: {tempos_de_injecao}')\n",
        "  print(\"\")\n",
        "\n",
        "  #Calculo da saturação e preenchimento da matriz de resultado\n",
        "\n",
        "  #calulo do tempo de execução:\n",
        "  start = timeit.default_timer()\n",
        "\n",
        "  for n in tempos_de_injecao:\n",
        "    #calculo da primeira linha\n",
        "    if n == 0:\n",
        "      for i in dominio:\n",
        "        if i == 0: \n",
        "          #primeiro ponto\n",
        "          mobilidade_i_menos_meio = mobilidade(sw_CC,visc_agua,visc_oleo)\n",
        "          mobilidade_i = mobilidade(sw_CC,visc_agua,visc_oleo)\n",
        "          sw_n_mais_1 = dt/dx*(mobilidade_i_menos_meio - mobilidade_i) + sw_CC\n",
        "          matriz_resultado_saturacao[n,i] =  sw_n_mais_1\n",
        "        else:\n",
        "          #outros ponto\n",
        "          sw_ajustado =  matriz_resultado_saturacao[n,i-1] \n",
        "          mobilidade_i_menos_meio = mobilidade(sw_ajustado,visc_agua,visc_oleo)\n",
        "          mobilidade_i = mobilidade(sw_CI,visc_agua,visc_oleo)\n",
        "          sw_n_mais_1 = dt/dx * (mobilidade_i_menos_meio - mobilidade_i) + sw_CI\n",
        "          matriz_resultado_saturacao[n,i] =  sw_n_mais_1\n",
        "    #Cálculo das demais linhas      \n",
        "    else:\n",
        "        for i in dominio:\n",
        "          if i == 0: \n",
        "            #primeiro ponto\n",
        "            mobilidade_i_menos_meio = mobilidade(sw_CC,visc_agua,visc_oleo)\n",
        "            mobilidade_i = mobilidade(sw_CC,visc_agua,visc_oleo)\n",
        "            sw_n_mais_1 = dt/dx*(mobilidade_i_menos_meio - mobilidade_i) + matriz_resultado_saturacao[n-1,i]\n",
        "            matriz_resultado_saturacao[n,i] =  sw_n_mais_1\n",
        "          else:\n",
        "            #outros ponto\n",
        "            sw_ajustado =  matriz_resultado_saturacao[n-1,i-1] \n",
        "            mobilidade_i_menos_meio = mobilidade(sw_ajustado,visc_agua,visc_oleo)\n",
        "            mobilidade_i = mobilidade(matriz_resultado_saturacao[n-1,i],visc_agua,visc_oleo)\n",
        "            sw_n_mais_1 = dt/dx * (mobilidade_i_menos_meio - mobilidade_i) + matriz_resultado_saturacao[n-1,i]\n",
        "            matriz_resultado_saturacao[n,i] =  sw_n_mais_1\n",
        "  \n",
        "  stop = timeit.default_timer()\n",
        "  print(\"\")\n",
        "  print('Tempo de execução: {} segundos'.format(stop-start))\n",
        "  print(\"\")\n",
        "\n",
        "  #plotar os resultados\n",
        "  vetor_comprimento = np.linspace(0, 1, nx)\n",
        "  fig = plt.figure(figsize=(8,5))\n",
        "  ax = plt.subplot(1,1,1)\n",
        "  ax.plot(vetor_comprimento, matriz_resultado_saturacao[0], label = \"0.006 PVI \")\n",
        "  ax.plot(vetor_comprimento, matriz_resultado_saturacao[5], label = \"0.042 PVI\")\n",
        "  ax.plot(vetor_comprimento, matriz_resultado_saturacao[20], label = \"0.126 PVI\")\n",
        "  ax.plot(vetor_comprimento, matriz_resultado_saturacao[29], label = \"0.216 PVI\")\n",
        "  #ax.plot(vetor_comprimento, matriz_resultado_saturacao[71], label = \"0.432 PVI\")\n",
        "\n",
        "  ax.set_xlabel(\"x/L\", fontsize=15)\n",
        "  ax.set_ylabel(\"Saturação da água\", fontsize=15)\n",
        "  plt.title(\"Curva de Saturação\", fontsize=20)\n",
        "  ax.legend()\n",
        "  plt.show()\n",
        "\n",
        "  return"
      ],
      "execution_count": null,
      "outputs": []
    },
    {
      "cell_type": "markdown",
      "metadata": {
        "id": "JaDSPoN7AMyK"
      },
      "source": [
        "## Programa Corrigido - single point upstream"
      ]
    },
    {
      "cell_type": "code",
      "metadata": {
        "colab": {
          "base_uri": "https://localhost:8080/"
        },
        "id": "FivIV-iTBCmN",
        "outputId": "177195e7-c6a8-487e-dade-c8b6482cfb9c"
      },
      "source": [
        "#Calculo da saturação explicitamente utilizando o método single point upstream (ϕ=0)\n",
        "#calulo do tempo de execução:\n",
        "start = timeit.default_timer()\n",
        "for n in tempos_de_injecao:\n",
        "  #calculo da primeira linha\n",
        "  if n == 0:\n",
        "    for i in dominio:\n",
        "      if i == 0: \n",
        "        #primeiro ponto\n",
        "        mobilidade_i_menos_meio = mobilidade(sw_CC,visc_agua,visc_oleo)\n",
        "        mobilidade_i = mobilidade(sw_CI,visc_agua,visc_oleo)\n",
        "        sw_n_mais_1 = dt/dx*(mobilidade_i_menos_meio - mobilidade_i) + sw_CI\n",
        "        matriz_resultado_saturacao[n,i] =  sw_n_mais_1\n",
        "      else:\n",
        "        #outros ponto\n",
        "        sw_ajustado =  sw_CI\n",
        "        mobilidade_i_menos_meio = mobilidade(sw_ajustado,visc_agua,visc_oleo)\n",
        "        mobilidade_i = mobilidade(sw_CI,visc_agua,visc_oleo)\n",
        "        sw_n_mais_1 = dt/dx * (mobilidade_i_menos_meio - mobilidade_i) + sw_CI\n",
        "        matriz_resultado_saturacao[n,i] =  sw_n_mais_1\n",
        "  #Cálculo das demais linhas      \n",
        "  else:\n",
        "      for i in dominio:\n",
        "        if i == 0: \n",
        "          #primeiro ponto\n",
        "          mobilidade_i_menos_meio = mobilidade(sw_CC,visc_agua,visc_oleo)\n",
        "          mobilidade_i = mobilidade(matriz_resultado_saturacao[n-1,i],visc_agua,visc_oleo)\n",
        "          sw_n_mais_1 = dt/dx*(mobilidade_i_menos_meio - mobilidade_i) + matriz_resultado_saturacao[n-1,i]\n",
        "          matriz_resultado_saturacao[n,i] =  sw_n_mais_1\n",
        "        else:\n",
        "          #outros ponto\n",
        "          sw_ajustado =  matriz_resultado_saturacao[n-1,i-1] \n",
        "          mobilidade_i_menos_meio = mobilidade(sw_ajustado,visc_agua,visc_oleo)\n",
        "          mobilidade_i = mobilidade(matriz_resultado_saturacao[n-1,i],visc_agua,visc_oleo)\n",
        "          sw_n_mais_1 = dt/dx * (mobilidade_i_menos_meio - mobilidade_i) + matriz_resultado_saturacao[n-1,i]\n",
        "          matriz_resultado_saturacao[n,i] =  sw_n_mais_1\n",
        "matriz_resultado_saturacao_single_point = matriz_resultado_saturacao\n",
        "stop = timeit.default_timer()\n",
        "print('Tempo de execução: {} segundos'.format(stop-start))"
      ],
      "execution_count": null,
      "outputs": [
        {
          "output_type": "stream",
          "text": [
            "/usr/local/lib/python3.7/dist-packages/ipykernel_launcher.py:26: RuntimeWarning: invalid value encountered in double_scalars\n"
          ],
          "name": "stderr"
        },
        {
          "output_type": "stream",
          "text": [
            "Tempo de execução: 2.2489273969999886 segundos\n"
          ],
          "name": "stdout"
        }
      ]
    },
    {
      "cell_type": "code",
      "metadata": {
        "colab": {
          "base_uri": "https://localhost:8080/",
          "height": 360
        },
        "id": "622kZOIPBNeV",
        "outputId": "f9f75c3f-039e-4a71-d530-4d04a9022ef5"
      },
      "source": [
        "#plotar os resultados\n",
        "matriz_resultado_saturacao_single_point = np.insert(matriz_resultado_saturacao_single_point, 0, values = 0.8, axis=1) #Adicionando o ponto referente a condição de contorno\n",
        "vetor_comprimento = np.linspace(0, 1, nx+1)\n",
        "fig = plt.figure(figsize=(8,5))\n",
        "ax = plt.subplot(1,1,1)\n",
        "\n",
        "#PVI utilizados nos labels\n",
        "td_label_1= ut*360/(tam_meio_poroso*porosidade_meio)\n",
        "td_label_2= ut*730/(tam_meio_poroso*porosidade_meio)\n",
        "td_label_3= ut*1090/(tam_meio_poroso*porosidade_meio)\n",
        "td_label_4= ut*1820/(tam_meio_poroso*porosidade_meio)\n",
        "\n",
        "ax.plot(vetor_comprimento, matriz_resultado_saturacao_single_point[35], label = \"t=360 dias-{} PVI\".format(td_label_1))\n",
        "ax.plot(vetor_comprimento, matriz_resultado_saturacao_single_point[72], label = \"t=730 dias-{} PVI\".format(td_label_2))\n",
        "ax.plot(vetor_comprimento, matriz_resultado_saturacao_single_point[108], label = \"t=1090 dias-{} PVI\".format(td_label_3))\n",
        "#ax.plot(vetor_comprimento, matriz_resultado_saturacao_single_point[181], label = \"t=1820 dias-{} PVI\".format(td_label_4))\n",
        "\n",
        "\n",
        "ax.set_xlabel(\"x/L\", fontsize=15)\n",
        "ax.set_ylabel(\"Saturação da água\", fontsize=15)\n",
        "plt.title(\"Curva de Saturação - ut = {} ft³/d\".format(ut), fontsize=20)\n",
        "ax.legend(loc=\"upper right\")\n",
        "plt.show()"
      ],
      "execution_count": null,
      "outputs": [
        {
          "output_type": "display_data",
          "data": {
            "image/png": "[encoded data removed]",
            "text/plain": [
              "<Figure size 576x360 with 1 Axes>"
            ]
          },
          "metadata": {
            "tags": [],
            "needs_background": "light"
          }
        }
      ]
    },
    {
      "cell_type": "markdown",
      "metadata": {
        "id": "iuoyP_8zsrmY"
      },
      "source": [
        "## Programa Corrigido - Limitador de fluxo TVD"
      ]
    },
    {
      "cell_type": "code",
      "metadata": {
        "id": "rfK_Sxhvy9fA"
      },
      "source": [
        "#função para o cálculo de ajuste de fluxo\n",
        "\n",
        "def funcao_limitador(sw_i,sw_i_mais_um,sw_i_menos_um):\n",
        "  numerador = mobilidade(sw_i,visc_agua,visc_oleo) - mobilidade(sw_i_menos_um,visc_agua,visc_oleo)\n",
        "  denominador = mobilidade(sw_i_mais_um,visc_agua,visc_oleo)-mobilidade(sw_i,visc_agua,visc_oleo)\n",
        "  if denominador == 0:\n",
        "    r = 1\n",
        "  else:\n",
        "    r = numerador/denominador\n",
        "  return r\n",
        "\n",
        "def ajuste_fluxo(limitador_van_leer, sw_um, sw_dois):\n",
        "  func_ajuste_fluxo = limitador_van_leer/2*(mobilidade(sw_um,visc_agua,visc_oleo) - mobilidade(sw_dois,visc_agua,visc_oleo))*(1-num_Courant)\n",
        "\n",
        "  return func_ajuste_fluxo\n",
        "\n",
        "def van_leer(r):\n",
        "  if (1+r) == 0:\n",
        "    fi = 1\n",
        "  else:\n",
        "    fi = (r+abs(r))/(1+r)\n",
        "  return fi"
      ],
      "execution_count": 143,
      "outputs": []
    },
    {
      "cell_type": "code",
      "metadata": {
        "colab": {
          "base_uri": "https://localhost:8080/"
        },
        "id": "Hrtux9Nkytha",
        "outputId": "ce48bc30-c303-46f9-8f1e-1cf980416d47"
      },
      "source": [
        "#Cálculo da saturação explicitamente utilizando o método two point upstream (ϕ=r)\n",
        "\n",
        "#calulo do tempo de execução:\n",
        "start = timeit.default_timer()\n",
        "\n",
        "for n in tempos_de_injecao:\n",
        "\n",
        "  #cálculo da primeira linha\n",
        "  \n",
        "  if n == 0:\n",
        "\n",
        "    for i in dominio:\n",
        "      if i == 0: \n",
        "\n",
        "        #primeiro ponto\n",
        "        mobilidade_i_menos_meio = mobilidade(sw_CC,visc_agua,visc_oleo)\n",
        "\n",
        "        #cálculo do limitador de Van Leer para o primeiro ponto\n",
        "        #cálculo da função r para o primeiro ponto\n",
        "        r = funcao_limitador(sw_CI,sw_CI,sw_CC)\n",
        "        limitador_van_leer = van_leer(r)\n",
        "\n",
        "        #cálculo do fluxo ajustado \n",
        "        mobilidade_i_mais_meio = mobilidade(sw_CI,visc_agua,visc_oleo) + ajuste_fluxo(limitador_van_leer,sw_CI,sw_CI) \n",
        "\n",
        "        #auxiliar que grava o valor do fluxo de i+1/2\n",
        "        #que para próximo ponto, o fluxo i-1/2 terá o mesmo valor do auxiliar\n",
        "        aux = mobilidade_i_mais_meio \n",
        "        \n",
        "        #cálculo da saturação no novo passo de tempo (n+1)\n",
        "        sw_n_mais_1 = dt/dx*(mobilidade_i_menos_meio - mobilidade_i_mais_meio) + sw_CI\n",
        "        \n",
        "        #salvando os valores na matriz resultado\n",
        "        matriz_resultado_saturacao[n,i] =  sw_n_mais_1\n",
        "\n",
        "      else:\n",
        "        #outros pontos\n",
        "\n",
        "        sw_ajustado =  sw_CI\n",
        "\n",
        "        #cálculo do limitador de Van Leer para os demais pontos\n",
        "        r = funcao_limitador(sw_CI,sw_CI,sw_CI)\n",
        "        limitador_van_leer = van_leer(r)\n",
        "\n",
        "        #Fi-1/2 = Fi-1 + limitador/2*(Fi-Fi-1)\n",
        "        #mobilidade_i_menos_meio = mobilidade(sw_ajustado,visc_agua,visc_oleo) + ajuste_fluxo(limitador_van_leer,sw_CI,sw_CI) \n",
        "        mobilidade_i_menos_meio = aux\n",
        "\n",
        "        #Fi+1/2 = Fi + limitador/2*(Fi+1-Fi)\n",
        "        mobilidade_i_mais_meio = mobilidade(sw_CI,visc_agua,visc_oleo) + ajuste_fluxo(limitador_van_leer,sw_CI,sw_CI)\n",
        "        \n",
        "        #cálculo da saturação no novo passo de tempo (n+1)\n",
        "        sw_n_mais_1 = dt/dx * (mobilidade_i_menos_meio - mobilidade_i_mais_meio) + sw_CI\n",
        "        \n",
        "        #salvando os valores na matriz resultado\n",
        "        matriz_resultado_saturacao[n,i] =  sw_n_mais_1\n",
        "\n",
        "        #auxiliar para guardar o valor do fluxo na face do volume de controle\n",
        "        aux = mobilidade_i_mais_meio\n",
        "\n",
        "  #Cálculo das demais linhas      \n",
        "  else:\n",
        "\n",
        "      for i in dominio:\n",
        "        \n",
        "        if i == 0: \n",
        "          \n",
        "          #primeiro ponto\n",
        "          mobilidade_i_menos_meio = mobilidade(sw_CC,visc_agua,visc_oleo)\n",
        "\n",
        "          #cálculo do limitador\n",
        "          r = funcao_limitador(matriz_resultado_saturacao[n-1,i],matriz_resultado_saturacao[n-1,i+1],matriz_resultado_saturacao[n-1,i-1])\n",
        "          limitador_van_leer = van_leer(r)\n",
        "          \n",
        "          #Fi+1/2 = Fi + limitador/2*(Fi+1-Fi)\n",
        "          mobilidade_i_mais_meio = mobilidade(matriz_resultado_saturacao[n-1,i],visc_agua,visc_oleo) + ajuste_fluxo(limitador_van_leer,matriz_resultado_saturacao[n-1,i+1],matriz_resultado_saturacao[n-1,i])\n",
        "          \n",
        "          #cálculo da saturação no novo passo de tempo (n+1)\n",
        "          sw_n_mais_1 = dt/dx*(mobilidade_i_menos_meio - mobilidade_i_mais_meio) + matriz_resultado_saturacao[n-1,i]\n",
        "\n",
        "          #configurando a saturação para atingir valores entre 1-sor e swi\n",
        "          #sw_n_mais_1 = np.array([1-sor if sw_n_mais_1 >= (1-sor) else sw_n_mais_1])\n",
        "          #sw_n_mais_1 = np.array([swi if sw_n_mais_1 <= swi else sw_n_mais_1])\n",
        "          \n",
        "          #salvando os valores na matriz resultado\n",
        "          matriz_resultado_saturacao[n,i] =  sw_n_mais_1\n",
        "\n",
        "          #auxiliar para guardar o valor do fluxo na face do volume de controle\n",
        "          aux = mobilidade_i_mais_meio\n",
        "        \n",
        "        else:\n",
        "          \n",
        "          #outros pontos\n",
        "\n",
        "          #sw_ajustado =  matriz_resultado_saturacao[n-1,i-1]\n",
        "          \n",
        "          #cálculo do limitador\n",
        "          if i == nx-1:\n",
        "            r = funcao_limitador(matriz_resultado_saturacao[n-1,i],sw_CI,matriz_resultado_saturacao[n-1,i-1])\n",
        "            limitador_van_leer = van_leer(r)\n",
        "          else:\n",
        "            r = funcao_limitador(matriz_resultado_saturacao[n-1,i],matriz_resultado_saturacao[n-1,i+1],matriz_resultado_saturacao[n-1,i-1]) \n",
        "            limitador_van_leer = van_leer(r)\n",
        "\n",
        "          #Fi-1/2 = Fi-1 + limitador/2*(Fi-Fi-1)\n",
        "          mobilidade_i_menos_meio = aux\n",
        "\n",
        "          #Fi+1/2 = Fi + limitador/2*(Fi+1-Fi)\n",
        "          \n",
        "          #condição para quando chegar na fronteira de saída do domínio\n",
        "          if i == nx-1:\n",
        "            mobilidade_i_mais_meio = mobilidade(matriz_resultado_saturacao[n-1,i],visc_agua,visc_oleo) + ajuste_fluxo(limitador_van_leer,sw_CI,matriz_resultado_saturacao[n-1,i])\n",
        "          else:\n",
        "            mobilidade_i_mais_meio = mobilidade(matriz_resultado_saturacao[n-1,i],visc_agua,visc_oleo) + ajuste_fluxo(limitador_van_leer,matriz_resultado_saturacao[n-1,i+1],matriz_resultado_saturacao[n-1,i])\n",
        "          \n",
        "          #cálculo da saturação no novo passo de tempo (n+1)\n",
        "          sw_n_mais_1 = dt/dx * (mobilidade_i_menos_meio - mobilidade_i_mais_meio) + matriz_resultado_saturacao[n-1,i]\n",
        "\n",
        "          #configurando a saturação para atingir valores entre 1-sor e swi\n",
        "          #sw_n_mais_1 = np.array([1-sor if sw_n_mais_1 >= (1-sor) else sw_n_mais_1])\n",
        "          #sw_n_mais_1 = np.array([swi if sw_n_mais_1 <= swi else sw_n_mais_1])\n",
        "\n",
        "          #salvando os valores na matriz resultado\n",
        "          matriz_resultado_saturacao[n,i] =  sw_n_mais_1\n",
        "\n",
        "          #auxiliar para guardar o valor do fluxo na face do volume de controle\n",
        "          aux = mobilidade_i_mais_meio\n",
        "\n",
        "#salvando a matriz com nome específico para poder realizar análises comparativas\n",
        "matriz_resultado_saturacao_two_point = matriz_resultado_saturacao\n",
        "\n",
        "#tempo de execução finalizado\n",
        "stop = timeit.default_timer()\n",
        "\n",
        "print('Tempo de execução: {} segundos'.format(stop-start))"
      ],
      "execution_count": 169,
      "outputs": [
        {
          "output_type": "stream",
          "text": [
            "Tempo de execução: 9.037374732999524 segundos\n"
          ],
          "name": "stdout"
        }
      ]
    },
    {
      "cell_type": "code",
      "metadata": {
        "colab": {
          "base_uri": "https://localhost:8080/",
          "height": 360
        },
        "id": "b8zf2bjfUv-s",
        "outputId": "6eac3fac-83f7-4d35-9f78-8e34d5fa59b4"
      },
      "source": [
        "#plotar os resultados \n",
        "matriz_resultado_saturacao_two_point = np.insert(matriz_resultado_saturacao_two_point, 0, values = sw_CC, axis=1) #Adicionando o ponto referente a condição de contorno\n",
        "vetor_comprimento = np.linspace(0, 1, nx+1)\n",
        "fig = plt.figure(figsize=(8,5))\n",
        "ax = plt.subplot(1,1,1)\n",
        "ax.plot(vetor_comprimento, matriz_resultado_saturacao_two_point[49], label = \"0.05 PVI \") \n",
        "ax.plot(vetor_comprimento, matriz_resultado_saturacao_two_point[99], label = \"0.1 PVI\")\n",
        "ax.plot(vetor_comprimento, matriz_resultado_saturacao_two_point[299], label = \"0.3 PVI\")\n",
        "ax.plot(vetor_comprimento, matriz_resultado_saturacao_two_point[399], label = \"0.4 PVI\")\n",
        "\n",
        "\n",
        "ax.set_xlabel(\"x/L\", fontsize=15)\n",
        "ax.set_ylabel(\"Saturação da água\", fontsize=15)\n",
        "plt.title(\"Curva de Saturação\", fontsize=20)\n",
        "ax.legend()\n",
        "plt.show()"
      ],
      "execution_count": 172,
      "outputs": [
        {
          "output_type": "display_data",
          "data": {
            "image/png": "[encoded data removed]",
            "text/plain": [
              "<Figure size 576x360 with 1 Axes>"
            ]
          },
          "metadata": {
            "tags": [],
            "needs_background": "light"
          }
        }
      ]
    },
    {
      "cell_type": "markdown",
      "metadata": {
        "id": "hdZO7IgsxsAP"
      },
      "source": [
        "## Programa Corrigido - midpoint e downstream"
      ]
    },
    {
      "cell_type": "code",
      "metadata": {
        "id": "KQl7oXWbXtY5"
      },
      "source": [
        "#função para o cálculo de ajuste de fluxo\n",
        "\n",
        "def ajuste_fluxo(limitador_van_leer, sw_um, sw_dois):\n",
        "  func_ajuste_fluxo = limitador_van_leer/2*(mobilidade(sw_um,visc_agua,visc_oleo) - mobilidade(sw_dois,visc_agua,visc_oleo))*(1-num_Courant)\n",
        "\n",
        "  return func_ajuste_fluxo"
      ],
      "execution_count": 12,
      "outputs": []
    },
    {
      "cell_type": "code",
      "metadata": {
        "colab": {
          "base_uri": "https://localhost:8080/"
        },
        "id": "6pxEl6njyuDJ",
        "outputId": "801c55df-df81-4c94-ca60-8b4878bd804e"
      },
      "source": [
        "#Cálculo da saturação explicitamente utilizando o método midpoint (ϕ=1) e downstream (ϕ=2)\n",
        "\n",
        "#calulo do tempo de execução:\n",
        "start = timeit.default_timer()\n",
        "\n",
        "#limitador de Van Leer \n",
        "limitador_van_leer = 1\n",
        "\n",
        "for n in tempos_de_injecao:\n",
        "\n",
        "  #calculo da primeira linha\n",
        "  \n",
        "  if n == 0:\n",
        "\n",
        "    for i in dominio:\n",
        "      if i == 0: \n",
        "\n",
        "        #primeiro ponto\n",
        "        \n",
        "        mobilidade_i_menos_meio = mobilidade(sw_CC,visc_agua,visc_oleo)\n",
        "        \n",
        "        #cálculo do fluxo ajustado \n",
        "        mobilidade_i_mais_meio = mobilidade(sw_CI,visc_agua,visc_oleo) + ajuste_fluxo(limitador_van_leer,sw_CI,sw_CI) \n",
        "        \n",
        "        #auxiliar que grava o valor do fluxo de i+1/2\n",
        "        #que para próximo ponto, o fluxo i-1/2 terá o mesmo valor do auxiliar\n",
        "        aux = mobilidade_i_mais_meio \n",
        "        \n",
        "        #cálculo da saturação no novo passo de tempo (n+1)\n",
        "        sw_n_mais_1 = dt/dx*(mobilidade_i_menos_meio - mobilidade_i_mais_meio) + sw_CI\n",
        "\n",
        "        #salvando os valores na matriz resultado\n",
        "        matriz_resultado_saturacao[n,i] =  sw_n_mais_1\n",
        "\n",
        "      else:\n",
        "        \n",
        "        #outros ponto\n",
        "        \n",
        "        sw_ajustado =  sw_CI\n",
        "        \n",
        "        #Fi-1/2 = Fi-1 + limitador/2*(Fi-Fi-1)\n",
        "        \n",
        "        mobilidade_i_menos_meio = aux\n",
        "        \n",
        "        #Fi+1/2 = Fi + limitador/2*(Fi+1-Fi)\n",
        "        mobilidade_i_mais_meio = mobilidade(sw_CI,visc_agua,visc_oleo) + ajuste_fluxo(limitador_van_leer,sw_CI,sw_CI)\n",
        "\n",
        "        #cálculo da saturação no novo passo de tempo (n+1)\n",
        "        sw_n_mais_1 = dt/dx * (mobilidade_i_menos_meio - mobilidade_i_mais_meio) + sw_CI\n",
        "\n",
        "        #salvando os valores na matriz resultado\n",
        "        matriz_resultado_saturacao[n,i] =  sw_n_mais_1\n",
        "\n",
        "        #auxiliar para guardar o valor do fluxo na face do volume de controle\n",
        "        aux = mobilidade_i_mais_meio\n",
        "\n",
        "  #Cálculo das demais linhas      \n",
        "  else:\n",
        "\n",
        "      for i in dominio:\n",
        "        \n",
        "        if i == 0: \n",
        "          \n",
        "          #primeiro ponto\n",
        "          \n",
        "          mobilidade_i_menos_meio = mobilidade(sw_CC,visc_agua,visc_oleo)\n",
        "          \n",
        "          #Fi+1/2 = Fi + limitador/2*(Fi+1-Fi)\n",
        "          mobilidade_i_mais_meio = mobilidade(matriz_resultado_saturacao[n-1,i],visc_agua,visc_oleo) + ajuste_fluxo(limitador_van_leer,matriz_resultado_saturacao[n-1,i+1],matriz_resultado_saturacao[n-1,i])\n",
        "          \n",
        "          #cálculo da saturação no novo passo de tempo (n+1)\n",
        "          sw_n_mais_1 = dt/dx*(mobilidade_i_menos_meio - mobilidade_i_mais_meio) + matriz_resultado_saturacao[n-1,i]\n",
        "          \n",
        "          #configurando a saturação para atingir valores até 1-sor\n",
        "          sw_n_mais_1 = np.array([1-sor if sw_n_mais_1 >= (1-sor) else sw_n_mais_1])\n",
        "\n",
        "          #salvando os valores na matriz resultado\n",
        "          matriz_resultado_saturacao[n,i] =  sw_n_mais_1\n",
        "          \n",
        "          #auxiliar para guardar o valor do fluxo na face do volume de controle\n",
        "          aux = mobilidade_i_mais_meio\n",
        "\n",
        "        else:\n",
        "\n",
        "          #outros ponto\n",
        "          \n",
        "          #sw_ajustado =  matriz_resultado_saturacao[n-1,i-1]\n",
        "          \n",
        "          #Fi-1/2 = Fi-1 + limitador/2*(Fi-Fi-1)\n",
        "          mobilidade_i_menos_meio = aux\n",
        "\n",
        "          #Fi+1/2 = Fi + limitador/2*(Fi+1-Fi)\n",
        "          #condição para quando chegar na fronteira de saída do domínio\n",
        "          if i == nx-1:\n",
        "            mobilidade_i_mais_meio = mobilidade(matriz_resultado_saturacao[n-1,i],visc_agua,visc_oleo) + ajuste_fluxo(limitador_van_leer,matriz_resultado_saturacao[n-1,i],matriz_resultado_saturacao[n-1,i])\n",
        "          else:\n",
        "            mobilidade_i_mais_meio = mobilidade(matriz_resultado_saturacao[n-1,i],visc_agua,visc_oleo) + ajuste_fluxo(limitador_van_leer,matriz_resultado_saturacao[n-1,i+1],matriz_resultado_saturacao[n-1,i])\n",
        "          \n",
        "          #cálculo da saturação\n",
        "          sw_n_mais_1 = dt/dx * (mobilidade_i_menos_meio - mobilidade_i_mais_meio) + matriz_resultado_saturacao[n-1,i]\n",
        "          \n",
        "          #configurando a saturação para atingir valores até 1-sor\n",
        "          sw_n_mais_1 = np.array([1-sor if sw_n_mais_1 >= (1-sor) else sw_n_mais_1])\n",
        "\n",
        "          #salvando os valores na matriz resultado\n",
        "          matriz_resultado_saturacao[n,i] =  sw_n_mais_1\n",
        "\n",
        "          #auxiliar para guardar o valor do fluxo na face do volume de controle\n",
        "          aux = mobilidade_i_mais_meio\n",
        "\n",
        "#salvando a matriz com nome específico para poder realizar análises comparativas\n",
        "matriz_resultado_saturacao_mid_down = matriz_resultado_saturacao\n",
        "\n",
        "#tempo de execução finalizado\n",
        "stop = timeit.default_timer()\n",
        "\n",
        "print('Tempo de execução: {} segundos'.format(stop-start))"
      ],
      "execution_count": 65,
      "outputs": [
        {
          "output_type": "stream",
          "text": [
            "Tempo de execução: 0.47957641300001796 segundos\n"
          ],
          "name": "stdout"
        }
      ]
    },
    {
      "cell_type": "code",
      "metadata": {
        "id": "JfIh7q7EaqwX",
        "colab": {
          "base_uri": "https://localhost:8080/",
          "height": 360
        },
        "outputId": "29f92ebd-7c06-436b-e132-f19050849e77"
      },
      "source": [
        "#plotar os resultados \n",
        "matriz_resultado_saturacao_mid_down = np.insert(matriz_resultado_saturacao_mid_down, 0, values = sw_CC, axis=1) #Adicionando o ponto referente a condição de contorno\n",
        "vetor_comprimento = np.linspace(0, 1, nx+1)\n",
        "fig = plt.figure(figsize=(8,5))\n",
        "ax = plt.subplot(1,1,1)\n",
        "ax.plot(vetor_comprimento, matriz_resultado_saturacao_mid_down[49], label = \"0.05 PVI \") \n",
        "ax.plot(vetor_comprimento, matriz_resultado_saturacao_mid_down[99], label = \"0.1 PVI\")\n",
        "ax.plot(vetor_comprimento, matriz_resultado_saturacao_mid_down[299], label = \"0.3 PVI\")\n",
        "ax.plot(vetor_comprimento, matriz_resultado_saturacao_mid_down[399], label = \"0.4 PVI\")\n",
        "\n",
        "\n",
        "ax.set_xlabel(\"x/L\", fontsize=15)\n",
        "ax.set_ylabel(\"Saturação da água\", fontsize=15)\n",
        "plt.title(\"Curva de Saturação\", fontsize=20)\n",
        "ax.legend()\n",
        "plt.show()"
      ],
      "execution_count": 66,
      "outputs": [
        {
          "output_type": "display_data",
          "data": {
            "image/png": "[encoded data removed]",
            "text/plain": [
              "<Figure size 576x360 with 1 Axes>"
            ]
          },
          "metadata": {
            "tags": [],
            "needs_background": "light"
          }
        }
      ]
    },
    {
      "cell_type": "code",
      "metadata": {
        "colab": {
          "base_uri": "https://localhost:8080/"
        },
        "id": "Ag8rWAAIjC2l",
        "outputId": "f7020594-08e8-492f-9e45-08cf98cdaaf9"
      },
      "source": [
        "mobilidade_i_mais_meio = mobilidade(sw_CI,visc_agua,visc_oleo) + ajuste_fluxo(limitador_van_leer,sw_CI,sw_CI)\n",
        "mobilidade_i_mais_meio "
      ],
      "execution_count": 15,
      "outputs": [
        {
          "output_type": "execute_result",
          "data": {
            "text/plain": [
              "array([0.])"
            ]
          },
          "metadata": {
            "tags": []
          },
          "execution_count": 15
        }
      ]
    },
    {
      "cell_type": "code",
      "metadata": {
        "colab": {
          "base_uri": "https://localhost:8080/"
        },
        "id": "XOrwqAsFjrQ5",
        "outputId": "97f6b04e-093c-41b8-831c-cac612d178c5"
      },
      "source": [
        "matriz_resultado_saturacao_mid_down[399]"
      ],
      "execution_count": 28,
      "outputs": [
        {
          "output_type": "execute_result",
          "data": {
            "text/plain": [
              "array([0.8       , 0.8       , 0.8       , 0.8       , 0.8       ,\n",
              "       0.8       , 0.8       , 0.8       , 0.8       , 0.8       ,\n",
              "       0.8       , 0.8       , 0.8       , 0.8       , 0.8       ,\n",
              "       0.8       , 0.8       , 0.8       , 0.8       , 0.8       ,\n",
              "       0.8       , 0.8       , 0.8       , 0.8       , 0.8       ,\n",
              "       0.8       , 0.8       , 0.55303703, 0.20833068, 0.2       ,\n",
              "       0.2       , 0.2       , 0.2       , 0.2       , 0.2       ,\n",
              "       0.2       , 0.2       , 0.2       , 0.2       , 0.2       ,\n",
              "       0.2       , 0.2       , 0.2       , 0.2       , 0.2       ,\n",
              "       0.2       , 0.2       , 0.2       , 0.2       , 0.2       ,\n",
              "       0.2       ])"
            ]
          },
          "metadata": {
            "tags": []
          },
          "execution_count": 28
        }
      ]
    },
    {
      "cell_type": "markdown",
      "metadata": {
        "id": "GPNldi5m1AsA"
      },
      "source": [
        "## Validação"
      ]
    },
    {
      "cell_type": "markdown",
      "metadata": {
        "id": "-JYGYHNRD1S8"
      },
      "source": [
        "### Artigo I - Mathematical modeling of oil recovery"
      ]
    },
    {
      "cell_type": "code",
      "metadata": {
        "id": "oG_SMX0kEa-X"
      },
      "source": [
        "#dados do artigo\n",
        "#ut = 1\n",
        "#porosidade = 1\n",
        "sw_CI = 0.2\n",
        "sw_CC = 0.85\n",
        "#L=10000 m\n",
        "#t=2000 dias\n"
      ],
      "execution_count": 146,
      "outputs": []
    },
    {
      "cell_type": "code",
      "metadata": {
        "id": "UmrCtNQfQiIZ",
        "colab": {
          "base_uri": "https://localhost:8080/"
        },
        "outputId": "b8b52431-2148-453c-c04d-4b57ba8bdc12"
      },
      "source": [
        "sor = 1-sw_CC\n",
        "swi = sw_CI\n",
        "krw_sor = ((1-sor-0.2)/0.8)**3.5\n",
        "kro_swi = ((0.85-swi)/0.85)**2.8*(1+2.4*swi)\n",
        "print(krw_sor, kro_swi)"
      ],
      "execution_count": 147,
      "outputs": [
        {
          "output_type": "stream",
          "text": [
            "0.48348365186733283 0.6983065601690129\n"
          ],
          "name": "stdout"
        }
      ]
    },
    {
      "cell_type": "code",
      "metadata": {
        "id": "6uZvmHKf0uL7"
      },
      "source": [
        "#função para o cálculo do modelo utilizado no artigo\n",
        "\n",
        "def perm_validacao(sw,swi,sor,kro_swi,krw_sor):\n",
        "  kro = []\n",
        "  krw = []\n",
        "\n",
        "  if isinstance(sw, Iterable):\n",
        "    #cálculo da permeabilidade relativa do óleo \n",
        "    for i in sw:\n",
        "        kr = ((0.85-i)/0.85)**2.8*(1+2.4*i)\n",
        "        kro.append(kr)\n",
        "    kro = np.array([kro_swi if i >= 1 else i for i in kro]) #substituindo o valor 1 por kro_swi\n",
        "    kro[-1] = 0.0 # solução temporária para o erro \n",
        "\n",
        "    #cálculo da permeabilidade relativa da água\n",
        "    for i in sw:\n",
        "        kr = ((i-0.2)/0.8)**3.5\n",
        "        if kr > krw_sor:\n",
        "          kr = krw_sor\n",
        "        krw.append(kr)\n",
        "    krw = np.array(krw)\n",
        "\n",
        "\n",
        "  else:\n",
        "    #cálculo da permeabilidade relativa do óleo\n",
        "    if (0.85 <= sw <= 1):\n",
        "      kr = 0\n",
        "    else: \n",
        "      kr = ((0.85-sw)/0.85)**2.8*(1+2.4*sw)\n",
        "    kro.append(kr)\n",
        "    kro = np.array(kro) \n",
        "    #cálculo da permeabilidade relativa da água \n",
        "    if (0 <= sw <= 0.2):\n",
        "      kr = 0\n",
        "    else:\n",
        "      kr = ((sw-0.2)/0.8)**3.5\n",
        "    krw.append(kr)\n",
        "    krw = np.array(krw)\n",
        "  \n",
        "  return kro, krw\n",
        "\n",
        "#função que calcula a mobilidade em diferentes pontos de saturação\n",
        "def mobilidade(sw,visc_agua,visc_oleo):\n",
        "\n",
        "  numerador_da_funcao = perm_validacao(sw,swi,sor,kro_swi,krw_sor)[1]/visc_agua\n",
        "  denominador_da_funcao = (perm_validacao(sw,swi,sor,kro_swi,krw_sor)[1]/visc_agua) + (perm_validacao(sw,swi,sor,kro_swi,krw_sor)[0]/visc_oleo)\n",
        "  resultado_mobilidade =  numerador_da_funcao/denominador_da_funcao\n",
        "\n",
        "  return resultado_mobilidade"
      ],
      "execution_count": 148,
      "outputs": []
    },
    {
      "cell_type": "code",
      "metadata": {
        "colab": {
          "base_uri": "https://localhost:8080/"
        },
        "id": "86E4qPK5CLaM",
        "outputId": "5ec00244-efff-435b-b60b-dbe8c49ccdb8"
      },
      "source": [
        "#Discretização do domínio \n",
        "nx = 100                                                              #Número de pontos do grid\n",
        "dominio = np.arange(nx)                                                #vetor domínio\n",
        "print(\"Número de dimensões: {}\".format(dominio.ndim))                  #número de dimensões\n",
        "print(dominio)"
      ],
      "execution_count": 149,
      "outputs": [
        {
          "output_type": "stream",
          "text": [
            "Número de dimensões: 1\n",
            "[ 0  1  2  3  4  5  6  7  8  9 10 11 12 13 14 15 16 17 18 19 20 21 22 23\n",
            " 24 25 26 27 28 29 30 31 32 33 34 35 36 37 38 39 40 41 42 43 44 45 46 47\n",
            " 48 49 50 51 52 53 54 55 56 57 58 59 60 61 62 63 64 65 66 67 68 69 70 71\n",
            " 72 73 74 75 76 77 78 79 80 81 82 83 84 85 86 87 88 89 90 91 92 93 94 95\n",
            " 96 97 98 99]\n"
          ],
          "name": "stdout"
        }
      ]
    },
    {
      "cell_type": "code",
      "metadata": {
        "colab": {
          "base_uri": "https://localhost:8080/"
        },
        "id": "Nyf1RkonC_O0",
        "outputId": "2e300e22-5f36-44de-949d-ac505ac19eb1"
      },
      "source": [
        "#Calculo de Delta X\n",
        "#tamanho do meio poroso\n",
        "tam_meio_poroso = 10000 #m\n",
        "#tamanho do elemento do grid\n",
        "tam_grid = tam_meio_poroso/nx\n",
        "#Delta X - normalizado\n",
        "dx = tam_grid/tam_meio_poroso\n",
        "print(\"O tamanho dos elementos do grid em uma malha estruturada é {}, e o delta X é {} \".format(tam_grid, dx))"
      ],
      "execution_count": 150,
      "outputs": [
        {
          "output_type": "stream",
          "text": [
            "O tamanho dos elementos do grid em uma malha estruturada é 100.0, e o delta X é 0.01 \n"
          ],
          "name": "stdout"
        }
      ]
    },
    {
      "cell_type": "code",
      "metadata": {
        "colab": {
          "base_uri": "https://localhost:8080/"
        },
        "id": "Jl4KhH5iDCxz",
        "outputId": "a344cc00-b805-4ec6-a8fe-850c27acf670"
      },
      "source": [
        "#Calculo de Delta T\n",
        "#viscosidade da água \n",
        "visc_agua = 0.5 #cp\n",
        "#viscosidade do óleo\n",
        "visc_oleo = 1 #cp\n",
        "#muo = visc_oleo/visc_agua = 2\n",
        "#velocidade total na injeção \n",
        "ut = 1 #m³/d \n",
        "#porosidade\n",
        "porosidade_meio = 1\n",
        "#tempo de simulação \n",
        "nt = 4000 #dias\n",
        "#passo de tempo\n",
        "passo_tempo = 10 #dias\n",
        "#Delta T - normalizado\n",
        "dt =  ut*passo_tempo/(tam_meio_poroso*porosidade_meio) \n",
        "print(\"O delta T normalizado é {}\".format(dt))"
      ],
      "execution_count": 151,
      "outputs": [
        {
          "output_type": "stream",
          "text": [
            "O delta T normalizado é 0.001\n"
          ],
          "name": "stdout"
        }
      ]
    },
    {
      "cell_type": "code",
      "metadata": {
        "colab": {
          "base_uri": "https://localhost:8080/"
        },
        "id": "kyMGCvVWE8Nd",
        "outputId": "a02f8106-5760-4cff-9339-292c491d522e"
      },
      "source": [
        "#Número de Courant\n",
        "num_Courant = dt/dx \n",
        "print(f\"O número de courant é {num_Courant}\")"
      ],
      "execution_count": 152,
      "outputs": [
        {
          "output_type": "stream",
          "text": [
            "O número de courant é 0.1\n"
          ],
          "name": "stdout"
        }
      ]
    },
    {
      "cell_type": "code",
      "metadata": {
        "colab": {
          "base_uri": "https://localhost:8080/"
        },
        "id": "yGFTQHaFHRiD",
        "outputId": "ee9eec41-ff1f-40b2-9a02-27c6f1d30ac4"
      },
      "source": [
        "#Matriz de saturação para alocação dos resultados\n",
        "tempos_de_injecao = int(nt/passo_tempo)   #quantidade representando os tempos de injeção que serão calculados\n",
        "matriz_resultado_saturacao = np.zeros((tempos_de_injecao,nx)) \n",
        "matriz_resultado_saturacao.shape"
      ],
      "execution_count": 165,
      "outputs": [
        {
          "output_type": "execute_result",
          "data": {
            "text/plain": [
              "(400, 100)"
            ]
          },
          "metadata": {
            "tags": []
          },
          "execution_count": 165
        }
      ]
    },
    {
      "cell_type": "code",
      "metadata": {
        "id": "dXZlDjT7JcO5"
      },
      "source": [
        "#modificando a primeira linha da matriz para alocar os valores das condições iniciais\n",
        "matriz_resultado_saturacao[0,:] = sw_CI "
      ],
      "execution_count": 166,
      "outputs": []
    },
    {
      "cell_type": "code",
      "metadata": {
        "colab": {
          "base_uri": "https://localhost:8080/"
        },
        "id": "P0NAvMp8JRWj",
        "outputId": "22145ac6-a92f-469f-c259-6ba586d4c265"
      },
      "source": [
        "matriz_resultado_saturacao[0]"
      ],
      "execution_count": 167,
      "outputs": [
        {
          "output_type": "execute_result",
          "data": {
            "text/plain": [
              "array([0.2, 0.2, 0.2, 0.2, 0.2, 0.2, 0.2, 0.2, 0.2, 0.2, 0.2, 0.2, 0.2,\n",
              "       0.2, 0.2, 0.2, 0.2, 0.2, 0.2, 0.2, 0.2, 0.2, 0.2, 0.2, 0.2, 0.2,\n",
              "       0.2, 0.2, 0.2, 0.2, 0.2, 0.2, 0.2, 0.2, 0.2, 0.2, 0.2, 0.2, 0.2,\n",
              "       0.2, 0.2, 0.2, 0.2, 0.2, 0.2, 0.2, 0.2, 0.2, 0.2, 0.2, 0.2, 0.2,\n",
              "       0.2, 0.2, 0.2, 0.2, 0.2, 0.2, 0.2, 0.2, 0.2, 0.2, 0.2, 0.2, 0.2,\n",
              "       0.2, 0.2, 0.2, 0.2, 0.2, 0.2, 0.2, 0.2, 0.2, 0.2, 0.2, 0.2, 0.2,\n",
              "       0.2, 0.2, 0.2, 0.2, 0.2, 0.2, 0.2, 0.2, 0.2, 0.2, 0.2, 0.2, 0.2,\n",
              "       0.2, 0.2, 0.2, 0.2, 0.2, 0.2, 0.2, 0.2, 0.2])"
            ]
          },
          "metadata": {
            "tags": []
          },
          "execution_count": 167
        }
      ]
    },
    {
      "cell_type": "code",
      "metadata": {
        "colab": {
          "base_uri": "https://localhost:8080/"
        },
        "id": "Y0oqwX7yJX86",
        "outputId": "a4da6147-91d7-4306-b458-d5b16d3048c3"
      },
      "source": [
        "tempos_de_injecao = np.arange(tempos_de_injecao) #utilizado como vetor de tempo para o calculo de saturação\n",
        "tempos_de_injecao"
      ],
      "execution_count": 168,
      "outputs": [
        {
          "output_type": "execute_result",
          "data": {
            "text/plain": [
              "array([  0,   1,   2,   3,   4,   5,   6,   7,   8,   9,  10,  11,  12,\n",
              "        13,  14,  15,  16,  17,  18,  19,  20,  21,  22,  23,  24,  25,\n",
              "        26,  27,  28,  29,  30,  31,  32,  33,  34,  35,  36,  37,  38,\n",
              "        39,  40,  41,  42,  43,  44,  45,  46,  47,  48,  49,  50,  51,\n",
              "        52,  53,  54,  55,  56,  57,  58,  59,  60,  61,  62,  63,  64,\n",
              "        65,  66,  67,  68,  69,  70,  71,  72,  73,  74,  75,  76,  77,\n",
              "        78,  79,  80,  81,  82,  83,  84,  85,  86,  87,  88,  89,  90,\n",
              "        91,  92,  93,  94,  95,  96,  97,  98,  99, 100, 101, 102, 103,\n",
              "       104, 105, 106, 107, 108, 109, 110, 111, 112, 113, 114, 115, 116,\n",
              "       117, 118, 119, 120, 121, 122, 123, 124, 125, 126, 127, 128, 129,\n",
              "       130, 131, 132, 133, 134, 135, 136, 137, 138, 139, 140, 141, 142,\n",
              "       143, 144, 145, 146, 147, 148, 149, 150, 151, 152, 153, 154, 155,\n",
              "       156, 157, 158, 159, 160, 161, 162, 163, 164, 165, 166, 167, 168,\n",
              "       169, 170, 171, 172, 173, 174, 175, 176, 177, 178, 179, 180, 181,\n",
              "       182, 183, 184, 185, 186, 187, 188, 189, 190, 191, 192, 193, 194,\n",
              "       195, 196, 197, 198, 199, 200, 201, 202, 203, 204, 205, 206, 207,\n",
              "       208, 209, 210, 211, 212, 213, 214, 215, 216, 217, 218, 219, 220,\n",
              "       221, 222, 223, 224, 225, 226, 227, 228, 229, 230, 231, 232, 233,\n",
              "       234, 235, 236, 237, 238, 239, 240, 241, 242, 243, 244, 245, 246,\n",
              "       247, 248, 249, 250, 251, 252, 253, 254, 255, 256, 257, 258, 259,\n",
              "       260, 261, 262, 263, 264, 265, 266, 267, 268, 269, 270, 271, 272,\n",
              "       273, 274, 275, 276, 277, 278, 279, 280, 281, 282, 283, 284, 285,\n",
              "       286, 287, 288, 289, 290, 291, 292, 293, 294, 295, 296, 297, 298,\n",
              "       299, 300, 301, 302, 303, 304, 305, 306, 307, 308, 309, 310, 311,\n",
              "       312, 313, 314, 315, 316, 317, 318, 319, 320, 321, 322, 323, 324,\n",
              "       325, 326, 327, 328, 329, 330, 331, 332, 333, 334, 335, 336, 337,\n",
              "       338, 339, 340, 341, 342, 343, 344, 345, 346, 347, 348, 349, 350,\n",
              "       351, 352, 353, 354, 355, 356, 357, 358, 359, 360, 361, 362, 363,\n",
              "       364, 365, 366, 367, 368, 369, 370, 371, 372, 373, 374, 375, 376,\n",
              "       377, 378, 379, 380, 381, 382, 383, 384, 385, 386, 387, 388, 389,\n",
              "       390, 391, 392, 393, 394, 395, 396, 397, 398, 399])"
            ]
          },
          "metadata": {
            "tags": []
          },
          "execution_count": 168
        }
      ]
    },
    {
      "cell_type": "code",
      "metadata": {
        "colab": {
          "base_uri": "https://localhost:8080/"
        },
        "id": "PfY_0NOgJhnS",
        "outputId": "a0911924-886d-4841-b5d4-8dce0569ce6c"
      },
      "source": [
        "#Calculo da saturação explicitamente utilizando o método single point upstream (ϕ=0)\n",
        "#calulo do tempo de execução:\n",
        "start = timeit.default_timer()\n",
        "for n in tempos_de_injecao:\n",
        "  #calculo da primeira linha\n",
        "  if n == 0:\n",
        "    for i in dominio:\n",
        "      if i == 0: \n",
        "        #primeiro ponto\n",
        "        mobilidade_i_menos_meio = mobilidade(sw_CC,visc_agua,visc_oleo)\n",
        "        mobilidade_i = mobilidade(sw_CI,visc_agua,visc_oleo)\n",
        "        sw_n_mais_1 = dt/dx*(mobilidade_i_menos_meio - mobilidade_i) + sw_CI\n",
        "        matriz_resultado_saturacao[n,i] =  sw_n_mais_1\n",
        "      else:\n",
        "        #outros ponto\n",
        "        sw_ajustado =  sw_CI\n",
        "        mobilidade_i_menos_meio = mobilidade(sw_ajustado,visc_agua,visc_oleo)\n",
        "        mobilidade_i = mobilidade(sw_CI,visc_agua,visc_oleo)\n",
        "        sw_n_mais_1 = dt/dx * (mobilidade_i_menos_meio - mobilidade_i) + sw_CI\n",
        "        matriz_resultado_saturacao[n,i] =  sw_n_mais_1\n",
        "  #Cálculo das demais linhas      \n",
        "  else:\n",
        "      for i in dominio:\n",
        "        if i == 0: \n",
        "          #primeiro ponto\n",
        "          mobilidade_i_menos_meio = mobilidade(sw_CC,visc_agua,visc_oleo)\n",
        "          mobilidade_i = mobilidade(matriz_resultado_saturacao[n-1,i],visc_agua,visc_oleo)\n",
        "          sw_n_mais_1 = dt/dx*(mobilidade_i_menos_meio - mobilidade_i) + matriz_resultado_saturacao[n-1,i]\n",
        "          matriz_resultado_saturacao[n,i] =  sw_n_mais_1\n",
        "        else:\n",
        "          #outros ponto\n",
        "          sw_ajustado =  matriz_resultado_saturacao[n-1,i-1] \n",
        "          mobilidade_i_menos_meio = mobilidade(sw_ajustado,visc_agua,visc_oleo)\n",
        "          mobilidade_i = mobilidade(matriz_resultado_saturacao[n-1,i],visc_agua,visc_oleo)\n",
        "          sw_n_mais_1 = dt/dx * (mobilidade_i_menos_meio - mobilidade_i) + matriz_resultado_saturacao[n-1,i]\n",
        "          matriz_resultado_saturacao[n,i] =  sw_n_mais_1\n",
        "matriz_resultado_saturacao_validacao_I = matriz_resultado_saturacao \n",
        "stop = timeit.default_timer()\n",
        "print('Tempo de execução: {} segundos'.format(stop-start))"
      ],
      "execution_count": 157,
      "outputs": [
        {
          "output_type": "stream",
          "text": [
            "Tempo de execução: 2.6533295509998425 segundos\n"
          ],
          "name": "stdout"
        }
      ]
    },
    {
      "cell_type": "code",
      "metadata": {
        "colab": {
          "base_uri": "https://localhost:8080/",
          "height": 360
        },
        "id": "1j03sJ_eJorJ",
        "outputId": "50049e30-f615-4143-eeac-9bbe8ddce9ce"
      },
      "source": [
        "#plotar os resultados algoritmo I\n",
        "matriz_resultado_saturacao_validacao_I = np.insert(matriz_resultado_saturacao_validacao_I, 0, values = sw_CC, axis=1) #Adicionando o ponto referente a condição de contorno\n",
        "vetor_comprimento = np.linspace(0, 1, nx+1)\n",
        "fig = plt.figure(figsize=(8,5))\n",
        "ax = plt.subplot(1,1,1)\n",
        "ax.plot(vetor_comprimento, matriz_resultado_saturacao_validacao_I[49], label = \"0.05 PVI \") \n",
        "ax.plot(vetor_comprimento, matriz_resultado_saturacao_validacao_I[99], label = \"0.1 PVI\")\n",
        "ax.plot(vetor_comprimento, matriz_resultado_saturacao_validacao_I[299], label = \"0.3 PVI\")\n",
        "ax.plot(vetor_comprimento, matriz_resultado_saturacao_validacao_I[399], label = \"0.4 PVI\")\n",
        "#ax.plot(vetor_comprimento, matriz_resultado_saturacao[71], label = \"0.432 PVI\")\n",
        "\n",
        "ax.set_xlabel(\"x/L\", fontsize=15)\n",
        "ax.set_ylabel(\"Saturação da água\", fontsize=15)\n",
        "plt.title(\"Curva de Saturação\", fontsize=20)\n",
        "ax.legend()\n",
        "plt.show()"
      ],
      "execution_count": 158,
      "outputs": [
        {
          "output_type": "display_data",
          "data": {
            "image/png": "[encoded data removed]",
            "text/plain": [
              "<Figure size 576x360 with 1 Axes>"
            ]
          },
          "metadata": {
            "tags": [],
            "needs_background": "light"
          }
        }
      ]
    },
    {
      "cell_type": "markdown",
      "metadata": {
        "id": "gb1Oa2DNLJ6X"
      },
      "source": [
        "![validação_explicita.PNG](data:image/png;base64,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)"
      ]
    },
    {
      "cell_type": "code",
      "metadata": {
        "colab": {
          "base_uri": "https://localhost:8080/"
        },
        "id": "XxNcyXa2KG6b",
        "outputId": "5ad6d7e9-f938-45d1-c324-b57e8ea32baa"
      },
      "source": [
        "pvi = ut*3000/(porosidade_meio*tam_meio_poroso)\n",
        "pvi"
      ],
      "execution_count": null,
      "outputs": [
        {
          "output_type": "execute_result",
          "data": {
            "text/plain": [
              "0.3"
            ]
          },
          "metadata": {
            "tags": []
          },
          "execution_count": 86
        }
      ]
    },
    {
      "cell_type": "code",
      "metadata": {
        "colab": {
          "base_uri": "https://localhost:8080/"
        },
        "id": "UW2jDb1nLaXG",
        "outputId": "888c156a-7c27-4503-de8a-567279cb005e"
      },
      "source": [
        "t = (0.4*porosidade_meio*tam_meio_poroso)/ut\n",
        "t"
      ],
      "execution_count": null,
      "outputs": [
        {
          "output_type": "execute_result",
          "data": {
            "text/plain": [
              "4000.0"
            ]
          },
          "metadata": {
            "tags": []
          },
          "execution_count": 160
        }
      ]
    },
    {
      "cell_type": "code",
      "metadata": {
        "colab": {
          "base_uri": "https://localhost:8080/"
        },
        "id": "-AL4Fj3TMJbP",
        "outputId": "771d84de-2ef2-4aca-aed7-04075a201551"
      },
      "source": [
        "#Calculo da saturação e preenchimento da matriz de resultado\n",
        "#calulo do tempo de execução:\n",
        "start = timeit.default_timer()\n",
        "for n in tempos_de_injecao:\n",
        "  #calculo da primeira linha\n",
        "  if n == 0:\n",
        "    for i in dominio:\n",
        "      if i == 0: \n",
        "        #primeiro ponto\n",
        "        mobilidade_i_menos_meio = mobilidade(sw_CC,visc_agua,visc_oleo)\n",
        "        mobilidade_i = mobilidade(sw_CI,visc_agua,visc_oleo)\n",
        "        sw_n_mais_1 = dt/dx*(mobilidade_i_menos_meio - mobilidade_i) + sw_CI\n",
        "        matriz_resultado_saturacao[n,i] =  sw_n_mais_1\n",
        "      else:\n",
        "        #outros pontos\n",
        "        sw_ajustado =  (matriz_resultado_saturacao[n,i-1] + matriz_resultado_saturacao[n,i])/2\n",
        "        mobilidade_i_menos_meio = mobilidade(sw_ajustado,visc_agua,visc_oleo)\n",
        "        mobilidade_i = mobilidade(sw_CI,visc_agua,visc_oleo)\n",
        "        sw_n_mais_1 = dt/dx * (mobilidade_i_menos_meio - mobilidade_i) + sw_CI\n",
        "        matriz_resultado_saturacao[n,i] =  sw_n_mais_1\n",
        "  #Cálculo das demais linhas      \n",
        "  else:\n",
        "      for i in dominio:\n",
        "        if i == 0: \n",
        "          #primeiro ponto\n",
        "          mobilidade_i_menos_meio = mobilidade(sw_CC,visc_agua,visc_oleo)\n",
        "          mobilidade_i = mobilidade(matriz_resultado_saturacao[n-1,i],visc_agua,visc_oleo)\n",
        "          sw_n_mais_1 = dt/dx*(mobilidade_i_menos_meio - mobilidade_i) + matriz_resultado_saturacao[n-1,i]\n",
        "          matriz_resultado_saturacao[n,i] =  sw_n_mais_1\n",
        "        else:\n",
        "          #outros ponto\n",
        "          sw_ajustado =  (matriz_resultado_saturacao[n-1,i-1] + matriz_resultado_saturacao[n-1,i])/2\n",
        "          mobilidade_i_menos_meio = mobilidade(sw_ajustado,visc_agua,visc_oleo)\n",
        "          mobilidade_i = mobilidade(matriz_resultado_saturacao[n-1,i],visc_agua,visc_oleo)\n",
        "          sw_n_mais_1 = dt/dx * (mobilidade_i_menos_meio - mobilidade_i) + matriz_resultado_saturacao[n-1,i]\n",
        "          matriz_resultado_saturacao[n,i] =  sw_n_mais_1\n",
        "matriz_resultado_saturacao_validacao_II = matriz_resultado_saturacao \n",
        "stop = timeit.default_timer()\n",
        "print('Tempo de execução: {} segundos'.format(stop-start))"
      ],
      "execution_count": 163,
      "outputs": [
        {
          "output_type": "stream",
          "text": [
            "Tempo de execução: 2.712841851000121 segundos\n"
          ],
          "name": "stdout"
        }
      ]
    },
    {
      "cell_type": "code",
      "metadata": {
        "colab": {
          "base_uri": "https://localhost:8080/",
          "height": 360
        },
        "id": "1uCMlgyNXyLz",
        "outputId": "44034c8e-2684-4d01-8324-ad3933a9b3e3"
      },
      "source": [
        "#plotar os resultados algoritmo II\n",
        "matriz_resultado_saturacao_validacao_II = np.insert(matriz_resultado_saturacao_validacao_II, 0, values = sw_CC, axis=1) #Adicionando o ponto referente a condição de contorno\n",
        "vetor_comprimento = np.linspace(0, 1, nx+1)\n",
        "fig = plt.figure(figsize=(8,5))\n",
        "ax = plt.subplot(1,1,1)\n",
        "ax.plot(vetor_comprimento, matriz_resultado_saturacao_validacao_II[49], label = \"0.05 PVI \") \n",
        "ax.plot(vetor_comprimento, matriz_resultado_saturacao_validacao_II[99], label = \"0.1 PVI\")\n",
        "ax.plot(vetor_comprimento, matriz_resultado_saturacao_validacao_II[299], label = \"0.3 PVI\")\n",
        "ax.plot(vetor_comprimento, matriz_resultado_saturacao_validacao_II[399], label = \"0.4 PVI\")\n",
        "#ax.plot(vetor_comprimento, matriz_resultado_saturacao[71], label = \"0.432 PVI\")\n",
        "\n",
        "ax.set_xlabel(\"x/L\", fontsize=15)\n",
        "ax.set_ylabel(\"Saturação da água\", fontsize=15)\n",
        "plt.title(\"Curva de Saturação\", fontsize=20)\n",
        "ax.legend()\n",
        "plt.show()"
      ],
      "execution_count": 164,
      "outputs": [
        {
          "output_type": "display_data",
          "data": {
            "image/png": "[encoded data removed]",
            "text/plain": [
              "<Figure size 576x360 with 1 Axes>"
            ]
          },
          "metadata": {
            "tags": [],
            "needs_background": "light"
          }
        }
      ]
    },
    {
      "cell_type": "markdown",
      "metadata": {
        "id": "HNfJBPcYbARh"
      },
      "source": [
        "Comparação entre os algoritmos"
      ]
    },
    {
      "cell_type": "code",
      "metadata": {
        "colab": {
          "base_uri": "https://localhost:8080/",
          "height": 360
        },
        "id": "q5H42q3iYJpN",
        "outputId": "ccbdcfd1-8111-4fc3-bde1-1a7f311e3e30"
      },
      "source": [
        "#plotar os resultados dos dois algoritmos \n",
        "vetor_comprimento = np.linspace(0, 1, nx+1)\n",
        "fig = plt.figure(figsize=(15,5))\n",
        "ax1 = plt.subplot(1,2,1)\n",
        "ax2 = plt.subplot(1,2,2)\n",
        "\n",
        "ax1.plot(vetor_comprimento, matriz_resultado_saturacao_validacao_I[49], label = \"0.05 PVI \") \n",
        "ax1.plot(vetor_comprimento, matriz_resultado_saturacao_validacao_I[99], label = \"0.1 PVI\")\n",
        "ax1.plot(vetor_comprimento, matriz_resultado_saturacao_validacao_I[299], label = \"0.3 PVI\")\n",
        "ax1.plot(vetor_comprimento, matriz_resultado_saturacao_validacao_I[399], label = \"0.4 PVI\")\n",
        "\n",
        "ax2.plot(vetor_comprimento, matriz_resultado_saturacao_validacao_II[49], label = \"0.05 PVI \") \n",
        "ax2.plot(vetor_comprimento, matriz_resultado_saturacao_validacao_II[99], label = \"0.1 PVI\")\n",
        "ax2.plot(vetor_comprimento, matriz_resultado_saturacao_validacao_II[299], label = \"0.3 PVI\")\n",
        "ax2.plot(vetor_comprimento, matriz_resultado_saturacao_validacao_II[399], label = \"0.4 PVI\")\n",
        "\n",
        "#configurações dos gráficos\n",
        "ax1.set_xlabel(\"x/L\", fontsize=15)\n",
        "ax1.set_ylabel(\"Saturação da água\", fontsize=15)\n",
        "ax1.set_title(\"Algoritmo I\", fontsize=20)\n",
        "ax1.legend()\n",
        "\n",
        "ax2.set_xlabel(\"x/L\", fontsize=15)\n",
        "ax2.set_ylabel(\"Saturação da água\", fontsize=15)\n",
        "ax2.set_title(\"Algoritmo II\", fontsize=20)\n",
        "ax2.legend()\n",
        "\n",
        "plt.show()"
      ],
      "execution_count": null,
      "outputs": [
        {
          "output_type": "display_data",
          "data": {
            "image/png": "[encoded data removed]",
            "text/plain": [
              "<Figure size 1080x360 with 2 Axes>"
            ]
          },
          "metadata": {
            "tags": [],
            "needs_background": "light"
          }
        }
      ]
    },
    {
      "cell_type": "code",
      "metadata": {
        "id": "798IYGRgID3V"
      },
      "source": [
        "matriz_resultado_saturacao_tvd = matriz_resultado_saturacao_two_point"
      ],
      "execution_count": 178,
      "outputs": []
    },
    {
      "cell_type": "code",
      "metadata": {
        "id": "iB9t5L4Hb7Vy",
        "colab": {
          "base_uri": "https://localhost:8080/",
          "height": 903
        },
        "outputId": "60195be9-a433-4402-c58d-6551336de4cd"
      },
      "source": [
        "#plotar os resultados dos dois algoritmos \n",
        "vetor_comprimento = np.linspace(0, 1, nx+1)\n",
        "fig = plt.figure(figsize=(15,15))\n",
        "ax1 = plt.subplot(2,2,1)\n",
        "ax2 = plt.subplot(2,2,2)\n",
        "ax3 = plt.subplot(2,2,3)\n",
        "\n",
        "\n",
        "ax1.plot(vetor_comprimento, matriz_resultado_saturacao_validacao_I[49], label = \"0.05 PVI \") \n",
        "ax1.plot(vetor_comprimento, matriz_resultado_saturacao_validacao_I[99], label = \"0.1 PVI\")\n",
        "ax1.plot(vetor_comprimento, matriz_resultado_saturacao_validacao_I[299], label = \"0.3 PVI\")\n",
        "ax1.plot(vetor_comprimento, matriz_resultado_saturacao_validacao_I[399], label = \"0.4 PVI\")\n",
        "\n",
        "ax2.plot(vetor_comprimento, matriz_resultado_saturacao_validacao_II[49], label = \"0.05 PVI \") \n",
        "ax2.plot(vetor_comprimento, matriz_resultado_saturacao_validacao_II[99], label = \"0.1 PVI\")\n",
        "ax2.plot(vetor_comprimento, matriz_resultado_saturacao_validacao_II[299], label = \"0.3 PVI\")\n",
        "ax2.plot(vetor_comprimento, matriz_resultado_saturacao_validacao_II[399], label = \"0.4 PVI\")\n",
        "\n",
        "ax3.plot(vetor_comprimento, matriz_resultado_saturacao_tvd[49], label = \"0.05 PVI \") \n",
        "ax3.plot(vetor_comprimento, matriz_resultado_saturacao_tvd[99], label = \"0.1 PVI\")\n",
        "ax3.plot(vetor_comprimento, matriz_resultado_saturacao_tvd[299], label = \"0.3 PVI\")\n",
        "ax3.plot(vetor_comprimento, matriz_resultado_saturacao_tvd[399], label = \"0.4 PVI\")\n",
        "\n",
        "\n",
        "#configurações dos gráficos\n",
        "ax1.set_xlabel(\"x/L\", fontsize=15)\n",
        "ax1.set_ylabel(\"Saturação da água\", fontsize=15)\n",
        "ax1.set_title(\"Single point\", fontsize=20)\n",
        "ax1.legend()\n",
        "\n",
        "ax2.set_xlabel(\"x/L\", fontsize=15)\n",
        "ax2.set_ylabel(\"Saturação da água\", fontsize=15)\n",
        "ax2.set_title(\"Algoritmo Igor\", fontsize=20)\n",
        "ax2.legend()\n",
        "\n",
        "ax3.set_xlabel(\"x/L\", fontsize=15)\n",
        "ax3.set_ylabel(\"Saturação da água\", fontsize=15)\n",
        "ax3.set_title(\"TVD\", fontsize=20)\n",
        "ax3.legend()\n",
        "\n",
        "plt.show()\n"
      ],
      "execution_count": 180,
      "outputs": [
        {
          "output_type": "display_data",
          "data": {
            "image/png": "[encoded data removed]",
            "text/plain": [
              "<Figure size 1080x1080 with 3 Axes>"
            ]
          },
          "metadata": {
            "tags": [],
            "needs_background": "light"
          }
        }
      ]
    },
    {
      "cell_type": "code",
      "metadata": {
        "colab": {
          "base_uri": "https://localhost:8080/",
          "height": 524
        },
        "id": "7h89dKEb89P5",
        "outputId": "e6cb6b90-1745-4b8f-ecdd-59ed33f1305d"
      },
      "source": [
        "#plotar os resultados dos dois algoritmos \n",
        "vetor_comprimento = np.linspace(0, 1, nx+1)\n",
        "fig = plt.figure(figsize=(10,8))\n",
        "ax = plt.subplot(1,1,1)\n",
        "\n",
        "ax.plot(vetor_comprimento, matriz_resultado_saturacao_validacao_I[299], label = \"single point \") \n",
        "ax.plot(vetor_comprimento, matriz_resultado_saturacao_tvd[299], label = \"TVD\")\n",
        "\n",
        "#configurações dos gráficos\n",
        "ax.set_xlabel(\"x/L\", fontsize=15)\n",
        "ax.set_ylabel(\"Saturação da água\", fontsize=15)\n",
        "ax.set_title(\"Comparação dos métodos Upstream - TVD\", fontsize=20)\n",
        "ax.legend()\n",
        "\n",
        "plt.show()"
      ],
      "execution_count": 182,
      "outputs": [
        {
          "output_type": "display_data",
          "data": {
            "image/png": "[encoded data removed]",
            "text/plain": [
              "<Figure size 720x576 with 1 Axes>"
            ]
          },
          "metadata": {
            "tags": [],
            "needs_background": "light"
          }
        }
      ]
    },
    {
      "cell_type": "markdown",
      "metadata": {
        "id": "T-8Cp1ueFrra"
      },
      "source": [
        "### Solução analítica"
      ]
    },
    {
      "cell_type": "code",
      "metadata": {
        "colab": {
          "base_uri": "https://localhost:8080/"
        },
        "id": "mBzVw8UrG4w2",
        "outputId": "7b571c46-f6a3-4395-9b41-fbeeebfc7b80"
      },
      "source": [
        "vetor_saturacao = np.arange(swi,1-sor,0.05)\n",
        "vetor_saturacao"
      ],
      "execution_count": null,
      "outputs": [
        {
          "output_type": "execute_result",
          "data": {
            "text/plain": [
              "array([0.2 , 0.25, 0.3 , 0.35, 0.4 , 0.45, 0.5 , 0.55, 0.6 , 0.65, 0.7 ,\n",
              "       0.75, 0.8 ])"
            ]
          },
          "metadata": {
            "tags": []
          },
          "execution_count": 32
        }
      ]
    },
    {
      "cell_type": "code",
      "metadata": {
        "id": "46Ty2RJWRmLM"
      },
      "source": [
        "kro, krw = perm_corey(vetor_saturacao,swi,sor,kro_swi,krw_sor,no,nw)"
      ],
      "execution_count": null,
      "outputs": []
    },
    {
      "cell_type": "code",
      "metadata": {
        "colab": {
          "base_uri": "https://localhost:8080/"
        },
        "id": "jidzlLKjmDwm",
        "outputId": "e9d03bb3-da77-465f-902f-25a79e1f66eb"
      },
      "source": [
        "kro"
      ],
      "execution_count": null,
      "outputs": [
        {
          "output_type": "execute_result",
          "data": {
            "text/plain": [
              "array([0.85      , 0.75909092, 0.67063051, 0.58478816, 0.50176491,\n",
              "       0.42180406, 0.34520727, 0.27236062, 0.20377988, 0.14019772,\n",
              "       0.08276035, 0.03361114, 0.        ])"
            ]
          },
          "metadata": {
            "tags": []
          },
          "execution_count": 96
        }
      ]
    },
    {
      "cell_type": "code",
      "metadata": {
        "colab": {
          "base_uri": "https://localhost:8080/"
        },
        "id": "L2ptcPimmKbQ",
        "outputId": "beb4d6b0-dbd8-4cab-dd16-a109d0afd030"
      },
      "source": [
        "krw"
      ],
      "execution_count": null,
      "outputs": [
        {
          "output_type": "execute_result",
          "data": {
            "text/plain": [
              "array([0.        , 0.00208333, 0.00833333, 0.01875   , 0.03333333,\n",
              "       0.05208333, 0.075     , 0.10208333, 0.13333333, 0.16875   ,\n",
              "       0.20833333, 0.25208333, 0.3       ])"
            ]
          },
          "metadata": {
            "tags": []
          },
          "execution_count": 97
        }
      ]
    },
    {
      "cell_type": "code",
      "metadata": {
        "id": "OWLkiwTJSERJ"
      },
      "source": [
        "fw = []\n",
        "vetor = np.arange(13)\n",
        "for i in vetor:\n",
        "  fw.append(mobilidade(vetor_saturacao[i],visc_agua, visc_oleo))\n",
        "  "
      ],
      "execution_count": null,
      "outputs": []
    },
    {
      "cell_type": "code",
      "metadata": {
        "colab": {
          "base_uri": "https://localhost:8080/"
        },
        "id": "3NHJynsbSg_W",
        "outputId": "730ffaf7-a24e-4ae7-f62c-2540109fa102"
      },
      "source": [
        "#fw = mobilidade(vetor_saturacao[1],visc_agua, visc_oleo)\n",
        "fw"
      ],
      "execution_count": null,
      "outputs": [
        {
          "output_type": "execute_result",
          "data": {
            "text/plain": [
              "[array([0.]),\n",
              " array([0.00545906]),\n",
              " array([0.02424958]),\n",
              " array([0.06026147]),\n",
              " array([0.11728178]),\n",
              " array([0.19804651]),\n",
              " array([0.30290347]),\n",
              " array([0.42844696]),\n",
              " array([0.56683734]),\n",
              " array([0.70651374]),\n",
              " array([0.83428941]),\n",
              " array([0.93749994]),\n",
              " array([1.])]"
            ]
          },
          "metadata": {
            "tags": []
          },
          "execution_count": 81
        }
      ]
    },
    {
      "cell_type": "code",
      "metadata": {
        "colab": {
          "base_uri": "https://localhost:8080/",
          "height": 282
        },
        "id": "mgOaULM8ShYB",
        "outputId": "e8b422a6-d2e1-4d85-c92c-48240ad14abc"
      },
      "source": [
        "plt.plot(vetor_saturacao, fw)"
      ],
      "execution_count": null,
      "outputs": [
        {
          "output_type": "execute_result",
          "data": {
            "text/plain": [
              "[<matplotlib.lines.Line2D at 0x7fecfa2373d0>]"
            ]
          },
          "metadata": {
            "tags": []
          },
          "execution_count": 74
        },
        {
          "output_type": "display_data",
          "data": {
            "image/png": "[encoded data removed]",
            "text/plain": [
              "<Figure size 432x288 with 1 Axes>"
            ]
          },
          "metadata": {
            "tags": [],
            "needs_background": "light"
          }
        }
      ]
    },
    {
      "cell_type": "code",
      "metadata": {
        "id": "_LDRPdWJS5cD"
      },
      "source": [
        "dfw = [np.array(0)]\n",
        "for i in range(len(fw)-1):\n",
        "  dfw.append((fw[i+1]-fw[i])/dx)\n",
        "\n"
      ],
      "execution_count": null,
      "outputs": []
    },
    {
      "cell_type": "code",
      "metadata": {
        "colab": {
          "base_uri": "https://localhost:8080/"
        },
        "id": "7b4gLlyLfdke",
        "outputId": "0bb57092-2458-4848-9cfa-b802a60b9d48"
      },
      "source": [
        "dfw"
      ],
      "execution_count": null,
      "outputs": [
        {
          "output_type": "execute_result",
          "data": {
            "text/plain": [
              "[array(0),\n",
              " array([0.5459057]),\n",
              " array([1.87905213]),\n",
              " array([3.60118932]),\n",
              " array([5.70203071]),\n",
              " array([8.07647304]),\n",
              " array([10.48569611]),\n",
              " array([12.55434901]),\n",
              " array([13.8390379]),\n",
              " array([13.96764018]),\n",
              " array([12.77756662]),\n",
              " array([10.32105341]),\n",
              " array([6.25000589])]"
            ]
          },
          "metadata": {
            "tags": []
          },
          "execution_count": 92
        }
      ]
    },
    {
      "cell_type": "code",
      "metadata": {
        "id": "u2axgFDkffKO"
      },
      "source": [
        "td = ut*3000/(porosidade_meio*tam_meio_poroso)\n",
        "xd = []\n",
        "for i in range(len(dfw)):\n",
        "  xd.append(td*dfw[i])  "
      ],
      "execution_count": null,
      "outputs": []
    },
    {
      "cell_type": "code",
      "metadata": {
        "colab": {
          "base_uri": "https://localhost:8080/",
          "height": 336
        },
        "id": "QPmfIONog-hQ",
        "outputId": "d4dab41f-2a86-442e-aae7-232218bd0a26"
      },
      "source": [
        "plt.plot(xd,vetor_saturacao)"
      ],
      "execution_count": null,
      "outputs": [
        {
          "output_type": "stream",
          "text": [
            "/usr/local/lib/python3.7/dist-packages/numpy/core/_asarray.py:136: VisibleDeprecationWarning: Creating an ndarray from ragged nested sequences (which is a list-or-tuple of lists-or-tuples-or ndarrays with different lengths or shapes) is deprecated. If you meant to do this, you must specify 'dtype=object' when creating the ndarray\n",
            "  return array(a, dtype, copy=False, order=order, subok=True)\n"
          ],
          "name": "stderr"
        },
        {
          "output_type": "execute_result",
          "data": {
            "text/plain": [
              "[<matplotlib.lines.Line2D at 0x7fecfa062a50>]"
            ]
          },
          "metadata": {
            "tags": []
          },
          "execution_count": 99
        },
        {
          "output_type": "display_data",
          "data": {
            "image/png": "[encoded data removed]",
            "text/plain": [
              "<Figure size 432x288 with 1 Axes>"
            ]
          },
          "metadata": {
            "tags": [],
            "needs_background": "light"
          }
        }
      ]
    },
    {
      "cell_type": "code",
      "metadata": {
        "colab": {
          "base_uri": "https://localhost:8080/"
        },
        "id": "lEzpMHBPhD1b",
        "outputId": "7792714d-b7aa-44c7-f3d9-c1c86d5448e3"
      },
      "source": [
        "xd[0] = np.array(0.0)\n",
        "xd"
      ],
      "execution_count": null,
      "outputs": [
        {
          "output_type": "execute_result",
          "data": {
            "text/plain": [
              "[array(0.),\n",
              " array([0.16377171]),\n",
              " array([0.56371564]),\n",
              " array([1.0803568]),\n",
              " array([1.71060921]),\n",
              " array([2.42294191]),\n",
              " array([3.14570883]),\n",
              " array([3.7663047]),\n",
              " array([4.15171137]),\n",
              " array([4.19029205]),\n",
              " array([3.83326999]),\n",
              " array([3.09631602]),\n",
              " array([1.87500177])]"
            ]
          },
          "metadata": {
            "tags": []
          },
          "execution_count": 98
        }
      ]
    },
    {
      "cell_type": "code",
      "metadata": {
        "id": "OnZGHnTMkxOg"
      },
      "source": [
        ""
      ],
      "execution_count": null,
      "outputs": []
    }
  ]
}