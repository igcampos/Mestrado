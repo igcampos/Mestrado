{
  "nbformat": 4,
  "nbformat_minor": 0,
  "metadata": {
    "colab": {
      "name": "saturacao_implicit.ipynb",
      "provenance": [],
      "authorship_tag": "ABX9TyOUdcaUHIuy6oArlL/qNjc6",
      "include_colab_link": true
    },
    "kernelspec": {
      "name": "python3",
      "display_name": "Python 3"
    },
    "language_info": {
      "name": "python"
    }
  },
  "cells": [
    {
      "cell_type": "markdown",
      "metadata": {
        "id": "view-in-github",
        "colab_type": "text"
      },
      "source": [
        "<a href=\"https://colab.research.google.com/github/igcampos/Mestrado/blob/main/saturacao_implicit.ipynb\" target=\"_parent\"><img src=\"https://colab.research.google.com/assets/colab-badge.svg\" alt=\"Open In Colab\"/></a>"
      ]
    },
    {
      "cell_type": "markdown",
      "metadata": {
        "id": "oL6FvNBWOVsg"
      },
      "source": [
        "#Implicit solution program"
      ]
    },
    {
      "cell_type": "markdown",
      "metadata": {
        "id": "V_lKIuE8VNNT"
      },
      "source": [
        "Importing the libraries"
      ]
    },
    {
      "cell_type": "code",
      "metadata": {
        "id": "4XaIjsDLVIiL"
      },
      "source": [
        "import numpy as np\n",
        "import matplotlib.pyplot as plt\n",
        "from abc import ABC, abstractmethod\n",
        "import time\n",
        "import sys\n",
        "from collections.abc import Iterable\n",
        "import timeit\n",
        "from sympy import * \n",
        "from scipy.misc import derivative "
      ],
      "execution_count": 1,
      "outputs": []
    },
    {
      "cell_type": "markdown",
      "metadata": {
        "id": "uKHtCMULsn7y"
      },
      "source": [
        "##  A simple Newton-Raphson program"
      ]
    },
    {
      "cell_type": "code",
      "metadata": {
        "id": "_zLRXBHROR2v"
      },
      "source": [
        "# test program\n",
        "# implementation of netwon-raphson method\n",
        "# [J]dX = -r\n",
        "# nonlinear system:\n",
        "# (x-4)^2 + (y-4)^2 =5\n",
        "# x^2 + y^2 = 16\n"
      ],
      "execution_count": null,
      "outputs": []
    },
    {
      "cell_type": "code",
      "metadata": {
        "id": "HRBMqQFiOe_o"
      },
      "source": [
        "# defining the residual vectors\n",
        "def residual_vectors(ab):\n",
        "  x,y = ab\n",
        "  return ([(x-4)**2 +(y-4)**2 - 5,\n",
        "         x**2 + y**2 - 16]\n",
        "         )\n"
      ],
      "execution_count": null,
      "outputs": []
    },
    {
      "cell_type": "code",
      "metadata": {
        "id": "phEIDJQVUXUC"
      },
      "source": [
        "# defining the jacobian matrix\n",
        "def jacobin_matrix(ab):\n",
        "  x,y = ab\n",
        "  return ([2*(x-4),2*(y-4)],\n",
        "         [2*x,2*y]\n",
        "         )\n"
      ],
      "execution_count": null,
      "outputs": []
    },
    {
      "cell_type": "code",
      "metadata": {
        "id": "UkwkB08wUj2V"
      },
      "source": [
        "# defining the Newton-Raphson function\n",
        "def newton_raphson(fun,jac,x_init,max_ite):\n",
        "  max_iteration = max_ite\n",
        "  epsilon = 10**-6\n",
        "\n",
        "  xnew = x_init\n",
        "  for k in range(max_iteration):\n",
        "    J = np.array(jac(xnew))\n",
        "    r = np.array(fun(xnew))\n",
        "    delta = np.linalg.solve(J,-r)\n",
        "    xnew = xnew + delta\n",
        "\n",
        "    if np.linalg.norm(delta) < epsilon:\n",
        "      print(\"The system converges at k={}, and the solution are {}\".format(k, xnew))\n",
        "      break\n",
        "  else:\n",
        "    print(\"The solution does not converge! Try increasing iterations\")\n",
        "  \n",
        "  return xnew\n",
        "\n"
      ],
      "execution_count": null,
      "outputs": []
    },
    {
      "cell_type": "code",
      "metadata": {
        "colab": {
          "base_uri": "https://localhost:8080/"
        },
        "id": "yFB_bGDFcsIz",
        "outputId": "b8accdc3-f938-4c62-a070-9e2968e69de7"
      },
      "source": [
        "# applying the function\n",
        "init_guess = [1,4]\n",
        "\n",
        "variable_solution =  newton_raphson(residual_vectors,jacobin_matrix,init_guess,100)"
      ],
      "execution_count": null,
      "outputs": [
        {
          "output_type": "stream",
          "text": [
            "The system converges at k=4, and the solution are [1.805829 3.569171]\n"
          ],
          "name": "stdout"
        }
      ]
    },
    {
      "cell_type": "markdown",
      "metadata": {
        "id": "ctTZjC75ZOIy"
      },
      "source": [
        "### Saturation equations"
      ]
    },
    {
      "cell_type": "markdown",
      "metadata": {
        "id": "X4gW9aCcqztX"
      },
      "source": [
        "#### Symbolic derivative calculations"
      ]
    },
    {
      "cell_type": "code",
      "metadata": {
        "id": "4id8yga6Qljp"
      },
      "source": [
        "sw_1 = symbols('sw_1') \n",
        "sw_2 = symbols('sw_2')"
      ],
      "execution_count": null,
      "outputs": []
    },
    {
      "cell_type": "code",
      "metadata": {
        "id": "RVVQ_qXZbkPb"
      },
      "source": [
        "alpha0  = 0.1 \n",
        "mi = 0.3  \n",
        "swi = 0.2\n",
        "nw = 2\n",
        "no = 2\n",
        "sor = 0.2\n",
        "aw = (1-swi-sor)**nw \n",
        "a0 = (1-swi-sor)**no \n",
        "d =  0.85\n",
        "sw_cc = 0.8\n",
        "sw_ci = 0.2\n",
        "# defining the residual vectors\n",
        "r1 = sw_1 + (alpha0*mi*(sw_1 - swi)**nw)/((mi*(sw_1-swi)**nw)/aw + d*(1-sor-sw_1)/a0)*(1/aw) - (alpha0*mi*(sw_cc - swi)**nw)/((mi*(sw_cc-swi)**nw)/aw + d*(1-sor-sw_cc)/a0)*(1/aw) - sw_ci \n",
        "r2 = sw_2 + (alpha0*mi*(sw_2 - swi)**nw)/((mi*(sw_2-swi)**nw)/aw + d*(1-sor-sw_2)/a0)*(1/aw) - (alpha0*mi*(sw_1 - swi)**nw)/((mi*(sw_1-swi)**nw)/aw + d*(1-sor-sw_1)/a0)*(1/aw) - sw_ci\n"
      ],
      "execution_count": null,
      "outputs": []
    },
    {
      "cell_type": "code",
      "metadata": {
        "id": "oKHgaqrHqv5T"
      },
      "source": [
        "#defining the derivatives\n",
        "r1_prime = r1.diff(sw_1)\n",
        "r2_1_prime = r2.diff(sw_1)\n",
        "r2_2_prime = r2.diff(sw_2)"
      ],
      "execution_count": null,
      "outputs": []
    },
    {
      "cell_type": "code",
      "metadata": {
        "id": "VqJxuo8Zviz8"
      },
      "source": [
        "#converting the symbolic varibles to numpy\n",
        "j11 = lambdify(sw_1, r1_prime, 'numpy')\n",
        "j21 = lambdify(sw_1, r2_1_prime, 'numpy')\n",
        "j22 = lambdify(sw_2, r2_2_prime, 'numpy')\n"
      ],
      "execution_count": null,
      "outputs": []
    },
    {
      "cell_type": "code",
      "metadata": {
        "id": "EQDvQbV3xb3X"
      },
      "source": [
        "def jacobian_matrix(initial_estimation):\n",
        "  a,b = initial_estimation\n",
        "  return ([j11(a), 0],\n",
        "          [j21(a), j22(b)])\n",
        "  \n",
        "def residual_func(initial_estimation):\n",
        "  a,b = initial_estimation\n",
        "  return ([r1.subs(sw_1,a),r2.subs([(sw_1,a), (sw_2,b)])])"
      ],
      "execution_count": null,
      "outputs": []
    },
    {
      "cell_type": "code",
      "metadata": {
        "id": "LltU4Jj_5EOa"
      },
      "source": [
        "# defining the Newton-Raphson function\n",
        "def newton_raphson(fun,jac,x_init,max_ite):\n",
        "  max_iteration = max_ite\n",
        "  epsilon = 10**-10\n",
        "\n",
        "  xnew = x_init\n",
        "  for k in range(max_iteration):\n",
        "    J = np.array(jac(xnew))\n",
        "    r = np.array(fun(xnew)).astype(np.float64)\n",
        "    delta = np.linalg.solve(J,-r)\n",
        "    xnew = xnew + delta\n",
        "    \n",
        "    if np.linalg.norm(delta) < epsilon:\n",
        "      print(\"The system converges at k={}, and the solution are {}\".format(k, xnew))\n",
        "      break\n",
        "  else:\n",
        "    print(\"The solution does not converge! Try increasing iterations\")\n",
        "  \n",
        "  return xnew\n",
        "\n"
      ],
      "execution_count": null,
      "outputs": []
    },
    {
      "cell_type": "code",
      "metadata": {
        "id": "pQ3IqBzW5mSM",
        "colab": {
          "base_uri": "https://localhost:8080/"
        },
        "outputId": "3c0022d0-ca34-4c5f-dbc8-d0c57fa54d59"
      },
      "source": [
        "# applying the function\n",
        "init_guess = [0.2,0.2]\n",
        "\n",
        "variable_solution =  newton_raphson(residual_func,jacobian_matrix,init_guess,100)"
      ],
      "execution_count": null,
      "outputs": [
        {
          "output_type": "stream",
          "text": [
            "The system converges at k=3, and the solution are [0.29930959 0.20069038]\n"
          ],
          "name": "stdout"
        }
      ]
    },
    {
      "cell_type": "markdown",
      "metadata": {
        "id": "AQAFeUwSrEBC"
      },
      "source": [
        "#### Numeric derivative calculations"
      ]
    },
    {
      "cell_type": "code",
      "metadata": {
        "id": "4x3oKZ6drid5"
      },
      "source": [
        "# defining the residual equations\n",
        "# parameter values\n",
        "alpha0  = 0.1 \n",
        "mi = 0.3  \n",
        "swi = 0.2\n",
        "nw = 2\n",
        "no = 2\n",
        "sor = 0.2\n",
        "aw = (1-swi-sor)**nw \n",
        "a0 = (1-swi-sor)**no \n",
        "d =  0.85\n",
        "sw_cc = 0.8\n",
        "sw_ci = 0.2\n",
        "# residual equations\n",
        "def foo(sw_1, sw_2):\n",
        "  return sw_2 + (alpha0*mi*(sw_2 - swi)**nw)/((mi*(sw_2-swi)**nw)/aw + d*(1-sor-sw_2)/a0)*(1/aw) - (alpha0*mi*(sw_1 - swi)**nw)/((mi*(sw_1-swi)**nw)/aw + d*(1-sor-sw_1)/a0)*(1/aw) - sw_ci\n",
        "\n",
        "def foo1(sw_1):\n",
        "  return sw_1 + (alpha0*mi*(sw_1 - swi)**nw)/((mi*(sw_1-swi)**nw)/aw + d*(1-sor-sw_1)/a0)*(1/aw) - (alpha0*mi*(sw_cc - swi)**nw)/((mi*(sw_cc-swi)**nw)/aw + d*(1-sor-sw_cc)/a0)*(1/aw) - sw_ci \n"
      ],
      "execution_count": null,
      "outputs": []
    },
    {
      "cell_type": "code",
      "metadata": {
        "id": "mT3ySE2zSE4q"
      },
      "source": [
        "def partial_derivative(func, var=0, point=[]):\n",
        "    args = point[:]\n",
        "    def wraps(sw_1):\n",
        "        args[var] = sw_1\n",
        "        return func(*args)\n",
        "    return derivative(wraps, point[var], dx = 1e-6)"
      ],
      "execution_count": null,
      "outputs": []
    },
    {
      "cell_type": "code",
      "metadata": {
        "id": "dAkeh54vCTDr",
        "colab": {
          "base_uri": "https://localhost:8080/"
        },
        "outputId": "e39e0ad6-4ef5-44e8-c112-bcf604f38c9d"
      },
      "source": [
        "#defining the derivatives\n",
        "partial_derivative(foo, 0, point=[3,1])"
      ],
      "execution_count": null,
      "outputs": [
        {
          "output_type": "execute_result",
          "data": {
            "text/plain": [
              "0.49172707072830946"
            ]
          },
          "metadata": {},
          "execution_count": 33
        }
      ]
    },
    {
      "cell_type": "code",
      "metadata": {
        "id": "4is1zOJjBtRw"
      },
      "source": [
        "def jacobian_matrix(initial_estimation):\n",
        "  a,b = initial_estimation\n",
        "  return ([derivative(foo1, a, dx = 1e-6), 0],\n",
        "          [partial_derivative(foo, 0, point=[a,b]), partial_derivative(foo, 1, point=[a,b])])\n",
        "  \n",
        "def residual_func(initial_estimation):\n",
        "  a,b = initial_estimation\n",
        "  return ([foo1(a),foo(a,b)])"
      ],
      "execution_count": null,
      "outputs": []
    },
    {
      "cell_type": "code",
      "metadata": {
        "id": "m_GqQlI8mrHL"
      },
      "source": [
        "# defining the Newton-Raphson function\n",
        "def newton_raphson(fun,jac,x_init,max_ite):\n",
        "  max_iteration = max_ite\n",
        "  epsilon = 10**-6\n",
        "\n",
        "  xnew = x_init\n",
        "  for k in range(max_iteration):\n",
        "    J = np.array(jac(xnew))\n",
        "    r = np.array(fun(xnew)) #.astype(np.float64)\n",
        "    delta = np.linalg.solve(J,-r)\n",
        "    xnew = xnew + delta\n",
        "    \n",
        "    if np.linalg.norm(delta) < epsilon:\n",
        "      print(\"The system converges at k={}, and the solution are {}\".format(k, xnew))\n",
        "      break\n",
        "  else:\n",
        "    print(\"The solution does not converge! Try increasing iterations\")\n",
        "  \n",
        "  return xnew\n",
        "\n"
      ],
      "execution_count": null,
      "outputs": []
    },
    {
      "cell_type": "code",
      "metadata": {
        "colab": {
          "base_uri": "https://localhost:8080/"
        },
        "id": "76nAPS1Um_b1",
        "outputId": "567c7f94-4560-4d95-ea16-1481f006b0e8"
      },
      "source": [
        "# applying the function\n",
        "init_guess = [0.2,0.2]\n",
        "\n",
        "variable_solution2 =  newton_raphson(residual_func,jacobian_matrix,init_guess,100)"
      ],
      "execution_count": null,
      "outputs": [
        {
          "output_type": "stream",
          "text": [
            "The system converges at k=2, and the solution are [0.29930959 0.20069038]\n"
          ],
          "name": "stdout"
        }
      ]
    },
    {
      "cell_type": "markdown",
      "metadata": {
        "id": "r5ii4CMgciG_"
      },
      "source": [
        "## Classes "
      ]
    },
    {
      "cell_type": "code",
      "metadata": {
        "id": "mUnXwzboxP-T"
      },
      "source": [
        "class Domain:\n",
        "\n",
        "  def __init__(self, nx, nt, medium):\n",
        "    \"\"\"defines domain properties such as grid's number, \n",
        "    simulation time and all porous medium properties.\"\"\"\n",
        "    self.nx = nx\n",
        "    self.nt = nt\n",
        "    self.obj_medium = medium\n",
        "  \n",
        "  def vector_domain(self):\n",
        "    \"returns the vector of the domain.\"\n",
        "    return np.arange(self.nx)\n",
        "\n",
        "  def grid_length(self, length_porous):\n",
        "    \"\"\"returns the grid length of the domain, in addition stores the porous medium\n",
        "    length in a new variable.\"\"\"\n",
        "    self.length = length_porous\n",
        "    return length_porous/self.nx\n",
        "\n",
        "  def grid_dx(self):\n",
        "    \"returns the number of dx from the domain.\"\n",
        "    return self.grid_length(self.length)/self.length\n",
        "\n",
        "  def grid_dt(self, time_step):\n",
        "    \"\"\"returns the number of dt from the domain, in addition stores the timestep \n",
        "    in a new variable.\"\"\"\n",
        "    self.time_step = time_step\n",
        "    return (time_step*self.obj_medium.ut)/(self.length*self.obj_medium.porosity)\n",
        "\n",
        "  def courant(self):\n",
        "    \"returns the Courant number\"\n",
        "    return self.grid_dt(self.time_step)/self.grid_dx()\n",
        "\n",
        "\n",
        "class PorousMedium:\n",
        "\n",
        "  def __init__(self, porosity, water_viscosity, oil_viscosity, total_velocity):\n",
        "    \"\"\"defines the porous medium properties such as porosity, water viscosity, \n",
        "    oil viscosity and total velocity of the injected fluid \"\"\"\n",
        "    self.porosity = porosity\n",
        "    self.wvis = water_viscosity\n",
        "    self.ovis = oil_viscosity\n",
        "    self.ut = total_velocity\n",
        "    \n",
        "\n",
        "\n",
        "\n"
      ],
      "execution_count": 2,
      "outputs": []
    },
    {
      "cell_type": "code",
      "metadata": {
        "id": "rY95_1oqonGH"
      },
      "source": [
        "class RelativePermeability(ABC):\n",
        "  \"\"\"This is an abstract class that defines connate water saturation, residual oil saturation\n",
        "  and some abstract methods\"\"\"\n",
        "  def __init__(self, swi, sor):\n",
        "    self.swi = swi\n",
        "    self.sor = sor\n",
        "\n",
        "  @abstractmethod\n",
        "  def water_kr(self):\n",
        "    pass\n",
        "\n",
        "  @abstractmethod\n",
        "  def oil_kr(self):\n",
        "    pass\n",
        "\n",
        "  \n",
        "class CoreyModel(RelativePermeability):\n",
        "  \"This class resolves the relative permeabilities by Corey Model\"\n",
        "\n",
        "  def __init__(self, swi, sor, nw, no, krw_sor, kro_swi):\n",
        "    \"\"\"defines some properties such as corey parameters, relative permeabilities of the endpoints,\n",
        "    and also the properties of the abstract classes.\"\"\"\n",
        "    self.nw = nw\n",
        "    self.no = no\n",
        "    self.krw_sor = krw_sor\n",
        "    self.kro_swi = kro_swi\n",
        "    super().__init__(swi, sor)\n",
        "\n",
        "  def water_kr(self, sw):\n",
        "    \"function that calculates the relative permeability of water\"\n",
        "    krw = []\n",
        "\n",
        "    if isinstance(sw, Iterable):\n",
        "\n",
        "      for i in sw:\n",
        "          kr = self.krw_sor*((i-self.swi)/(1-self.swi-self.sor))**self.nw\n",
        "          if kr > self.krw_sor:\n",
        "            kr = self.krw_sor\n",
        "          krw.append(kr)\n",
        "      krw = np.array(krw)\n",
        "\n",
        "    else:\n",
        "        kr = self.krw_sor*((sw-self.swi)/(1-self.swi-self.sor))**self.nw\n",
        "        if kr > self.krw_sor:\n",
        "          kr = self.krw_sor\n",
        "        krw.append(kr)\n",
        "        krw = np.array(krw)\n",
        "      \n",
        "    return krw\n",
        "\n",
        "  def oil_kr(self, sw):\n",
        "    \"function that calculates the relative permeability of oil\"\n",
        "    kro = []\n",
        "\n",
        "    if isinstance(sw, Iterable):\n",
        "\n",
        "      for i in sw:\n",
        "        kr = self.kro_swi*((1-self.sor-i)/(1-self.swi-self.sor))**self.no\n",
        "        kro.append(kr)\n",
        "      kro = np.array([self.kro_swi if i >= 1 else i for i in kro]) \n",
        "      kro[-1] = 0.0 \n",
        "\n",
        "    else:\n",
        "      kr = self.kro_swi*((1-self.sor-sw)/(1-self.swi-self.sor))**self.no\n",
        "      if kr > self.kro_swi:\n",
        "        kr = self.kro_swi\n",
        "      kro.append(kr)\n",
        "      kro = np.array(kro) \n",
        "      \n",
        "    return kro\n"
      ],
      "execution_count": 3,
      "outputs": []
    },
    {
      "cell_type": "code",
      "metadata": {
        "id": "3APQsoNLZ8-_"
      },
      "source": [
        "class BLModel:\n",
        "\n",
        "  def __init__(self, sw_ci, sw_cc):\n",
        "    \"\"\"This class defines the model that needs to be solved, and in addition stores the \n",
        "    initial water saturation and boundary water saturation.\"\"\"\n",
        "    self.sw_ci = sw_ci\n",
        "    self.sw_cc = sw_cc\n",
        "\n",
        "  \n",
        "  def transition_time_matrix(self):\n",
        "    \"creates a matrix that represents the time transition of the process.\"\n",
        "    injection_time = int(domain.nt/domain.time_step)\n",
        "    self.injection_time = injection_time\n",
        "    transition_matrix = np.arange(injection_time)\n",
        "    self.transition_matrix = transition_matrix\n",
        "    return transition_matrix\n",
        "  \n",
        "  def saturation_matrix(self):\n",
        "    \"\"\"creates a matrix that represents the progress of the water saturation \n",
        "    in the porous medium in each point grid.\"\"\"\n",
        "    saturation_matrix = np.zeros((self.injection_time, domain.nx))\n",
        "    return saturation_matrix\n",
        "\n",
        "\n",
        "\n"
      ],
      "execution_count": 4,
      "outputs": []
    },
    {
      "cell_type": "code",
      "metadata": {
        "id": "xIFZNGdj6R9G"
      },
      "source": [
        "class FractionalFlow(ABC):\n",
        "  \"\"\"This is an abstract class that calculates the fractional flow through two \n",
        "  different methods, which are called single point upstream and TVD.\"\"\"\n",
        "  def __init__(self):\n",
        "    self.wvis = medium.wvis\n",
        "    self.ovis = medium.ovis\n",
        "    \n",
        "\n",
        "  @abstractmethod\n",
        "  def mobility(self):\n",
        "    pass\n",
        "\n",
        "class SinglePointUpstream(FractionalFlow):\n",
        "  \"\"\"This is a child class that calculates the fractional flow using a single point\n",
        "  upstream approach.\"\"\"\n",
        "\n",
        "  def __init__(self):\n",
        "    super().__init__()\n",
        "\n",
        "  def mobility(self, sw):\n",
        "    \"function that calculates the mobility between interblocks.\"\n",
        "    numerator = perm.water_kr(sw)/medium.wvis\n",
        "    denominator = perm.water_kr(sw)/medium.wvis + perm.oil_kr(sw)/medium.ovis\n",
        "    return numerator/denominator\n",
        "\n",
        "class TVD(FractionalFlow):\n",
        "  \"This is a child class that calculates the fractional flow using a TVD approach.\"\n",
        "    \n",
        "  def __init__(self):\n",
        "    super().__init__()\n",
        "\n",
        "  def mobility(self, sw):\n",
        "    \"function that calculates the mobility between interblocks.\"\n",
        "    numerator = perm.water_kr(sw)/medium.wvis\n",
        "    denominator = perm.water_kr(sw)/medium.wvis + perm.oil_kr(sw)/medium.ovis\n",
        "    return numerator/denominator\n",
        "\n",
        "  def limiter_function(self,sw_i,sw_i_plus_one,sw_i_minus_one):\n",
        "    \"function that calculates the limiter function.\"\n",
        "    numerator = self.mobility(sw_i) - self.mobility(sw_i_minus_one)\n",
        "    denominator = self.mobility(sw_i_plus_one) - self.mobility(sw_i)\n",
        "    if denominator == 0:\n",
        "      r = 1\n",
        "      self.r = r\n",
        "    else:\n",
        "      r = numerator/denominator\n",
        "      self.r = r\n",
        "    return r \n",
        "\n",
        "  def van_leer(self):\n",
        "    \"function that calculates the van leer parameter.\"\n",
        "    if (1+self.r) == 0:\n",
        "      fi = 1\n",
        "      self.fi = fi\n",
        "    else:\n",
        "      fi = (self.r+abs(self.r))/(1+self.r)\n",
        "      self.fi = fi\n",
        "    return fi\n",
        "\n",
        "  def flow_adjustment(self, sw_one, sw_two):\n",
        "    \"function that calculates the flow correction.\"\n",
        "    flow_adjustment_function = self.fi/2*(self.mobility(sw_one)-self.mobility(sw_two))*(1-domain.courant())\n",
        "    return flow_adjustment_function\n"
      ],
      "execution_count": 5,
      "outputs": []
    },
    {
      "cell_type": "code",
      "metadata": {
        "id": "wlOZZWcD-G18"
      },
      "source": [
        "class FiniteDifference(ABC):\n",
        "  \"\"\"This is an abstract class that computes the Buckly-Leverett model\n",
        "  using a finite difference method with an implicit and explicit approach.\"\"\"\n",
        "\n",
        "  def __init__(self):\n",
        "    pass\n",
        "\n",
        "  @abstractmethod\n",
        "  def solver(self):\n",
        "    pass\n",
        "\n",
        "  def execution_time(self):\n",
        "    \"The purpose of this function is to determine the execution time of the solver.\"\n",
        "    return print(\"The execution time of the solver was {} seconds\".format(self.stop - self.start))\n",
        "\n",
        "  def saturation_curve(self):\n",
        "    \"Function that plots the saturation curves.\"\n",
        "    self.matrix = self.obj_saturation\n",
        "    \n",
        "    self.matrix = np.insert(self.matrix, 0, values = self.sw_cc, axis=1) \n",
        "    length_vector = np.linspace(0, 1, self.obj_domain.nx+1)\n",
        "    fig = plt.figure(figsize=(8,5))\n",
        "    ax = plt.subplot(1,1,1)\n",
        "\n",
        "    #PVI calculations\n",
        "    td_label_1= self.obj_domain.grid_dt(500)\n",
        "    td_label_2= self.obj_domain.grid_dt(1000)\n",
        "    td_label_3= self.obj_domain.grid_dt(3000)\n",
        "    td_label_4= self.obj_domain.grid_dt(4000)\n",
        "\n",
        "\n",
        "    ax.plot(length_vector, self.matrix[49], label = \"t=360 dias-{} PVI\".format(td_label_1))\n",
        "    ax.plot(length_vector, self.matrix[99], label = \"t=730 dias-{} PVI\".format(td_label_2))\n",
        "    ax.plot(length_vector, self.matrix[299], label = \"t=1090 dias-{} PVI\".format(td_label_3))\n",
        "    ax.plot(length_vector, self.matrix[399], label = \"t=1820 dias-{} PVI\".format(td_label_4))\n",
        "\n",
        "    ax.set_xlabel(\"x/L\", fontsize=15)\n",
        "    ax.set_ylabel(\"Saturação da água\", fontsize=15)\n",
        "    plt.title(\"Curva de Saturação implicita - ut = {} ft³/d\".format(self.obj_medium.ut), fontsize=20)\n",
        "    ax.legend(loc=\"upper right\")\n",
        "    plt.show()\n",
        " \n",
        "\n",
        "class ExplicitMethod(FiniteDifference):\n",
        "  \"This class gathers all the functionality to compute the Buckley-Leverett model using an explicit approach.\"\n",
        "\n",
        "  def __init__(self, fw_approach, saturation, blmodel):\n",
        "    self.obj_approach = fw_approach\n",
        "    self.obj_saturation = saturation\n",
        "    self.obj_blmodel = blmodel\n",
        "    self.obj_saturation[0,:] = self.obj_blmodel.sw_ci\n",
        "  \n",
        "\n",
        "  def saturation_update(self, sw_i_minus_half, sw_i):\n",
        "    \"Function that updates saturations through fractional flow calculations using a Single point upstream approach.\"\n",
        "    lambda_i_minus_half = self.obj_approach.mobility(sw_i_minus_half)\n",
        "    lambda_i = self.obj_approach.mobility(sw_i)\n",
        "    return dt/dx*(lambda_i_minus_half - lambda_i) + sw_i #requires generalization\n",
        "\n",
        "  def saturation_update_tvd(self, i, sw_i, sw_i_minus_one, sw_i_plus_one):\n",
        "    \"Function that updates saturations through fractional flow calculations using a TVD approach.\"\n",
        "    if i == 0:\n",
        "      lambda_i_minus_half = self.obj_approach.mobility(sw_i_minus_one)\n",
        "      \n",
        "    else:\n",
        "       lambda_i_minus_half = self.aux\n",
        "       \n",
        "    if i == (domain.nx - 1):\n",
        "      r = self.obj_approach.limiter_function(sw_i,self.obj_blmodel.sw_ci,sw_i_minus_one)\n",
        "      fi = self.obj_approach.van_leer()\n",
        "      lambda_i_plus_half = self.obj_approach.mobility(sw_i) + self.obj_approach.flow_adjustment(self.obj_blmodel.sw_ci,sw_i)\n",
        "    else:\n",
        "      r = self.obj_approach.limiter_function(sw_i,sw_i_plus_one,sw_i_minus_one)\n",
        "      fi = self.obj_approach.van_leer()\n",
        "      lambda_i_plus_half = self.obj_approach.mobility(sw_i) + self.obj_approach.flow_adjustment(sw_i_plus_one,sw_i)\n",
        "\n",
        "    self.aux = lambda_i_plus_half #test later with indentation \n",
        "\n",
        "    return dt/dx*(lambda_i_minus_half - lambda_i_plus_half) + sw_i #requires generalization\n",
        "\n",
        "\n",
        "  def solver(self):\n",
        "    \"Function that explicitly solves the model.\"\n",
        "\n",
        "    if isinstance(self.obj_approach, SinglePointUpstream) == True:\n",
        "      t1 = timeit.default_timer()\n",
        "      self.start = t1\n",
        "      #algorithm to calculate the Buckley-Leverett model using Single Point Upstream approach\n",
        "      \n",
        "      for n in self.obj_blmodel.transition_time_matrix():\n",
        "        #first row calculation\n",
        "        if n == 0:\n",
        "          for i in domain.vector_domain(): #need of improvement \n",
        "            if i == 0:\n",
        "              #first grid point\n",
        "              self.obj_saturation[n,i] = self.saturation_update(self.obj_blmodel.sw_cc, self.obj_blmodel.sw_ci)\n",
        "            else:\n",
        "              #other points\n",
        "              self.obj_saturation[n,i] = self.saturation_update(self.obj_blmodel.sw_ci, self.obj_blmodel.sw_ci)\n",
        "        else:\n",
        "          for i in domain.vector_domain():\n",
        "            if i == 0:\n",
        "              #first grid point\n",
        "              self.obj_saturation[n,i] = self.saturation_update(self.obj_blmodel.sw_cc, self.obj_saturation[n-1,i])\n",
        "            else:\n",
        "              #other points\n",
        "              self.obj_saturation[n,i] = self.saturation_update(self.obj_saturation[n-1,i-1], self.obj_saturation[n-1,i])            \n",
        "\n",
        "      t2 = timeit.default_timer()\n",
        "      self.stop = t2\n",
        "\n",
        "    else:\n",
        "      t1 = timeit.default_timer()\n",
        "      self.start = t1\n",
        "      #the algorithm to calculate the Buckley-Leverett model using TVD approach\n",
        "\n",
        "      for n in self.obj_blmodel.transition_time_matrix():\n",
        "        #first row calculation\n",
        "        if n == 0:\n",
        "          for i in domain.vector_domain(): #need of improvement \n",
        "            if i == 0:\n",
        "              # first grid point\n",
        "              self.obj_saturation[n,i] = self.saturation_update_tvd(i, self.obj_blmodel.sw_ci, self.obj_blmodel.sw_cc, self.obj_blmodel.sw_ci)\n",
        "            else:\n",
        "              #other points\n",
        "              self.obj_saturation[n,i] = self.saturation_update_tvd(i, self.obj_blmodel.sw_ci, self.obj_blmodel.sw_ci, self.obj_blmodel.sw_ci)\n",
        "        else:\n",
        "          for i in domain.vector_domain():\n",
        "            if i == 0:\n",
        "              # first grid point\n",
        "              self.obj_saturation[n,i] = self.saturation_update_tvd(i, self.obj_saturation[n-1,i], self.obj_blmodel.sw_cc, self.obj_saturation[n-1,i+1])\n",
        "            else:\n",
        "              #other points\n",
        "              if i == domain.nx-1:\n",
        "                self.obj_saturation[n,i] = self.saturation_update_tvd(i, self.obj_saturation[n-1,i], self.obj_saturation[n-1,i-1], self.obj_blmodel.sw_ci)\n",
        "              else:\n",
        "                self.obj_saturation[n,i] = self.saturation_update_tvd(i, self.obj_saturation[n-1,i], self.obj_saturation[n-1,i-1], self.obj_saturation[n-1,i+1])\n",
        "      \n",
        "      matrix = self.obj_saturation\n",
        "      t2 = timeit.default_timer()\n",
        "      self.stop = t2\n",
        "      return matrix            \n",
        "\n",
        "  \n",
        "class ImplicitMethod(FiniteDifference):\n",
        "  \"This class gathers all the functionality to compute the Buckley-Leverett model using an implicit approach.\"\n",
        "\n",
        "  def __init__(self, domain, perm, fw_approach, saturation, blmodel):\n",
        "    #objects\n",
        "    self.obj_approach = fw_approach\n",
        "    self.obj_saturation = saturation\n",
        "    self.obj_blmodel = blmodel\n",
        "    self.obj_domain = domain\n",
        "    self.obj_perm = perm\n",
        "    self.obj_medium = medium\n",
        "    \n",
        "    #properties \n",
        "    self.A = self.obj_domain.courant()*self.obj_perm.krw_sor\n",
        "    self.B = self.obj_perm.krw_sor\n",
        "    self.C = ((1-self.obj_perm.swi)**self.obj_perm.nw)/((1-self.obj_perm.swi)**self.obj_perm.no)*self.obj_perm.kro_swi\n",
        "    self.sw_cc = self.obj_blmodel.sw_cc\n",
        "    self.sw_ci = self.obj_blmodel.sw_ci\n",
        "    \n",
        "    \n",
        "  def symbolic_varibles(self):\n",
        "    \"Function that transforms the variables into a symbolic form.\"\n",
        "    symbols_dictionary = {}\n",
        "\n",
        "    for i in range(1,self.obj_domain.nx+1):\n",
        "      symbols_dictionary[f'sw_{i}'] = symbols(f'sw_{i}')\n",
        "    return symbols_dictionary\n",
        "\n",
        "  def residual_function(self, sw_i, sw_i_minus_one=0.2, sw_n=0.2):\n",
        "    \"Private function that creates the residual equations in a generic form.\"\n",
        "\n",
        "    #self.dicti = self.symbolic_varibles()\n",
        "    \n",
        "    return sw_i + [(self.A*(sw_i - self.obj_perm.swi)**self.obj_perm.nw)/((self.B*(sw_i-self.obj_perm.swi)**self.obj_perm.nw) + self.C*((1-self.obj_perm.sor-sw_i)**self.obj_perm.no))] - [(self.A*(sw_i_minus_one - self.obj_perm.swi)**self.obj_perm.nw)/((self.B*(sw_i_minus_one-self.obj_perm.swi)**self.obj_perm.nw) + self.C*((1-self.obj_perm.sor-sw_i_minus_one)**self.obj_perm.no))] - sw_n\n",
        "\n",
        "  def get_keys(self, dicti):\n",
        "    return list(dicti.keys())\n",
        "\n",
        "  def residual_matrix(self, n, estimation):\n",
        "    \"It creates a matrix with the residual equations at a specific point, which is used by the Newton-Raphson method.\"\n",
        "    zero_matrix = np.zeros(self.obj_domain.nx)\n",
        "    #keys_list = self.get_keys(self.dicti)\n",
        "\n",
        "    for i in range(self.obj_domain.nx-1):\n",
        "      if i == 0:\n",
        "        zero_matrix[i] = self.residual_function(self.dicti[f'sw_{i+1}'], self.sw_cc, self.obj_saturation[n,i])\n",
        "        zero_matrix[i] = zero_matrix[i].subs(self.dicti[f'sw_{i+1}'], estimation[i])\n",
        "      else:\n",
        "        zero_matrix[i] = self.residual_function(self.dicti[f'sw_{i+1}'], self.dicti[f'sw_{i}'], self.obj_saturation[n,i])\n",
        "        zero_matrix[i] = zero_matrix[i].subs([(self.dicti[f'sw_{i+1}'], estimation[i+1]),(self.dicti[f'sw_{i}'], estimation[i])])\n",
        "    return zero_matrix\n",
        "\n",
        "  def new_residual_matrix(self, n, estimation):\n",
        "      \"It creates a matrix with the residual equations at a specific point, which is used by the Newton-Raphson method.\"\n",
        "      zero_matrix = np.zeros(self.obj_domain.nx)\n",
        "\n",
        "      for i in range(self.domain.nx-1):\n",
        "        if i == 0:\n",
        "          zero_matrix[i] = self.residual_function(self.obj_saturation[n,i], self.obj_blmodel.sw_cc, self.obj_saturation[n,i])\n",
        "        else:\n",
        "          zero_matrix[i] = self.residual_function(self.obj_saturation[n,i], self.obj_saturation[n,i-1], self.obj_saturation[n,i])\n",
        "      return zero_matrix\n",
        "\n",
        "\n",
        "  def residual_function_matrix(self):\n",
        "    \"It creates a matrix with the residual equations in symbolic form.\"\n",
        "    \n",
        "    # Important: The derivative of the saturation at the previous timestep is zero, therefore, it is not important to determine its value!\n",
        "    # Hence, it assumes that n is equal to zero.   \n",
        "    \n",
        "    resid_matrix = np.zeros(self.obj_domain.nx)  \n",
        "    for i in range(self.obj_domain.nx-1):\n",
        "      if i == 0:\n",
        "        resid_matrix[i] = self.residual_function(self.dicti[f'sw_{i+1}'], self.sw_cc, self.obj_saturation[0,i]) \n",
        "      else:\n",
        "        resid_matrix[i] = self.residual_function(self.dicti[f'sw_{i+1}'], self.dicti[f'sw_{i}'], self.obj_saturation[0,i])\n",
        "    return resid_matrix    \n",
        "\n",
        "  def jacobian_derivative(self, resid, i, j):\n",
        "    \"Calculate the derivative of the equations.\"\n",
        "    resid = residual_function_matrix()\n",
        "    return resid[i].diff(self.dicti[f'sw_{j}'])\n",
        "\n",
        "\n",
        "  def jacobian_matrix(self, estimation):\n",
        "    \"Private function that creates the jacobian matrix, which is used by the Newton-Raphson method.\"\n",
        "    zero_jacobian_matrix = np.zeros((self.obj_saturation.shape[1],self.obj_saturation.shape[1]))\n",
        "    resid = residual_function_matrix()\n",
        "    \n",
        "    for i in range(self.obj_domain.nx-1):\n",
        "      for j in range(self.obj_domain.nx-1):\n",
        "        if (i == j) and (i == 0):\n",
        "          # first point\n",
        "          aux = lambdify(self.dicti[f'sw_{i+1}'], self.jacobian_derivative(self.resid,i,j+1), 'numpy') \n",
        "          zero_jacobian_matrix[i,j] = aux(estimation[j])\n",
        "        elif (i == j):\n",
        "          # this point is replaced by a current saturation point\n",
        "          aux = lambdify(self.dicti[f'sw_{i+1}'], self.jacobian_derivative(self.resid,i,j+1), 'numpy') \n",
        "          zero_jacobian_matrix[i,j] = aux(estimation[j]) \n",
        "        elif (i == j+1):\n",
        "          # this point is replaced by a previous saturation point\n",
        "          aux = lambdify(self.dicti[f'sw_{i}'], self.jacobian_derivative(self.resid,i,j+1), 'numpy') \n",
        "          zero_jacobian_matrix[i,j] = aux(estimation[j])  \n",
        "        else:\n",
        "          pass\n",
        "\n",
        "    return zero_jacobian_matrix\n",
        "\n",
        "  def partial_derivative(self, func, var=0, point=[]):\n",
        "    \"Function that computes the partial derivatives.\"\n",
        "    args = point[:]\n",
        "    def wraps(self, sw_i):\n",
        "        args[var] = sw_i\n",
        "        return func(*args)\n",
        "    return derivative(self.wraps, point[var], dx = 1e-6)\n",
        "\n",
        "  def new_jacobian_matrix(self, estimation):\n",
        "    \"Private function that creates the jacobian matrix using numerical derivations, which is used by the Newton-Raphson method.\"\n",
        "    zero_jacobian_matrix = np.zeros((self.obj_saturation.shape[1],self.obj_saturation.shape[1]))\n",
        "      \n",
        "    for i in range(self.domain.nx-1):\n",
        "      for j in range(self.domain.nx-1):\n",
        "        if (i == j) and (i == 0):\n",
        "          # first point\n",
        "          zero_jacobian_matrix[i,j] = derivative(self.residual_function, estimation[j], dx = 1e-6)\n",
        "        elif (i == j):\n",
        "          # this point is replaced by a current saturation point\n",
        "          zero_jacobian_matrix[i,j] = self.partial_derivative(self.residual_function, 0, point = [estimation[j],estimation[j-1],estimation[j]])\n",
        "        elif (i == j+1):\n",
        "          # this point is replaced by a previous saturation point\n",
        "          zero_jacobian_matrix[i,j] = self.partial_derivative(self.residual_function, 1, point = [estimation[j],estimation[j-1],estimation[j]]) \n",
        "        else:\n",
        "          pass\n",
        "\n",
        "    return zero_jacobian_matrix\n",
        "\n",
        "  def newton_raphson(self, n, x_init, max_ite=1000, tol=10**-10):\n",
        "    \"Function that applies the Newton-Raphson method to implicitly calculate the nonlinear system of equations\"\n",
        "    self.max_iteration = max_ite\n",
        "    self.epsilon = tol\n",
        "\n",
        "    xnew = x_init\n",
        "    for k in range(self.max_iteration):\n",
        "      J = self.jacobian_matrix(xnew)\n",
        "      r = self.residual_matrix(n, xnew).astype(np.float64)\n",
        "      delta = np.linalg.solve(J,-r)\n",
        "      xnew = xnew + delta\n",
        "\n",
        "      if np.linalg.norm(delta) < self.epsilon:\n",
        "        #print(\"The system converges at k={}, and the solution are {}\".format(k, xnew))\n",
        "        break\n",
        "      else:\n",
        "        print(\"The solution does not converge! Try increasing the iterations.\")\n",
        "    \n",
        "    return xnew\n",
        "\n",
        "  def num_newton_raphson(self, n, x_init, max_ite=1000, tol=10**-6):\n",
        "      \"Function that applies the Newton-Raphson method to implicitly calculate the nonlinear system of equations\"\n",
        "      self.max_iteration = max_ite\n",
        "      self.epsilon = tol\n",
        "\n",
        "      xnew = x_init\n",
        "      for k in range(self.max_iteration):\n",
        "        J = self.new_jacobian_matrix(xnew)\n",
        "        r = self.new_residual_matrix(n, xnew)\n",
        "        delta = np.linalg.solve(J,-r)\n",
        "        xnew = xnew + delta\n",
        "\n",
        "        if np.linalg.norm(delta) < self.epsilon:\n",
        "          #print(\"The system converges at k={}, and the solution are {}\".format(k, xnew))\n",
        "          break\n",
        "        else:\n",
        "          print(\"The solution does not converge! Try increasing the iterations.\")\n",
        "      \n",
        "      return xnew\n",
        "  \n",
        "  def newton_raphson2(self, n, i, x_init, max_ite=1000, tol=10**-6):\n",
        "      \"Function that applies the Newton-Raphson method to implicitly calculate the nonlinear system of equations\"\n",
        "\n",
        "      x,b = x_init\n",
        "      for k in range(max_ite):\n",
        "        xnew = x - self.residual_function(x, b, self.obj_saturation[n,i])/derivative(self.residual_function, x, dx = 1e-6)\n",
        "        \n",
        "        if abs(xnew-x) < tol:\n",
        "          #print(\"The system converges at k={}, and the solution are {}\".format(k, xnew))\n",
        "          break\n",
        "        elif k == max_ite-1:\n",
        "          print(\"The solution does not converge! Try increasing the iterations.\")\n",
        "          break\n",
        "        else:\n",
        "          x = xnew\n",
        "          \n",
        "      return xnew\n",
        "\n",
        "  def solver(self):\n",
        "    \"Function that implicitly solves the model.\"\n",
        "    t1 = timeit.default_timer()\n",
        "    self.start = t1\n",
        "\n",
        "    for n in self.obj_blmodel.transition_time_matrix()-1:\n",
        "      x_init = self.obj_saturation[n] \n",
        "      aux = self.newton_raphson(n, x_init)\n",
        "      self.obj_saturation[n+1] = aux\n",
        "\n",
        "    t2 = timeit.default_timer()\n",
        "    self.stop = t2\n",
        "    \n",
        "    return obj_saturation\n",
        "\n",
        "  def solver2(self):\n",
        "    \"Function that implicitly solves the model using a point-point approach.\"\n",
        "    t1 = timeit.default_timer()\n",
        "    self.start = t1\n",
        "    \n",
        "    for n in self.obj_blmodel.transition_time_matrix():\n",
        "      if n == 0:\n",
        "        self.obj_saturation[0,:] = self.sw_ci\n",
        "      else:\n",
        "        x_init = self.obj_saturation[n-1]\n",
        "        for i in range(self.obj_domain.nx):\n",
        "          if i == 0:\n",
        "            x_init_2 = np.array([x_init[i], self.obj_blmodel.sw_cc])\n",
        "            self.obj_saturation[n,i] = self.newton_raphson2(n-1, i, x_init_2)\n",
        "            x_aux = self.obj_saturation[n,i]\n",
        "          else:\n",
        "            x_init_2 = np.array([x_init[i], x_aux])\n",
        "            self.obj_saturation[n,i] = self.newton_raphson2(n-1, i, x_init_2)\n",
        "            x_aux = self.obj_saturation[n,i]\n",
        "         \n",
        "    matrix = self.obj_saturation\n",
        "    t2 = timeit.default_timer()\n",
        "    self.stop = t2\n",
        "    \n",
        "    return matrix \n",
        "\n"
      ],
      "execution_count": 70,
      "outputs": []
    },
    {
      "cell_type": "markdown",
      "metadata": {
        "id": "Ijz8VPpFobTV"
      },
      "source": [
        "#### Debbuging"
      ]
    },
    {
      "cell_type": "code",
      "metadata": {
        "id": "SAGX0HG3JCBg"
      },
      "source": [
        "  def symbolic_varibles():\n",
        "    \"Function that transforms the variables into a symbolic form.\"\n",
        "    symbols_dictionary = {}\n",
        "\n",
        "    for i in range(1,domain.nx+1):\n",
        "      symbols_dictionary[f'sw_{i}'] = symbols(f'sw_{i}')\n",
        "\n",
        "    #locals().update(symbols_dictionary)\n",
        "    return symbols_dictionary\n",
        "  \n",
        "  def residual_function(sw_i, sw_i_minus_one, sw_n):\n",
        "    \"Private function that creates the residual equations in a generic form.\"\n",
        "    alpha0  = domain.courant()\n",
        "    mi = medium.ovis/medium.wvis*perm.krw_sor\n",
        "    swi = perm.swi\n",
        "    sor = perm.sor\n",
        "    nw = perm.nw\n",
        "    no = perm.no\n",
        "    aw = (1-swi-sor)**nw \n",
        "    a0 = (1-swi-sor)**no \n",
        "    d =  perm.kro_swi\n",
        "    sw_cc = blmodel.sw_cc\n",
        "    sw_ci = blmodel.sw_ci\n",
        "\n",
        "    dicti = symbolic_varibles()\n",
        "    \n",
        "    return sw_i + (alpha0*mi*(sw_i - swi)**nw)/((mi*(sw_i-swi)**nw)/aw + d*(1-sor-sw_i)/a0)*(1/aw) - (alpha0*mi*(sw_i_minus_one - swi)**nw)/((mi*(sw_i_minus_one-swi)**nw)/aw + d*(1-sor-sw_i_minus_one)/a0)*(1/aw) - sw_n\n",
        "\n",
        "\n",
        "\n",
        "def residual_matrix(n, estimation):\n",
        "    \"It creates a matrix with the residual equations at a specific point, which is used by the Newton-Raphson method.\"\n",
        "    zero_matrix = np.zeros(domain.nx)\n",
        "\n",
        "\n",
        "    for i in range(domain.nx-1):\n",
        "      if i == 0:\n",
        "        zero_matrix[i] = residual_function(dicti[f'sw_{i+1}'], blmodel.sw_cc, saturation[n,i]).subs(dicti[f'sw_{i+1}'], estimation[i])\n",
        "        \n",
        "      #elif i == self.obj_domain.nx-1:\n",
        "        #zero_matrix[i] = self.residual_function(self.dicti[f'sw_{i+1}'], self.dicti[f'sw_{i}'], self.obj_saturation[n,i])\n",
        "        #zero_matrix[i] = zero_matrix[i].subs(self.dicti[f'sw_{i+1}'], estimation[i+1])\n",
        "      else:\n",
        "        zero_matrix[i] = residual_function(dicti[f'sw_{i+1}'], dicti[f'sw_{i}'], saturation[n,i]).subs([(dicti[f'sw_{i+1}'], estimation[i+1]),(dicti[f'sw_{i}'], estimation[i])])\n",
        "        #zero_matrix[i] = zero_matrix[i].subs([(dicti[f'sw_{i+1}'], estimation[i+1]),(dicti[f'sw_{i}'], estimation[i])])\n",
        "    return zero_matrix"
      ],
      "execution_count": null,
      "outputs": []
    },
    {
      "cell_type": "code",
      "metadata": {
        "id": "lyczprcyJCkJ"
      },
      "source": [
        "dicti = symbolic_varibles()"
      ],
      "execution_count": null,
      "outputs": []
    },
    {
      "cell_type": "code",
      "metadata": {
        "id": "4TEF-VgTZEyq"
      },
      "source": [
        "saturation[0,:] = blmodel.sw_ci"
      ],
      "execution_count": null,
      "outputs": []
    },
    {
      "cell_type": "code",
      "metadata": {
        "id": "Brz60ZZjJCqq"
      },
      "source": [
        "teste = residual_matrix(0, saturation[0])"
      ],
      "execution_count": null,
      "outputs": []
    },
    {
      "cell_type": "code",
      "metadata": {
        "colab": {
          "base_uri": "https://localhost:8080/"
        },
        "id": "Q42HjGV_Sw9I",
        "outputId": "ccc0a036-efed-4438-9347-5765ae592387"
      },
      "source": [
        "teste"
      ],
      "execution_count": null,
      "outputs": [
        {
          "output_type": "execute_result",
          "data": {
            "text/plain": [
              "array([-0.1,  0. ,  0. ,  0. ,  0. ,  0. ,  0. ,  0. ,  0. ,  0. ,  0. ,\n",
              "        0. ,  0. ,  0. ,  0. ,  0. ,  0. ,  0. ,  0. ,  0. ,  0. ,  0. ,\n",
              "        0. ,  0. ,  0. ,  0. ,  0. ,  0. ,  0. ,  0. ,  0. ,  0. ,  0. ,\n",
              "        0. ,  0. ,  0. ,  0. ,  0. ,  0. ,  0. ,  0. ,  0. ,  0. ,  0. ,\n",
              "        0. ,  0. ,  0. ,  0. ,  0. ,  0. ,  0. ,  0. ,  0. ,  0. ,  0. ,\n",
              "        0. ,  0. ,  0. ,  0. ,  0. ,  0. ,  0. ,  0. ,  0. ,  0. ,  0. ,\n",
              "        0. ,  0. ,  0. ,  0. ,  0. ,  0. ,  0. ,  0. ,  0. ,  0. ,  0. ,\n",
              "        0. ,  0. ,  0. ,  0. ,  0. ,  0. ,  0. ,  0. ,  0. ,  0. ,  0. ,\n",
              "        0. ,  0. ,  0. ,  0. ,  0. ,  0. ,  0. ,  0. ,  0. ,  0. ,  0. ,\n",
              "        0. ])"
            ]
          },
          "metadata": {},
          "execution_count": 69
        }
      ]
    },
    {
      "cell_type": "code",
      "metadata": {
        "id": "6Ntb51_oRL-K"
      },
      "source": [
        "  def residual_function_matrix():\n",
        "    \"It creates a matrix with the residual equations in symbolic form.\"\n",
        "    \n",
        "    # Important: The derivative of the saturation at the previous timestep is zero, therefore, it is not important to determine its value!\n",
        "    # Hence, it assumes that n is equal to zero.   \n",
        "    \n",
        "    #resid_matrix = np.zeros(domain.nx)\n",
        "    resid_matrix = []  \n",
        "    for i in range(domain.nx-1):\n",
        "      if i == 0:\n",
        "        resid_matrix.append(residual_function(dicti[f'sw_{i+1}'], blmodel.sw_cc, saturation[0,i])) \n",
        "      else:\n",
        "        resid_matrix.append(residual_function(dicti[f'sw_{i+1}'], dicti[f'sw_{i}'], saturation[0,i]))\n",
        "    return np.array(resid_matrix)    \n",
        "\n",
        "  def jacobian_derivative(resid, i, j):\n",
        "    \"Calculate the derivative of the equations.\"\n",
        "    resid = residual_function_matrix()\n",
        "    return resid[i].diff(dicti[f'sw_{j}'])\n",
        "\n",
        "\n",
        "  def jacobian_matrix(estimation):\n",
        "    \"Private function that creates the jacobian matrix, which is used by the Newton-Raphson method.\"\n",
        "    zero_jacobian_matrix = np.zeros((saturation.shape[1],saturation.shape[1]))\n",
        "    resid = residual_function_matrix()\n",
        "    \n",
        "    for i in range(domain.nx-1):\n",
        "      for j in range(domain.nx-1):\n",
        "        if (i == j) and (i == 0):\n",
        "          # first point\n",
        "          aux = lambdify(dicti[f'sw_{i+1}'], jacobian_derivative(resid,i,j+1), 'numpy') \n",
        "          zero_jacobian_matrix[i,j] = aux(estimation[j])\n",
        "        elif (i == j):\n",
        "          # this point is replaced by a current saturation point\n",
        "          aux = lambdify(dicti[f'sw_{i+1}'], jacobian_derivative(resid,i,j+1), 'numpy') \n",
        "          zero_jacobian_matrix[i,j] = aux(estimation[j]) \n",
        "        elif (i == j+1):\n",
        "          # this point is replaced by a previous saturation point\n",
        "          aux = lambdify(dicti[f'sw_{i}'], jacobian_derivative(resid,i,j+1), 'numpy') \n",
        "          zero_jacobian_matrix[i,j] = aux(estimation[j])  \n",
        "        else:\n",
        "          pass\n",
        "\n",
        "    return zero_jacobian_matrix"
      ],
      "execution_count": null,
      "outputs": []
    },
    {
      "cell_type": "code",
      "metadata": {
        "id": "LQelo0qwLgxC"
      },
      "source": [
        "teste2 = residual_function_matrix()"
      ],
      "execution_count": null,
      "outputs": []
    },
    {
      "cell_type": "code",
      "metadata": {
        "id": "zCD8PhCyL6Oy"
      },
      "source": [
        "teste3 = jacobian_derivative(teste2,0,1)"
      ],
      "execution_count": null,
      "outputs": []
    },
    {
      "cell_type": "code",
      "metadata": {
        "id": "3dSVHFxOUvDP"
      },
      "source": [
        "teste4 = jacobian_matrix(saturation[0])"
      ],
      "execution_count": null,
      "outputs": []
    },
    {
      "cell_type": "code",
      "metadata": {
        "id": "-_6p5MuGavZF"
      },
      "source": [
        "teste4[60]"
      ],
      "execution_count": null,
      "outputs": []
    },
    {
      "cell_type": "code",
      "metadata": {
        "id": "5GEIdAQcXYRP"
      },
      "source": [
        " def newton_raphson(n, x_init, max_ite=1000, tol=10**-10):\n",
        "    \"Function that applies the Newton-Raphson method to implicitly calculate the nonlinear system of equations\"\n",
        "    max_iteration = max_ite\n",
        "    epsilon = tol\n",
        "\n",
        "    xnew = x_init\n",
        "    for k in range(max_iteration):\n",
        "      J = jacobian_matrix(xnew)\n",
        "      r = residual_matrix(n, xnew)#.astype(np.float64)\n",
        "      delta = np.linalg.solve(J,-r)\n",
        "      xnew = xnew + delta\n",
        "\n",
        "      if np.linalg.norm(delta) < epsilon:\n",
        "        #print(\"The system converges at k={}, and the solution are {}\".format(k, xnew))\n",
        "        break\n",
        "      else:\n",
        "        print(\"The solution does not converge! Try increasing the iterations.\")\n",
        "    \n",
        "    return xnew"
      ],
      "execution_count": null,
      "outputs": []
    },
    {
      "cell_type": "code",
      "metadata": {
        "colab": {
          "base_uri": "https://localhost:8080/",
          "height": 341
        },
        "id": "7PpvA_1BXkD0",
        "outputId": "6dbdf259-4d5c-4524-8c48-a51c649621e5"
      },
      "source": [
        "teste5 = newton_raphson(0, saturation[0])"
      ],
      "execution_count": null,
      "outputs": [
        {
          "output_type": "error",
          "ename": "LinAlgError",
          "evalue": "ignored",
          "traceback": [
            "\u001b[0;31m---------------------------------------------------------------------------\u001b[0m",
            "\u001b[0;31mLinAlgError\u001b[0m                               Traceback (most recent call last)",
            "\u001b[0;32m<ipython-input-82-fc9f71d9197b>\u001b[0m in \u001b[0;36m<module>\u001b[0;34m()\u001b[0m\n\u001b[0;32m----> 1\u001b[0;31m \u001b[0mteste5\u001b[0m \u001b[0;34m=\u001b[0m \u001b[0mnewton_raphson\u001b[0m\u001b[0;34m(\u001b[0m\u001b[0;36m0\u001b[0m\u001b[0;34m,\u001b[0m \u001b[0msaturation\u001b[0m\u001b[0;34m[\u001b[0m\u001b[0;36m0\u001b[0m\u001b[0;34m]\u001b[0m\u001b[0;34m)\u001b[0m\u001b[0;34m\u001b[0m\u001b[0;34m\u001b[0m\u001b[0m\n\u001b[0m",
            "\u001b[0;32m<ipython-input-78-9e595ed9d0c3>\u001b[0m in \u001b[0;36mnewton_raphson\u001b[0;34m(n, x_init, max_ite, tol)\u001b[0m\n\u001b[1;32m      8\u001b[0m      \u001b[0mJ\u001b[0m \u001b[0;34m=\u001b[0m \u001b[0mjacobian_matrix\u001b[0m\u001b[0;34m(\u001b[0m\u001b[0mxnew\u001b[0m\u001b[0;34m)\u001b[0m\u001b[0;34m\u001b[0m\u001b[0;34m\u001b[0m\u001b[0m\n\u001b[1;32m      9\u001b[0m      \u001b[0mr\u001b[0m \u001b[0;34m=\u001b[0m \u001b[0mresidual_matrix\u001b[0m\u001b[0;34m(\u001b[0m\u001b[0mn\u001b[0m\u001b[0;34m,\u001b[0m \u001b[0mxnew\u001b[0m\u001b[0;34m)\u001b[0m\u001b[0;31m#.astype(np.float64)\u001b[0m\u001b[0;34m\u001b[0m\u001b[0;34m\u001b[0m\u001b[0m\n\u001b[0;32m---> 10\u001b[0;31m      \u001b[0mdelta\u001b[0m \u001b[0;34m=\u001b[0m \u001b[0mnp\u001b[0m\u001b[0;34m.\u001b[0m\u001b[0mlinalg\u001b[0m\u001b[0;34m.\u001b[0m\u001b[0msolve\u001b[0m\u001b[0;34m(\u001b[0m\u001b[0mJ\u001b[0m\u001b[0;34m,\u001b[0m\u001b[0;34m-\u001b[0m\u001b[0mr\u001b[0m\u001b[0;34m)\u001b[0m\u001b[0;34m\u001b[0m\u001b[0;34m\u001b[0m\u001b[0m\n\u001b[0m\u001b[1;32m     11\u001b[0m      \u001b[0mxnew\u001b[0m \u001b[0;34m=\u001b[0m \u001b[0mxnew\u001b[0m \u001b[0;34m+\u001b[0m \u001b[0mdelta\u001b[0m\u001b[0;34m\u001b[0m\u001b[0;34m\u001b[0m\u001b[0m\n\u001b[1;32m     12\u001b[0m \u001b[0;34m\u001b[0m\u001b[0m\n",
            "\u001b[0;32m<__array_function__ internals>\u001b[0m in \u001b[0;36msolve\u001b[0;34m(*args, **kwargs)\u001b[0m\n",
            "\u001b[0;32m/usr/local/lib/python3.7/dist-packages/numpy/linalg/linalg.py\u001b[0m in \u001b[0;36msolve\u001b[0;34m(a, b)\u001b[0m\n\u001b[1;32m    392\u001b[0m     \u001b[0msignature\u001b[0m \u001b[0;34m=\u001b[0m \u001b[0;34m'DD->D'\u001b[0m \u001b[0;32mif\u001b[0m \u001b[0misComplexType\u001b[0m\u001b[0;34m(\u001b[0m\u001b[0mt\u001b[0m\u001b[0;34m)\u001b[0m \u001b[0;32melse\u001b[0m \u001b[0;34m'dd->d'\u001b[0m\u001b[0;34m\u001b[0m\u001b[0;34m\u001b[0m\u001b[0m\n\u001b[1;32m    393\u001b[0m     \u001b[0mextobj\u001b[0m \u001b[0;34m=\u001b[0m \u001b[0mget_linalg_error_extobj\u001b[0m\u001b[0;34m(\u001b[0m\u001b[0m_raise_linalgerror_singular\u001b[0m\u001b[0;34m)\u001b[0m\u001b[0;34m\u001b[0m\u001b[0;34m\u001b[0m\u001b[0m\n\u001b[0;32m--> 394\u001b[0;31m     \u001b[0mr\u001b[0m \u001b[0;34m=\u001b[0m \u001b[0mgufunc\u001b[0m\u001b[0;34m(\u001b[0m\u001b[0ma\u001b[0m\u001b[0;34m,\u001b[0m \u001b[0mb\u001b[0m\u001b[0;34m,\u001b[0m \u001b[0msignature\u001b[0m\u001b[0;34m=\u001b[0m\u001b[0msignature\u001b[0m\u001b[0;34m,\u001b[0m \u001b[0mextobj\u001b[0m\u001b[0;34m=\u001b[0m\u001b[0mextobj\u001b[0m\u001b[0;34m)\u001b[0m\u001b[0;34m\u001b[0m\u001b[0;34m\u001b[0m\u001b[0m\n\u001b[0m\u001b[1;32m    395\u001b[0m \u001b[0;34m\u001b[0m\u001b[0m\n\u001b[1;32m    396\u001b[0m     \u001b[0;32mreturn\u001b[0m \u001b[0mwrap\u001b[0m\u001b[0;34m(\u001b[0m\u001b[0mr\u001b[0m\u001b[0;34m.\u001b[0m\u001b[0mastype\u001b[0m\u001b[0;34m(\u001b[0m\u001b[0mresult_t\u001b[0m\u001b[0;34m,\u001b[0m \u001b[0mcopy\u001b[0m\u001b[0;34m=\u001b[0m\u001b[0;32mFalse\u001b[0m\u001b[0;34m)\u001b[0m\u001b[0;34m)\u001b[0m\u001b[0;34m\u001b[0m\u001b[0;34m\u001b[0m\u001b[0m\n",
            "\u001b[0;32m/usr/local/lib/python3.7/dist-packages/numpy/linalg/linalg.py\u001b[0m in \u001b[0;36m_raise_linalgerror_singular\u001b[0;34m(err, flag)\u001b[0m\n\u001b[1;32m     86\u001b[0m \u001b[0;34m\u001b[0m\u001b[0m\n\u001b[1;32m     87\u001b[0m \u001b[0;32mdef\u001b[0m \u001b[0m_raise_linalgerror_singular\u001b[0m\u001b[0;34m(\u001b[0m\u001b[0merr\u001b[0m\u001b[0;34m,\u001b[0m \u001b[0mflag\u001b[0m\u001b[0;34m)\u001b[0m\u001b[0;34m:\u001b[0m\u001b[0;34m\u001b[0m\u001b[0;34m\u001b[0m\u001b[0m\n\u001b[0;32m---> 88\u001b[0;31m     \u001b[0;32mraise\u001b[0m \u001b[0mLinAlgError\u001b[0m\u001b[0;34m(\u001b[0m\u001b[0;34m\"Singular matrix\"\u001b[0m\u001b[0;34m)\u001b[0m\u001b[0;34m\u001b[0m\u001b[0;34m\u001b[0m\u001b[0m\n\u001b[0m\u001b[1;32m     89\u001b[0m \u001b[0;34m\u001b[0m\u001b[0m\n\u001b[1;32m     90\u001b[0m \u001b[0;32mdef\u001b[0m \u001b[0m_raise_linalgerror_nonposdef\u001b[0m\u001b[0;34m(\u001b[0m\u001b[0merr\u001b[0m\u001b[0;34m,\u001b[0m \u001b[0mflag\u001b[0m\u001b[0;34m)\u001b[0m\u001b[0;34m:\u001b[0m\u001b[0;34m\u001b[0m\u001b[0;34m\u001b[0m\u001b[0m\n",
            "\u001b[0;31mLinAlgError\u001b[0m: Singular matrix"
          ]
        }
      ]
    },
    {
      "cell_type": "markdown",
      "metadata": {
        "id": "h91tko4qG9dt"
      },
      "source": [
        "## Algorithm"
      ]
    },
    {
      "cell_type": "code",
      "metadata": {
        "id": "eEKnsDiVGY2f"
      },
      "source": [
        "#Creating the porous medium\n",
        "medium = PorousMedium(0.2, 1, 1, 0.1)\n",
        "#Creating the domain\n",
        "domain = Domain(100,4000, medium)"
      ],
      "execution_count": 57,
      "outputs": []
    },
    {
      "cell_type": "code",
      "metadata": {
        "id": "C3eitXgnG72q"
      },
      "source": [
        "#vector domain\n",
        "domain.vector_domain()\n",
        "#grid length\n",
        "grid = domain.grid_length(5000)\n",
        "#grid dx\n",
        "dx = domain.grid_dx()\n",
        "#grid dt\n",
        "dt = domain.grid_dt(10)\n",
        "#Courant\n",
        "Cu = domain.courant()"
      ],
      "execution_count": 58,
      "outputs": []
    },
    {
      "cell_type": "code",
      "metadata": {
        "id": "b0_DyvngHj_W"
      },
      "source": [
        "#Creating the object that represents the relative permeability\n",
        "perm = CoreyModel(0.2, 0.2, 2, 2, 0.3, 0.85)"
      ],
      "execution_count": 59,
      "outputs": []
    },
    {
      "cell_type": "code",
      "metadata": {
        "id": "B6THN_KnI0lb"
      },
      "source": [
        "#Creating the object that represents the Buckley-Leverett model\n",
        "blmodel = BLModel(0.2,0.8)"
      ],
      "execution_count": 60,
      "outputs": []
    },
    {
      "cell_type": "code",
      "metadata": {
        "id": "uQKdSawbYrMR",
        "colab": {
          "base_uri": "https://localhost:8080/"
        },
        "outputId": "b462be83-e2b8-482b-cba7-9d6896c631bd"
      },
      "source": [
        "#Creating transition time matrix\n",
        "blmodel.transition_time_matrix()"
      ],
      "execution_count": 61,
      "outputs": [
        {
          "output_type": "execute_result",
          "data": {
            "text/plain": [
              "array([  0,   1,   2,   3,   4,   5,   6,   7,   8,   9,  10,  11,  12,\n",
              "        13,  14,  15,  16,  17,  18,  19,  20,  21,  22,  23,  24,  25,\n",
              "        26,  27,  28,  29,  30,  31,  32,  33,  34,  35,  36,  37,  38,\n",
              "        39,  40,  41,  42,  43,  44,  45,  46,  47,  48,  49,  50,  51,\n",
              "        52,  53,  54,  55,  56,  57,  58,  59,  60,  61,  62,  63,  64,\n",
              "        65,  66,  67,  68,  69,  70,  71,  72,  73,  74,  75,  76,  77,\n",
              "        78,  79,  80,  81,  82,  83,  84,  85,  86,  87,  88,  89,  90,\n",
              "        91,  92,  93,  94,  95,  96,  97,  98,  99, 100, 101, 102, 103,\n",
              "       104, 105, 106, 107, 108, 109, 110, 111, 112, 113, 114, 115, 116,\n",
              "       117, 118, 119, 120, 121, 122, 123, 124, 125, 126, 127, 128, 129,\n",
              "       130, 131, 132, 133, 134, 135, 136, 137, 138, 139, 140, 141, 142,\n",
              "       143, 144, 145, 146, 147, 148, 149, 150, 151, 152, 153, 154, 155,\n",
              "       156, 157, 158, 159, 160, 161, 162, 163, 164, 165, 166, 167, 168,\n",
              "       169, 170, 171, 172, 173, 174, 175, 176, 177, 178, 179, 180, 181,\n",
              "       182, 183, 184, 185, 186, 187, 188, 189, 190, 191, 192, 193, 194,\n",
              "       195, 196, 197, 198, 199, 200, 201, 202, 203, 204, 205, 206, 207,\n",
              "       208, 209, 210, 211, 212, 213, 214, 215, 216, 217, 218, 219, 220,\n",
              "       221, 222, 223, 224, 225, 226, 227, 228, 229, 230, 231, 232, 233,\n",
              "       234, 235, 236, 237, 238, 239, 240, 241, 242, 243, 244, 245, 246,\n",
              "       247, 248, 249, 250, 251, 252, 253, 254, 255, 256, 257, 258, 259,\n",
              "       260, 261, 262, 263, 264, 265, 266, 267, 268, 269, 270, 271, 272,\n",
              "       273, 274, 275, 276, 277, 278, 279, 280, 281, 282, 283, 284, 285,\n",
              "       286, 287, 288, 289, 290, 291, 292, 293, 294, 295, 296, 297, 298,\n",
              "       299, 300, 301, 302, 303, 304, 305, 306, 307, 308, 309, 310, 311,\n",
              "       312, 313, 314, 315, 316, 317, 318, 319, 320, 321, 322, 323, 324,\n",
              "       325, 326, 327, 328, 329, 330, 331, 332, 333, 334, 335, 336, 337,\n",
              "       338, 339, 340, 341, 342, 343, 344, 345, 346, 347, 348, 349, 350,\n",
              "       351, 352, 353, 354, 355, 356, 357, 358, 359, 360, 361, 362, 363,\n",
              "       364, 365, 366, 367, 368, 369, 370, 371, 372, 373, 374, 375, 376,\n",
              "       377, 378, 379, 380, 381, 382, 383, 384, 385, 386, 387, 388, 389,\n",
              "       390, 391, 392, 393, 394, 395, 396, 397, 398, 399])"
            ]
          },
          "metadata": {},
          "execution_count": 61
        }
      ]
    },
    {
      "cell_type": "code",
      "metadata": {
        "colab": {
          "base_uri": "https://localhost:8080/"
        },
        "id": "XTj3J-w1Yr4Y",
        "outputId": "084f2a25-e08f-498e-8fb2-9b3f07454dd7"
      },
      "source": [
        "#Creating saturation matrix\n",
        "saturation = blmodel.saturation_matrix()\n",
        "saturation.shape"
      ],
      "execution_count": 62,
      "outputs": [
        {
          "output_type": "execute_result",
          "data": {
            "text/plain": [
              "(400, 100)"
            ]
          },
          "metadata": {},
          "execution_count": 62
        }
      ]
    },
    {
      "cell_type": "code",
      "metadata": {
        "id": "SO0B0zLwI7rj"
      },
      "source": [
        "#Choosing the fractional flow calculation approach\n",
        "tvd = TVD()\n",
        "spu = SinglePointUpstream()"
      ],
      "execution_count": 63,
      "outputs": []
    },
    {
      "cell_type": "code",
      "metadata": {
        "id": "Qbw3_usp1rUo"
      },
      "source": [
        "#Creating the object that represents the chosen approach - SPU\n",
        "finitedifference = ExplicitMethod(spu, saturation, blmodel)"
      ],
      "execution_count": null,
      "outputs": []
    },
    {
      "cell_type": "code",
      "metadata": {
        "id": "clD02cz-PWlL"
      },
      "source": [
        "#Calculation of saturation matrix\n",
        "finitedifference.solver()"
      ],
      "execution_count": null,
      "outputs": []
    },
    {
      "cell_type": "code",
      "metadata": {
        "colab": {
          "base_uri": "https://localhost:8080/"
        },
        "id": "0LvBQ-vdQGM2",
        "outputId": "64839079-4991-44ed-aab2-dea2468ac7c8"
      },
      "source": [
        "finitedifference.execution_time()"
      ],
      "execution_count": null,
      "outputs": [
        {
          "output_type": "stream",
          "text": [
            "The solver execution time was 1.9576063719996455 seconds\n"
          ],
          "name": "stdout"
        }
      ]
    },
    {
      "cell_type": "code",
      "metadata": {
        "id": "NudVXbeueci7",
        "colab": {
          "base_uri": "https://localhost:8080/",
          "height": 360
        },
        "outputId": "310bfa0a-1eb7-44ab-e3b0-073a4e1133e0"
      },
      "source": [
        "#plotting the saturation curves\n",
        "finitedifference.saturation_curve()"
      ],
      "execution_count": null,
      "outputs": [
        {
          "output_type": "display_data",
          "data": {
            "image/png": "[encoded data removed]",
            "text/plain": [
              "<Figure size 576x360 with 1 Axes>"
            ]
          },
          "metadata": {
            "needs_background": "light"
          }
        }
      ]
    },
    {
      "cell_type": "code",
      "metadata": {
        "id": "vMGmrrUP4usQ"
      },
      "source": [
        "#Creating the object that represents the chosen approach - TVD\n",
        "finitedifference = ExplicitMethod(tvd, saturation, blmodel)"
      ],
      "execution_count": null,
      "outputs": []
    },
    {
      "cell_type": "code",
      "metadata": {
        "id": "qkHeC_b9EyVb"
      },
      "source": [
        "#Calculation of saturation matrix\n",
        "finitedifference.solver()"
      ],
      "execution_count": null,
      "outputs": []
    },
    {
      "cell_type": "code",
      "metadata": {
        "colab": {
          "base_uri": "https://localhost:8080/"
        },
        "id": "wPtL07sQE3kB",
        "outputId": "4728877d-9c6d-4ce9-ae3a-1d3d0ef306da"
      },
      "source": [
        "finitedifference.execution_time()"
      ],
      "execution_count": null,
      "outputs": [
        {
          "output_type": "stream",
          "text": [
            "The solver execution time was 6.480860445997678 seconds\n"
          ],
          "name": "stdout"
        }
      ]
    },
    {
      "cell_type": "code",
      "metadata": {
        "colab": {
          "base_uri": "https://localhost:8080/",
          "height": 360
        },
        "id": "qP9qHHxGE6CJ",
        "outputId": "ac658197-d180-447c-faef-1c274a903e3b"
      },
      "source": [
        "#plotting the saturation curves\n",
        "finitedifference.saturation_curve()"
      ],
      "execution_count": null,
      "outputs": [
        {
          "output_type": "display_data",
          "data": {
            "image/png": "[encoded data removed]",
            "text/plain": [
              "<Figure size 576x360 with 1 Axes>"
            ]
          },
          "metadata": {
            "needs_background": "light"
          }
        }
      ]
    },
    {
      "cell_type": "code",
      "metadata": {
        "id": "_fe3kO3vKII_"
      },
      "source": [
        "#Creating the object that implicitly calculates the BL model with a spu approach\n",
        "finitedifference2 = ImplicitMethod(domain, perm, spu, saturation, blmodel)"
      ],
      "execution_count": 64,
      "outputs": []
    },
    {
      "cell_type": "code",
      "metadata": {
        "id": "e9FJQcqMjm9f",
        "colab": {
          "base_uri": "https://localhost:8080/"
        },
        "outputId": "1e8738a8-e12c-4fcc-bc28-8a6abced5985"
      },
      "source": [
        "#Calculation of the saturation matrix\n",
        "finitedifference2.solver2()"
      ],
      "execution_count": 65,
      "outputs": [
        {
          "output_type": "execute_result",
          "data": {
            "text/plain": [
              "array([[0.2       , 0.2       , 0.2       , ..., 0.2       , 0.2       ,\n",
              "        0.2       ],\n",
              "       [0.29865185, 0.20134797, 0.20000018, ..., 0.2       , 0.2       ,\n",
              "        0.2       ],\n",
              "       [0.39145812, 0.20853435, 0.20000753, ..., 0.2       , 0.2       ,\n",
              "        0.2       ],\n",
              "       ...,\n",
              "       [0.79689094, 0.79500711, 0.79327926, ..., 0.2       , 0.2       ,\n",
              "        0.2       ],\n",
              "       [0.79689859, 0.79501931, 0.79329558, ..., 0.2       , 0.2       ,\n",
              "        0.2       ],\n",
              "       [0.7969062 , 0.79503145, 0.79331182, ..., 0.2       , 0.2       ,\n",
              "        0.2       ]])"
            ]
          },
          "metadata": {},
          "execution_count": 65
        }
      ]
    },
    {
      "cell_type": "code",
      "metadata": {
        "colab": {
          "base_uri": "https://localhost:8080/"
        },
        "id": "3L_FT8KVb42E",
        "outputId": "6f825195-4ad0-4f61-993f-ad26faccd52d"
      },
      "source": [
        "finitedifference2.execution_time()"
      ],
      "execution_count": 67,
      "outputs": [
        {
          "output_type": "stream",
          "text": [
            "The execution time of the solver was 10.33839934900061 seconds\n"
          ],
          "name": "stdout"
        }
      ]
    },
    {
      "cell_type": "code",
      "metadata": {
        "colab": {
          "base_uri": "https://localhost:8080/",
          "height": 360
        },
        "id": "zhMGDGIJb_9r",
        "outputId": "f04cc371-226c-4d43-cef8-2501b7d8ce1c"
      },
      "source": [
        "finitedifference2.saturation_curve()"
      ],
      "execution_count": 69,
      "outputs": [
        {
          "output_type": "display_data",
          "data": {
            "image/png": "[encoded data removed]",
            "text/plain": [
              "<Figure size 576x360 with 1 Axes>"
            ]
          },
          "metadata": {
            "needs_background": "light"
          }
        }
      ]
    },
    {
      "cell_type": "markdown",
      "metadata": {
        "id": "IS6N7VJLju8S"
      },
      "source": [
        "## Alternative Implicit Method"
      ]
    },
    {
      "cell_type": "code",
      "metadata": {
        "id": "4XSWj6tOjsjH"
      },
      "source": [
        "def residual_function(sw_i, sw_i_minus_one=0.2, sw_n=0.2):\n",
        "    \"Private function that creates the residual equations in a generic form.\"\n",
        "    alpha0  = domain.courant()\n",
        "    mi = medium.ovis/medium.wvis*perm.krw_sor\n",
        "    swi = perm.swi\n",
        "    sor = perm.sor\n",
        "    nw = perm.nw\n",
        "    no = perm.no\n",
        "    aw = (1-swi-sor)**nw \n",
        "    a0 = (1-swi-sor)**no \n",
        "    d =  perm.kro_swi\n",
        "    sw_cc = blmodel.sw_cc\n",
        "    sw_ci = blmodel.sw_ci\n",
        "    \n",
        "    return sw_i + (alpha0*mi*(sw_i - swi)**nw)/((mi*(sw_i-swi)**nw)/aw + d*(1-sor-sw_i)/a0)*(1/aw) - (alpha0*mi*(sw_i_minus_one - swi)**nw)/((mi*(sw_i_minus_one-swi)**nw)/aw + d*(1-sor-sw_i_minus_one)/a0)*(1/aw) - sw_n\n",
        "\n",
        "\n",
        "def new_residual_matrix(n, estimation):\n",
        "    \"It creates a matrix with the residual equations at a specific point, which is used by the Newton-Raphson method.\"\n",
        "    zero_matrix = np.zeros(domain.nx)\n",
        "\n",
        "    for i in range(domain.nx-1):\n",
        "      if i == 0:\n",
        "        zero_matrix[i] = residual_function(saturation[n,i], blmodel.sw_cc, saturation[n,i])\n",
        "      else:\n",
        "        zero_matrix[i] = residual_function(saturation[n,i], saturation[n,i-1], saturation[n,i])\n",
        "    return zero_matrix"
      ],
      "execution_count": 49,
      "outputs": []
    },
    {
      "cell_type": "code",
      "metadata": {
        "id": "ZKgM_omCkOjb"
      },
      "source": [
        "saturation[0,:] = blmodel.sw_ci\n",
        "teste5 = residual_matrix(0, saturation[0])"
      ],
      "execution_count": null,
      "outputs": []
    },
    {
      "cell_type": "code",
      "metadata": {
        "id": "WWu4-gb7lkIX"
      },
      "source": [
        " def partial_derivative(func, var=0, point=[]):\n",
        "    args = point[:]\n",
        "    def wraps(sw_i):\n",
        "        args[var] = sw_i\n",
        "        return func(*args)\n",
        "    return derivative(wraps, point[var], dx = 1e-6)\n",
        "\n",
        "def new_jacobian_matrix(estimation):\n",
        "  \"Private function that creates the jacobian matrix, which is used by the Newton-Raphson method.\"\n",
        "  zero_jacobian_matrix = np.zeros((saturation.shape[1],saturation.shape[1]))\n",
        "    \n",
        "  for i in range(domain.nx-1):\n",
        "    for j in range(domain.nx-1):\n",
        "      if (i == j) and (i == 0):\n",
        "        # first point\n",
        "        zero_jacobian_matrix[i,j] = derivative(residual_function, estimation[j], dx = 1e-6)\n",
        "      elif (i == j):\n",
        "        # this point is replaced by a current saturation point\n",
        "        zero_jacobian_matrix[i,j] = partial_derivative(residual_function, 0, point = [estimation[j],estimation[j-1],estimation[j]])\n",
        "      elif (i == j+1):\n",
        "        # this point is replaced by a previous saturation point\n",
        "        zero_jacobian_matrix[i,j] = partial_derivative(residual_function, 1, point = [estimation[j],estimation[j-1],estimation[j]]) \n",
        "      else:\n",
        "        pass\n",
        "\n",
        "  return zero_jacobian_matrix"
      ],
      "execution_count": null,
      "outputs": []
    },
    {
      "cell_type": "code",
      "metadata": {
        "id": "8SDiJ_fzsE4p"
      },
      "source": [
        "teste6 = jacobian_matrix(saturation[0])"
      ],
      "execution_count": null,
      "outputs": []
    },
    {
      "cell_type": "code",
      "metadata": {
        "colab": {
          "base_uri": "https://localhost:8080/"
        },
        "id": "eWB1uhybyfOe",
        "outputId": "eac241ba-1fb5-4941-ff49-7d130b2115b3"
      },
      "source": [
        "teste6"
      ],
      "execution_count": null,
      "outputs": [
        {
          "output_type": "execute_result",
          "data": {
            "text/plain": [
              "array([[1., 0., 0., ..., 0., 0., 0.],\n",
              "       [0., 1., 0., ..., 0., 0., 0.],\n",
              "       [0., 0., 1., ..., 0., 0., 0.],\n",
              "       ...,\n",
              "       [0., 0., 0., ..., 1., 0., 0.],\n",
              "       [0., 0., 0., ..., 0., 1., 0.],\n",
              "       [0., 0., 0., ..., 0., 0., 0.]])"
            ]
          },
          "metadata": {},
          "execution_count": 84
        }
      ]
    },
    {
      "cell_type": "code",
      "metadata": {
        "id": "V3encV2aygpl"
      },
      "source": [
        "def newton_raphson(n, x_init, max_ite=1000, tol=10**-6):\n",
        "    \"Function that applies the Newton-Raphson method to implicitly calculate the nonlinear system of equations\"\n",
        "    max_iteration = max_ite\n",
        "    epsilon = tol\n",
        "\n",
        "    xnew = x_init\n",
        "    for k in range(max_iteration):\n",
        "      J = jacobian_matrix(xnew)\n",
        "      r = new_residual_matrix(n, xnew)\n",
        "      delta = np.linalg.solve(J,-r)\n",
        "      xnew = xnew + delta\n",
        "\n",
        "      if np.linalg.norm(delta) < epsilon:\n",
        "        #print(\"The system converges at k={}, and the solution are {}\".format(k, xnew))\n",
        "        break\n",
        "      else:\n",
        "        print(\"The solution does not converge! Try increasing the iterations.\")\n",
        "    \n",
        "    return xnew"
      ],
      "execution_count": null,
      "outputs": []
    },
    {
      "cell_type": "code",
      "metadata": {
        "id": "oAh4eHlty7dF"
      },
      "source": [
        "teste7 = newton_raphson(0, saturation[0])"
      ],
      "execution_count": null,
      "outputs": []
    },
    {
      "cell_type": "code",
      "metadata": {
        "colab": {
          "base_uri": "https://localhost:8080/"
        },
        "id": "3PSpOQ200ZYt",
        "outputId": "00f6e59e-a541-4c70-fabc-4871c340d33f"
      },
      "source": [
        "det = np.linalg.det(teste6)\n",
        "print(det)"
      ],
      "execution_count": null,
      "outputs": [
        {
          "output_type": "stream",
          "text": [
            "0.0\n"
          ],
          "name": "stdout"
        }
      ]
    },
    {
      "cell_type": "code",
      "metadata": {
        "id": "13raezHB0kwF"
      },
      "source": [
        "#one root newton-raphson method\n",
        "\n",
        "def newton_raphson1(n, i, x_init, max_ite=1000, tol=10**-6):\n",
        "    \"Function that applies the Newton-Raphson method to implicitly calculate the nonlinear system of equations\"\n",
        "    max_iteration = max_ite\n",
        "    epsilon = tol\n",
        "\n",
        "    x,b = x_init\n",
        "    for k in range(max_iteration):\n",
        "      xnew = x - residual_function(x, b, saturation[n,i])/derivative(residual_function, x, dx = 1e-6)\n",
        "      \n",
        "      if abs(xnew-x) < epsilon:\n",
        "        #print(\"The system converges at k={}, and the solution are {}\".format(k, xnew))\n",
        "        break\n",
        "      elif k == max_ite-1:\n",
        "        print(\"The solution does not converge! Try increasing the iterations.\")\n",
        "        break\n",
        "      else:\n",
        "        x = xnew\n",
        "         \n",
        "    return xnew"
      ],
      "execution_count": 47,
      "outputs": []
    },
    {
      "cell_type": "code",
      "metadata": {
        "colab": {
          "base_uri": "https://localhost:8080/"
        },
        "id": "YE8lj2Iu77Ts",
        "outputId": "2a3f8c30-6a80-4320-939c-6da923ed7766"
      },
      "source": [
        "xini = np.array([0.2, 0.8])\n",
        "teste8 = newton_raphson1(0, 0, xini)"
      ],
      "execution_count": null,
      "outputs": [
        {
          "output_type": "stream",
          "text": [
            "The system converges at k=2, and the solution are 0.2993095907007573\n"
          ],
          "name": "stdout"
        }
      ]
    },
    {
      "cell_type": "code",
      "metadata": {
        "colab": {
          "base_uri": "https://localhost:8080/"
        },
        "id": "6N4FFMiiBde7",
        "outputId": "ce8032d0-b0ed-42ce-d652-28ddd6eb1f85"
      },
      "source": [
        "teste9 = newton_raphson1(0, 1, [0.2,teste8])"
      ],
      "execution_count": null,
      "outputs": [
        {
          "output_type": "stream",
          "text": [
            "The system converges at k=1, and the solution are 0.20069038123011573\n"
          ],
          "name": "stdout"
        }
      ]
    },
    {
      "cell_type": "code",
      "metadata": {
        "colab": {
          "base_uri": "https://localhost:8080/"
        },
        "id": "Jnf9QCWjLLzd",
        "outputId": "2637680e-5866-457c-bd32-bbbfabf50c01"
      },
      "source": [
        "teste10 = newton_raphson1(0, 2, [0.2,teste9])"
      ],
      "execution_count": null,
      "outputs": [
        {
          "output_type": "stream",
          "text": [
            "The system converges at k=0, and the solution are 0.20000002806912728\n"
          ],
          "name": "stdout"
        }
      ]
    },
    {
      "cell_type": "code",
      "metadata": {
        "id": "RiAo-FMZLRb9"
      },
      "source": [
        "def solver():\n",
        "    \"Function that implicitly solves the model.\"\n",
        "    t1 = timeit.default_timer()\n",
        "    start = t1\n",
        "    \n",
        "    for n in blmodel.transition_time_matrix():\n",
        "      if n == 0:\n",
        "        saturation[0,:] = blmodel.sw_ci\n",
        "      else: \n",
        "        x_init = saturation[n-1]\n",
        "        for i in range(domain.nx):\n",
        "          if i == 0:\n",
        "            x_init_2 = np.array([x_init[i], blmodel.sw_cc])\n",
        "            saturation[n,i] = newton_raphson1(n-1, i, x_init_2)\n",
        "            x_aux = saturation[n,i]\n",
        "          else:\n",
        "            x_init_2 = np.array([x_init[i], x_aux])\n",
        "            saturation[n,i] = newton_raphson1(n-1, i, x_init_2)\n",
        "            x_aux = saturation[n,i]\n",
        "         \n",
        "\n",
        "    t2 = timeit.default_timer()\n",
        "    stop = t2\n",
        "    \n",
        "    return saturation  "
      ],
      "execution_count": 51,
      "outputs": []
    },
    {
      "cell_type": "code",
      "metadata": {
        "id": "t1iTp9KHO2Ps"
      },
      "source": [
        "#saturation[0,:] = blmodel.sw_ci\n",
        "teste11 = solver()"
      ],
      "execution_count": 52,
      "outputs": []
    },
    {
      "cell_type": "code",
      "metadata": {
        "colab": {
          "base_uri": "https://localhost:8080/"
        },
        "id": "Nr2sLHllO-Hc",
        "outputId": "a6001973-dd15-4175-df4f-e652baa416a2"
      },
      "source": [
        "teste11.shape"
      ],
      "execution_count": 53,
      "outputs": [
        {
          "output_type": "execute_result",
          "data": {
            "text/plain": [
              "(400, 100)"
            ]
          },
          "metadata": {},
          "execution_count": 53
        }
      ]
    },
    {
      "cell_type": "code",
      "metadata": {
        "id": "wybn7AtvPfV6"
      },
      "source": [
        "  def saturation_curve(teste11):\n",
        "    \"Function that plots the saturation curves.\"\n",
        "    matrix = teste11\n",
        "    \n",
        "    matrix = np.insert(matrix, 0, values = blmodel.sw_cc, axis=1) \n",
        "    length_vector = np.linspace(0, 1, domain.nx+1)\n",
        "    fig = plt.figure(figsize=(8,5))\n",
        "    ax = plt.subplot(1,1,1)\n",
        "\n",
        "    #PVI calculations\n",
        "    td_label_1= domain.grid_dt(500)\n",
        "    td_label_2= domain.grid_dt(1000)\n",
        "    td_label_3= domain.grid_dt(3000)\n",
        "    td_label_4= domain.grid_dt(4000)\n",
        "\n",
        "\n",
        "    ax.plot(length_vector, matrix[49], label = \"t=360 dias-{} PVI\".format(td_label_1))\n",
        "    ax.plot(length_vector, matrix[99], label = \"t=730 dias-{} PVI\".format(td_label_2))\n",
        "    ax.plot(length_vector, matrix[299], label = \"t=1090 dias-{} PVI\".format(td_label_3))\n",
        "    ax.plot(length_vector, matrix[399], label = \"t=1820 dias-{} PVI\".format(td_label_4))\n",
        "\n",
        "    ax.set_xlabel(\"x/L\", fontsize=15)\n",
        "    ax.set_ylabel(\"Saturação da água\", fontsize=15)\n",
        "    plt.title(\"Curva de Saturação implicita - ut = {} ft³/d\".format(medium.ut), fontsize=20)\n",
        "    ax.legend(loc=\"upper right\")\n",
        "    plt.show()"
      ],
      "execution_count": 54,
      "outputs": []
    },
    {
      "cell_type": "code",
      "metadata": {
        "colab": {
          "base_uri": "https://localhost:8080/",
          "height": 360
        },
        "id": "0brBp0P2dL_3",
        "outputId": "ee6a138b-0274-4267-ad33-2229310c352a"
      },
      "source": [
        "saturation_curve(teste11)"
      ],
      "execution_count": 55,
      "outputs": [
        {
          "output_type": "display_data",
          "data": {
            "image/png": "[encoded data removed]",
            "text/plain": [
              "<Figure size 576x360 with 1 Axes>"
            ]
          },
          "metadata": {
            "needs_background": "light"
          }
        }
      ]
    },
    {
      "cell_type": "code",
      "metadata": {
        "id": "4-avtqefdR_W"
      },
      "source": [
        "teste20 = []\n",
        "for n in blmodel.transition_time_matrix():\n",
        "  teste20.append(n)\n"
      ],
      "execution_count": 24,
      "outputs": []
    },
    {
      "cell_type": "code",
      "metadata": {
        "colab": {
          "base_uri": "https://localhost:8080/"
        },
        "id": "hqJ4EGWXvvWB",
        "outputId": "9269e469-f677-4e50-d21c-f7df1c497f54"
      },
      "source": [
        "saturation[0].shape"
      ],
      "execution_count": 28,
      "outputs": [
        {
          "output_type": "execute_result",
          "data": {
            "text/plain": [
              "(100,)"
            ]
          },
          "metadata": {},
          "execution_count": 28
        }
      ]
    },
    {
      "cell_type": "code",
      "metadata": {
        "id": "v9vaAtkDv-QI"
      },
      "source": [
        "teste21 = []\n",
        "for i in saturation[0]:\n",
        "  teste21.append(i)\n"
      ],
      "execution_count": 43,
      "outputs": []
    },
    {
      "cell_type": "code",
      "metadata": {
        "colab": {
          "base_uri": "https://localhost:8080/"
        },
        "id": "sQ_NRsYdxK8G",
        "outputId": "3e37923b-a681-408f-e7c2-f99103ec631e"
      },
      "source": [
        "len(teste21)"
      ],
      "execution_count": 44,
      "outputs": [
        {
          "output_type": "execute_result",
          "data": {
            "text/plain": [
              "100"
            ]
          },
          "metadata": {},
          "execution_count": 44
        }
      ]
    },
    {
      "cell_type": "code",
      "metadata": {
        "id": "TC5vqLjaxPTl"
      },
      "source": [
        ""
      ],
      "execution_count": null,
      "outputs": []
    }
  ]
}